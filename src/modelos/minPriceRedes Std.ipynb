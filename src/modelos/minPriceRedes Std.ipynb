{
 "cells": [
  {
   "cell_type": "code",
   "execution_count": 1,
   "metadata": {},
   "outputs": [],
   "source": [
    "# Tratamiento de datos\n",
    "# ================================================================================================================\n",
    "import pandas as pd\n",
    "import numpy as np\n",
    "\n",
    "# Preprocesado y modelado\n",
    "# ================================================================================================================\n",
    "from sklearn.model_selection import PredefinedSplit, cross_validate, GridSearchCV, RandomizedSearchCV, KFold\n",
    "from sklearn.neural_network import MLPRegressor\n",
    "from sklearn.preprocessing import StandardScaler, RobustScaler\n",
    "from sklearn.compose import ColumnTransformer\n",
    "from sklearn.pipeline import Pipeline\n",
    "\n",
    "# Métricas\n",
    "# ================================================================================================================\n",
    "from sklearn.metrics import make_scorer, mean_absolute_error, mean_absolute_percentage_error, mean_squared_error\n",
    "import time\n",
    "from sklearn.inspection import permutation_importance\n",
    "\n",
    "# Gráficos\n",
    "# ================================================================================================================\n",
    "import matplotlib.pyplot as plt\n",
    "import seaborn as sns\n",
    "import plotly.express as px\n",
    "import plotly.graph_objects as go\n",
    "\n",
    "# MLFLOW\n",
    "# ================================================================================================================\n",
    "import mlflow\n",
    "mlflow.set_tracking_uri('sqlite:///mlflow.db')\n",
    "\n",
    "# Configuración warnings\n",
    "# ================================================================================================================\n",
    "import warnings\n",
    "warnings.filterwarnings('ignore')"
   ]
  },
  {
   "cell_type": "code",
   "execution_count": 2,
   "metadata": {},
   "outputs": [
    {
     "data": {
      "text/html": [
       "<div>\n",
       "<style scoped>\n",
       "    .dataframe tbody tr th:only-of-type {\n",
       "        vertical-align: middle;\n",
       "    }\n",
       "\n",
       "    .dataframe tbody tr th {\n",
       "        vertical-align: top;\n",
       "    }\n",
       "\n",
       "    .dataframe thead th {\n",
       "        text-align: right;\n",
       "    }\n",
       "</style>\n",
       "<table border=\"1\" class=\"dataframe\">\n",
       "  <thead>\n",
       "    <tr style=\"text-align: right;\">\n",
       "      <th></th>\n",
       "      <th>name</th>\n",
       "      <th>EventStartTime</th>\n",
       "      <th>SalesStartTIme</th>\n",
       "      <th>SalesEndTime</th>\n",
       "      <th>min_price</th>\n",
       "      <th>nameArtist</th>\n",
       "      <th>VenueName</th>\n",
       "      <th>VenueCity</th>\n",
       "      <th>VenueState</th>\n",
       "      <th>num_links</th>\n",
       "      <th>...</th>\n",
       "      <th>Singer-Songwriter</th>\n",
       "      <th>Soul</th>\n",
       "      <th>Urban</th>\n",
       "      <th>World</th>\n",
       "      <th>tiene_wiki</th>\n",
       "      <th>tiene_youtube</th>\n",
       "      <th>dias_Venta</th>\n",
       "      <th>dias_desdeFinVenta</th>\n",
       "      <th>num_noches</th>\n",
       "      <th>fold</th>\n",
       "    </tr>\n",
       "  </thead>\n",
       "  <tbody>\n",
       "    <tr>\n",
       "      <th>0</th>\n",
       "      <td>30 Aniversario de Sôber, con Savia y Skizoo</td>\n",
       "      <td>2024-03-08 20:00:00+00:00</td>\n",
       "      <td>2023-12-14 11:00:00+00:00</td>\n",
       "      <td>2024-03-08 20:00:00+00:00</td>\n",
       "      <td>28.0</td>\n",
       "      <td>Sober</td>\n",
       "      <td>Live Las Ventas</td>\n",
       "      <td>Madrid</td>\n",
       "      <td>Madrid</td>\n",
       "      <td>1</td>\n",
       "      <td>...</td>\n",
       "      <td>0</td>\n",
       "      <td>0</td>\n",
       "      <td>0</td>\n",
       "      <td>0</td>\n",
       "      <td>0</td>\n",
       "      <td>0</td>\n",
       "      <td>85</td>\n",
       "      <td>0</td>\n",
       "      <td>1</td>\n",
       "      <td>0</td>\n",
       "    </tr>\n",
       "    <tr>\n",
       "      <th>1</th>\n",
       "      <td>30 Aniversario de Sôber, con Savia y Skizoo | ...</td>\n",
       "      <td>2024-03-08 20:00:00+00:00</td>\n",
       "      <td>2023-12-14 11:00:00+00:00</td>\n",
       "      <td>2024-03-08 20:00:00+00:00</td>\n",
       "      <td>50.0</td>\n",
       "      <td>Sober</td>\n",
       "      <td>Live Las Ventas</td>\n",
       "      <td>Madrid</td>\n",
       "      <td>Madrid</td>\n",
       "      <td>1</td>\n",
       "      <td>...</td>\n",
       "      <td>0</td>\n",
       "      <td>0</td>\n",
       "      <td>0</td>\n",
       "      <td>0</td>\n",
       "      <td>0</td>\n",
       "      <td>0</td>\n",
       "      <td>85</td>\n",
       "      <td>0</td>\n",
       "      <td>1</td>\n",
       "      <td>0</td>\n",
       "    </tr>\n",
       "    <tr>\n",
       "      <th>2</th>\n",
       "      <td>AC/DC - Power Up Tour</td>\n",
       "      <td>2024-05-25 19:00:00+00:00</td>\n",
       "      <td>2024-01-31 11:00:00+00:00</td>\n",
       "      <td>2024-05-25 19:00:00+00:00</td>\n",
       "      <td>105.0</td>\n",
       "      <td>AC/DC</td>\n",
       "      <td>Estadio La Cartuja de Sevilla</td>\n",
       "      <td>Sevilla</td>\n",
       "      <td>Seville</td>\n",
       "      <td>10</td>\n",
       "      <td>...</td>\n",
       "      <td>0</td>\n",
       "      <td>0</td>\n",
       "      <td>0</td>\n",
       "      <td>0</td>\n",
       "      <td>1</td>\n",
       "      <td>1</td>\n",
       "      <td>115</td>\n",
       "      <td>0</td>\n",
       "      <td>1</td>\n",
       "      <td>0</td>\n",
       "    </tr>\n",
       "    <tr>\n",
       "      <th>3</th>\n",
       "      <td>AC/DC - Power Up Tour</td>\n",
       "      <td>2024-05-29 19:30:00+00:00</td>\n",
       "      <td>2024-02-16 09:00:00+00:00</td>\n",
       "      <td>2024-05-29 19:30:00+00:00</td>\n",
       "      <td>105.0</td>\n",
       "      <td>AC/DC</td>\n",
       "      <td>Estadio La Cartuja de Sevilla</td>\n",
       "      <td>Sevilla</td>\n",
       "      <td>Seville</td>\n",
       "      <td>10</td>\n",
       "      <td>...</td>\n",
       "      <td>0</td>\n",
       "      <td>0</td>\n",
       "      <td>0</td>\n",
       "      <td>0</td>\n",
       "      <td>1</td>\n",
       "      <td>1</td>\n",
       "      <td>103</td>\n",
       "      <td>0</td>\n",
       "      <td>1</td>\n",
       "      <td>0</td>\n",
       "    </tr>\n",
       "    <tr>\n",
       "      <th>4</th>\n",
       "      <td>AC/DC - Power Up Tour</td>\n",
       "      <td>2024-12-14 20:00:00+00:00</td>\n",
       "      <td>2024-03-01 11:00:00+00:00</td>\n",
       "      <td>2024-12-14 20:00:00+00:00</td>\n",
       "      <td>105.0</td>\n",
       "      <td>AC/DC</td>\n",
       "      <td>Estadio La Cartuja de Sevilla</td>\n",
       "      <td>Sevilla</td>\n",
       "      <td>Seville</td>\n",
       "      <td>10</td>\n",
       "      <td>...</td>\n",
       "      <td>0</td>\n",
       "      <td>0</td>\n",
       "      <td>0</td>\n",
       "      <td>0</td>\n",
       "      <td>1</td>\n",
       "      <td>1</td>\n",
       "      <td>288</td>\n",
       "      <td>0</td>\n",
       "      <td>1</td>\n",
       "      <td>0</td>\n",
       "    </tr>\n",
       "    <tr>\n",
       "      <th>...</th>\n",
       "      <td>...</td>\n",
       "      <td>...</td>\n",
       "      <td>...</td>\n",
       "      <td>...</td>\n",
       "      <td>...</td>\n",
       "      <td>...</td>\n",
       "      <td>...</td>\n",
       "      <td>...</td>\n",
       "      <td>...</td>\n",
       "      <td>...</td>\n",
       "      <td>...</td>\n",
       "      <td>...</td>\n",
       "      <td>...</td>\n",
       "      <td>...</td>\n",
       "      <td>...</td>\n",
       "      <td>...</td>\n",
       "      <td>...</td>\n",
       "      <td>...</td>\n",
       "      <td>...</td>\n",
       "      <td>...</td>\n",
       "      <td>...</td>\n",
       "    </tr>\n",
       "    <tr>\n",
       "      <th>489</th>\n",
       "      <td>Yung Sarria</td>\n",
       "      <td>2024-03-30 20:00:00+00:00</td>\n",
       "      <td>2023-10-06 13:00:00+00:00</td>\n",
       "      <td>2024-03-30 20:00:00+00:00</td>\n",
       "      <td>12.0</td>\n",
       "      <td>Yung Sarria</td>\n",
       "      <td>Sala Shoko</td>\n",
       "      <td>Madrid</td>\n",
       "      <td>Madrid</td>\n",
       "      <td>0</td>\n",
       "      <td>...</td>\n",
       "      <td>0</td>\n",
       "      <td>0</td>\n",
       "      <td>1</td>\n",
       "      <td>0</td>\n",
       "      <td>0</td>\n",
       "      <td>0</td>\n",
       "      <td>176</td>\n",
       "      <td>0</td>\n",
       "      <td>1</td>\n",
       "      <td>3</td>\n",
       "    </tr>\n",
       "    <tr>\n",
       "      <th>490</th>\n",
       "      <td>ZENOBIA + DEBLER</td>\n",
       "      <td>2024-06-01 19:30:00+00:00</td>\n",
       "      <td>2024-02-20 09:00:00+00:00</td>\n",
       "      <td>2024-06-01 19:30:00+00:00</td>\n",
       "      <td>22.0</td>\n",
       "      <td>Zenobia</td>\n",
       "      <td>Sala Shoko</td>\n",
       "      <td>Madrid</td>\n",
       "      <td>Madrid</td>\n",
       "      <td>1</td>\n",
       "      <td>...</td>\n",
       "      <td>0</td>\n",
       "      <td>0</td>\n",
       "      <td>0</td>\n",
       "      <td>0</td>\n",
       "      <td>0</td>\n",
       "      <td>0</td>\n",
       "      <td>102</td>\n",
       "      <td>0</td>\n",
       "      <td>1</td>\n",
       "      <td>3</td>\n",
       "    </tr>\n",
       "    <tr>\n",
       "      <th>491</th>\n",
       "      <td>gREAT sTRAITS</td>\n",
       "      <td>2024-10-19 19:30:00+00:00</td>\n",
       "      <td>2024-01-02 11:00:00+00:00</td>\n",
       "      <td>2024-10-19 19:30:00+00:00</td>\n",
       "      <td>35.0</td>\n",
       "      <td>gREAT sTRAITS</td>\n",
       "      <td>Sala Razzmatazz 1</td>\n",
       "      <td>Barcelona</td>\n",
       "      <td>Barcelona</td>\n",
       "      <td>0</td>\n",
       "      <td>...</td>\n",
       "      <td>0</td>\n",
       "      <td>0</td>\n",
       "      <td>0</td>\n",
       "      <td>0</td>\n",
       "      <td>0</td>\n",
       "      <td>0</td>\n",
       "      <td>291</td>\n",
       "      <td>0</td>\n",
       "      <td>1</td>\n",
       "      <td>3</td>\n",
       "    </tr>\n",
       "    <tr>\n",
       "      <th>492</th>\n",
       "      <td>gREAT sTRAITS</td>\n",
       "      <td>2024-09-13 19:30:00+00:00</td>\n",
       "      <td>2023-12-22 09:00:00+00:00</td>\n",
       "      <td>2024-09-13 19:30:00+00:00</td>\n",
       "      <td>38.0</td>\n",
       "      <td>gREAT sTRAITS</td>\n",
       "      <td>La Riviera</td>\n",
       "      <td>Madrid</td>\n",
       "      <td>Madrid</td>\n",
       "      <td>0</td>\n",
       "      <td>...</td>\n",
       "      <td>0</td>\n",
       "      <td>0</td>\n",
       "      <td>0</td>\n",
       "      <td>0</td>\n",
       "      <td>0</td>\n",
       "      <td>0</td>\n",
       "      <td>266</td>\n",
       "      <td>0</td>\n",
       "      <td>1</td>\n",
       "      <td>3</td>\n",
       "    </tr>\n",
       "    <tr>\n",
       "      <th>493</th>\n",
       "      <td>Álvaro de Luna</td>\n",
       "      <td>2024-03-15 20:00:00+00:00</td>\n",
       "      <td>2023-10-13 11:52:00+00:00</td>\n",
       "      <td>2024-03-15 20:00:00+00:00</td>\n",
       "      <td>25.0</td>\n",
       "      <td>Álvaro de Luna</td>\n",
       "      <td>Live Las Ventas</td>\n",
       "      <td>Madrid</td>\n",
       "      <td>Madrid</td>\n",
       "      <td>0</td>\n",
       "      <td>...</td>\n",
       "      <td>0</td>\n",
       "      <td>0</td>\n",
       "      <td>0</td>\n",
       "      <td>0</td>\n",
       "      <td>0</td>\n",
       "      <td>0</td>\n",
       "      <td>154</td>\n",
       "      <td>0</td>\n",
       "      <td>1</td>\n",
       "      <td>3</td>\n",
       "    </tr>\n",
       "  </tbody>\n",
       "</table>\n",
       "<p>494 rows × 67 columns</p>\n",
       "</div>"
      ],
      "text/plain": [
       "                                                  name  \\\n",
       "0          30 Aniversario de Sôber, con Savia y Skizoo   \n",
       "1    30 Aniversario de Sôber, con Savia y Skizoo | ...   \n",
       "2                                AC/DC - Power Up Tour   \n",
       "3                                AC/DC - Power Up Tour   \n",
       "4                                AC/DC - Power Up Tour   \n",
       "..                                                 ...   \n",
       "489                                        Yung Sarria   \n",
       "490                                   ZENOBIA + DEBLER   \n",
       "491                                      gREAT sTRAITS   \n",
       "492                                      gREAT sTRAITS   \n",
       "493                                     Álvaro de Luna   \n",
       "\n",
       "                EventStartTime             SalesStartTIme  \\\n",
       "0    2024-03-08 20:00:00+00:00  2023-12-14 11:00:00+00:00   \n",
       "1    2024-03-08 20:00:00+00:00  2023-12-14 11:00:00+00:00   \n",
       "2    2024-05-25 19:00:00+00:00  2024-01-31 11:00:00+00:00   \n",
       "3    2024-05-29 19:30:00+00:00  2024-02-16 09:00:00+00:00   \n",
       "4    2024-12-14 20:00:00+00:00  2024-03-01 11:00:00+00:00   \n",
       "..                         ...                        ...   \n",
       "489  2024-03-30 20:00:00+00:00  2023-10-06 13:00:00+00:00   \n",
       "490  2024-06-01 19:30:00+00:00  2024-02-20 09:00:00+00:00   \n",
       "491  2024-10-19 19:30:00+00:00  2024-01-02 11:00:00+00:00   \n",
       "492  2024-09-13 19:30:00+00:00  2023-12-22 09:00:00+00:00   \n",
       "493  2024-03-15 20:00:00+00:00  2023-10-13 11:52:00+00:00   \n",
       "\n",
       "                  SalesEndTime  min_price      nameArtist  \\\n",
       "0    2024-03-08 20:00:00+00:00       28.0           Sober   \n",
       "1    2024-03-08 20:00:00+00:00       50.0           Sober   \n",
       "2    2024-05-25 19:00:00+00:00      105.0           AC/DC   \n",
       "3    2024-05-29 19:30:00+00:00      105.0           AC/DC   \n",
       "4    2024-12-14 20:00:00+00:00      105.0           AC/DC   \n",
       "..                         ...        ...             ...   \n",
       "489  2024-03-30 20:00:00+00:00       12.0     Yung Sarria   \n",
       "490  2024-06-01 19:30:00+00:00       22.0         Zenobia   \n",
       "491  2024-10-19 19:30:00+00:00       35.0   gREAT sTRAITS   \n",
       "492  2024-09-13 19:30:00+00:00       38.0   gREAT sTRAITS   \n",
       "493  2024-03-15 20:00:00+00:00       25.0  Álvaro de Luna   \n",
       "\n",
       "                         VenueName  VenueCity VenueState  num_links  ...  \\\n",
       "0                  Live Las Ventas     Madrid     Madrid          1  ...   \n",
       "1                  Live Las Ventas     Madrid     Madrid          1  ...   \n",
       "2    Estadio La Cartuja de Sevilla    Sevilla    Seville         10  ...   \n",
       "3    Estadio La Cartuja de Sevilla    Sevilla    Seville         10  ...   \n",
       "4    Estadio La Cartuja de Sevilla    Sevilla    Seville         10  ...   \n",
       "..                             ...        ...        ...        ...  ...   \n",
       "489                     Sala Shoko     Madrid     Madrid          0  ...   \n",
       "490                     Sala Shoko     Madrid     Madrid          1  ...   \n",
       "491              Sala Razzmatazz 1  Barcelona  Barcelona          0  ...   \n",
       "492                     La Riviera     Madrid     Madrid          0  ...   \n",
       "493                Live Las Ventas     Madrid     Madrid          0  ...   \n",
       "\n",
       "     Singer-Songwriter  Soul  Urban  World  tiene_wiki  tiene_youtube  \\\n",
       "0                    0     0      0      0           0              0   \n",
       "1                    0     0      0      0           0              0   \n",
       "2                    0     0      0      0           1              1   \n",
       "3                    0     0      0      0           1              1   \n",
       "4                    0     0      0      0           1              1   \n",
       "..                 ...   ...    ...    ...         ...            ...   \n",
       "489                  0     0      1      0           0              0   \n",
       "490                  0     0      0      0           0              0   \n",
       "491                  0     0      0      0           0              0   \n",
       "492                  0     0      0      0           0              0   \n",
       "493                  0     0      0      0           0              0   \n",
       "\n",
       "     dias_Venta dias_desdeFinVenta  num_noches  fold  \n",
       "0            85                  0           1     0  \n",
       "1            85                  0           1     0  \n",
       "2           115                  0           1     0  \n",
       "3           103                  0           1     0  \n",
       "4           288                  0           1     0  \n",
       "..          ...                ...         ...   ...  \n",
       "489         176                  0           1     3  \n",
       "490         102                  0           1     3  \n",
       "491         291                  0           1     3  \n",
       "492         266                  0           1     3  \n",
       "493         154                  0           1     3  \n",
       "\n",
       "[494 rows x 67 columns]"
      ]
     },
     "execution_count": 2,
     "metadata": {},
     "output_type": "execute_result"
    }
   ],
   "source": [
    "import os\n",
    "import sys\n",
    "\n",
    "# Añadimos la carpeta 'drive' al path\n",
    "ruta_carpeta_drive = os.path.abspath('../drive') #.. era para salirse de la carpeta actual y entrar en la de drive\n",
    "if ruta_carpeta_drive not in sys.path:\n",
    "    sys.path.insert(0, ruta_carpeta_drive)\n",
    "\n",
    "import drive\n",
    "\n",
    "# Descargamos los datos en formato parquet de Google Drive\n",
    "# guardar localmente\n",
    "drive.descargar_archivos_concretos('maxEstratificado.parquet', '../drive')\n",
    "#hay que pasarle la ruta a la carpeta drive desde donde lo estamos ejecutando\n",
    "# y el nombre del archivo que hemos puesto en el archivos_info.txt (MLP_runs.db en nuestro ejemplo, en vez de datosEntrenamiento.parquet...)\n",
    "# leer para utilizar esto ya en el modelo\n",
    "data = pd.read_parquet('datos/maxEstratificado.parquet') # \n",
    "data"
   ]
  },
  {
   "cell_type": "markdown",
   "metadata": {},
   "source": [
    "Mostrar la dsitribución que sigue la variable objetivo min_price."
   ]
  },
  {
   "cell_type": "code",
   "execution_count": 3,
   "metadata": {},
   "outputs": [
    {
     "data": {
      "text/plain": [
       "Text(0.5, 0, 'precio')"
      ]
     },
     "execution_count": 3,
     "metadata": {},
     "output_type": "execute_result"
    },
    {
     "data": {
      "image/png": "[encoded data removed]",
      "text/plain": [
       "<Figure size 600x400 with 1 Axes>"
      ]
     },
     "metadata": {},
     "output_type": "display_data"
    }
   ],
   "source": [
    "fig, ax = plt.subplots(nrows=1, ncols=1, figsize=(6, 4))\n",
    "sns.histplot(data=data, x='min_price', kde=True,ax=ax)\n",
    "ax.set_title(\"Distribución Precio\")\n",
    "ax.set_xlabel('precio')"
   ]
  },
  {
   "cell_type": "code",
   "execution_count": 3,
   "metadata": {},
   "outputs": [],
   "source": [
    "# Eliminamos las categoricas\n",
    "columnas=['name','EventStartTime', 'SalesStartTIme', 'SalesEndTime', 'nameArtist', 'VenueName',\n",
    "          'VenueCity', 'VenueState','Generos_combinados']\n",
    "\n",
    "datos = data.drop(columnas, axis=1)\n",
    "\n",
    "RANDOM_STATE = 83 #fijamos la semilla\n",
    "\n",
    "# y es la variable objetivo \n",
    "X = datos.iloc[:,1:]\n",
    "y = datos['min_price']\n",
    "\n",
    "# Quitar la columna fold\n",
    "X_train = X.iloc[:,:-1]\n",
    "\n",
    "# Los atributos que necesitan un escalado\n",
    "no_binarias = ['num_links', 'seguidoresSpotify', 'popularidad', 'subsYT', 'NumGeneros', 'peso_promotor',\n",
    "               'conciertos_del_artista_en_ciudad', 'dias_Venta', 'dias_desdeFinVenta', 'num_noches']\n",
    "\n"
   ]
  },
  {
   "cell_type": "markdown",
   "metadata": {},
   "source": [
    "Función que muestra un gráfico con las predicciones de un modelo y los valores reales del precio mínimo de un concierto."
   ]
  },
  {
   "cell_type": "code",
   "execution_count": 4,
   "metadata": {},
   "outputs": [],
   "source": [
    "\n",
    "def plot_model_predictions(mlp, X, y, datos1):\n",
    "    # Entrenar el pipeline con el modelo\n",
    "    mlp.fit(X, y)\n",
    "    # Realiza las predicciones \n",
    "    predicciones = mlp.predict(X)\n",
    "\n",
    "    # Crea un DataFrame con los precios reales, predichos y el nombre del concierto\n",
    "    df = pd.DataFrame({'Nombre del Concierto': datos1['name'], 'Precio Real': y, 'Precio Predicho': predicciones})\n",
    "\n",
    "    # Crea un scatter plot interactivo con Plotly\n",
    "    fig = px.scatter(df, x='Precio Real', y='Precio Predicho', color='Nombre del Concierto',\n",
    "                     title='Comparación de Precios Reales vs Precios Predichos',\n",
    "                     labels={'Precio Real': 'Precio Real', 'Precio Predicho': 'Precio Predicho'})\n",
    "\n",
    "    # Agrega una línea diagonal que representa la igualdad entre los precios reales y predichos\n",
    "    fig.add_shape(type='line',\n",
    "                  x0=df['Precio Real'].min(), y0=df['Precio Real'].min(),\n",
    "                  x1=df['Precio Real'].max(), y1=df['Precio Real'].max(),\n",
    "                  line=dict(color='red', width=2, dash='dash'))\n",
    "    \n",
    "    fig.show()\n"
   ]
  },
  {
   "cell_type": "markdown",
   "metadata": {},
   "source": [
    "Función que carga un modelo en MLFLOW. Recibe como parámetros el modelo, el nombre del experimento y el nombre del run."
   ]
  },
  {
   "cell_type": "code",
   "execution_count": 5,
   "metadata": {},
   "outputs": [],
   "source": [
    "\n",
    "def cargar_modelo_mlflow(mlp, experimento, run_name, results, time):\n",
    "    \n",
    "    # Convertir resultados a DataFrame\n",
    "    results_df = pd.DataFrame(results)\n",
    "    results_df.to_csv(\"results.csv\", index=False)\n",
    "\n",
    "    # Iniciar un nuevo run de MLflow\n",
    "    with mlflow.start_run(run_name=run_name):\n",
    "\n",
    "        # Configurar el experimento de MLflow\n",
    "        mlflow.set_experiment(experimento)\n",
    "        \n",
    "        mlflow.log_param(\"random_state\", RANDOM_STATE)\n",
    "        mlflow.log_params(mlp.get_params())\n",
    "        mlflow.log_metric(\"execution_time\", time)\n",
    "        \n",
    "        mlflow.sklearn.log_model(mlp, \"model\")\n",
    "        \n",
    "        # Registrar el archivo CSV en MLflow\n",
    "        mlflow.log_artifact(\"results.csv\", \"results\")\n",
    "\n",
    "    mlflow.end_run()\n"
   ]
  },
  {
   "cell_type": "markdown",
   "metadata": {},
   "source": [
    "Para analizar las varaibles que entrna en juego se usará el método Permutation feature importance de la biblioteca sklearn. Esta técnica mide la contribución de cada característica al rendimiento del modelo. Para ello, se se barajan aleatoriamente los valores de cada característica y se mide la disminución en el rendiemiento del modelo. Las características con mayor importancia causan una mayor disminución en la métrica de evaluación cuando son permutadas.\n"
   ]
  },
  {
   "cell_type": "code",
   "execution_count": 6,
   "metadata": {},
   "outputs": [],
   "source": [
    "def feature_importance(pipeline, X, y, top_n, random_state=RANDOM_STATE):\n",
    "    pipeline.fit(X, y)  # Entrenadr el modelo\n",
    "\n",
    "    # Calcular la importancia de las características\n",
    "    importance = permutation_importance(pipeline, X, y, n_repeats=30, random_state=random_state, scoring='neg_mean_squared_error')\n",
    "\n",
    "    feature_names = X.columns\n",
    "    sorted_idx = importance.importances_mean.argsort()[::-1]  # Ordenar de mayor a menor\n",
    "\n",
    "    # Seleccionar los top_n más importantes\n",
    "    top_features = sorted_idx[:top_n]\n",
    "    \n",
    "    plt.figure(figsize=(8, 6))\n",
    "    sns.barplot(x=importance.importances_mean[top_features], y=feature_names[top_features], palette=\"viridis\")\n",
    "    plt.xlabel(\"Importancia de la característica (promedio de reducción de score)\", fontsize=10)\n",
    "    plt.ylabel(\"Características\", fontsize=10)\n",
    "    plt.title(f\"Top {top_n} características más importantes usando Permutation Feature Importance\", fontsize=10)\n",
    "    \n",
    "    # Añadir etiquetas de los valores en las barras\n",
    "    for index, value in enumerate(importance.importances_mean[top_features]):\n",
    "        plt.text(value, index, f'{value:.2f}', va='center', ha='right', color='black', fontsize=8)\n",
    "\n",
    "    plt.grid(True, which='both', linestyle='--', linewidth=0.5)\n",
    "    plt.gca().invert_yaxis()  # Invertir el eje y para que el más importante esté en la parte superior\n",
    "    plt.tight_layout()\n",
    "    plt.show()\n",
    "\n"
   ]
  },
  {
   "cell_type": "markdown",
   "metadata": {},
   "source": [
    "Como para todos los modelos se usará el método cross_validate se implementa una función para que muestre los resultados en el fomato deseado."
   ]
  },
  {
   "cell_type": "code",
   "execution_count": 7,
   "metadata": {},
   "outputs": [],
   "source": [
    "\n",
    "def crear_tabla_resultados(resultados):\n",
    "    # Crear un DataFrame con los resultados de validación cruzada\n",
    "    df = pd.DataFrame(resultados)\n",
    "    \n",
    "    # Calcular promedios\n",
    "    promedio = df.mean()\n",
    "    \n",
    "    # Crear DataFrame con las métricas\n",
    "    df_sin_promedio = pd.DataFrame({\n",
    "        'Test Fold': range(0, len(resultados['test_MAPE'])),\n",
    "        'MAPE Train': resultados['train_MAPE'],\n",
    "        'RMSE Train': resultados['train_RMSE'],\n",
    "        'MSE Train': resultados['train_MSE'],\n",
    "        'MAE Train': resultados['train_MAE'],\n",
    "        'MAPE Val': resultados['test_MAPE'],\n",
    "        'RMSE Val': resultados['test_RMSE'],\n",
    "        'MSE Val': resultados['test_MSE'],\n",
    "        'MAE Val': resultados['test_MAE']\n",
    "    })\n",
    "    \n",
    "    # Añadir los promedios\n",
    "    df_promedio = pd.DataFrame({\n",
    "        'Test Fold': ['Promedio'],\n",
    "        'MAPE Train': promedio['train_MAPE'],\n",
    "        'RMSE Train': promedio['train_RMSE'],\n",
    "        'MSE Train': promedio['train_MSE'],\n",
    "        'MAE Train': promedio['train_MAE'],\n",
    "        'MAPE Val': promedio['test_MAPE'],\n",
    "        'RMSE Val': promedio['test_RMSE'],\n",
    "        'MSE Val': promedio['test_MSE'],\n",
    "        'MAE Val': promedio['test_MAE']\n",
    "    }, index=[len(resultados['test_MAPE'])]) \n",
    "    \n",
    "    # Concatenar los DataFrames\n",
    "    df_final = pd.concat([df_sin_promedio, df_promedio])\n",
    "\n",
    "    return df_final"
   ]
  },
  {
   "cell_type": "markdown",
   "metadata": {},
   "source": [
    "En todos los modelos se hará un escalado de las variables que no son binarias. En cada iteración de cross validate se hará el fit_transform del escalado con los datos de entrenamiento para aplicarlo después a los datos de test. Para lograrlo se crea un objeto Pipeline que permite encadenar el escalado y después el modelo. "
   ]
  },
  {
   "cell_type": "code",
   "execution_count": 8,
   "metadata": {},
   "outputs": [],
   "source": [
    "\n",
    "ps = PredefinedSplit(datos['fold'])\n",
    "\n",
    "mlp = MLPRegressor(random_state=RANDOM_STATE)\n",
    "\n",
    "# Definir el ColumnTransformer\n",
    "preprocessor = ColumnTransformer(\n",
    "    transformers=[\n",
    "        ('scaler', StandardScaler(), no_binarias)\n",
    "    ],\n",
    "    remainder='passthrough'  # Deja las otras columnas sin cambios\n",
    ")\n",
    "\n",
    "# Definir el pipeline con el ColumnTransformer y el modelo\n",
    "pipeline = Pipeline([\n",
    "    ('preprocessor', preprocessor),\n",
    "    ('mlp', MLPRegressor(random_state=RANDOM_STATE))\n",
    "])\n",
    "\n",
    "# Definir las métricas personalizados \n",
    "scoring = {\n",
    "    'MSE': make_scorer(mean_squared_error),\n",
    "    'RMSE': make_scorer(mean_squared_error, squared=False),\n",
    "    'MAE': make_scorer(mean_absolute_error),\n",
    "    'MAPE': make_scorer(mean_absolute_percentage_error)\n",
    "}"
   ]
  },
  {
   "cell_type": "markdown",
   "metadata": {},
   "source": [
    "MODELO BASE REDES NEURONALES - ESTANDARIZADO"
   ]
  },
  {
   "cell_type": "code",
   "execution_count": 11,
   "metadata": {},
   "outputs": [
    {
     "name": "stdout",
     "output_type": "stream",
     "text": [
      "Tiempo de ejecución: 2.5088953971862793 segundos\n"
     ]
    },
    {
     "name": "stderr",
     "output_type": "stream",
     "text": [
      "2024/06/23 11:58:57 INFO mlflow.tracking.fluent: Experiment with name 'MIN_PRICE' does not exist. Creating a new experiment.\n"
     ]
    },
    {
     "data": {
      "application/vnd.plotly.v1+json": {
       "config": {
        "plotlyServerURL": "https://plot.ly"
       },
       "data": [
        {
         "hovertemplate": "Nombre del Concierto=30 Aniversario de Sôber, con Savia y Skizoo<br>Precio Real=%{x}<br>Precio Predicho=%{y}<extra></extra>",
         "legendgroup": "30 Aniversario de Sôber, con Savia y Skizoo",
         "marker": {
          "color": "#636efa",
          "symbol": "circle"
         },
         "mode": "markers",
         "name": "30 Aniversario de Sôber, con Savia y Skizoo",
         "orientation": "v",
         "showlegend": true,
         "type": "scatter",
         "x": [
          28
         ],
         "xaxis": "x",
         "y": [
          43.6669523917449
         ],
         "yaxis": "y"
        },
        {
         "hovertemplate": "Nombre del Concierto=30 Aniversario de Sôber, con Savia y Skizoo | Soundcheck Experience<br>Precio Real=%{x}<br>Precio Predicho=%{y}<extra></extra>",
         "legendgroup": "30 Aniversario de Sôber, con Savia y Skizoo | Soundcheck Experience",
         "marker": {
          "color": "#EF553B",
          "symbol": "circle"
         },
         "mode": "markers",
         "name": "30 Aniversario de Sôber, con Savia y Skizoo | Soundcheck Experience",
         "orientation": "v",
         "showlegend": true,
         "type": "scatter",
         "x": [
          50
         ],
         "xaxis": "x",
         "y": [
          43.6669523917449
         ],
         "yaxis": "y"
        },
        {
         "hovertemplate": "Nombre del Concierto=AC/DC - Power Up Tour<br>Precio Real=%{x}<br>Precio Predicho=%{y}<extra></extra>",
         "legendgroup": "AC/DC - Power Up Tour",
         "marker": {
          "color": "#00cc96",
          "symbol": "circle"
         },
         "mode": "markers",
         "name": "AC/DC - Power Up Tour",
         "orientation": "v",
         "showlegend": true,
         "type": "scatter",
         "x": [
          105,
          105,
          105,
          105
         ],
         "xaxis": "x",
         "y": [
          93.13701324546236,
          93.01134845905402,
          94.8627503822545,
          94.72530282843015
         ],
         "yaxis": "y"
        },
        {
         "hovertemplate": "Nombre del Concierto=Abba The New Experience & Queen Forever<br>Precio Real=%{x}<br>Precio Predicho=%{y}<extra></extra>",
         "legendgroup": "Abba The New Experience & Queen Forever",
         "marker": {
          "color": "#ab63fa",
          "symbol": "circle"
         },
         "mode": "markers",
         "name": "Abba The New Experience & Queen Forever",
         "orientation": "v",
         "showlegend": true,
         "type": "scatter",
         "x": [
          20
         ],
         "xaxis": "x",
         "y": [
          23.139771319080968
         ],
         "yaxis": "y"
        },
        {
         "hovertemplate": "Nombre del Concierto=Abraham Mateo y Nil Moliner<br>Precio Real=%{x}<br>Precio Predicho=%{y}<extra></extra>",
         "legendgroup": "Abraham Mateo y Nil Moliner",
         "marker": {
          "color": "#FFA15A",
          "symbol": "circle"
         },
         "mode": "markers",
         "name": "Abraham Mateo y Nil Moliner",
         "orientation": "v",
         "showlegend": true,
         "type": "scatter",
         "x": [
          30.01,
          30.01
         ],
         "xaxis": "x",
         "y": [
          34.79878175932525,
          29.764723667968347
         ],
         "yaxis": "y"
        },
        {
         "hovertemplate": "Nombre del Concierto=Aitana<br>Precio Real=%{x}<br>Precio Predicho=%{y}<extra></extra>",
         "legendgroup": "Aitana",
         "marker": {
          "color": "#19d3f3",
          "symbol": "circle"
         },
         "mode": "markers",
         "name": "Aitana",
         "orientation": "v",
         "showlegend": true,
         "type": "scatter",
         "x": [
          41.43,
          49.11,
          49.11,
          50,
          59.82,
          65.18,
          65.18,
          71.43
         ],
         "xaxis": "x",
         "y": [
          65.42120443200328,
          66.57315229630964,
          66.84855583554385,
          48.32368038681309,
          66.64578673956166,
          68.66364822805157,
          66.18905160582662,
          66.52129024977505
         ],
         "yaxis": "y"
        },
        {
         "hovertemplate": "Nombre del Concierto=Aleman<br>Precio Real=%{x}<br>Precio Predicho=%{y}<extra></extra>",
         "legendgroup": "Aleman",
         "marker": {
          "color": "#FF6692",
          "symbol": "circle"
         },
         "mode": "markers",
         "name": "Aleman",
         "orientation": "v",
         "showlegend": true,
         "type": "scatter",
         "x": [
          22,
          22
         ],
         "xaxis": "x",
         "y": [
          17.222274672369984,
          17.492322999440873
         ],
         "yaxis": "y"
        },
        {
         "hovertemplate": "Nombre del Concierto=Ana Mena<br>Precio Real=%{x}<br>Precio Predicho=%{y}<extra></extra>",
         "legendgroup": "Ana Mena",
         "marker": {
          "color": "#B6E880",
          "symbol": "circle"
         },
         "mode": "markers",
         "name": "Ana Mena",
         "orientation": "v",
         "showlegend": true,
         "type": "scatter",
         "x": [
          30
         ],
         "xaxis": "x",
         "y": [
          19.43599833761698
         ],
         "yaxis": "y"
        },
        {
         "hovertemplate": "Nombre del Concierto=Andrés Calamaro<br>Precio Real=%{x}<br>Precio Predicho=%{y}<extra></extra>",
         "legendgroup": "Andrés Calamaro",
         "marker": {
          "color": "#FF97FF",
          "symbol": "circle"
         },
         "mode": "markers",
         "name": "Andrés Calamaro",
         "orientation": "v",
         "showlegend": true,
         "type": "scatter",
         "x": [
          37
         ],
         "xaxis": "x",
         "y": [
          41.14891590027193
         ],
         "yaxis": "y"
        },
        {
         "hovertemplate": "Nombre del Concierto=Antonio José<br>Precio Real=%{x}<br>Precio Predicho=%{y}<extra></extra>",
         "legendgroup": "Antonio José",
         "marker": {
          "color": "#FECB52",
          "symbol": "circle"
         },
         "mode": "markers",
         "name": "Antonio José",
         "orientation": "v",
         "showlegend": true,
         "type": "scatter",
         "x": [
          27,
          30.01,
          30.01
         ],
         "xaxis": "x",
         "y": [
          49.40826210155304,
          38.577519897797686,
          38.56702521178945
         ],
         "yaxis": "y"
        },
        {
         "hovertemplate": "Nombre del Concierto=Antoñito Molina<br>Precio Real=%{x}<br>Precio Predicho=%{y}<extra></extra>",
         "legendgroup": "Antoñito Molina",
         "marker": {
          "color": "#636efa",
          "symbol": "circle"
         },
         "mode": "markers",
         "name": "Antoñito Molina",
         "orientation": "v",
         "showlegend": true,
         "type": "scatter",
         "x": [
          25,
          25
         ],
         "xaxis": "x",
         "y": [
          24.37689250934841,
          33.01503500280291
         ],
         "yaxis": "y"
        },
        {
         "hovertemplate": "Nombre del Concierto=BURNING - CONCIERTO ESPECIAL 50 ANIVERSARIO<br>Precio Real=%{x}<br>Precio Predicho=%{y}<extra></extra>",
         "legendgroup": "BURNING - CONCIERTO ESPECIAL 50 ANIVERSARIO",
         "marker": {
          "color": "#EF553B",
          "symbol": "circle"
         },
         "mode": "markers",
         "name": "BURNING - CONCIERTO ESPECIAL 50 ANIVERSARIO",
         "orientation": "v",
         "showlegend": true,
         "type": "scatter",
         "x": [
          30
         ],
         "xaxis": "x",
         "y": [
          25.296195652364755
         ],
         "yaxis": "y"
        },
        {
         "hovertemplate": "Nombre del Concierto=Ballet Flamenco Sara Baras<br>Precio Real=%{x}<br>Precio Predicho=%{y}<extra></extra>",
         "legendgroup": "Ballet Flamenco Sara Baras",
         "marker": {
          "color": "#00cc96",
          "symbol": "circle"
         },
         "mode": "markers",
         "name": "Ballet Flamenco Sara Baras",
         "orientation": "v",
         "showlegend": true,
         "type": "scatter",
         "x": [
          30.01,
          30.01
         ],
         "xaxis": "x",
         "y": [
          27.34415769698557,
          27.22482762961311
         ],
         "yaxis": "y"
        },
        {
         "hovertemplate": "Nombre del Concierto=Ballet Nacional de España / Estampas Flamencas<br>Precio Real=%{x}<br>Precio Predicho=%{y}<extra></extra>",
         "legendgroup": "Ballet Nacional de España / Estampas Flamencas",
         "marker": {
          "color": "#ab63fa",
          "symbol": "circle"
         },
         "mode": "markers",
         "name": "Ballet Nacional de España / Estampas Flamencas",
         "orientation": "v",
         "showlegend": true,
         "type": "scatter",
         "x": [
          25
         ],
         "xaxis": "x",
         "y": [
          24.91122404943615
         ],
         "yaxis": "y"
        },
        {
         "hovertemplate": "Nombre del Concierto=Benjamin Ingrosso<br>Precio Real=%{x}<br>Precio Predicho=%{y}<extra></extra>",
         "legendgroup": "Benjamin Ingrosso",
         "marker": {
          "color": "#FFA15A",
          "symbol": "circle"
         },
         "mode": "markers",
         "name": "Benjamin Ingrosso",
         "orientation": "v",
         "showlegend": true,
         "type": "scatter",
         "x": [
          23
         ],
         "xaxis": "x",
         "y": [
          29.56938608796751
         ],
         "yaxis": "y"
        },
        {
         "hovertemplate": "Nombre del Concierto=Big Time Rush - UK & Europe Tour 2024<br>Precio Real=%{x}<br>Precio Predicho=%{y}<extra></extra>",
         "legendgroup": "Big Time Rush - UK & Europe Tour 2024",
         "marker": {
          "color": "#19d3f3",
          "symbol": "circle"
         },
         "mode": "markers",
         "name": "Big Time Rush - UK & Europe Tour 2024",
         "orientation": "v",
         "showlegend": true,
         "type": "scatter",
         "x": [
          40
         ],
         "xaxis": "x",
         "y": [
          51.279742902359935
         ],
         "yaxis": "y"
        },
        {
         "hovertemplate": "Nombre del Concierto=Bunbury<br>Precio Real=%{x}<br>Precio Predicho=%{y}<extra></extra>",
         "legendgroup": "Bunbury",
         "marker": {
          "color": "#FF6692",
          "symbol": "circle"
         },
         "mode": "markers",
         "name": "Bunbury",
         "orientation": "v",
         "showlegend": true,
         "type": "scatter",
         "x": [
          40,
          70
         ],
         "xaxis": "x",
         "y": [
          55.86517750957259,
          61.93657782321941
         ],
         "yaxis": "y"
        },
        {
         "hovertemplate": "Nombre del Concierto=CHUMI DJ presenta YESTERDAY 17 - DÉCIMO ANIVERSARIO<br>Precio Real=%{x}<br>Precio Predicho=%{y}<extra></extra>",
         "legendgroup": "CHUMI DJ presenta YESTERDAY 17 - DÉCIMO ANIVERSARIO",
         "marker": {
          "color": "#B6E880",
          "symbol": "circle"
         },
         "mode": "markers",
         "name": "CHUMI DJ presenta YESTERDAY 17 - DÉCIMO ANIVERSARIO",
         "orientation": "v",
         "showlegend": true,
         "type": "scatter",
         "x": [
          24,
          25
         ],
         "xaxis": "x",
         "y": [
          22.946520724020303,
          24.619638662478785
         ],
         "yaxis": "y"
        },
        {
         "hovertemplate": "Nombre del Concierto=Café Quijano<br>Precio Real=%{x}<br>Precio Predicho=%{y}<extra></extra>",
         "legendgroup": "Café Quijano",
         "marker": {
          "color": "#FF97FF",
          "symbol": "circle"
         },
         "mode": "markers",
         "name": "Café Quijano",
         "orientation": "v",
         "showlegend": true,
         "type": "scatter",
         "x": [
          30,
          30,
          34
         ],
         "xaxis": "x",
         "y": [
          31.581186046327502,
          27.143010024097336,
          31.38591560655344
         ],
         "yaxis": "y"
        },
        {
         "hovertemplate": "Nombre del Concierto=Califato ¾<br>Precio Real=%{x}<br>Precio Predicho=%{y}<extra></extra>",
         "legendgroup": "Califato ¾",
         "marker": {
          "color": "#FECB52",
          "symbol": "circle"
         },
         "mode": "markers",
         "name": "Califato ¾",
         "orientation": "v",
         "showlegend": true,
         "type": "scatter",
         "x": [
          20
         ],
         "xaxis": "x",
         "y": [
          22.184515985287113
         ],
         "yaxis": "y"
        },
        {
         "hovertemplate": "Nombre del Concierto=Camela<br>Precio Real=%{x}<br>Precio Predicho=%{y}<extra></extra>",
         "legendgroup": "Camela",
         "marker": {
          "color": "#636efa",
          "symbol": "circle"
         },
         "mode": "markers",
         "name": "Camela",
         "orientation": "v",
         "showlegend": true,
         "type": "scatter",
         "x": [
          27,
          30,
          35
         ],
         "xaxis": "x",
         "y": [
          33.72277649193821,
          45.06815089481085,
          38.63143975424834
         ],
         "yaxis": "y"
        },
        {
         "hovertemplate": "Nombre del Concierto=Camilo<br>Precio Real=%{x}<br>Precio Predicho=%{y}<extra></extra>",
         "legendgroup": "Camilo",
         "marker": {
          "color": "#EF553B",
          "symbol": "circle"
         },
         "mode": "markers",
         "name": "Camilo",
         "orientation": "v",
         "showlegend": true,
         "type": "scatter",
         "x": [
          25,
          25,
          35,
          35,
          40,
          40,
          40,
          40,
          43,
          44.64,
          45,
          45,
          49,
          56.25,
          59.82,
          76.79
         ],
         "xaxis": "x",
         "y": [
          37.703779389407174,
          42.89878783170274,
          46.0931851024176,
          33.82675935444227,
          42.622957179298545,
          38.41129059170594,
          38.74953565992723,
          34.06588428235881,
          37.98166388003959,
          38.26564434946366,
          38.84949305770322,
          41.852080842658985,
          34.28553886414214,
          37.89885355855413,
          38.23511560278841,
          37.665039597975145
         ],
         "yaxis": "y"
        },
        {
         "hovertemplate": "Nombre del Concierto=Cano<br>Precio Real=%{x}<br>Precio Predicho=%{y}<extra></extra>",
         "legendgroup": "Cano",
         "marker": {
          "color": "#00cc96",
          "symbol": "circle"
         },
         "mode": "markers",
         "name": "Cano",
         "orientation": "v",
         "showlegend": true,
         "type": "scatter",
         "x": [
          25
         ],
         "xaxis": "x",
         "y": [
          34.15595704214688
         ],
         "yaxis": "y"
        },
        {
         "hovertemplate": "Nombre del Concierto=Carlos Piñana y la Orquesta Sinfónica de la Región de Murcia / Rubato<br>Precio Real=%{x}<br>Precio Predicho=%{y}<extra></extra>",
         "legendgroup": "Carlos Piñana y la Orquesta Sinfónica de la Región de Murcia / Rubato",
         "marker": {
          "color": "#ab63fa",
          "symbol": "circle"
         },
         "mode": "markers",
         "name": "Carlos Piñana y la Orquesta Sinfónica de la Región de Murcia / Rubato",
         "orientation": "v",
         "showlegend": true,
         "type": "scatter",
         "x": [
          15
         ],
         "xaxis": "x",
         "y": [
          19.947319685334143
         ],
         "yaxis": "y"
        },
        {
         "hovertemplate": "Nombre del Concierto=Carlos Vives<br>Precio Real=%{x}<br>Precio Predicho=%{y}<extra></extra>",
         "legendgroup": "Carlos Vives",
         "marker": {
          "color": "#FFA15A",
          "symbol": "circle"
         },
         "mode": "markers",
         "name": "Carlos Vives",
         "orientation": "v",
         "showlegend": true,
         "type": "scatter",
         "x": [
          35.71
         ],
         "xaxis": "x",
         "y": [
          37.92048176665387
         ],
         "yaxis": "y"
        },
        {
         "hovertemplate": "Nombre del Concierto=Carlos Vives - El Rock de mi pueblo vive - Tour España 2024<br>Precio Real=%{x}<br>Precio Predicho=%{y}<extra></extra>",
         "legendgroup": "Carlos Vives - El Rock de mi pueblo vive - Tour España 2024",
         "marker": {
          "color": "#19d3f3",
          "symbol": "circle"
         },
         "mode": "markers",
         "name": "Carlos Vives - El Rock de mi pueblo vive - Tour España 2024",
         "orientation": "v",
         "showlegend": true,
         "type": "scatter",
         "x": [
          48
         ],
         "xaxis": "x",
         "y": [
          53.98273488471358
         ],
         "yaxis": "y"
        },
        {
         "hovertemplate": "Nombre del Concierto=Carmen Boza<br>Precio Real=%{x}<br>Precio Predicho=%{y}<extra></extra>",
         "legendgroup": "Carmen Boza",
         "marker": {
          "color": "#FF6692",
          "symbol": "circle"
         },
         "mode": "markers",
         "name": "Carmen Boza",
         "orientation": "v",
         "showlegend": true,
         "type": "scatter",
         "x": [
          17
         ],
         "xaxis": "x",
         "y": [
          16.446441599490885
         ],
         "yaxis": "y"
        },
        {
         "hovertemplate": "Nombre del Concierto=Carín León<br>Precio Real=%{x}<br>Precio Predicho=%{y}<extra></extra>",
         "legendgroup": "Carín León",
         "marker": {
          "color": "#B6E880",
          "symbol": "circle"
         },
         "mode": "markers",
         "name": "Carín León",
         "orientation": "v",
         "showlegend": true,
         "type": "scatter",
         "x": [
          30
         ],
         "xaxis": "x",
         "y": [
          38.80034160974707
         ],
         "yaxis": "y"
        },
        {
         "hovertemplate": "Nombre del Concierto=Celtas Cortos y amigos<br>Precio Real=%{x}<br>Precio Predicho=%{y}<extra></extra>",
         "legendgroup": "Celtas Cortos y amigos",
         "marker": {
          "color": "#FF97FF",
          "symbol": "circle"
         },
         "mode": "markers",
         "name": "Celtas Cortos y amigos",
         "orientation": "v",
         "showlegend": true,
         "type": "scatter",
         "x": [
          35
         ],
         "xaxis": "x",
         "y": [
          49.42644466217312
         ],
         "yaxis": "y"
        },
        {
         "hovertemplate": "Nombre del Concierto=Charlie USG<br>Precio Real=%{x}<br>Precio Predicho=%{y}<extra></extra>",
         "legendgroup": "Charlie USG",
         "marker": {
          "color": "#FECB52",
          "symbol": "circle"
         },
         "mode": "markers",
         "name": "Charlie USG",
         "orientation": "v",
         "showlegend": true,
         "type": "scatter",
         "x": [
          18,
          18,
          18,
          18,
          18,
          20
         ],
         "xaxis": "x",
         "y": [
          21.03547833785111,
          20.675130028785496,
          21.592380270043435,
          20.66422920866581,
          20.969960463475548,
          20.8716836519122
         ],
         "yaxis": "y"
        },
        {
         "hovertemplate": "Nombre del Concierto=Christian Nodal<br>Precio Real=%{x}<br>Precio Predicho=%{y}<extra></extra>",
         "legendgroup": "Christian Nodal",
         "marker": {
          "color": "#636efa",
          "symbol": "circle"
         },
         "mode": "markers",
         "name": "Christian Nodal",
         "orientation": "v",
         "showlegend": true,
         "type": "scatter",
         "x": [
          25,
          30,
          30.01,
          37.5
         ],
         "xaxis": "x",
         "y": [
          42.22107471662546,
          39.1694061843939,
          42.65118654891398,
          37.377078635817035
         ],
         "yaxis": "y"
        },
        {
         "hovertemplate": "Nombre del Concierto=Cruz Cafuné<br>Precio Real=%{x}<br>Precio Predicho=%{y}<extra></extra>",
         "legendgroup": "Cruz Cafuné",
         "marker": {
          "color": "#EF553B",
          "symbol": "circle"
         },
         "mode": "markers",
         "name": "Cruz Cafuné",
         "orientation": "v",
         "showlegend": true,
         "type": "scatter",
         "x": [
          35
         ],
         "xaxis": "x",
         "y": [
          31.62682645002428
         ],
         "yaxis": "y"
        },
        {
         "hovertemplate": "Nombre del Concierto=Crystal Fighters<br>Precio Real=%{x}<br>Precio Predicho=%{y}<extra></extra>",
         "legendgroup": "Crystal Fighters",
         "marker": {
          "color": "#00cc96",
          "symbol": "circle"
         },
         "mode": "markers",
         "name": "Crystal Fighters",
         "orientation": "v",
         "showlegend": true,
         "type": "scatter",
         "x": [
          35,
          35,
          35
         ],
         "xaxis": "x",
         "y": [
          20.965516269531435,
          22.150294955948482,
          30.74545001554889
         ],
         "yaxis": "y"
        },
        {
         "hovertemplate": "Nombre del Concierto=Cultura Profética<br>Precio Real=%{x}<br>Precio Predicho=%{y}<extra></extra>",
         "legendgroup": "Cultura Profética",
         "marker": {
          "color": "#ab63fa",
          "symbol": "circle"
         },
         "mode": "markers",
         "name": "Cultura Profética",
         "orientation": "v",
         "showlegend": true,
         "type": "scatter",
         "x": [
          43,
          44
         ],
         "xaxis": "x",
         "y": [
          39.8378202944217,
          37.6333828421185
         ],
         "yaxis": "y"
        },
        {
         "hovertemplate": "Nombre del Concierto=Danza Invisible<br>Precio Real=%{x}<br>Precio Predicho=%{y}<extra></extra>",
         "legendgroup": "Danza Invisible",
         "marker": {
          "color": "#FFA15A",
          "symbol": "circle"
         },
         "mode": "markers",
         "name": "Danza Invisible",
         "orientation": "v",
         "showlegend": true,
         "type": "scatter",
         "x": [
          30
         ],
         "xaxis": "x",
         "y": [
          27.585699550801465
         ],
         "yaxis": "y"
        },
        {
         "hovertemplate": "Nombre del Concierto=Das Ich<br>Precio Real=%{x}<br>Precio Predicho=%{y}<extra></extra>",
         "legendgroup": "Das Ich",
         "marker": {
          "color": "#19d3f3",
          "symbol": "circle"
         },
         "mode": "markers",
         "name": "Das Ich",
         "orientation": "v",
         "showlegend": true,
         "type": "scatter",
         "x": [
          25
         ],
         "xaxis": "x",
         "y": [
          26.576047727141656
         ],
         "yaxis": "y"
        },
        {
         "hovertemplate": "Nombre del Concierto=David Bisbal<br>Precio Real=%{x}<br>Precio Predicho=%{y}<extra></extra>",
         "legendgroup": "David Bisbal",
         "marker": {
          "color": "#FF6692",
          "symbol": "circle"
         },
         "mode": "markers",
         "name": "David Bisbal",
         "orientation": "v",
         "showlegend": true,
         "type": "scatter",
         "x": [
          40
         ],
         "xaxis": "x",
         "y": [
          41.92473346195673
         ],
         "yaxis": "y"
        },
        {
         "hovertemplate": "Nombre del Concierto=Dead Poet Society<br>Precio Real=%{x}<br>Precio Predicho=%{y}<extra></extra>",
         "legendgroup": "Dead Poet Society",
         "marker": {
          "color": "#B6E880",
          "symbol": "circle"
         },
         "mode": "markers",
         "name": "Dead Poet Society",
         "orientation": "v",
         "showlegend": true,
         "type": "scatter",
         "x": [
          20,
          20
         ],
         "xaxis": "x",
         "y": [
          31.167915014084166,
          31.018484735304526
         ],
         "yaxis": "y"
        },
        {
         "hovertemplate": "Nombre del Concierto=Delaporte - Aquí y Ahora Tour<br>Precio Real=%{x}<br>Precio Predicho=%{y}<extra></extra>",
         "legendgroup": "Delaporte - Aquí y Ahora Tour",
         "marker": {
          "color": "#FF97FF",
          "symbol": "circle"
         },
         "mode": "markers",
         "name": "Delaporte - Aquí y Ahora Tour",
         "orientation": "v",
         "showlegend": true,
         "type": "scatter",
         "x": [
          23
         ],
         "xaxis": "x",
         "y": [
          21.29215601964524
         ],
         "yaxis": "y"
        },
        {
         "hovertemplate": "Nombre del Concierto=Depeche Mode - Memento Mori Tour<br>Precio Real=%{x}<br>Precio Predicho=%{y}<extra></extra>",
         "legendgroup": "Depeche Mode - Memento Mori Tour",
         "marker": {
          "color": "#FECB52",
          "symbol": "circle"
         },
         "mode": "markers",
         "name": "Depeche Mode - Memento Mori Tour",
         "orientation": "v",
         "showlegend": true,
         "type": "scatter",
         "x": [
          50,
          50,
          60
         ],
         "xaxis": "x",
         "y": [
          48.85124952958747,
          62.10746979340618,
          53.45894055527929
         ],
         "yaxis": "y"
        },
        {
         "hovertemplate": "Nombre del Concierto=Diana Krall<br>Precio Real=%{x}<br>Precio Predicho=%{y}<extra></extra>",
         "legendgroup": "Diana Krall",
         "marker": {
          "color": "#636efa",
          "symbol": "circle"
         },
         "mode": "markers",
         "name": "Diana Krall",
         "orientation": "v",
         "showlegend": true,
         "type": "scatter",
         "x": [
          30.01,
          31.25
         ],
         "xaxis": "x",
         "y": [
          28.48482164860797,
          28.146793449425083
         ],
         "yaxis": "y"
        },
        {
         "hovertemplate": "Nombre del Concierto=Dreamcatcher<br>Precio Real=%{x}<br>Precio Predicho=%{y}<extra></extra>",
         "legendgroup": "Dreamcatcher",
         "marker": {
          "color": "#EF553B",
          "symbol": "circle"
         },
         "mode": "markers",
         "name": "Dreamcatcher",
         "orientation": "v",
         "showlegend": true,
         "type": "scatter",
         "x": [
          105
         ],
         "xaxis": "x",
         "y": [
          38.216223009057195
         ],
         "yaxis": "y"
        },
        {
         "hovertemplate": "Nombre del Concierto=Duki<br>Precio Real=%{x}<br>Precio Predicho=%{y}<extra></extra>",
         "legendgroup": "Duki",
         "marker": {
          "color": "#00cc96",
          "symbol": "circle"
         },
         "mode": "markers",
         "name": "Duki",
         "orientation": "v",
         "showlegend": true,
         "type": "scatter",
         "x": [
          28
         ],
         "xaxis": "x",
         "y": [
          51.30506683592362
         ],
         "yaxis": "y"
        },
        {
         "hovertemplate": "Nombre del Concierto=Dystinct<br>Precio Real=%{x}<br>Precio Predicho=%{y}<extra></extra>",
         "legendgroup": "Dystinct",
         "marker": {
          "color": "#ab63fa",
          "symbol": "circle"
         },
         "mode": "markers",
         "name": "Dystinct",
         "orientation": "v",
         "showlegend": true,
         "type": "scatter",
         "x": [
          22
         ],
         "xaxis": "x",
         "y": [
          29.27705410337588
         ],
         "yaxis": "y"
        },
        {
         "hovertemplate": "Nombre del Concierto=Eduardo Guerrero “SO-LA-NA Las Minas Flamenco”<br>Precio Real=%{x}<br>Precio Predicho=%{y}<extra></extra>",
         "legendgroup": "Eduardo Guerrero “SO-LA-NA Las Minas Flamenco”",
         "marker": {
          "color": "#FFA15A",
          "symbol": "circle"
         },
         "mode": "markers",
         "name": "Eduardo Guerrero “SO-LA-NA Las Minas Flamenco”",
         "orientation": "v",
         "showlegend": true,
         "type": "scatter",
         "x": [
          20
         ],
         "xaxis": "x",
         "y": [
          17.849662790786223
         ],
         "yaxis": "y"
        },
        {
         "hovertemplate": "Nombre del Concierto=El Barrio<br>Precio Real=%{x}<br>Precio Predicho=%{y}<extra></extra>",
         "legendgroup": "El Barrio",
         "marker": {
          "color": "#19d3f3",
          "symbol": "circle"
         },
         "mode": "markers",
         "name": "El Barrio",
         "orientation": "v",
         "showlegend": true,
         "type": "scatter",
         "x": [
          40,
          40
         ],
         "xaxis": "x",
         "y": [
          40.33815151708202,
          40.93958147204305
         ],
         "yaxis": "y"
        },
        {
         "hovertemplate": "Nombre del Concierto=El Kanka<br>Precio Real=%{x}<br>Precio Predicho=%{y}<extra></extra>",
         "legendgroup": "El Kanka",
         "marker": {
          "color": "#FF6692",
          "symbol": "circle"
         },
         "mode": "markers",
         "name": "El Kanka",
         "orientation": "v",
         "showlegend": true,
         "type": "scatter",
         "x": [
          20,
          30,
          30,
          30,
          30,
          35
         ],
         "xaxis": "x",
         "y": [
          33.02571746204318,
          28.524349249981547,
          28.2928848072062,
          28.656134433380508,
          32.30731051574937,
          33.15584430971378
         ],
         "yaxis": "y"
        },
        {
         "hovertemplate": "Nombre del Concierto=El Pau<br>Precio Real=%{x}<br>Precio Predicho=%{y}<extra></extra>",
         "legendgroup": "El Pau",
         "marker": {
          "color": "#B6E880",
          "symbol": "circle"
         },
         "mode": "markers",
         "name": "El Pau",
         "orientation": "v",
         "showlegend": true,
         "type": "scatter",
         "x": [
          10,
          13,
          13,
          13,
          15,
          15,
          15,
          15,
          15,
          15,
          16
         ],
         "xaxis": "x",
         "y": [
          21.53394051772471,
          20.970074978024762,
          20.954955487758376,
          21.121954172968557,
          20.970074978024762,
          20.22152751723037,
          23.209054483027,
          22.11257107406651,
          21.382166533078024,
          21.544781516628042,
          21.13280268689311
         ],
         "yaxis": "y"
        },
        {
         "hovertemplate": "Nombre del Concierto=ElGrandeToto - Twenty-Seven Tour<br>Precio Real=%{x}<br>Precio Predicho=%{y}<extra></extra>",
         "legendgroup": "ElGrandeToto - Twenty-Seven Tour",
         "marker": {
          "color": "#FF97FF",
          "symbol": "circle"
         },
         "mode": "markers",
         "name": "ElGrandeToto - Twenty-Seven Tour",
         "orientation": "v",
         "showlegend": true,
         "type": "scatter",
         "x": [
          24,
          24
         ],
         "xaxis": "x",
         "y": [
          26.730750088663676,
          25.259578289238902
         ],
         "yaxis": "y"
        },
        {
         "hovertemplate": "Nombre del Concierto=Emilia<br>Precio Real=%{x}<br>Precio Predicho=%{y}<extra></extra>",
         "legendgroup": "Emilia",
         "marker": {
          "color": "#FECB52",
          "symbol": "circle"
         },
         "mode": "markers",
         "name": "Emilia",
         "orientation": "v",
         "showlegend": true,
         "type": "scatter",
         "x": [
          25,
          25,
          34.82,
          34.82,
          35,
          35
         ],
         "xaxis": "x",
         "y": [
          31.597621808738992,
          27.17079845195752,
          25.234268549587473,
          24.6917392185087,
          31.79176215578991,
          31.349553587507273
         ],
         "yaxis": "y"
        },
        {
         "hovertemplate": "Nombre del Concierto=Enol<br>Precio Real=%{x}<br>Precio Predicho=%{y}<extra></extra>",
         "legendgroup": "Enol",
         "marker": {
          "color": "#636efa",
          "symbol": "circle"
         },
         "mode": "markers",
         "name": "Enol",
         "orientation": "v",
         "showlegend": true,
         "type": "scatter",
         "x": [
          22,
          22,
          22
         ],
         "xaxis": "x",
         "y": [
          28.87220740695797,
          34.656770198439574,
          33.299786100133666
         ],
         "yaxis": "y"
        },
        {
         "hovertemplate": "Nombre del Concierto=Estopa<br>Precio Real=%{x}<br>Precio Predicho=%{y}<extra></extra>",
         "legendgroup": "Estopa",
         "marker": {
          "color": "#EF553B",
          "symbol": "circle"
         },
         "mode": "markers",
         "name": "Estopa",
         "orientation": "v",
         "showlegend": true,
         "type": "scatter",
         "x": [
          40
         ],
         "xaxis": "x",
         "y": [
          48.18139970378643
         ],
         "yaxis": "y"
        },
        {
         "hovertemplate": "Nombre del Concierto=Eva Ruiz<br>Precio Real=%{x}<br>Precio Predicho=%{y}<extra></extra>",
         "legendgroup": "Eva Ruiz",
         "marker": {
          "color": "#00cc96",
          "symbol": "circle"
         },
         "mode": "markers",
         "name": "Eva Ruiz",
         "orientation": "v",
         "showlegend": true,
         "type": "scatter",
         "x": [
          23,
          23,
          23
         ],
         "xaxis": "x",
         "y": [
          20.052236531043075,
          19.376381788421252,
          19.413778112060797
         ],
         "yaxis": "y"
        },
        {
         "hovertemplate": "Nombre del Concierto=Fletcher<br>Precio Real=%{x}<br>Precio Predicho=%{y}<extra></extra>",
         "legendgroup": "Fletcher",
         "marker": {
          "color": "#ab63fa",
          "symbol": "circle"
         },
         "mode": "markers",
         "name": "Fletcher",
         "orientation": "v",
         "showlegend": true,
         "type": "scatter",
         "x": [
          24,
          24,
          40,
          40
         ],
         "xaxis": "x",
         "y": [
          53.40826256694269,
          48.98392728375793,
          51.55271605155581,
          47.10273854316446
         ],
         "yaxis": "y"
        },
        {
         "hovertemplate": "Nombre del Concierto=Flor Bertotti<br>Precio Real=%{x}<br>Precio Predicho=%{y}<extra></extra>",
         "legendgroup": "Flor Bertotti",
         "marker": {
          "color": "#FFA15A",
          "symbol": "circle"
         },
         "mode": "markers",
         "name": "Flor Bertotti",
         "orientation": "v",
         "showlegend": true,
         "type": "scatter",
         "x": [
          30
         ],
         "xaxis": "x",
         "y": [
          32.37113831631857
         ],
         "yaxis": "y"
        },
        {
         "hovertemplate": "Nombre del Concierto=Fonseca<br>Precio Real=%{x}<br>Precio Predicho=%{y}<extra></extra>",
         "legendgroup": "Fonseca",
         "marker": {
          "color": "#19d3f3",
          "symbol": "circle"
         },
         "mode": "markers",
         "name": "Fonseca",
         "orientation": "v",
         "showlegend": true,
         "type": "scatter",
         "x": [
          30
         ],
         "xaxis": "x",
         "y": [
          50.87875351193278
         ],
         "yaxis": "y"
        },
        {
         "hovertemplate": "Nombre del Concierto=Foy Vance - Regarding The Joy Of Nothing Tour<br>Precio Real=%{x}<br>Precio Predicho=%{y}<extra></extra>",
         "legendgroup": "Foy Vance - Regarding The Joy Of Nothing Tour",
         "marker": {
          "color": "#FF6692",
          "symbol": "circle"
         },
         "mode": "markers",
         "name": "Foy Vance - Regarding The Joy Of Nothing Tour",
         "orientation": "v",
         "showlegend": true,
         "type": "scatter",
         "x": [
          23,
          23,
          23,
          25,
          25,
          25
         ],
         "xaxis": "x",
         "y": [
          33.427204150801174,
          33.941653486691315,
          32.973072056761666,
          33.59528612959425,
          33.60716292438568,
          33.91595958896287
         ],
         "yaxis": "y"
        },
        {
         "hovertemplate": "Nombre del Concierto=Fran Perea<br>Precio Real=%{x}<br>Precio Predicho=%{y}<extra></extra>",
         "legendgroup": "Fran Perea",
         "marker": {
          "color": "#B6E880",
          "symbol": "circle"
         },
         "mode": "markers",
         "name": "Fran Perea",
         "orientation": "v",
         "showlegend": true,
         "type": "scatter",
         "x": [
          25,
          25,
          25,
          25,
          25,
          25,
          25,
          25
         ],
         "xaxis": "x",
         "y": [
          25.24626371140575,
          25.19196233402484,
          24.746691039501403,
          25.224543160453386,
          24.88787462069176,
          24.746691039501403,
          29.3937439353279,
          25.0399184773583
         ],
         "yaxis": "y"
        },
        {
         "hovertemplate": "Nombre del Concierto=Front 242<br>Precio Real=%{x}<br>Precio Predicho=%{y}<extra></extra>",
         "legendgroup": "Front 242",
         "marker": {
          "color": "#FF97FF",
          "symbol": "circle"
         },
         "mode": "markers",
         "name": "Front 242",
         "orientation": "v",
         "showlegend": true,
         "type": "scatter",
         "x": [
          33.13,
          33.13
         ],
         "xaxis": "x",
         "y": [
          34.733580780176176,
          34.72321053008263
         ],
         "yaxis": "y"
        },
        {
         "hovertemplate": "Nombre del Concierto=Funzo & Baby Loud<br>Precio Real=%{x}<br>Precio Predicho=%{y}<extra></extra>",
         "legendgroup": "Funzo & Baby Loud",
         "marker": {
          "color": "#FECB52",
          "symbol": "circle"
         },
         "mode": "markers",
         "name": "Funzo & Baby Loud",
         "orientation": "v",
         "showlegend": true,
         "type": "scatter",
         "x": [
          29
         ],
         "xaxis": "x",
         "y": [
          26.253230297528628
         ],
         "yaxis": "y"
        },
        {
         "hovertemplate": "Nombre del Concierto=Future Islands<br>Precio Real=%{x}<br>Precio Predicho=%{y}<extra></extra>",
         "legendgroup": "Future Islands",
         "marker": {
          "color": "#636efa",
          "symbol": "circle"
         },
         "mode": "markers",
         "name": "Future Islands",
         "orientation": "v",
         "showlegend": true,
         "type": "scatter",
         "x": [
          35,
          35
         ],
         "xaxis": "x",
         "y": [
          46.53732617757311,
          42.17019182449023
         ],
         "yaxis": "y"
        },
        {
         "hovertemplate": "Nombre del Concierto=Garbage<br>Precio Real=%{x}<br>Precio Predicho=%{y}<extra></extra>",
         "legendgroup": "Garbage",
         "marker": {
          "color": "#EF553B",
          "symbol": "circle"
         },
         "mode": "markers",
         "name": "Garbage",
         "orientation": "v",
         "showlegend": true,
         "type": "scatter",
         "x": [
          40
         ],
         "xaxis": "x",
         "y": [
          30.948239757053468
         ],
         "yaxis": "y"
        },
        {
         "hovertemplate": "Nombre del Concierto=Gipsy Kings Featuring Nicolas Reyes And Tonino Baliardo<br>Precio Real=%{x}<br>Precio Predicho=%{y}<extra></extra>",
         "legendgroup": "Gipsy Kings Featuring Nicolas Reyes And Tonino Baliardo",
         "marker": {
          "color": "#00cc96",
          "symbol": "circle"
         },
         "mode": "markers",
         "name": "Gipsy Kings Featuring Nicolas Reyes And Tonino Baliardo",
         "orientation": "v",
         "showlegend": true,
         "type": "scatter",
         "x": [
          30
         ],
         "xaxis": "x",
         "y": [
          25.185692966413765
         ],
         "yaxis": "y"
        },
        {
         "hovertemplate": "Nombre del Concierto=Gonzalo Alhambra<br>Precio Real=%{x}<br>Precio Predicho=%{y}<extra></extra>",
         "legendgroup": "Gonzalo Alhambra",
         "marker": {
          "color": "#ab63fa",
          "symbol": "circle"
         },
         "mode": "markers",
         "name": "Gonzalo Alhambra",
         "orientation": "v",
         "showlegend": true,
         "type": "scatter",
         "x": [
          12
         ],
         "xaxis": "x",
         "y": [
          17.943580190083175
         ],
         "yaxis": "y"
        },
        {
         "hovertemplate": "Nombre del Concierto=Gordo<br>Precio Real=%{x}<br>Precio Predicho=%{y}<extra></extra>",
         "legendgroup": "Gordo",
         "marker": {
          "color": "#FFA15A",
          "symbol": "circle"
         },
         "mode": "markers",
         "name": "Gordo",
         "orientation": "v",
         "showlegend": true,
         "type": "scatter",
         "x": [
          25
         ],
         "xaxis": "x",
         "y": [
          31.830003568753764
         ],
         "yaxis": "y"
        },
        {
         "hovertemplate": "Nombre del Concierto=Ha*Ash<br>Precio Real=%{x}<br>Precio Predicho=%{y}<extra></extra>",
         "legendgroup": "Ha*Ash",
         "marker": {
          "color": "#19d3f3",
          "symbol": "circle"
         },
         "mode": "markers",
         "name": "Ha*Ash",
         "orientation": "v",
         "showlegend": true,
         "type": "scatter",
         "x": [
          35,
          35,
          35,
          35,
          40,
          40
         ],
         "xaxis": "x",
         "y": [
          30.868337728839776,
          33.74881128949742,
          31.550794678800777,
          50.856115619644534,
          41.05325863919435,
          37.08554511004085
         ],
         "yaxis": "y"
        },
        {
         "hovertemplate": "Nombre del Concierto=Hauser<br>Precio Real=%{x}<br>Precio Predicho=%{y}<extra></extra>",
         "legendgroup": "Hauser",
         "marker": {
          "color": "#FF6692",
          "symbol": "circle"
         },
         "mode": "markers",
         "name": "Hauser",
         "orientation": "v",
         "showlegend": true,
         "type": "scatter",
         "x": [
          35.71,
          35.71
         ],
         "xaxis": "x",
         "y": [
          34.69317894680976,
          35.097418307429315
         ],
         "yaxis": "y"
        },
        {
         "hovertemplate": "Nombre del Concierto=Hens<br>Precio Real=%{x}<br>Precio Predicho=%{y}<extra></extra>",
         "legendgroup": "Hens",
         "marker": {
          "color": "#B6E880",
          "symbol": "circle"
         },
         "mode": "markers",
         "name": "Hens",
         "orientation": "v",
         "showlegend": true,
         "type": "scatter",
         "x": [
          30
         ],
         "xaxis": "x",
         "y": [
          33.426973086601855
         ],
         "yaxis": "y"
        },
        {
         "hovertemplate": "Nombre del Concierto=Hermanos Gutiérrez<br>Precio Real=%{x}<br>Precio Predicho=%{y}<extra></extra>",
         "legendgroup": "Hermanos Gutiérrez",
         "marker": {
          "color": "#FF97FF",
          "symbol": "circle"
         },
         "mode": "markers",
         "name": "Hermanos Gutiérrez",
         "orientation": "v",
         "showlegend": true,
         "type": "scatter",
         "x": [
          40
         ],
         "xaxis": "x",
         "y": [
          38.27235192874013
         ],
         "yaxis": "y"
        },
        {
         "hovertemplate": "Nombre del Concierto=Hivernacle Pop Up Club#5 SEASON CLOSING: PAWSA, Toman & Foie Grass<br>Precio Real=%{x}<br>Precio Predicho=%{y}<extra></extra>",
         "legendgroup": "Hivernacle Pop Up Club#5 SEASON CLOSING: PAWSA, Toman & Foie Grass",
         "marker": {
          "color": "#FECB52",
          "symbol": "circle"
         },
         "mode": "markers",
         "name": "Hivernacle Pop Up Club#5 SEASON CLOSING: PAWSA, Toman & Foie Grass",
         "orientation": "v",
         "showlegend": true,
         "type": "scatter",
         "x": [
          23,
          23
         ],
         "xaxis": "x",
         "y": [
          29.341851158370076,
          30.982725811182156
         ],
         "yaxis": "y"
        },
        {
         "hovertemplate": "Nombre del Concierto=Hombres G<br>Precio Real=%{x}<br>Precio Predicho=%{y}<extra></extra>",
         "legendgroup": "Hombres G",
         "marker": {
          "color": "#636efa",
          "symbol": "circle"
         },
         "mode": "markers",
         "name": "Hombres G",
         "orientation": "v",
         "showlegend": true,
         "type": "scatter",
         "x": [
          39.29,
          39.29
         ],
         "xaxis": "x",
         "y": [
          40.818104357062474,
          40.1774227142767
         ],
         "yaxis": "y"
        },
        {
         "hovertemplate": "Nombre del Concierto=Hozier<br>Precio Real=%{x}<br>Precio Predicho=%{y}<extra></extra>",
         "legendgroup": "Hozier",
         "marker": {
          "color": "#EF553B",
          "symbol": "circle"
         },
         "mode": "markers",
         "name": "Hozier",
         "orientation": "v",
         "showlegend": true,
         "type": "scatter",
         "x": [
          55
         ],
         "xaxis": "x",
         "y": [
          53.16452496258832
         ],
         "yaxis": "y"
        },
        {
         "hovertemplate": "Nombre del Concierto=I Love by Dj Nano<br>Precio Real=%{x}<br>Precio Predicho=%{y}<extra></extra>",
         "legendgroup": "I Love by Dj Nano",
         "marker": {
          "color": "#00cc96",
          "symbol": "circle"
         },
         "mode": "markers",
         "name": "I Love by Dj Nano",
         "orientation": "v",
         "showlegend": true,
         "type": "scatter",
         "x": [
          30
         ],
         "xaxis": "x",
         "y": [
          19.768429824544544
         ],
         "yaxis": "y"
        },
        {
         "hovertemplate": "Nombre del Concierto=IAMDDB<br>Precio Real=%{x}<br>Precio Predicho=%{y}<extra></extra>",
         "legendgroup": "IAMDDB",
         "marker": {
          "color": "#ab63fa",
          "symbol": "circle"
         },
         "mode": "markers",
         "name": "IAMDDB",
         "orientation": "v",
         "showlegend": true,
         "type": "scatter",
         "x": [
          26
         ],
         "xaxis": "x",
         "y": [
          24.632785385914726
         ],
         "yaxis": "y"
        },
        {
         "hovertemplate": "Nombre del Concierto=ITZY 2ND WORLD TOUR ‘BORN TO BE’<br>Precio Real=%{x}<br>Precio Predicho=%{y}<extra></extra>",
         "legendgroup": "ITZY 2ND WORLD TOUR ‘BORN TO BE’",
         "marker": {
          "color": "#FFA15A",
          "symbol": "circle"
         },
         "mode": "markers",
         "name": "ITZY 2ND WORLD TOUR ‘BORN TO BE’",
         "orientation": "v",
         "showlegend": true,
         "type": "scatter",
         "x": [
          65
         ],
         "xaxis": "x",
         "y": [
          53.35565462121709
         ],
         "yaxis": "y"
        },
        {
         "hovertemplate": "Nombre del Concierto=IVE - THE 1ST WORLD TOUR 'SHOW WHAT I HAVE’<br>Precio Real=%{x}<br>Precio Predicho=%{y}<extra></extra>",
         "legendgroup": "IVE - THE 1ST WORLD TOUR 'SHOW WHAT I HAVE’",
         "marker": {
          "color": "#19d3f3",
          "symbol": "circle"
         },
         "mode": "markers",
         "name": "IVE - THE 1ST WORLD TOUR 'SHOW WHAT I HAVE’",
         "orientation": "v",
         "showlegend": true,
         "type": "scatter",
         "x": [
          60
         ],
         "xaxis": "x",
         "y": [
          37.30086320024211
         ],
         "yaxis": "y"
        },
        {
         "hovertemplate": "Nombre del Concierto=Isaac Delusion<br>Precio Real=%{x}<br>Precio Predicho=%{y}<extra></extra>",
         "legendgroup": "Isaac Delusion",
         "marker": {
          "color": "#FF6692",
          "symbol": "circle"
         },
         "mode": "markers",
         "name": "Isaac Delusion",
         "orientation": "v",
         "showlegend": true,
         "type": "scatter",
         "x": [
          18,
          18,
          23
         ],
         "xaxis": "x",
         "y": [
          26.667910849522805,
          20.130610353814852,
          26.85215586454001
         ],
         "yaxis": "y"
        },
        {
         "hovertemplate": "Nombre del Concierto=Izaro<br>Precio Real=%{x}<br>Precio Predicho=%{y}<extra></extra>",
         "legendgroup": "Izaro",
         "marker": {
          "color": "#B6E880",
          "symbol": "circle"
         },
         "mode": "markers",
         "name": "Izaro",
         "orientation": "v",
         "showlegend": true,
         "type": "scatter",
         "x": [
          16
         ],
         "xaxis": "x",
         "y": [
          16.507887338493525
         ],
         "yaxis": "y"
        },
        {
         "hovertemplate": "Nombre del Concierto=JP Saxe - A Grey Area Tour<br>Precio Real=%{x}<br>Precio Predicho=%{y}<extra></extra>",
         "legendgroup": "JP Saxe - A Grey Area Tour",
         "marker": {
          "color": "#FF97FF",
          "symbol": "circle"
         },
         "mode": "markers",
         "name": "JP Saxe - A Grey Area Tour",
         "orientation": "v",
         "showlegend": true,
         "type": "scatter",
         "x": [
          22,
          22
         ],
         "xaxis": "x",
         "y": [
          29.6912613695609,
          28.643337989059102
         ],
         "yaxis": "y"
        },
        {
         "hovertemplate": "Nombre del Concierto=JP Saxe | “When You Think of Me” Soundcheck Experience<br>Precio Real=%{x}<br>Precio Predicho=%{y}<extra></extra>",
         "legendgroup": "JP Saxe | “When You Think of Me” Soundcheck Experience",
         "marker": {
          "color": "#FECB52",
          "symbol": "circle"
         },
         "mode": "markers",
         "name": "JP Saxe | “When You Think of Me” Soundcheck Experience",
         "orientation": "v",
         "showlegend": true,
         "type": "scatter",
         "x": [
          72,
          72
         ],
         "xaxis": "x",
         "y": [
          29.100442646095814,
          30.213974182491526
         ],
         "yaxis": "y"
        },
        {
         "hovertemplate": "Nombre del Concierto=Jacob Collier // DJESSE UK & EUROPE TOUR<br>Precio Real=%{x}<br>Precio Predicho=%{y}<extra></extra>",
         "legendgroup": "Jacob Collier // DJESSE UK & EUROPE TOUR",
         "marker": {
          "color": "#636efa",
          "symbol": "circle"
         },
         "mode": "markers",
         "name": "Jacob Collier // DJESSE UK & EUROPE TOUR",
         "orientation": "v",
         "showlegend": true,
         "type": "scatter",
         "x": [
          40,
          40
         ],
         "xaxis": "x",
         "y": [
          42.7821972813281,
          38.52513614727132
         ],
         "yaxis": "y"
        },
        {
         "hovertemplate": "Nombre del Concierto=Jamie Cullum<br>Precio Real=%{x}<br>Precio Predicho=%{y}<extra></extra>",
         "legendgroup": "Jamie Cullum",
         "marker": {
          "color": "#EF553B",
          "symbol": "circle"
         },
         "mode": "markers",
         "name": "Jamie Cullum",
         "orientation": "v",
         "showlegend": true,
         "type": "scatter",
         "x": [
          30.01,
          30.01
         ],
         "xaxis": "x",
         "y": [
          29.532598406498536,
          30.147121929442388
         ],
         "yaxis": "y"
        },
        {
         "hovertemplate": "Nombre del Concierto=Joan Dausà<br>Precio Real=%{x}<br>Precio Predicho=%{y}<extra></extra>",
         "legendgroup": "Joan Dausà",
         "marker": {
          "color": "#00cc96",
          "symbol": "circle"
         },
         "mode": "markers",
         "name": "Joan Dausà",
         "orientation": "v",
         "showlegend": true,
         "type": "scatter",
         "x": [
          32
         ],
         "xaxis": "x",
         "y": [
          34.01360053417337
         ],
         "yaxis": "y"
        },
        {
         "hovertemplate": "Nombre del Concierto=Jolie Holland<br>Precio Real=%{x}<br>Precio Predicho=%{y}<extra></extra>",
         "legendgroup": "Jolie Holland",
         "marker": {
          "color": "#ab63fa",
          "symbol": "circle"
         },
         "mode": "markers",
         "name": "Jolie Holland",
         "orientation": "v",
         "showlegend": true,
         "type": "scatter",
         "x": [
          18,
          18
         ],
         "xaxis": "x",
         "y": [
          18.48983392296843,
          19.06459261513002
         ],
         "yaxis": "y"
        },
        {
         "hovertemplate": "Nombre del Concierto=Jonas Brothers: FIVE ALBUMS. ONE NIGHT<br>Precio Real=%{x}<br>Precio Predicho=%{y}<extra></extra>",
         "legendgroup": "Jonas Brothers: FIVE ALBUMS. ONE NIGHT",
         "marker": {
          "color": "#FFA15A",
          "symbol": "circle"
         },
         "mode": "markers",
         "name": "Jonas Brothers: FIVE ALBUMS. ONE NIGHT",
         "orientation": "v",
         "showlegend": true,
         "type": "scatter",
         "x": [
          65
         ],
         "xaxis": "x",
         "y": [
          41.281732924542126
         ],
         "yaxis": "y"
        },
        {
         "hovertemplate": "Nombre del Concierto=Jorge Celedón<br>Precio Real=%{x}<br>Precio Predicho=%{y}<extra></extra>",
         "legendgroup": "Jorge Celedón",
         "marker": {
          "color": "#19d3f3",
          "symbol": "circle"
         },
         "mode": "markers",
         "name": "Jorge Celedón",
         "orientation": "v",
         "showlegend": true,
         "type": "scatter",
         "x": [
          35,
          35,
          35,
          45,
          55
         ],
         "xaxis": "x",
         "y": [
          51.89351396510893,
          50.0364208119699,
          40.12171456211953,
          39.904314398613415,
          36.02325857661178
         ],
         "yaxis": "y"
        },
        {
         "hovertemplate": "Nombre del Concierto=Juancho Marqués<br>Precio Real=%{x}<br>Precio Predicho=%{y}<extra></extra>",
         "legendgroup": "Juancho Marqués",
         "marker": {
          "color": "#FF6692",
          "symbol": "circle"
         },
         "mode": "markers",
         "name": "Juancho Marqués",
         "orientation": "v",
         "showlegend": true,
         "type": "scatter",
         "x": [
          25,
          25,
          25,
          25
         ],
         "xaxis": "x",
         "y": [
          22.881209165569874,
          32.24107797850943,
          33.331787531876415,
          26.98784631562986
         ],
         "yaxis": "y"
        },
        {
         "hovertemplate": "Nombre del Concierto=Juanjo Montserrat y Mansfel<br>Precio Real=%{x}<br>Precio Predicho=%{y}<extra></extra>",
         "legendgroup": "Juanjo Montserrat y Mansfel",
         "marker": {
          "color": "#B6E880",
          "symbol": "circle"
         },
         "mode": "markers",
         "name": "Juanjo Montserrat y Mansfel",
         "orientation": "v",
         "showlegend": true,
         "type": "scatter",
         "x": [
          9
         ],
         "xaxis": "x",
         "y": [
          24.074703891468182
         ],
         "yaxis": "y"
        },
        {
         "hovertemplate": "Nombre del Concierto=Kadec Santa Anna - 24 Tour<br>Precio Real=%{x}<br>Precio Predicho=%{y}<extra></extra>",
         "legendgroup": "Kadec Santa Anna - 24 Tour",
         "marker": {
          "color": "#FF97FF",
          "symbol": "circle"
         },
         "mode": "markers",
         "name": "Kadec Santa Anna - 24 Tour",
         "orientation": "v",
         "showlegend": true,
         "type": "scatter",
         "x": [
          22,
          22,
          22,
          22,
          22,
          22,
          22,
          22,
          22,
          28
         ],
         "xaxis": "x",
         "y": [
          22.883181711624204,
          23.423660090807598,
          23.985757605158334,
          23.120992198464897,
          23.477707928725945,
          22.820630984070853,
          22.839943441289535,
          22.742657333036526,
          23.46689836114227,
          32.21492185006213
         ],
         "yaxis": "y"
        },
        {
         "hovertemplate": "Nombre del Concierto=Kaizers Orchestra<br>Precio Real=%{x}<br>Precio Predicho=%{y}<extra></extra>",
         "legendgroup": "Kaizers Orchestra",
         "marker": {
          "color": "#FECB52",
          "symbol": "circle"
         },
         "mode": "markers",
         "name": "Kaizers Orchestra",
         "orientation": "v",
         "showlegend": true,
         "type": "scatter",
         "x": [
          35
         ],
         "xaxis": "x",
         "y": [
          40.63834154098105
         ],
         "yaxis": "y"
        },
        {
         "hovertemplate": "Nombre del Concierto=Kamelot + Ad Infinitum + Blackbriar + Frozen Crown<br>Precio Real=%{x}<br>Precio Predicho=%{y}<extra></extra>",
         "legendgroup": "Kamelot + Ad Infinitum + Blackbriar + Frozen Crown",
         "marker": {
          "color": "#636efa",
          "symbol": "circle"
         },
         "mode": "markers",
         "name": "Kamelot + Ad Infinitum + Blackbriar + Frozen Crown",
         "orientation": "v",
         "showlegend": true,
         "type": "scatter",
         "x": [
          32,
          32
         ],
         "xaxis": "x",
         "y": [
          36.974317985833146,
          33.86350261356305
         ],
         "yaxis": "y"
        },
        {
         "hovertemplate": "Nombre del Concierto=Kany García<br>Precio Real=%{x}<br>Precio Predicho=%{y}<extra></extra>",
         "legendgroup": "Kany García",
         "marker": {
          "color": "#EF553B",
          "symbol": "circle"
         },
         "mode": "markers",
         "name": "Kany García",
         "orientation": "v",
         "showlegend": true,
         "type": "scatter",
         "x": [
          35,
          35,
          40
         ],
         "xaxis": "x",
         "y": [
          32.999308275439304,
          42.116390185408676,
          42.10514224256321
         ],
         "yaxis": "y"
        },
        {
         "hovertemplate": "Nombre del Concierto=Karol G - Mañana Será Bonito Tour<br>Precio Real=%{x}<br>Precio Predicho=%{y}<extra></extra>",
         "legendgroup": "Karol G - Mañana Será Bonito Tour",
         "marker": {
          "color": "#00cc96",
          "symbol": "circle"
         },
         "mode": "markers",
         "name": "Karol G - Mañana Será Bonito Tour",
         "orientation": "v",
         "showlegend": true,
         "type": "scatter",
         "x": [
          58,
          58
         ],
         "xaxis": "x",
         "y": [
          65.46972860628699,
          58.021237639273615
         ],
         "yaxis": "y"
        },
        {
         "hovertemplate": "Nombre del Concierto=Kazy Lambist<br>Precio Real=%{x}<br>Precio Predicho=%{y}<extra></extra>",
         "legendgroup": "Kazy Lambist",
         "marker": {
          "color": "#ab63fa",
          "symbol": "circle"
         },
         "mode": "markers",
         "name": "Kazy Lambist",
         "orientation": "v",
         "showlegend": true,
         "type": "scatter",
         "x": [
          22,
          22
         ],
         "xaxis": "x",
         "y": [
          22.777034508425217,
          22.75537666618898
         ],
         "yaxis": "y"
        },
        {
         "hovertemplate": "Nombre del Concierto=Keane<br>Precio Real=%{x}<br>Precio Predicho=%{y}<extra></extra>",
         "legendgroup": "Keane",
         "marker": {
          "color": "#FFA15A",
          "symbol": "circle"
         },
         "mode": "markers",
         "name": "Keane",
         "orientation": "v",
         "showlegend": true,
         "type": "scatter",
         "x": [
          32.14,
          32.14
         ],
         "xaxis": "x",
         "y": [
          40.44686880097358,
          40.469740384391514
         ],
         "yaxis": "y"
        },
        {
         "hovertemplate": "Nombre del Concierto=Kontravoid<br>Precio Real=%{x}<br>Precio Predicho=%{y}<extra></extra>",
         "legendgroup": "Kontravoid",
         "marker": {
          "color": "#19d3f3",
          "symbol": "circle"
         },
         "mode": "markers",
         "name": "Kontravoid",
         "orientation": "v",
         "showlegend": true,
         "type": "scatter",
         "x": [
          20,
          20
         ],
         "xaxis": "x",
         "y": [
          25.82364477750837,
          31.602662219273547
         ],
         "yaxis": "y"
        },
        {
         "hovertemplate": "Nombre del Concierto=LANGUI<br>Precio Real=%{x}<br>Precio Predicho=%{y}<extra></extra>",
         "legendgroup": "LANGUI",
         "marker": {
          "color": "#FF6692",
          "symbol": "circle"
         },
         "mode": "markers",
         "name": "LANGUI",
         "orientation": "v",
         "showlegend": true,
         "type": "scatter",
         "x": [
          18,
          18
         ],
         "xaxis": "x",
         "y": [
          20.342967117360878,
          15.90947433684495
         ],
         "yaxis": "y"
        },
        {
         "hovertemplate": "Nombre del Concierto=La Bien Querida<br>Precio Real=%{x}<br>Precio Predicho=%{y}<extra></extra>",
         "legendgroup": "La Bien Querida",
         "marker": {
          "color": "#B6E880",
          "symbol": "circle"
         },
         "mode": "markers",
         "name": "La Bien Querida",
         "orientation": "v",
         "showlegend": true,
         "type": "scatter",
         "x": [
          25
         ],
         "xaxis": "x",
         "y": [
          31.074712245622713
         ],
         "yaxis": "y"
        },
        {
         "hovertemplate": "Nombre del Concierto=La Música de Hans Zimmer y Otros<br>Precio Real=%{x}<br>Precio Predicho=%{y}<extra></extra>",
         "legendgroup": "La Música de Hans Zimmer y Otros",
         "marker": {
          "color": "#FF97FF",
          "symbol": "circle"
         },
         "mode": "markers",
         "name": "La Música de Hans Zimmer y Otros",
         "orientation": "v",
         "showlegend": true,
         "type": "scatter",
         "x": [
          36.6
         ],
         "xaxis": "x",
         "y": [
          38.883116382267325
         ],
         "yaxis": "y"
        },
        {
         "hovertemplate": "Nombre del Concierto=La Oreja de Van Gogh<br>Precio Real=%{x}<br>Precio Predicho=%{y}<extra></extra>",
         "legendgroup": "La Oreja de Van Gogh",
         "marker": {
          "color": "#FECB52",
          "symbol": "circle"
         },
         "mode": "markers",
         "name": "La Oreja de Van Gogh",
         "orientation": "v",
         "showlegend": true,
         "type": "scatter",
         "x": [
          30.01,
          30.01
         ],
         "xaxis": "x",
         "y": [
          46.82032384600764,
          46.17039522783292
         ],
         "yaxis": "y"
        },
        {
         "hovertemplate": "Nombre del Concierto=La Plazuela<br>Precio Real=%{x}<br>Precio Predicho=%{y}<extra></extra>",
         "legendgroup": "La Plazuela",
         "marker": {
          "color": "#636efa",
          "symbol": "circle"
         },
         "mode": "markers",
         "name": "La Plazuela",
         "orientation": "v",
         "showlegend": true,
         "type": "scatter",
         "x": [
          25
         ],
         "xaxis": "x",
         "y": [
          26.70774635749789
         ],
         "yaxis": "y"
        },
        {
         "hovertemplate": "Nombre del Concierto=La Sonrisa de Julia<br>Precio Real=%{x}<br>Precio Predicho=%{y}<extra></extra>",
         "legendgroup": "La Sonrisa de Julia",
         "marker": {
          "color": "#EF553B",
          "symbol": "circle"
         },
         "mode": "markers",
         "name": "La Sonrisa de Julia",
         "orientation": "v",
         "showlegend": true,
         "type": "scatter",
         "x": [
          22,
          22,
          22,
          22,
          22,
          22
         ],
         "xaxis": "x",
         "y": [
          23.276176102373896,
          23.59099641318086,
          23.449870066957047,
          23.297887847946782,
          25.045046420217865,
          25.483734171324436
         ],
         "yaxis": "y"
        },
        {
         "hovertemplate": "Nombre del Concierto=Las Novias + La Broma Negra<br>Precio Real=%{x}<br>Precio Predicho=%{y}<extra></extra>",
         "legendgroup": "Las Novias + La Broma Negra",
         "marker": {
          "color": "#00cc96",
          "symbol": "circle"
         },
         "mode": "markers",
         "name": "Las Novias + La Broma Negra",
         "orientation": "v",
         "showlegend": true,
         "type": "scatter",
         "x": [
          22,
          22
         ],
         "xaxis": "x",
         "y": [
          28.605052851342954,
          23.864091421200094
         ],
         "yaxis": "y"
        },
        {
         "hovertemplate": "Nombre del Concierto=Lil Yachty : The Field Trip Tour<br>Precio Real=%{x}<br>Precio Predicho=%{y}<extra></extra>",
         "legendgroup": "Lil Yachty : The Field Trip Tour",
         "marker": {
          "color": "#ab63fa",
          "symbol": "circle"
         },
         "mode": "markers",
         "name": "Lil Yachty : The Field Trip Tour",
         "orientation": "v",
         "showlegend": true,
         "type": "scatter",
         "x": [
          30
         ],
         "xaxis": "x",
         "y": [
          46.53506016335514
         ],
         "yaxis": "y"
        },
        {
         "hovertemplate": "Nombre del Concierto=Lord Apex<br>Precio Real=%{x}<br>Precio Predicho=%{y}<extra></extra>",
         "legendgroup": "Lord Apex",
         "marker": {
          "color": "#FFA15A",
          "symbol": "circle"
         },
         "mode": "markers",
         "name": "Lord Apex",
         "orientation": "v",
         "showlegend": true,
         "type": "scatter",
         "x": [
          18,
          18
         ],
         "xaxis": "x",
         "y": [
          28.262982112756784,
          20.74654497393785
         ],
         "yaxis": "y"
        },
        {
         "hovertemplate": "Nombre del Concierto=Los Secretos<br>Precio Real=%{x}<br>Precio Predicho=%{y}<extra></extra>",
         "legendgroup": "Los Secretos",
         "marker": {
          "color": "#19d3f3",
          "symbol": "circle"
         },
         "mode": "markers",
         "name": "Los Secretos",
         "orientation": "v",
         "showlegend": true,
         "type": "scatter",
         "x": [
          30.01,
          30.01,
          40
         ],
         "xaxis": "x",
         "y": [
          37.266776959769864,
          37.27695816827434,
          34.55366566273437
         ],
         "yaxis": "y"
        },
        {
         "hovertemplate": "Nombre del Concierto=Luis Miguel<br>Precio Real=%{x}<br>Precio Predicho=%{y}<extra></extra>",
         "legendgroup": "Luis Miguel",
         "marker": {
          "color": "#FF6692",
          "symbol": "circle"
         },
         "mode": "markers",
         "name": "Luis Miguel",
         "orientation": "v",
         "showlegend": true,
         "type": "scatter",
         "x": [
          50,
          55,
          60,
          60,
          70,
          75,
          75,
          80,
          141.1,
          179.46
         ],
         "xaxis": "x",
         "y": [
          75.9373462672902,
          66.15941184165588,
          65.31968698517524,
          66.56984790346283,
          56.9954034275061,
          63.17984796108871,
          60.953151229521886,
          63.1252000184642,
          60.698602717997154,
          91.31564279319481
         ],
         "yaxis": "y"
        },
        {
         "hovertemplate": "Nombre del Concierto=MANÁ<br>Precio Real=%{x}<br>Precio Predicho=%{y}<extra></extra>",
         "legendgroup": "MANÁ",
         "marker": {
          "color": "#B6E880",
          "symbol": "circle"
         },
         "mode": "markers",
         "name": "MANÁ",
         "orientation": "v",
         "showlegend": true,
         "type": "scatter",
         "x": [
          60,
          60,
          70,
          75,
          75,
          75,
          75,
          75,
          85,
          85
         ],
         "xaxis": "x",
         "y": [
          68.49597074352259,
          66.76603440423976,
          61.91187207726065,
          65.730025239434,
          67.2486697844664,
          66.32830542988255,
          72.38175975871557,
          72.64664058757067,
          72.2334264945567,
          71.26926027752411
         ],
         "yaxis": "y"
        },
        {
         "hovertemplate": "Nombre del Concierto=MARCUS KING: MOOD SWINGS THE WORLD TOUR<br>Precio Real=%{x}<br>Precio Predicho=%{y}<extra></extra>",
         "legendgroup": "MARCUS KING: MOOD SWINGS THE WORLD TOUR",
         "marker": {
          "color": "#FF97FF",
          "symbol": "circle"
         },
         "mode": "markers",
         "name": "MARCUS KING: MOOD SWINGS THE WORLD TOUR",
         "orientation": "v",
         "showlegend": true,
         "type": "scatter",
         "x": [
          35,
          35
         ],
         "xaxis": "x",
         "y": [
          30.49475607951394,
          35.75154233033435
         ],
         "yaxis": "y"
        },
        {
         "hovertemplate": "Nombre del Concierto=Madison Beer<br>Precio Real=%{x}<br>Precio Predicho=%{y}<extra></extra>",
         "legendgroup": "Madison Beer",
         "marker": {
          "color": "#FECB52",
          "symbol": "circle"
         },
         "mode": "markers",
         "name": "Madison Beer",
         "orientation": "v",
         "showlegend": true,
         "type": "scatter",
         "x": [
          35
         ],
         "xaxis": "x",
         "y": [
          36.52123496101707
         ],
         "yaxis": "y"
        },
        {
         "hovertemplate": "Nombre del Concierto=Madison Beer - THE SPINNIN TOUR<br>Precio Real=%{x}<br>Precio Predicho=%{y}<extra></extra>",
         "legendgroup": "Madison Beer - THE SPINNIN TOUR",
         "marker": {
          "color": "#636efa",
          "symbol": "circle"
         },
         "mode": "markers",
         "name": "Madison Beer - THE SPINNIN TOUR",
         "orientation": "v",
         "showlegend": true,
         "type": "scatter",
         "x": [
          35
         ],
         "xaxis": "x",
         "y": [
          45.46349558862722
         ],
         "yaxis": "y"
        },
        {
         "hovertemplate": "Nombre del Concierto=Mago de Oz<br>Precio Real=%{x}<br>Precio Predicho=%{y}<extra></extra>",
         "legendgroup": "Mago de Oz",
         "marker": {
          "color": "#EF553B",
          "symbol": "circle"
         },
         "mode": "markers",
         "name": "Mago de Oz",
         "orientation": "v",
         "showlegend": true,
         "type": "scatter",
         "x": [
          30
         ],
         "xaxis": "x",
         "y": [
          44.78977660686363
         ],
         "yaxis": "y"
        },
        {
         "hovertemplate": "Nombre del Concierto=Maiden united (feat. Dennis Stratton)<br>Precio Real=%{x}<br>Precio Predicho=%{y}<extra></extra>",
         "legendgroup": "Maiden united (feat. Dennis Stratton)",
         "marker": {
          "color": "#00cc96",
          "symbol": "circle"
         },
         "mode": "markers",
         "name": "Maiden united (feat. Dennis Stratton)",
         "orientation": "v",
         "showlegend": true,
         "type": "scatter",
         "x": [
          22
         ],
         "xaxis": "x",
         "y": [
          20.050255961269983
         ],
         "yaxis": "y"
        },
        {
         "hovertemplate": "Nombre del Concierto=Manolo García<br>Precio Real=%{x}<br>Precio Predicho=%{y}<extra></extra>",
         "legendgroup": "Manolo García",
         "marker": {
          "color": "#ab63fa",
          "symbol": "circle"
         },
         "mode": "markers",
         "name": "Manolo García",
         "orientation": "v",
         "showlegend": true,
         "type": "scatter",
         "x": [
          40,
          40,
          44,
          47,
          47,
          47,
          47,
          47,
          47,
          47,
          47,
          47,
          47,
          47,
          47,
          47,
          47,
          50,
          60
         ],
         "xaxis": "x",
         "y": [
          45.82404467584627,
          49.40575247152321,
          31.95959662820859,
          33.64267165458258,
          41.956811415269975,
          42.108793634280254,
          41.40776628280572,
          36.9036151066947,
          39.24073938627471,
          42.11964950706669,
          42.75389450832519,
          41.15808120871741,
          43.93718464204796,
          42.97012478420999,
          41.71173072082624,
          43.67664369517321,
          37.262440282077655,
          38.577827468722596,
          38.1164500896277
         ],
         "yaxis": "y"
        },
        {
         "hovertemplate": "Nombre del Concierto=Manolo García - Gira Teatros<br>Precio Real=%{x}<br>Precio Predicho=%{y}<extra></extra>",
         "legendgroup": "Manolo García - Gira Teatros",
         "marker": {
          "color": "#FFA15A",
          "symbol": "circle"
         },
         "mode": "markers",
         "name": "Manolo García - Gira Teatros",
         "orientation": "v",
         "showlegend": true,
         "type": "scatter",
         "x": [
          50,
          55,
          55,
          65
         ],
         "xaxis": "x",
         "y": [
          36.663967289753096,
          36.30037388153581,
          36.18397273684441,
          34.052245232154405
         ],
         "yaxis": "y"
        },
        {
         "hovertemplate": "Nombre del Concierto=Marc Anthony<br>Precio Real=%{x}<br>Precio Predicho=%{y}<extra></extra>",
         "legendgroup": "Marc Anthony",
         "marker": {
          "color": "#19d3f3",
          "symbol": "circle"
         },
         "mode": "markers",
         "name": "Marc Anthony",
         "orientation": "v",
         "showlegend": true,
         "type": "scatter",
         "x": [
          59,
          59
         ],
         "xaxis": "x",
         "y": [
          56.43107270929354,
          57.20325549758679
         ],
         "yaxis": "y"
        },
        {
         "hovertemplate": "Nombre del Concierto=Marc Seguí - AAAAAA Tour<br>Precio Real=%{x}<br>Precio Predicho=%{y}<extra></extra>",
         "legendgroup": "Marc Seguí - AAAAAA Tour",
         "marker": {
          "color": "#FF6692",
          "symbol": "circle"
         },
         "mode": "markers",
         "name": "Marc Seguí - AAAAAA Tour",
         "orientation": "v",
         "showlegend": true,
         "type": "scatter",
         "x": [
          20,
          20,
          20,
          20,
          20,
          20
         ],
         "xaxis": "x",
         "y": [
          24.493060090952863,
          24.18487422801158,
          22.09319463401284,
          22.25227553312394,
          24.342754892529754,
          23.068890815227597
         ],
         "yaxis": "y"
        },
        {
         "hovertemplate": "Nombre del Concierto=Marlon<br>Precio Real=%{x}<br>Precio Predicho=%{y}<extra></extra>",
         "legendgroup": "Marlon",
         "marker": {
          "color": "#B6E880",
          "symbol": "circle"
         },
         "mode": "markers",
         "name": "Marlon",
         "orientation": "v",
         "showlegend": true,
         "type": "scatter",
         "x": [
          27,
          27,
          27,
          27
         ],
         "xaxis": "x",
         "y": [
          24.57472167876176,
          24.610212504767503,
          24.685056696763922,
          24.45628467101986
         ],
         "yaxis": "y"
        },
        {
         "hovertemplate": "Nombre del Concierto=María Peláe<br>Precio Real=%{x}<br>Precio Predicho=%{y}<extra></extra>",
         "legendgroup": "María Peláe",
         "marker": {
          "color": "#FF97FF",
          "symbol": "circle"
         },
         "mode": "markers",
         "name": "María Peláe",
         "orientation": "v",
         "showlegend": true,
         "type": "scatter",
         "x": [
          30
         ],
         "xaxis": "x",
         "y": [
          33.377809351022606
         ],
         "yaxis": "y"
        },
        {
         "hovertemplate": "Nombre del Concierto=Mega Silent Disco<br>Precio Real=%{x}<br>Precio Predicho=%{y}<extra></extra>",
         "legendgroup": "Mega Silent Disco",
         "marker": {
          "color": "#FECB52",
          "symbol": "circle"
         },
         "mode": "markers",
         "name": "Mega Silent Disco",
         "orientation": "v",
         "showlegend": true,
         "type": "scatter",
         "x": [
          20
         ],
         "xaxis": "x",
         "y": [
          19.121156720414405
         ],
         "yaxis": "y"
        },
        {
         "hovertemplate": "Nombre del Concierto=Miguel Mateos<br>Precio Real=%{x}<br>Precio Predicho=%{y}<extra></extra>",
         "legendgroup": "Miguel Mateos",
         "marker": {
          "color": "#636efa",
          "symbol": "circle"
         },
         "mode": "markers",
         "name": "Miguel Mateos",
         "orientation": "v",
         "showlegend": true,
         "type": "scatter",
         "x": [
          36.6,
          36.6,
          36.6,
          36.6,
          36.6,
          36.6
         ],
         "xaxis": "x",
         "y": [
          40.0298295893243,
          39.97519484839669,
          39.986121796582204,
          44.25422987012096,
          39.603678610088885,
          40.04075653750983
         ],
         "yaxis": "y"
        },
        {
         "hovertemplate": "Nombre del Concierto=Miguel Poveda \"Poema del Cante Jondo\"<br>Precio Real=%{x}<br>Precio Predicho=%{y}<extra></extra>",
         "legendgroup": "Miguel Poveda \"Poema del Cante Jondo\"",
         "marker": {
          "color": "#EF553B",
          "symbol": "circle"
         },
         "mode": "markers",
         "name": "Miguel Poveda \"Poema del Cante Jondo\"",
         "orientation": "v",
         "showlegend": true,
         "type": "scatter",
         "x": [
          25
         ],
         "xaxis": "x",
         "y": [
          22.79183182854226
         ],
         "yaxis": "y"
        },
        {
         "hovertemplate": "Nombre del Concierto=Miguel Poveda - Poema del Cante Jondo<br>Precio Real=%{x}<br>Precio Predicho=%{y}<extra></extra>",
         "legendgroup": "Miguel Poveda - Poema del Cante Jondo",
         "marker": {
          "color": "#00cc96",
          "symbol": "circle"
         },
         "mode": "markers",
         "name": "Miguel Poveda - Poema del Cante Jondo",
         "orientation": "v",
         "showlegend": true,
         "type": "scatter",
         "x": [
          30.01,
          30.01
         ],
         "xaxis": "x",
         "y": [
          31.053053902081977,
          31.04119116679565
         ],
         "yaxis": "y"
        },
        {
         "hovertemplate": "Nombre del Concierto=Miguel Ríos cumple 80 años. Granada All Stars<br>Precio Real=%{x}<br>Precio Predicho=%{y}<extra></extra>",
         "legendgroup": "Miguel Ríos cumple 80 años. Granada All Stars",
         "marker": {
          "color": "#ab63fa",
          "symbol": "circle"
         },
         "mode": "markers",
         "name": "Miguel Ríos cumple 80 años. Granada All Stars",
         "orientation": "v",
         "showlegend": true,
         "type": "scatter",
         "x": [
          35
         ],
         "xaxis": "x",
         "y": [
          51.15028336784838
         ],
         "yaxis": "y"
        },
        {
         "hovertemplate": "Nombre del Concierto=Mikel Erentxun<br>Precio Real=%{x}<br>Precio Predicho=%{y}<extra></extra>",
         "legendgroup": "Mikel Erentxun",
         "marker": {
          "color": "#FFA15A",
          "symbol": "circle"
         },
         "mode": "markers",
         "name": "Mikel Erentxun",
         "orientation": "v",
         "showlegend": true,
         "type": "scatter",
         "x": [
          27,
          27,
          27
         ],
         "xaxis": "x",
         "y": [
          26.561738236445255,
          26.970250579599316,
          26.929399345283905
         ],
         "yaxis": "y"
        },
        {
         "hovertemplate": "Nombre del Concierto=Milo J<br>Precio Real=%{x}<br>Precio Predicho=%{y}<extra></extra>",
         "legendgroup": "Milo J",
         "marker": {
          "color": "#19d3f3",
          "symbol": "circle"
         },
         "mode": "markers",
         "name": "Milo J",
         "orientation": "v",
         "showlegend": true,
         "type": "scatter",
         "x": [
          30,
          30,
          35,
          35,
          35,
          35
         ],
         "xaxis": "x",
         "y": [
          28.13421148561663,
          27.283177246000918,
          30.94466549412448,
          30.955458074994915,
          22.91975809656042,
          23.092711177899112
         ],
         "yaxis": "y"
        },
        {
         "hovertemplate": "Nombre del Concierto=Miriam Rodríguez<br>Precio Real=%{x}<br>Precio Predicho=%{y}<extra></extra>",
         "legendgroup": "Miriam Rodríguez",
         "marker": {
          "color": "#FF6692",
          "symbol": "circle"
         },
         "mode": "markers",
         "name": "Miriam Rodríguez",
         "orientation": "v",
         "showlegend": true,
         "type": "scatter",
         "x": [
          25,
          25,
          25,
          25,
          25,
          25,
          25,
          25,
          26.5,
          26.5
         ],
         "xaxis": "x",
         "y": [
          25.47104669176496,
          22.468950075773513,
          22.386825003057993,
          22.479215709862952,
          23.04063619953444,
          23.4406826563921,
          22.780428265786313,
          27.40464845253728,
          23.450940257849986,
          22.672405186365218
         ],
         "yaxis": "y"
        },
        {
         "hovertemplate": "Nombre del Concierto=Morat<br>Precio Real=%{x}<br>Precio Predicho=%{y}<extra></extra>",
         "legendgroup": "Morat",
         "marker": {
          "color": "#B6E880",
          "symbol": "circle"
         },
         "mode": "markers",
         "name": "Morat",
         "orientation": "v",
         "showlegend": true,
         "type": "scatter",
         "x": [
          36
         ],
         "xaxis": "x",
         "y": [
          44.3507386971811
         ],
         "yaxis": "y"
        },
        {
         "hovertemplate": "Nombre del Concierto=Mother Mother<br>Precio Real=%{x}<br>Precio Predicho=%{y}<extra></extra>",
         "legendgroup": "Mother Mother",
         "marker": {
          "color": "#FF97FF",
          "symbol": "circle"
         },
         "mode": "markers",
         "name": "Mother Mother",
         "orientation": "v",
         "showlegend": true,
         "type": "scatter",
         "x": [
          25,
          36,
          36,
          36
         ],
         "xaxis": "x",
         "y": [
          54.85857267572723,
          42.210666951863026,
          43.63556829562925,
          53.8269499642578
         ],
         "yaxis": "y"
        },
        {
         "hovertemplate": "Nombre del Concierto=Mudhoney<br>Precio Real=%{x}<br>Precio Predicho=%{y}<extra></extra>",
         "legendgroup": "Mudhoney",
         "marker": {
          "color": "#FECB52",
          "symbol": "circle"
         },
         "mode": "markers",
         "name": "Mudhoney",
         "orientation": "v",
         "showlegend": true,
         "type": "scatter",
         "x": [
          25,
          25
         ],
         "xaxis": "x",
         "y": [
          23.014343986281,
          23.034258645275983
         ],
         "yaxis": "y"
        },
        {
         "hovertemplate": "Nombre del Concierto=Myke Towers<br>Precio Real=%{x}<br>Precio Predicho=%{y}<extra></extra>",
         "legendgroup": "Myke Towers",
         "marker": {
          "color": "#636efa",
          "symbol": "circle"
         },
         "mode": "markers",
         "name": "Myke Towers",
         "orientation": "v",
         "showlegend": true,
         "type": "scatter",
         "x": [
          65.18,
          71.43
         ],
         "xaxis": "x",
         "y": [
          41.118887906684975,
          41.95657376913312
         ],
         "yaxis": "y"
        },
        {
         "hovertemplate": "Nombre del Concierto=Nada Surf<br>Precio Real=%{x}<br>Precio Predicho=%{y}<extra></extra>",
         "legendgroup": "Nada Surf",
         "marker": {
          "color": "#EF553B",
          "symbol": "circle"
         },
         "mode": "markers",
         "name": "Nada Surf",
         "orientation": "v",
         "showlegend": true,
         "type": "scatter",
         "x": [
          30
         ],
         "xaxis": "x",
         "y": [
          27.534697893399176
         ],
         "yaxis": "y"
        },
        {
         "hovertemplate": "Nombre del Concierto=Nathan Fake<br>Precio Real=%{x}<br>Precio Predicho=%{y}<extra></extra>",
         "legendgroup": "Nathan Fake",
         "marker": {
          "color": "#00cc96",
          "symbol": "circle"
         },
         "mode": "markers",
         "name": "Nathan Fake",
         "orientation": "v",
         "showlegend": true,
         "type": "scatter",
         "x": [
          20,
          20
         ],
         "xaxis": "x",
         "y": [
          18.849336000006183,
          18.611680959400278
         ],
         "yaxis": "y"
        },
        {
         "hovertemplate": "Nombre del Concierto=New Model Army<br>Precio Real=%{x}<br>Precio Predicho=%{y}<extra></extra>",
         "legendgroup": "New Model Army",
         "marker": {
          "color": "#ab63fa",
          "symbol": "circle"
         },
         "mode": "markers",
         "name": "New Model Army",
         "orientation": "v",
         "showlegend": true,
         "type": "scatter",
         "x": [
          26,
          26,
          26
         ],
         "xaxis": "x",
         "y": [
          21.03070075277222,
          21.319463308199545,
          21.269676660712072
         ],
         "yaxis": "y"
        },
        {
         "hovertemplate": "Nombre del Concierto=Niall Horan - The Show<br>Precio Real=%{x}<br>Precio Predicho=%{y}<extra></extra>",
         "legendgroup": "Niall Horan - The Show",
         "marker": {
          "color": "#FFA15A",
          "symbol": "circle"
         },
         "mode": "markers",
         "name": "Niall Horan - The Show",
         "orientation": "v",
         "showlegend": true,
         "type": "scatter",
         "x": [
          40
         ],
         "xaxis": "x",
         "y": [
          49.705965382288646
         ],
         "yaxis": "y"
        },
        {
         "hovertemplate": "Nombre del Concierto=Nicki Nicole<br>Precio Real=%{x}<br>Precio Predicho=%{y}<extra></extra>",
         "legendgroup": "Nicki Nicole",
         "marker": {
          "color": "#19d3f3",
          "symbol": "circle"
         },
         "mode": "markers",
         "name": "Nicki Nicole",
         "orientation": "v",
         "showlegend": true,
         "type": "scatter",
         "x": [
          30,
          30
         ],
         "xaxis": "x",
         "y": [
          27.316606430908976,
          32.29169263881336
         ],
         "yaxis": "y"
        },
        {
         "hovertemplate": "Nombre del Concierto=NieR:Orchestra Concert<br>Precio Real=%{x}<br>Precio Predicho=%{y}<extra></extra>",
         "legendgroup": "NieR:Orchestra Concert",
         "marker": {
          "color": "#FF6692",
          "symbol": "circle"
         },
         "mode": "markers",
         "name": "NieR:Orchestra Concert",
         "orientation": "v",
         "showlegend": true,
         "type": "scatter",
         "x": [
          52
         ],
         "xaxis": "x",
         "y": [
          18.671121846463823
         ],
         "yaxis": "y"
        },
        {
         "hovertemplate": "Nombre del Concierto=Nil Moliner<br>Precio Real=%{x}<br>Precio Predicho=%{y}<extra></extra>",
         "legendgroup": "Nil Moliner",
         "marker": {
          "color": "#B6E880",
          "symbol": "circle"
         },
         "mode": "markers",
         "name": "Nil Moliner",
         "orientation": "v",
         "showlegend": true,
         "type": "scatter",
         "x": [
          28,
          30,
          30,
          30,
          30,
          30,
          30,
          30,
          30,
          30
         ],
         "xaxis": "x",
         "y": [
          39.5304443492358,
          40.495184084264075,
          31.157612261013774,
          31.091769398656186,
          31.080795588263257,
          30.861319380404595,
          30.850345570011662,
          30.784502707654063,
          29.732011279643565,
          31.080795588263257
         ],
         "yaxis": "y"
        },
        {
         "hovertemplate": "Nombre del Concierto=Nil Moliner - Early Entry<br>Precio Real=%{x}<br>Precio Predicho=%{y}<extra></extra>",
         "legendgroup": "Nil Moliner - Early Entry",
         "marker": {
          "color": "#FF97FF",
          "symbol": "circle"
         },
         "mode": "markers",
         "name": "Nil Moliner - Early Entry",
         "orientation": "v",
         "showlegend": true,
         "type": "scatter",
         "x": [
          45
         ],
         "xaxis": "x",
         "y": [
          41.83115374332484
         ],
         "yaxis": "y"
        },
        {
         "hovertemplate": "Nombre del Concierto=Niños Mutantes<br>Precio Real=%{x}<br>Precio Predicho=%{y}<extra></extra>",
         "legendgroup": "Niños Mutantes",
         "marker": {
          "color": "#FECB52",
          "symbol": "circle"
         },
         "mode": "markers",
         "name": "Niños Mutantes",
         "orientation": "v",
         "showlegend": true,
         "type": "scatter",
         "x": [
          25
         ],
         "xaxis": "x",
         "y": [
          17.988833549640816
         ],
         "yaxis": "y"
        },
        {
         "hovertemplate": "Nombre del Concierto=Niños del Brasil + Serch. + Alqa<br>Precio Real=%{x}<br>Precio Predicho=%{y}<extra></extra>",
         "legendgroup": "Niños del Brasil + Serch. + Alqa",
         "marker": {
          "color": "#636efa",
          "symbol": "circle"
         },
         "mode": "markers",
         "name": "Niños del Brasil + Serch. + Alqa",
         "orientation": "v",
         "showlegend": true,
         "type": "scatter",
         "x": [
          22
         ],
         "xaxis": "x",
         "y": [
          15.749519376491806
         ],
         "yaxis": "y"
        },
        {
         "hovertemplate": "Nombre del Concierto=Nothing But Thieves<br>Precio Real=%{x}<br>Precio Predicho=%{y}<extra></extra>",
         "legendgroup": "Nothing But Thieves",
         "marker": {
          "color": "#EF553B",
          "symbol": "circle"
         },
         "mode": "markers",
         "name": "Nothing But Thieves",
         "orientation": "v",
         "showlegend": true,
         "type": "scatter",
         "x": [
          30,
          30
         ],
         "xaxis": "x",
         "y": [
          39.079212387896966,
          80.25692271105142
         ],
         "yaxis": "y"
        },
        {
         "hovertemplate": "Nombre del Concierto=Olivia Rodrigo - GUTS world tour<br>Precio Real=%{x}<br>Precio Predicho=%{y}<extra></extra>",
         "legendgroup": "Olivia Rodrigo - GUTS world tour",
         "marker": {
          "color": "#00cc96",
          "symbol": "circle"
         },
         "mode": "markers",
         "name": "Olivia Rodrigo - GUTS world tour",
         "orientation": "v",
         "showlegend": true,
         "type": "scatter",
         "x": [
          60,
          60
         ],
         "xaxis": "x",
         "y": [
          33.55180571025251,
          28.76598321512406
         ],
         "yaxis": "y"
        },
        {
         "hovertemplate": "Nombre del Concierto=Orphaned Land<br>Precio Real=%{x}<br>Precio Predicho=%{y}<extra></extra>",
         "legendgroup": "Orphaned Land",
         "marker": {
          "color": "#ab63fa",
          "symbol": "circle"
         },
         "mode": "markers",
         "name": "Orphaned Land",
         "orientation": "v",
         "showlegend": true,
         "type": "scatter",
         "x": [
          27
         ],
         "xaxis": "x",
         "y": [
          28.854586403748
         ],
         "yaxis": "y"
        },
        {
         "hovertemplate": "Nombre del Concierto=Parra for Cuva<br>Precio Real=%{x}<br>Precio Predicho=%{y}<extra></extra>",
         "legendgroup": "Parra for Cuva",
         "marker": {
          "color": "#FFA15A",
          "symbol": "circle"
         },
         "mode": "markers",
         "name": "Parra for Cuva",
         "orientation": "v",
         "showlegend": true,
         "type": "scatter",
         "x": [
          25,
          25
         ],
         "xaxis": "x",
         "y": [
          21.3532600666029,
          20.485964064058006
         ],
         "yaxis": "y"
        },
        {
         "hovertemplate": "Nombre del Concierto=Patriarchy<br>Precio Real=%{x}<br>Precio Predicho=%{y}<extra></extra>",
         "legendgroup": "Patriarchy",
         "marker": {
          "color": "#19d3f3",
          "symbol": "circle"
         },
         "mode": "markers",
         "name": "Patriarchy",
         "orientation": "v",
         "showlegend": true,
         "type": "scatter",
         "x": [
          19,
          19
         ],
         "xaxis": "x",
         "y": [
          11.993658242141484,
          21.479393549736695
         ],
         "yaxis": "y"
        },
        {
         "hovertemplate": "Nombre del Concierto=Paul Alone<br>Precio Real=%{x}<br>Precio Predicho=%{y}<extra></extra>",
         "legendgroup": "Paul Alone",
         "marker": {
          "color": "#FF6692",
          "symbol": "circle"
         },
         "mode": "markers",
         "name": "Paul Alone",
         "orientation": "v",
         "showlegend": true,
         "type": "scatter",
         "x": [
          12
         ],
         "xaxis": "x",
         "y": [
          15.74313262458728
         ],
         "yaxis": "y"
        },
        {
         "hovertemplate": "Nombre del Concierto=Paula Mattheus<br>Precio Real=%{x}<br>Precio Predicho=%{y}<extra></extra>",
         "legendgroup": "Paula Mattheus",
         "marker": {
          "color": "#B6E880",
          "symbol": "circle"
         },
         "mode": "markers",
         "name": "Paula Mattheus",
         "orientation": "v",
         "showlegend": true,
         "type": "scatter",
         "x": [
          26.5
         ],
         "xaxis": "x",
         "y": [
          27.009594685124803
         ],
         "yaxis": "y"
        },
        {
         "hovertemplate": "Nombre del Concierto=Paula Mattheus y Marlon<br>Precio Real=%{x}<br>Precio Predicho=%{y}<extra></extra>",
         "legendgroup": "Paula Mattheus y Marlon",
         "marker": {
          "color": "#FF97FF",
          "symbol": "circle"
         },
         "mode": "markers",
         "name": "Paula Mattheus y Marlon",
         "orientation": "v",
         "showlegend": true,
         "type": "scatter",
         "x": [
          30
         ],
         "xaxis": "x",
         "y": [
          17.632772342407772
         ],
         "yaxis": "y"
        },
        {
         "hovertemplate": "Nombre del Concierto=Pearl Jam - Dark Matter World Tour 2024<br>Precio Real=%{x}<br>Precio Predicho=%{y}<extra></extra>",
         "legendgroup": "Pearl Jam - Dark Matter World Tour 2024",
         "marker": {
          "color": "#FECB52",
          "symbol": "circle"
         },
         "mode": "markers",
         "name": "Pearl Jam - Dark Matter World Tour 2024",
         "orientation": "v",
         "showlegend": true,
         "type": "scatter",
         "x": [
          81,
          81,
          105
         ],
         "xaxis": "x",
         "y": [
          77.26525874485355,
          72.02759676388938,
          77.72381485001429
         ],
         "yaxis": "y"
        },
        {
         "hovertemplate": "Nombre del Concierto=Pink Turns Blue + Hørd<br>Precio Real=%{x}<br>Precio Predicho=%{y}<extra></extra>",
         "legendgroup": "Pink Turns Blue + Hørd",
         "marker": {
          "color": "#636efa",
          "symbol": "circle"
         },
         "mode": "markers",
         "name": "Pink Turns Blue + Hørd",
         "orientation": "v",
         "showlegend": true,
         "type": "scatter",
         "x": [
          22,
          22
         ],
         "xaxis": "x",
         "y": [
          16.892833352805127,
          18.22734629349003
         ],
         "yaxis": "y"
        },
        {
         "hovertemplate": "Nombre del Concierto=Pitingo / Soulería de ida y vuelta<br>Precio Real=%{x}<br>Precio Predicho=%{y}<extra></extra>",
         "legendgroup": "Pitingo / Soulería de ida y vuelta",
         "marker": {
          "color": "#EF553B",
          "symbol": "circle"
         },
         "mode": "markers",
         "name": "Pitingo / Soulería de ida y vuelta",
         "orientation": "v",
         "showlegend": true,
         "type": "scatter",
         "x": [
          25
         ],
         "xaxis": "x",
         "y": [
          26.343405403085583
         ],
         "yaxis": "y"
        },
        {
         "hovertemplate": "Nombre del Concierto=Pixies<br>Precio Real=%{x}<br>Precio Predicho=%{y}<extra></extra>",
         "legendgroup": "Pixies",
         "marker": {
          "color": "#00cc96",
          "symbol": "circle"
         },
         "mode": "markers",
         "name": "Pixies",
         "orientation": "v",
         "showlegend": true,
         "type": "scatter",
         "x": [
          50
         ],
         "xaxis": "x",
         "y": [
          41.21431066934747
         ],
         "yaxis": "y"
        },
        {
         "hovertemplate": "Nombre del Concierto=Pol Granch - Tour 2024<br>Precio Real=%{x}<br>Precio Predicho=%{y}<extra></extra>",
         "legendgroup": "Pol Granch - Tour 2024",
         "marker": {
          "color": "#ab63fa",
          "symbol": "circle"
         },
         "mode": "markers",
         "name": "Pol Granch - Tour 2024",
         "orientation": "v",
         "showlegend": true,
         "type": "scatter",
         "x": [
          20,
          20,
          20,
          20,
          20,
          20,
          20
         ],
         "xaxis": "x",
         "y": [
          23.939570228837447,
          23.928219152507687,
          24.00767668681599,
          23.838238633409873,
          23.66183798735879,
          23.650482641838668,
          32.844631268628895
         ],
         "yaxis": "y"
        },
        {
         "hovertemplate": "Nombre del Concierto=Premier - La gran quedada<br>Precio Real=%{x}<br>Precio Predicho=%{y}<extra></extra>",
         "legendgroup": "Premier - La gran quedada",
         "marker": {
          "color": "#FFA15A",
          "symbol": "circle"
         },
         "mode": "markers",
         "name": "Premier - La gran quedada",
         "orientation": "v",
         "showlegend": true,
         "type": "scatter",
         "x": [
          35
         ],
         "xaxis": "x",
         "y": [
          25.523605582600098
         ],
         "yaxis": "y"
        },
        {
         "hovertemplate": "Nombre del Concierto=Queens of the Stone Age<br>Precio Real=%{x}<br>Precio Predicho=%{y}<extra></extra>",
         "legendgroup": "Queens of the Stone Age",
         "marker": {
          "color": "#19d3f3",
          "symbol": "circle"
         },
         "mode": "markers",
         "name": "Queens of the Stone Age",
         "orientation": "v",
         "showlegend": true,
         "type": "scatter",
         "x": [
          50,
          55
         ],
         "xaxis": "x",
         "y": [
          44.64705526894944,
          41.48367739263774
         ],
         "yaxis": "y"
        },
        {
         "hovertemplate": "Nombre del Concierto=ROUSS<br>Precio Real=%{x}<br>Precio Predicho=%{y}<extra></extra>",
         "legendgroup": "ROUSS",
         "marker": {
          "color": "#FF6692",
          "symbol": "circle"
         },
         "mode": "markers",
         "name": "ROUSS",
         "orientation": "v",
         "showlegend": true,
         "type": "scatter",
         "x": [
          20
         ],
         "xaxis": "x",
         "y": [
          19.908405187068546
         ],
         "yaxis": "y"
        },
        {
         "hovertemplate": "Nombre del Concierto=Rawayana ¿Quién trae las cornetas? - Tour 2024<br>Precio Real=%{x}<br>Precio Predicho=%{y}<extra></extra>",
         "legendgroup": "Rawayana ¿Quién trae las cornetas? - Tour 2024",
         "marker": {
          "color": "#B6E880",
          "symbol": "circle"
         },
         "mode": "markers",
         "name": "Rawayana ¿Quién trae las cornetas? - Tour 2024",
         "orientation": "v",
         "showlegend": true,
         "type": "scatter",
         "x": [
          35,
          40,
          42
         ],
         "xaxis": "x",
         "y": [
          26.404842903869337,
          21.821445306987123,
          32.274927124112246
         ],
         "yaxis": "y"
        },
        {
         "hovertemplate": "Nombre del Concierto=Rojuu<br>Precio Real=%{x}<br>Precio Predicho=%{y}<extra></extra>",
         "legendgroup": "Rojuu",
         "marker": {
          "color": "#FF97FF",
          "symbol": "circle"
         },
         "mode": "markers",
         "name": "Rojuu",
         "orientation": "v",
         "showlegend": true,
         "type": "scatter",
         "x": [
          22,
          22
         ],
         "xaxis": "x",
         "y": [
          19.20998236207148,
          18.667155245385935
         ],
         "yaxis": "y"
        },
        {
         "hovertemplate": "Nombre del Concierto=Ronald Borjas<br>Precio Real=%{x}<br>Precio Predicho=%{y}<extra></extra>",
         "legendgroup": "Ronald Borjas",
         "marker": {
          "color": "#FECB52",
          "symbol": "circle"
         },
         "mode": "markers",
         "name": "Ronald Borjas",
         "orientation": "v",
         "showlegend": true,
         "type": "scatter",
         "x": [
          40,
          44
         ],
         "xaxis": "x",
         "y": [
          29.62204676316236,
          24.975126274458972
         ],
         "yaxis": "y"
        },
        {
         "hovertemplate": "Nombre del Concierto=Rozalén<br>Precio Real=%{x}<br>Precio Predicho=%{y}<extra></extra>",
         "legendgroup": "Rozalén",
         "marker": {
          "color": "#636efa",
          "symbol": "circle"
         },
         "mode": "markers",
         "name": "Rozalén",
         "orientation": "v",
         "showlegend": true,
         "type": "scatter",
         "x": [
          38
         ],
         "xaxis": "x",
         "y": [
          42.01381772028798
         ],
         "yaxis": "y"
        },
        {
         "hovertemplate": "Nombre del Concierto=Rulo y la Contrabanda - Tour 5<br>Precio Real=%{x}<br>Precio Predicho=%{y}<extra></extra>",
         "legendgroup": "Rulo y la Contrabanda - Tour 5",
         "marker": {
          "color": "#EF553B",
          "symbol": "circle"
         },
         "mode": "markers",
         "name": "Rulo y la Contrabanda - Tour 5",
         "orientation": "v",
         "showlegend": true,
         "type": "scatter",
         "x": [
          28,
          28,
          30,
          30,
          30,
          30,
          30,
          32,
          32
         ],
         "xaxis": "x",
         "y": [
          27.56955772187561,
          29.380738413454438,
          36.96245037194944,
          28.44464812318644,
          28.717372300975462,
          27.997380471612445,
          27.920848263514376,
          32.88683520261294,
          28.379194320517072
         ],
         "yaxis": "y"
        },
        {
         "hovertemplate": "Nombre del Concierto=STINGERS + ALEJANDRIA + THE NIGHT PROWLERS<br>Precio Real=%{x}<br>Precio Predicho=%{y}<extra></extra>",
         "legendgroup": "STINGERS + ALEJANDRIA + THE NIGHT PROWLERS",
         "marker": {
          "color": "#00cc96",
          "symbol": "circle"
         },
         "mode": "markers",
         "name": "STINGERS + ALEJANDRIA + THE NIGHT PROWLERS",
         "orientation": "v",
         "showlegend": true,
         "type": "scatter",
         "x": [
          22
         ],
         "xaxis": "x",
         "y": [
          29.11755058865831
         ],
         "yaxis": "y"
        },
        {
         "hovertemplate": "Nombre del Concierto=Sasha Velour - The Big Reveal Live Show<br>Precio Real=%{x}<br>Precio Predicho=%{y}<extra></extra>",
         "legendgroup": "Sasha Velour - The Big Reveal Live Show",
         "marker": {
          "color": "#ab63fa",
          "symbol": "circle"
         },
         "mode": "markers",
         "name": "Sasha Velour - The Big Reveal Live Show",
         "orientation": "v",
         "showlegend": true,
         "type": "scatter",
         "x": [
          40,
          40
         ],
         "xaxis": "x",
         "y": [
          30.867812473990035,
          35.534220368467565
         ],
         "yaxis": "y"
        },
        {
         "hovertemplate": "Nombre del Concierto=Shawn James<br>Precio Real=%{x}<br>Precio Predicho=%{y}<extra></extra>",
         "legendgroup": "Shawn James",
         "marker": {
          "color": "#FFA15A",
          "symbol": "circle"
         },
         "mode": "markers",
         "name": "Shawn James",
         "orientation": "v",
         "showlegend": true,
         "type": "scatter",
         "x": [
          25,
          25
         ],
         "xaxis": "x",
         "y": [
          29.72716607633027,
          29.185866080022944
         ],
         "yaxis": "y"
        },
        {
         "hovertemplate": "Nombre del Concierto=Sheryl Crow<br>Precio Real=%{x}<br>Precio Predicho=%{y}<extra></extra>",
         "legendgroup": "Sheryl Crow",
         "marker": {
          "color": "#19d3f3",
          "symbol": "circle"
         },
         "mode": "markers",
         "name": "Sheryl Crow",
         "orientation": "v",
         "showlegend": true,
         "type": "scatter",
         "x": [
          30.01,
          31.25
         ],
         "xaxis": "x",
         "y": [
          39.44104313424808,
          38.07849727493011
         ],
         "yaxis": "y"
        },
        {
         "hovertemplate": "Nombre del Concierto=Siempre Así<br>Precio Real=%{x}<br>Precio Predicho=%{y}<extra></extra>",
         "legendgroup": "Siempre Así",
         "marker": {
          "color": "#FF6692",
          "symbol": "circle"
         },
         "mode": "markers",
         "name": "Siempre Así",
         "orientation": "v",
         "showlegend": true,
         "type": "scatter",
         "x": [
          30.01,
          30.01
         ],
         "xaxis": "x",
         "y": [
          30.073846163505195,
          29.78974155353641
         ],
         "yaxis": "y"
        },
        {
         "hovertemplate": "Nombre del Concierto=Siempre así<br>Precio Real=%{x}<br>Precio Predicho=%{y}<extra></extra>",
         "legendgroup": "Siempre así",
         "marker": {
          "color": "#B6E880",
          "symbol": "circle"
         },
         "mode": "markers",
         "name": "Siempre así",
         "orientation": "v",
         "showlegend": true,
         "type": "scatter",
         "x": [
          40
         ],
         "xaxis": "x",
         "y": [
          29.16001306698827
         ],
         "yaxis": "y"
        },
        {
         "hovertemplate": "Nombre del Concierto=Simple Minds<br>Precio Real=%{x}<br>Precio Predicho=%{y}<extra></extra>",
         "legendgroup": "Simple Minds",
         "marker": {
          "color": "#FF97FF",
          "symbol": "circle"
         },
         "mode": "markers",
         "name": "Simple Minds",
         "orientation": "v",
         "showlegend": true,
         "type": "scatter",
         "x": [
          35.71
         ],
         "xaxis": "x",
         "y": [
          42.833856123145345
         ],
         "yaxis": "y"
        },
        {
         "hovertemplate": "Nombre del Concierto=Supersuckers + Wicked Dog<br>Precio Real=%{x}<br>Precio Predicho=%{y}<extra></extra>",
         "legendgroup": "Supersuckers + Wicked Dog",
         "marker": {
          "color": "#FECB52",
          "symbol": "circle"
         },
         "mode": "markers",
         "name": "Supersuckers + Wicked Dog",
         "orientation": "v",
         "showlegend": true,
         "type": "scatter",
         "x": [
          22
         ],
         "xaxis": "x",
         "y": [
          23.54162197957032
         ],
         "yaxis": "y"
        },
        {
         "hovertemplate": "Nombre del Concierto=Sôber Gira 30 Aniversario + Savia+ Skizoo + Hamlet<br>Precio Real=%{x}<br>Precio Predicho=%{y}<extra></extra>",
         "legendgroup": "Sôber Gira 30 Aniversario + Savia+ Skizoo + Hamlet",
         "marker": {
          "color": "#636efa",
          "symbol": "circle"
         },
         "mode": "markers",
         "name": "Sôber Gira 30 Aniversario + Savia+ Skizoo + Hamlet",
         "orientation": "v",
         "showlegend": true,
         "type": "scatter",
         "x": [
          22
         ],
         "xaxis": "x",
         "y": [
          27.996699224459547
         ],
         "yaxis": "y"
        },
        {
         "hovertemplate": "Nombre del Concierto=Take That<br>Precio Real=%{x}<br>Precio Predicho=%{y}<extra></extra>",
         "legendgroup": "Take That",
         "marker": {
          "color": "#EF553B",
          "symbol": "circle"
         },
         "mode": "markers",
         "name": "Take That",
         "orientation": "v",
         "showlegend": true,
         "type": "scatter",
         "x": [
          55.36,
          67.86,
          87.5,
          138.04
         ],
         "xaxis": "x",
         "y": [
          52.85422182592702,
          50.851363059811156,
          53.23565021947838,
          52.843626592772814
         ],
         "yaxis": "y"
        },
        {
         "hovertemplate": "Nombre del Concierto=Tan Biónica: La Última Noche Mágica Tour<br>Precio Real=%{x}<br>Precio Predicho=%{y}<extra></extra>",
         "legendgroup": "Tan Biónica: La Última Noche Mágica Tour",
         "marker": {
          "color": "#00cc96",
          "symbol": "circle"
         },
         "mode": "markers",
         "name": "Tan Biónica: La Última Noche Mágica Tour",
         "orientation": "v",
         "showlegend": true,
         "type": "scatter",
         "x": [
          38,
          38
         ],
         "xaxis": "x",
         "y": [
          28.5922892505409,
          32.53135366832645
         ],
         "yaxis": "y"
        },
        {
         "hovertemplate": "Nombre del Concierto=Tate McRae – THINK LATER TOUR<br>Precio Real=%{x}<br>Precio Predicho=%{y}<extra></extra>",
         "legendgroup": "Tate McRae – THINK LATER TOUR",
         "marker": {
          "color": "#ab63fa",
          "symbol": "circle"
         },
         "mode": "markers",
         "name": "Tate McRae – THINK LATER TOUR",
         "orientation": "v",
         "showlegend": true,
         "type": "scatter",
         "x": [
          37,
          39
         ],
         "xaxis": "x",
         "y": [
          47.435390747257294,
          41.931431375372654
         ],
         "yaxis": "y"
        },
        {
         "hovertemplate": "Nombre del Concierto=Taylor Swift | The Eras Tour<br>Precio Real=%{x}<br>Precio Predicho=%{y}<extra></extra>",
         "legendgroup": "Taylor Swift | The Eras Tour",
         "marker": {
          "color": "#FFA15A",
          "symbol": "circle"
         },
         "mode": "markers",
         "name": "Taylor Swift | The Eras Tour",
         "orientation": "v",
         "showlegend": true,
         "type": "scatter",
         "x": [
          65
         ],
         "xaxis": "x",
         "y": [
          97.94649011021262
         ],
         "yaxis": "y"
        },
        {
         "hovertemplate": "Nombre del Concierto=The 1975<br>Precio Real=%{x}<br>Precio Predicho=%{y}<extra></extra>",
         "legendgroup": "The 1975",
         "marker": {
          "color": "#19d3f3",
          "symbol": "circle"
         },
         "mode": "markers",
         "name": "The 1975",
         "orientation": "v",
         "showlegend": true,
         "type": "scatter",
         "x": [
          55
         ],
         "xaxis": "x",
         "y": [
          53.423023492424754
         ],
         "yaxis": "y"
        },
        {
         "hovertemplate": "Nombre del Concierto=The Answer<br>Precio Real=%{x}<br>Precio Predicho=%{y}<extra></extra>",
         "legendgroup": "The Answer",
         "marker": {
          "color": "#FF6692",
          "symbol": "circle"
         },
         "mode": "markers",
         "name": "The Answer",
         "orientation": "v",
         "showlegend": true,
         "type": "scatter",
         "x": [
          25,
          25,
          25
         ],
         "xaxis": "x",
         "y": [
          29.309915123763794,
          29.190076423256812,
          28.022063927588754
         ],
         "yaxis": "y"
        },
        {
         "hovertemplate": "Nombre del Concierto=The Australian Pink Floyd Show<br>Precio Real=%{x}<br>Precio Predicho=%{y}<extra></extra>",
         "legendgroup": "The Australian Pink Floyd Show",
         "marker": {
          "color": "#B6E880",
          "symbol": "circle"
         },
         "mode": "markers",
         "name": "The Australian Pink Floyd Show",
         "orientation": "v",
         "showlegend": true,
         "type": "scatter",
         "x": [
          40
         ],
         "xaxis": "x",
         "y": [
          45.88311359448749
         ],
         "yaxis": "y"
        },
        {
         "hovertemplate": "Nombre del Concierto=The Breeders<br>Precio Real=%{x}<br>Precio Predicho=%{y}<extra></extra>",
         "legendgroup": "The Breeders",
         "marker": {
          "color": "#FF97FF",
          "symbol": "circle"
         },
         "mode": "markers",
         "name": "The Breeders",
         "orientation": "v",
         "showlegend": true,
         "type": "scatter",
         "x": [
          40
         ],
         "xaxis": "x",
         "y": [
          29.612035584265627
         ],
         "yaxis": "y"
        },
        {
         "hovertemplate": "Nombre del Concierto=The Cat Empire<br>Precio Real=%{x}<br>Precio Predicho=%{y}<extra></extra>",
         "legendgroup": "The Cat Empire",
         "marker": {
          "color": "#FECB52",
          "symbol": "circle"
         },
         "mode": "markers",
         "name": "The Cat Empire",
         "orientation": "v",
         "showlegend": true,
         "type": "scatter",
         "x": [
          35
         ],
         "xaxis": "x",
         "y": [
          28.089856990341318
         ],
         "yaxis": "y"
        },
        {
         "hovertemplate": "Nombre del Concierto=The Change<br>Precio Real=%{x}<br>Precio Predicho=%{y}<extra></extra>",
         "legendgroup": "The Change",
         "marker": {
          "color": "#636efa",
          "symbol": "circle"
         },
         "mode": "markers",
         "name": "The Change",
         "orientation": "v",
         "showlegend": true,
         "type": "scatter",
         "x": [
          18
         ],
         "xaxis": "x",
         "y": [
          17.18514094213065
         ],
         "yaxis": "y"
        },
        {
         "hovertemplate": "Nombre del Concierto=The Clockworks<br>Precio Real=%{x}<br>Precio Predicho=%{y}<extra></extra>",
         "legendgroup": "The Clockworks",
         "marker": {
          "color": "#EF553B",
          "symbol": "circle"
         },
         "mode": "markers",
         "name": "The Clockworks",
         "orientation": "v",
         "showlegend": true,
         "type": "scatter",
         "x": [
          18,
          18
         ],
         "xaxis": "x",
         "y": [
          26.234211738148165,
          26.22545966395758
         ],
         "yaxis": "y"
        },
        {
         "hovertemplate": "Nombre del Concierto=The Magical Music of Harry Potter<br>Precio Real=%{x}<br>Precio Predicho=%{y}<extra></extra>",
         "legendgroup": "The Magical Music of Harry Potter",
         "marker": {
          "color": "#00cc96",
          "symbol": "circle"
         },
         "mode": "markers",
         "name": "The Magical Music of Harry Potter",
         "orientation": "v",
         "showlegend": true,
         "type": "scatter",
         "x": [
          36.6,
          36.6
         ],
         "xaxis": "x",
         "y": [
          38.532218860695686,
          33.96066453372
         ],
         "yaxis": "y"
        },
        {
         "hovertemplate": "Nombre del Concierto=The Music of Hans Zimmer & More<br>Precio Real=%{x}<br>Precio Predicho=%{y}<extra></extra>",
         "legendgroup": "The Music of Hans Zimmer & More",
         "marker": {
          "color": "#ab63fa",
          "symbol": "circle"
         },
         "mode": "markers",
         "name": "The Music of Hans Zimmer & More",
         "orientation": "v",
         "showlegend": true,
         "type": "scatter",
         "x": [
          36.6
         ],
         "xaxis": "x",
         "y": [
          34.39093388839078
         ],
         "yaxis": "y"
        },
        {
         "hovertemplate": "Nombre del Concierto=The New Raemon<br>Precio Real=%{x}<br>Precio Predicho=%{y}<extra></extra>",
         "legendgroup": "The New Raemon",
         "marker": {
          "color": "#FFA15A",
          "symbol": "circle"
         },
         "mode": "markers",
         "name": "The New Raemon",
         "orientation": "v",
         "showlegend": true,
         "type": "scatter",
         "x": [
          25,
          25
         ],
         "xaxis": "x",
         "y": [
          24.674011713041438,
          25.032255514994198
         ],
         "yaxis": "y"
        },
        {
         "hovertemplate": "Nombre del Concierto=The Rose<br>Precio Real=%{x}<br>Precio Predicho=%{y}<extra></extra>",
         "legendgroup": "The Rose",
         "marker": {
          "color": "#19d3f3",
          "symbol": "circle"
         },
         "mode": "markers",
         "name": "The Rose",
         "orientation": "v",
         "showlegend": true,
         "type": "scatter",
         "x": [
          60
         ],
         "xaxis": "x",
         "y": [
          50.987457726857734
         ],
         "yaxis": "y"
        },
        {
         "hovertemplate": "Nombre del Concierto=The Tallest Man On Earth<br>Precio Real=%{x}<br>Precio Predicho=%{y}<extra></extra>",
         "legendgroup": "The Tallest Man On Earth",
         "marker": {
          "color": "#FF6692",
          "symbol": "circle"
         },
         "mode": "markers",
         "name": "The Tallest Man On Earth",
         "orientation": "v",
         "showlegend": true,
         "type": "scatter",
         "x": [
          32,
          32
         ],
         "xaxis": "x",
         "y": [
          34.72160329509365,
          30.894069337304597
         ],
         "yaxis": "y"
        },
        {
         "hovertemplate": "Nombre del Concierto=The Teskey Brothers<br>Precio Real=%{x}<br>Precio Predicho=%{y}<extra></extra>",
         "legendgroup": "The Teskey Brothers",
         "marker": {
          "color": "#B6E880",
          "symbol": "circle"
         },
         "mode": "markers",
         "name": "The Teskey Brothers",
         "orientation": "v",
         "showlegend": true,
         "type": "scatter",
         "x": [
          30,
          30
         ],
         "xaxis": "x",
         "y": [
          34.72513335741083,
          30.142102061658328
         ],
         "yaxis": "y"
        },
        {
         "hovertemplate": "Nombre del Concierto=The Tyets<br>Precio Real=%{x}<br>Precio Predicho=%{y}<extra></extra>",
         "legendgroup": "The Tyets",
         "marker": {
          "color": "#FF97FF",
          "symbol": "circle"
         },
         "mode": "markers",
         "name": "The Tyets",
         "orientation": "v",
         "showlegend": true,
         "type": "scatter",
         "x": [
          20
         ],
         "xaxis": "x",
         "y": [
          16.178164033040918
         ],
         "yaxis": "y"
        },
        {
         "hovertemplate": "Nombre del Concierto=The Warning<br>Precio Real=%{x}<br>Precio Predicho=%{y}<extra></extra>",
         "legendgroup": "The Warning",
         "marker": {
          "color": "#FECB52",
          "symbol": "circle"
         },
         "mode": "markers",
         "name": "The Warning",
         "orientation": "v",
         "showlegend": true,
         "type": "scatter",
         "x": [
          25,
          25,
          25,
          25
         ],
         "xaxis": "x",
         "y": [
          31.032351765638687,
          31.0210655325903,
          30.998493066493538,
          35.64113934813778
         ],
         "yaxis": "y"
        },
        {
         "hovertemplate": "Nombre del Concierto=Thirty Seconds To Mars - Seasons<br>Precio Real=%{x}<br>Precio Predicho=%{y}<extra></extra>",
         "legendgroup": "Thirty Seconds To Mars - Seasons",
         "marker": {
          "color": "#636efa",
          "symbol": "circle"
         },
         "mode": "markers",
         "name": "Thirty Seconds To Mars - Seasons",
         "orientation": "v",
         "showlegend": true,
         "type": "scatter",
         "x": [
          55
         ],
         "xaxis": "x",
         "y": [
          44.89737397119995
         ],
         "yaxis": "y"
        },
        {
         "hovertemplate": "Nombre del Concierto=Tom Jones<br>Precio Real=%{x}<br>Precio Predicho=%{y}<extra></extra>",
         "legendgroup": "Tom Jones",
         "marker": {
          "color": "#EF553B",
          "symbol": "circle"
         },
         "mode": "markers",
         "name": "Tom Jones",
         "orientation": "v",
         "showlegend": true,
         "type": "scatter",
         "x": [
          50.89,
          50.89,
          60
         ],
         "xaxis": "x",
         "y": [
          38.506077709574555,
          38.38044793933747,
          40.53117931694839
         ],
         "yaxis": "y"
        },
        {
         "hovertemplate": "Nombre del Concierto=Tom Odell<br>Precio Real=%{x}<br>Precio Predicho=%{y}<extra></extra>",
         "legendgroup": "Tom Odell",
         "marker": {
          "color": "#00cc96",
          "symbol": "circle"
         },
         "mode": "markers",
         "name": "Tom Odell",
         "orientation": "v",
         "showlegend": true,
         "type": "scatter",
         "x": [
          35,
          35
         ],
         "xaxis": "x",
         "y": [
          39.9061349427086,
          35.40680501620215
         ],
         "yaxis": "y"
        },
        {
         "hovertemplate": "Nombre del Concierto=Tributo a QUEEN<br>Precio Real=%{x}<br>Precio Predicho=%{y}<extra></extra>",
         "legendgroup": "Tributo a QUEEN",
         "marker": {
          "color": "#ab63fa",
          "symbol": "circle"
         },
         "mode": "markers",
         "name": "Tributo a QUEEN",
         "orientation": "v",
         "showlegend": true,
         "type": "scatter",
         "x": [
          20
         ],
         "xaxis": "x",
         "y": [
          21.600070357722444
         ],
         "yaxis": "y"
        },
        {
         "hovertemplate": "Nombre del Concierto=Trisomie 21<br>Precio Real=%{x}<br>Precio Predicho=%{y}<extra></extra>",
         "legendgroup": "Trisomie 21",
         "marker": {
          "color": "#FFA15A",
          "symbol": "circle"
         },
         "mode": "markers",
         "name": "Trisomie 21",
         "orientation": "v",
         "showlegend": true,
         "type": "scatter",
         "x": [
          25,
          25
         ],
         "xaxis": "x",
         "y": [
          15.888064302551305,
          21.299385653475923
         ],
         "yaxis": "y"
        },
        {
         "hovertemplate": "Nombre del Concierto=UB40 Featuring Ali Campbell in memory of Astro<br>Precio Real=%{x}<br>Precio Predicho=%{y}<extra></extra>",
         "legendgroup": "UB40 Featuring Ali Campbell in memory of Astro",
         "marker": {
          "color": "#19d3f3",
          "symbol": "circle"
         },
         "mode": "markers",
         "name": "UB40 Featuring Ali Campbell in memory of Astro",
         "orientation": "v",
         "showlegend": true,
         "type": "scatter",
         "x": [
          30.01
         ],
         "xaxis": "x",
         "y": [
          23.01694583995669
         ],
         "yaxis": "y"
        },
        {
         "hovertemplate": "Nombre del Concierto=Vanesa Martín<br>Precio Real=%{x}<br>Precio Predicho=%{y}<extra></extra>",
         "legendgroup": "Vanesa Martín",
         "marker": {
          "color": "#FF6692",
          "symbol": "circle"
         },
         "mode": "markers",
         "name": "Vanesa Martín",
         "orientation": "v",
         "showlegend": true,
         "type": "scatter",
         "x": [
          30.36,
          31.25,
          31.25
         ],
         "xaxis": "x",
         "y": [
          39.98386674767101,
          40.76304893558099,
          39.365013648345986
         ],
         "yaxis": "y"
        },
        {
         "hovertemplate": "Nombre del Concierto=Vida Records & Friends: Boye<br>Precio Real=%{x}<br>Precio Predicho=%{y}<extra></extra>",
         "legendgroup": "Vida Records & Friends: Boye",
         "marker": {
          "color": "#B6E880",
          "symbol": "circle"
         },
         "mode": "markers",
         "name": "Vida Records & Friends: Boye",
         "orientation": "v",
         "showlegend": true,
         "type": "scatter",
         "x": [
          15
         ],
         "xaxis": "x",
         "y": [
          17.769642181835803
         ],
         "yaxis": "y"
        },
        {
         "hovertemplate": "Nombre del Concierto=Vida Records & Friends: Lime Garden<br>Precio Real=%{x}<br>Precio Predicho=%{y}<extra></extra>",
         "legendgroup": "Vida Records & Friends: Lime Garden",
         "marker": {
          "color": "#FF97FF",
          "symbol": "circle"
         },
         "mode": "markers",
         "name": "Vida Records & Friends: Lime Garden",
         "orientation": "v",
         "showlegend": true,
         "type": "scatter",
         "x": [
          10
         ],
         "xaxis": "x",
         "y": [
          16.97853492814128
         ],
         "yaxis": "y"
        },
        {
         "hovertemplate": "Nombre del Concierto=Víctor Martín<br>Precio Real=%{x}<br>Precio Predicho=%{y}<extra></extra>",
         "legendgroup": "Víctor Martín",
         "marker": {
          "color": "#FECB52",
          "symbol": "circle"
         },
         "mode": "markers",
         "name": "Víctor Martín",
         "orientation": "v",
         "showlegend": true,
         "type": "scatter",
         "x": [
          12,
          12,
          12,
          13,
          13
         ],
         "xaxis": "x",
         "y": [
          16.342870986534574,
          16.23446099750123,
          15.962701012290731,
          16.906602929507972,
          15.886552003002508
         ],
         "yaxis": "y"
        },
        {
         "hovertemplate": "Nombre del Concierto=Walls<br>Precio Real=%{x}<br>Precio Predicho=%{y}<extra></extra>",
         "legendgroup": "Walls",
         "marker": {
          "color": "#636efa",
          "symbol": "circle"
         },
         "mode": "markers",
         "name": "Walls",
         "orientation": "v",
         "showlegend": true,
         "type": "scatter",
         "x": [
          25
         ],
         "xaxis": "x",
         "y": [
          51.06236742693974
         ],
         "yaxis": "y"
        },
        {
         "hovertemplate": "Nombre del Concierto=Yung Sarria<br>Precio Real=%{x}<br>Precio Predicho=%{y}<extra></extra>",
         "legendgroup": "Yung Sarria",
         "marker": {
          "color": "#EF553B",
          "symbol": "circle"
         },
         "mode": "markers",
         "name": "Yung Sarria",
         "orientation": "v",
         "showlegend": true,
         "type": "scatter",
         "x": [
          12
         ],
         "xaxis": "x",
         "y": [
          17.72149990433678
         ],
         "yaxis": "y"
        },
        {
         "hovertemplate": "Nombre del Concierto=ZENOBIA + DEBLER<br>Precio Real=%{x}<br>Precio Predicho=%{y}<extra></extra>",
         "legendgroup": "ZENOBIA + DEBLER",
         "marker": {
          "color": "#00cc96",
          "symbol": "circle"
         },
         "mode": "markers",
         "name": "ZENOBIA + DEBLER",
         "orientation": "v",
         "showlegend": true,
         "type": "scatter",
         "x": [
          22
         ],
         "xaxis": "x",
         "y": [
          19.440320363368436
         ],
         "yaxis": "y"
        },
        {
         "hovertemplate": "Nombre del Concierto=gREAT sTRAITS<br>Precio Real=%{x}<br>Precio Predicho=%{y}<extra></extra>",
         "legendgroup": "gREAT sTRAITS",
         "marker": {
          "color": "#ab63fa",
          "symbol": "circle"
         },
         "mode": "markers",
         "name": "gREAT sTRAITS",
         "orientation": "v",
         "showlegend": true,
         "type": "scatter",
         "x": [
          35,
          38
         ],
         "xaxis": "x",
         "y": [
          23.08473757687812,
          27.511514403031505
         ],
         "yaxis": "y"
        },
        {
         "hovertemplate": "Nombre del Concierto=Álvaro de Luna<br>Precio Real=%{x}<br>Precio Predicho=%{y}<extra></extra>",
         "legendgroup": "Álvaro de Luna",
         "marker": {
          "color": "#FFA15A",
          "symbol": "circle"
         },
         "mode": "markers",
         "name": "Álvaro de Luna",
         "orientation": "v",
         "showlegend": true,
         "type": "scatter",
         "x": [
          25
         ],
         "xaxis": "x",
         "y": [
          32.56556840018316
         ],
         "yaxis": "y"
        }
       ],
       "layout": {
        "legend": {
         "title": {
          "text": "Nombre del Concierto"
         },
         "tracegroupgap": 0
        },
        "shapes": [
         {
          "line": {
           "color": "red",
           "dash": "dash",
           "width": 2
          },
          "type": "line",
          "x0": 9,
          "x1": 179.46,
          "y0": 9,
          "y1": 179.46
         }
        ],
        "template": {
         "data": {
          "bar": [
           {
            "error_x": {
             "color": "#2a3f5f"
            },
            "error_y": {
             "color": "#2a3f5f"
            },
            "marker": {
             "line": {
              "color": "#E5ECF6",
              "width": 0.5
             },
             "pattern": {
              "fillmode": "overlay",
              "size": 10,
              "solidity": 0.2
             }
            },
            "type": "bar"
           }
          ],
          "barpolar": [
           {
            "marker": {
             "line": {
              "color": "#E5ECF6",
              "width": 0.5
             },
             "pattern": {
              "fillmode": "overlay",
              "size": 10,
              "solidity": 0.2
             }
            },
            "type": "barpolar"
           }
          ],
          "carpet": [
           {
            "aaxis": {
             "endlinecolor": "#2a3f5f",
             "gridcolor": "white",
             "linecolor": "white",
             "minorgridcolor": "white",
             "startlinecolor": "#2a3f5f"
            },
            "baxis": {
             "endlinecolor": "#2a3f5f",
             "gridcolor": "white",
             "linecolor": "white",
             "minorgridcolor": "white",
             "startlinecolor": "#2a3f5f"
            },
            "type": "carpet"
           }
          ],
          "choropleth": [
           {
            "colorbar": {
             "outlinewidth": 0,
             "ticks": ""
            },
            "type": "choropleth"
           }
          ],
          "contour": [
           {
            "colorbar": {
             "outlinewidth": 0,
             "ticks": ""
            },
            "colorscale": [
             [
              0,
              "#0d0887"
             ],
             [
              0.1111111111111111,
              "#46039f"
             ],
             [
              0.2222222222222222,
              "#7201a8"
             ],
             [
              0.3333333333333333,
              "#9c179e"
             ],
             [
              0.4444444444444444,
              "#bd3786"
             ],
             [
              0.5555555555555556,
              "#d8576b"
             ],
             [
              0.6666666666666666,
              "#ed7953"
             ],
             [
              0.7777777777777778,
              "#fb9f3a"
             ],
             [
              0.8888888888888888,
              "#fdca26"
             ],
             [
              1,
              "#f0f921"
             ]
            ],
            "type": "contour"
           }
          ],
          "contourcarpet": [
           {
            "colorbar": {
             "outlinewidth": 0,
             "ticks": ""
            },
            "type": "contourcarpet"
           }
          ],
          "heatmap": [
           {
            "colorbar": {
             "outlinewidth": 0,
             "ticks": ""
            },
            "colorscale": [
             [
              0,
              "#0d0887"
             ],
             [
              0.1111111111111111,
              "#46039f"
             ],
             [
              0.2222222222222222,
              "#7201a8"
             ],
             [
              0.3333333333333333,
              "#9c179e"
             ],
             [
              0.4444444444444444,
              "#bd3786"
             ],
             [
              0.5555555555555556,
              "#d8576b"
             ],
             [
              0.6666666666666666,
              "#ed7953"
             ],
             [
              0.7777777777777778,
              "#fb9f3a"
             ],
             [
              0.8888888888888888,
              "#fdca26"
             ],
             [
              1,
              "#f0f921"
             ]
            ],
            "type": "heatmap"
           }
          ],
          "heatmapgl": [
           {
            "colorbar": {
             "outlinewidth": 0,
             "ticks": ""
            },
            "colorscale": [
             [
              0,
              "#0d0887"
             ],
             [
              0.1111111111111111,
              "#46039f"
             ],
             [
              0.2222222222222222,
              "#7201a8"
             ],
             [
              0.3333333333333333,
              "#9c179e"
             ],
             [
              0.4444444444444444,
              "#bd3786"
             ],
             [
              0.5555555555555556,
              "#d8576b"
             ],
             [
              0.6666666666666666,
              "#ed7953"
             ],
             [
              0.7777777777777778,
              "#fb9f3a"
             ],
             [
              0.8888888888888888,
              "#fdca26"
             ],
             [
              1,
              "#f0f921"
             ]
            ],
            "type": "heatmapgl"
           }
          ],
          "histogram": [
           {
            "marker": {
             "pattern": {
              "fillmode": "overlay",
              "size": 10,
              "solidity": 0.2
             }
            },
            "type": "histogram"
           }
          ],
          "histogram2d": [
           {
            "colorbar": {
             "outlinewidth": 0,
             "ticks": ""
            },
            "colorscale": [
             [
              0,
              "#0d0887"
             ],
             [
              0.1111111111111111,
              "#46039f"
             ],
             [
              0.2222222222222222,
              "#7201a8"
             ],
             [
              0.3333333333333333,
              "#9c179e"
             ],
             [
              0.4444444444444444,
              "#bd3786"
             ],
             [
              0.5555555555555556,
              "#d8576b"
             ],
             [
              0.6666666666666666,
              "#ed7953"
             ],
             [
              0.7777777777777778,
              "#fb9f3a"
             ],
             [
              0.8888888888888888,
              "#fdca26"
             ],
             [
              1,
              "#f0f921"
             ]
            ],
            "type": "histogram2d"
           }
          ],
          "histogram2dcontour": [
           {
            "colorbar": {
             "outlinewidth": 0,
             "ticks": ""
            },
            "colorscale": [
             [
              0,
              "#0d0887"
             ],
             [
              0.1111111111111111,
              "#46039f"
             ],
             [
              0.2222222222222222,
              "#7201a8"
             ],
             [
              0.3333333333333333,
              "#9c179e"
             ],
             [
              0.4444444444444444,
              "#bd3786"
             ],
             [
              0.5555555555555556,
              "#d8576b"
             ],
             [
              0.6666666666666666,
              "#ed7953"
             ],
             [
              0.7777777777777778,
              "#fb9f3a"
             ],
             [
              0.8888888888888888,
              "#fdca26"
             ],
             [
              1,
              "#f0f921"
             ]
            ],
            "type": "histogram2dcontour"
           }
          ],
          "mesh3d": [
           {
            "colorbar": {
             "outlinewidth": 0,
             "ticks": ""
            },
            "type": "mesh3d"
           }
          ],
          "parcoords": [
           {
            "line": {
             "colorbar": {
              "outlinewidth": 0,
              "ticks": ""
             }
            },
            "type": "parcoords"
           }
          ],
          "pie": [
           {
            "automargin": true,
            "type": "pie"
           }
          ],
          "scatter": [
           {
            "fillpattern": {
             "fillmode": "overlay",
             "size": 10,
             "solidity": 0.2
            },
            "type": "scatter"
           }
          ],
          "scatter3d": [
           {
            "line": {
             "colorbar": {
              "outlinewidth": 0,
              "ticks": ""
             }
            },
            "marker": {
             "colorbar": {
              "outlinewidth": 0,
              "ticks": ""
             }
            },
            "type": "scatter3d"
           }
          ],
          "scattercarpet": [
           {
            "marker": {
             "colorbar": {
              "outlinewidth": 0,
              "ticks": ""
             }
            },
            "type": "scattercarpet"
           }
          ],
          "scattergeo": [
           {
            "marker": {
             "colorbar": {
              "outlinewidth": 0,
              "ticks": ""
             }
            },
            "type": "scattergeo"
           }
          ],
          "scattergl": [
           {
            "marker": {
             "colorbar": {
              "outlinewidth": 0,
              "ticks": ""
             }
            },
            "type": "scattergl"
           }
          ],
          "scattermapbox": [
           {
            "marker": {
             "colorbar": {
              "outlinewidth": 0,
              "ticks": ""
             }
            },
            "type": "scattermapbox"
           }
          ],
          "scatterpolar": [
           {
            "marker": {
             "colorbar": {
              "outlinewidth": 0,
              "ticks": ""
             }
            },
            "type": "scatterpolar"
           }
          ],
          "scatterpolargl": [
           {
            "marker": {
             "colorbar": {
              "outlinewidth": 0,
              "ticks": ""
             }
            },
            "type": "scatterpolargl"
           }
          ],
          "scatterternary": [
           {
            "marker": {
             "colorbar": {
              "outlinewidth": 0,
              "ticks": ""
             }
            },
            "type": "scatterternary"
           }
          ],
          "surface": [
           {
            "colorbar": {
             "outlinewidth": 0,
             "ticks": ""
            },
            "colorscale": [
             [
              0,
              "#0d0887"
             ],
             [
              0.1111111111111111,
              "#46039f"
             ],
             [
              0.2222222222222222,
              "#7201a8"
             ],
             [
              0.3333333333333333,
              "#9c179e"
             ],
             [
              0.4444444444444444,
              "#bd3786"
             ],
             [
              0.5555555555555556,
              "#d8576b"
             ],
             [
              0.6666666666666666,
              "#ed7953"
             ],
             [
              0.7777777777777778,
              "#fb9f3a"
             ],
             [
              0.8888888888888888,
              "#fdca26"
             ],
             [
              1,
              "#f0f921"
             ]
            ],
            "type": "surface"
           }
          ],
          "table": [
           {
            "cells": {
             "fill": {
              "color": "#EBF0F8"
             },
             "line": {
              "color": "white"
             }
            },
            "header": {
             "fill": {
              "color": "#C8D4E3"
             },
             "line": {
              "color": "white"
             }
            },
            "type": "table"
           }
          ]
         },
         "layout": {
          "annotationdefaults": {
           "arrowcolor": "#2a3f5f",
           "arrowhead": 0,
           "arrowwidth": 1
          },
          "autotypenumbers": "strict",
          "coloraxis": {
           "colorbar": {
            "outlinewidth": 0,
            "ticks": ""
           }
          },
          "colorscale": {
           "diverging": [
            [
             0,
             "#8e0152"
            ],
            [
             0.1,
             "#c51b7d"
            ],
            [
             0.2,
             "#de77ae"
            ],
            [
             0.3,
             "#f1b6da"
            ],
            [
             0.4,
             "#fde0ef"
            ],
            [
             0.5,
             "#f7f7f7"
            ],
            [
             0.6,
             "#e6f5d0"
            ],
            [
             0.7,
             "#b8e186"
            ],
            [
             0.8,
             "#7fbc41"
            ],
            [
             0.9,
             "#4d9221"
            ],
            [
             1,
             "#276419"
            ]
           ],
           "sequential": [
            [
             0,
             "#0d0887"
            ],
            [
             0.1111111111111111,
             "#46039f"
            ],
            [
             0.2222222222222222,
             "#7201a8"
            ],
            [
             0.3333333333333333,
             "#9c179e"
            ],
            [
             0.4444444444444444,
             "#bd3786"
            ],
            [
             0.5555555555555556,
             "#d8576b"
            ],
            [
             0.6666666666666666,
             "#ed7953"
            ],
            [
             0.7777777777777778,
             "#fb9f3a"
            ],
            [
             0.8888888888888888,
             "#fdca26"
            ],
            [
             1,
             "#f0f921"
            ]
           ],
           "sequentialminus": [
            [
             0,
             "#0d0887"
            ],
            [
             0.1111111111111111,
             "#46039f"
            ],
            [
             0.2222222222222222,
             "#7201a8"
            ],
            [
             0.3333333333333333,
             "#9c179e"
            ],
            [
             0.4444444444444444,
             "#bd3786"
            ],
            [
             0.5555555555555556,
             "#d8576b"
            ],
            [
             0.6666666666666666,
             "#ed7953"
            ],
            [
             0.7777777777777778,
             "#fb9f3a"
            ],
            [
             0.8888888888888888,
             "#fdca26"
            ],
            [
             1,
             "#f0f921"
            ]
           ]
          },
          "colorway": [
           "#636efa",
           "#EF553B",
           "#00cc96",
           "#ab63fa",
           "#FFA15A",
           "#19d3f3",
           "#FF6692",
           "#B6E880",
           "#FF97FF",
           "#FECB52"
          ],
          "font": {
           "color": "#2a3f5f"
          },
          "geo": {
           "bgcolor": "white",
           "lakecolor": "white",
           "landcolor": "#E5ECF6",
           "showlakes": true,
           "showland": true,
           "subunitcolor": "white"
          },
          "hoverlabel": {
           "align": "left"
          },
          "hovermode": "closest",
          "mapbox": {
           "style": "light"
          },
          "paper_bgcolor": "white",
          "plot_bgcolor": "#E5ECF6",
          "polar": {
           "angularaxis": {
            "gridcolor": "white",
            "linecolor": "white",
            "ticks": ""
           },
           "bgcolor": "#E5ECF6",
           "radialaxis": {
            "gridcolor": "white",
            "linecolor": "white",
            "ticks": ""
           }
          },
          "scene": {
           "xaxis": {
            "backgroundcolor": "#E5ECF6",
            "gridcolor": "white",
            "gridwidth": 2,
            "linecolor": "white",
            "showbackground": true,
            "ticks": "",
            "zerolinecolor": "white"
           },
           "yaxis": {
            "backgroundcolor": "#E5ECF6",
            "gridcolor": "white",
            "gridwidth": 2,
            "linecolor": "white",
            "showbackground": true,
            "ticks": "",
            "zerolinecolor": "white"
           },
           "zaxis": {
            "backgroundcolor": "#E5ECF6",
            "gridcolor": "white",
            "gridwidth": 2,
            "linecolor": "white",
            "showbackground": true,
            "ticks": "",
            "zerolinecolor": "white"
           }
          },
          "shapedefaults": {
           "line": {
            "color": "#2a3f5f"
           }
          },
          "ternary": {
           "aaxis": {
            "gridcolor": "white",
            "linecolor": "white",
            "ticks": ""
           },
           "baxis": {
            "gridcolor": "white",
            "linecolor": "white",
            "ticks": ""
           },
           "bgcolor": "#E5ECF6",
           "caxis": {
            "gridcolor": "white",
            "linecolor": "white",
            "ticks": ""
           }
          },
          "title": {
           "x": 0.05
          },
          "xaxis": {
           "automargin": true,
           "gridcolor": "white",
           "linecolor": "white",
           "ticks": "",
           "title": {
            "standoff": 15
           },
           "zerolinecolor": "white",
           "zerolinewidth": 2
          },
          "yaxis": {
           "automargin": true,
           "gridcolor": "white",
           "linecolor": "white",
           "ticks": "",
           "title": {
            "standoff": 15
           },
           "zerolinecolor": "white",
           "zerolinewidth": 2
          }
         }
        },
        "title": {
         "text": "Comparación de Precios Reales vs Precios Predichos"
        },
        "xaxis": {
         "anchor": "y",
         "domain": [
          0,
          1
         ],
         "title": {
          "text": "Precio Real"
         }
        },
        "yaxis": {
         "anchor": "x",
         "domain": [
          0,
          1
         ],
         "title": {
          "text": "Precio Predicho"
         }
        }
       }
      }
     },
     "metadata": {},
     "output_type": "display_data"
    },
    {
     "data": {
      "image/png": "[encoded data removed]",
      "text/plain": [
       "<Figure size 800x600 with 1 Axes>"
      ]
     },
     "metadata": {},
     "output_type": "display_data"
    },
    {
     "data": {
      "text/html": [
       "<div>\n",
       "<style scoped>\n",
       "    .dataframe tbody tr th:only-of-type {\n",
       "        vertical-align: middle;\n",
       "    }\n",
       "\n",
       "    .dataframe tbody tr th {\n",
       "        vertical-align: top;\n",
       "    }\n",
       "\n",
       "    .dataframe thead th {\n",
       "        text-align: right;\n",
       "    }\n",
       "</style>\n",
       "<table border=\"1\" class=\"dataframe\">\n",
       "  <thead>\n",
       "    <tr style=\"text-align: right;\">\n",
       "      <th></th>\n",
       "      <th>Test Fold</th>\n",
       "      <th>MAPE Train</th>\n",
       "      <th>RMSE Train</th>\n",
       "      <th>MSE Train</th>\n",
       "      <th>MAE Train</th>\n",
       "      <th>MAPE Val</th>\n",
       "      <th>RMSE Val</th>\n",
       "      <th>MSE Val</th>\n",
       "      <th>MAE Val</th>\n",
       "    </tr>\n",
       "  </thead>\n",
       "  <tbody>\n",
       "    <tr>\n",
       "      <th>0</th>\n",
       "      <td>0</td>\n",
       "      <td>0.224889</td>\n",
       "      <td>13.198667</td>\n",
       "      <td>174.204811</td>\n",
       "      <td>8.122289</td>\n",
       "      <td>0.253991</td>\n",
       "      <td>12.522638</td>\n",
       "      <td>156.816466</td>\n",
       "      <td>8.625202</td>\n",
       "    </tr>\n",
       "    <tr>\n",
       "      <th>1</th>\n",
       "      <td>1</td>\n",
       "      <td>0.235981</td>\n",
       "      <td>13.718357</td>\n",
       "      <td>188.193322</td>\n",
       "      <td>8.761825</td>\n",
       "      <td>0.337918</td>\n",
       "      <td>13.689595</td>\n",
       "      <td>187.405000</td>\n",
       "      <td>9.804078</td>\n",
       "    </tr>\n",
       "    <tr>\n",
       "      <th>2</th>\n",
       "      <td>2</td>\n",
       "      <td>0.225103</td>\n",
       "      <td>11.537971</td>\n",
       "      <td>133.124771</td>\n",
       "      <td>7.453833</td>\n",
       "      <td>0.213322</td>\n",
       "      <td>17.740624</td>\n",
       "      <td>314.729750</td>\n",
       "      <td>10.339438</td>\n",
       "    </tr>\n",
       "    <tr>\n",
       "      <th>3</th>\n",
       "      <td>3</td>\n",
       "      <td>0.217854</td>\n",
       "      <td>12.264159</td>\n",
       "      <td>150.409591</td>\n",
       "      <td>7.844782</td>\n",
       "      <td>0.309827</td>\n",
       "      <td>17.774821</td>\n",
       "      <td>315.944251</td>\n",
       "      <td>10.738343</td>\n",
       "    </tr>\n",
       "    <tr>\n",
       "      <th>4</th>\n",
       "      <td>Promedio</td>\n",
       "      <td>0.225957</td>\n",
       "      <td>12.679788</td>\n",
       "      <td>161.483124</td>\n",
       "      <td>8.045682</td>\n",
       "      <td>0.278764</td>\n",
       "      <td>15.431919</td>\n",
       "      <td>243.723867</td>\n",
       "      <td>9.876765</td>\n",
       "    </tr>\n",
       "  </tbody>\n",
       "</table>\n",
       "</div>"
      ],
      "text/plain": [
       "  Test Fold  MAPE Train  RMSE Train   MSE Train  MAE Train  MAPE Val  \\\n",
       "0         0    0.224889   13.198667  174.204811   8.122289  0.253991   \n",
       "1         1    0.235981   13.718357  188.193322   8.761825  0.337918   \n",
       "2         2    0.225103   11.537971  133.124771   7.453833  0.213322   \n",
       "3         3    0.217854   12.264159  150.409591   7.844782  0.309827   \n",
       "4  Promedio    0.225957   12.679788  161.483124   8.045682  0.278764   \n",
       "\n",
       "    RMSE Val     MSE Val    MAE Val  \n",
       "0  12.522638  156.816466   8.625202  \n",
       "1  13.689595  187.405000   9.804078  \n",
       "2  17.740624  314.729750  10.339438  \n",
       "3  17.774821  315.944251  10.738343  \n",
       "4  15.431919  243.723867   9.876765  "
      ]
     },
     "execution_count": 11,
     "metadata": {},
     "output_type": "execute_result"
    }
   ],
   "source": [
    "\n",
    "# Medir el tiempo de ejecución de la validación cruzada\n",
    "start_time = time.time()\n",
    "\n",
    "# Ejecutar la validación cruzada\n",
    "results = cross_validate(pipeline, X_train, y, cv=ps, scoring=scoring, return_train_score=True)\n",
    "\n",
    "end_time = time.time()\n",
    "execution_time = end_time - start_time\n",
    "print(\"Tiempo de ejecución:\", execution_time, \"segundos\")\n",
    "\n",
    "resultados = crear_tabla_resultados(results)\n",
    "\n",
    "# Cargar el modelo en MLFLOW\n",
    "cargar_modelo_mlflow(pipeline, 'MIN_PRICE', 'BASE ESTANDARIZADO', resultados, execution_time)\n",
    "\n",
    "# Mostrar las predicciones y los valores reales\n",
    "plot_model_predictions(pipeline, X_train, y, data)\n",
    "feature_importance(pipeline, X_train, y, 15)\n",
    "resultados"
   ]
  },
  {
   "cell_type": "markdown",
   "metadata": {},
   "source": [
    "GRID SEARCH - NUEVOS PARÁETROS - STANDARD SCALER"
   ]
  },
  {
   "cell_type": "code",
   "execution_count": 9,
   "metadata": {},
   "outputs": [
    {
     "name": "stdout",
     "output_type": "stream",
     "text": [
      "Tiempo de ejecución: 133.82724809646606 segundos\n",
      "Mejores parámetros GridSearchCV:  {'mlp__alpha': 1, 'mlp__hidden_layer_sizes': (20, 20), 'mlp__learning_rate': 'constant'}\n"
     ]
    },
    {
     "data": {
      "application/vnd.plotly.v1+json": {
       "config": {
        "plotlyServerURL": "https://plot.ly"
       },
       "data": [
        {
         "hovertemplate": "Nombre del Concierto=30 Aniversario de Sôber, con Savia y Skizoo<br>Precio Real=%{x}<br>Precio Predicho=%{y}<extra></extra>",
         "legendgroup": "30 Aniversario de Sôber, con Savia y Skizoo",
         "marker": {
          "color": "#636efa",
          "symbol": "circle"
         },
         "mode": "markers",
         "name": "30 Aniversario de Sôber, con Savia y Skizoo",
         "orientation": "v",
         "showlegend": true,
         "type": "scatter",
         "x": [
          28
         ],
         "xaxis": "x",
         "y": [
          43.36017724189998
         ],
         "yaxis": "y"
        },
        {
         "hovertemplate": "Nombre del Concierto=30 Aniversario de Sôber, con Savia y Skizoo | Soundcheck Experience<br>Precio Real=%{x}<br>Precio Predicho=%{y}<extra></extra>",
         "legendgroup": "30 Aniversario de Sôber, con Savia y Skizoo | Soundcheck Experience",
         "marker": {
          "color": "#EF553B",
          "symbol": "circle"
         },
         "mode": "markers",
         "name": "30 Aniversario de Sôber, con Savia y Skizoo | Soundcheck Experience",
         "orientation": "v",
         "showlegend": true,
         "type": "scatter",
         "x": [
          50
         ],
         "xaxis": "x",
         "y": [
          43.36017724189998
         ],
         "yaxis": "y"
        },
        {
         "hovertemplate": "Nombre del Concierto=AC/DC - Power Up Tour<br>Precio Real=%{x}<br>Precio Predicho=%{y}<extra></extra>",
         "legendgroup": "AC/DC - Power Up Tour",
         "marker": {
          "color": "#00cc96",
          "symbol": "circle"
         },
         "mode": "markers",
         "name": "AC/DC - Power Up Tour",
         "orientation": "v",
         "showlegend": true,
         "type": "scatter",
         "x": [
          105,
          105,
          105,
          105
         ],
         "xaxis": "x",
         "y": [
          95.98749932403102,
          95.90370136760122,
          97.19558652922724,
          97.09782224672583
         ],
         "yaxis": "y"
        },
        {
         "hovertemplate": "Nombre del Concierto=Abba The New Experience & Queen Forever<br>Precio Real=%{x}<br>Precio Predicho=%{y}<extra></extra>",
         "legendgroup": "Abba The New Experience & Queen Forever",
         "marker": {
          "color": "#ab63fa",
          "symbol": "circle"
         },
         "mode": "markers",
         "name": "Abba The New Experience & Queen Forever",
         "orientation": "v",
         "showlegend": true,
         "type": "scatter",
         "x": [
          20
         ],
         "xaxis": "x",
         "y": [
          24.021155466709466
         ],
         "yaxis": "y"
        },
        {
         "hovertemplate": "Nombre del Concierto=Abraham Mateo y Nil Moliner<br>Precio Real=%{x}<br>Precio Predicho=%{y}<extra></extra>",
         "legendgroup": "Abraham Mateo y Nil Moliner",
         "marker": {
          "color": "#FFA15A",
          "symbol": "circle"
         },
         "mode": "markers",
         "name": "Abraham Mateo y Nil Moliner",
         "orientation": "v",
         "showlegend": true,
         "type": "scatter",
         "x": [
          30.01,
          30.01
         ],
         "xaxis": "x",
         "y": [
          35.19828300828613,
          31.36944687322103
         ],
         "yaxis": "y"
        },
        {
         "hovertemplate": "Nombre del Concierto=Aitana<br>Precio Real=%{x}<br>Precio Predicho=%{y}<extra></extra>",
         "legendgroup": "Aitana",
         "marker": {
          "color": "#19d3f3",
          "symbol": "circle"
         },
         "mode": "markers",
         "name": "Aitana",
         "orientation": "v",
         "showlegend": true,
         "type": "scatter",
         "x": [
          41.43,
          49.11,
          49.11,
          50,
          59.82,
          65.18,
          65.18,
          71.43
         ],
         "xaxis": "x",
         "y": [
          67.70409062595391,
          68.53858490714701,
          68.86382877587555,
          44.29264124858306,
          68.8356999854207,
          72.20200888835039,
          68.16473877885677,
          68.48806516008075
         ],
         "yaxis": "y"
        },
        {
         "hovertemplate": "Nombre del Concierto=Aleman<br>Precio Real=%{x}<br>Precio Predicho=%{y}<extra></extra>",
         "legendgroup": "Aleman",
         "marker": {
          "color": "#FF6692",
          "symbol": "circle"
         },
         "mode": "markers",
         "name": "Aleman",
         "orientation": "v",
         "showlegend": true,
         "type": "scatter",
         "x": [
          22,
          22
         ],
         "xaxis": "x",
         "y": [
          20.84704357307961,
          20.740234434441533
         ],
         "yaxis": "y"
        },
        {
         "hovertemplate": "Nombre del Concierto=Ana Mena<br>Precio Real=%{x}<br>Precio Predicho=%{y}<extra></extra>",
         "legendgroup": "Ana Mena",
         "marker": {
          "color": "#B6E880",
          "symbol": "circle"
         },
         "mode": "markers",
         "name": "Ana Mena",
         "orientation": "v",
         "showlegend": true,
         "type": "scatter",
         "x": [
          30
         ],
         "xaxis": "x",
         "y": [
          20.6154916419692
         ],
         "yaxis": "y"
        },
        {
         "hovertemplate": "Nombre del Concierto=Andrés Calamaro<br>Precio Real=%{x}<br>Precio Predicho=%{y}<extra></extra>",
         "legendgroup": "Andrés Calamaro",
         "marker": {
          "color": "#FF97FF",
          "symbol": "circle"
         },
         "mode": "markers",
         "name": "Andrés Calamaro",
         "orientation": "v",
         "showlegend": true,
         "type": "scatter",
         "x": [
          37
         ],
         "xaxis": "x",
         "y": [
          39.267182628977906
         ],
         "yaxis": "y"
        },
        {
         "hovertemplate": "Nombre del Concierto=Antonio José<br>Precio Real=%{x}<br>Precio Predicho=%{y}<extra></extra>",
         "legendgroup": "Antonio José",
         "marker": {
          "color": "#FECB52",
          "symbol": "circle"
         },
         "mode": "markers",
         "name": "Antonio José",
         "orientation": "v",
         "showlegend": true,
         "type": "scatter",
         "x": [
          27,
          30.01,
          30.01
         ],
         "xaxis": "x",
         "y": [
          49.97389790547954,
          37.16631804241122,
          37.160285179552176
         ],
         "yaxis": "y"
        },
        {
         "hovertemplate": "Nombre del Concierto=Antoñito Molina<br>Precio Real=%{x}<br>Precio Predicho=%{y}<extra></extra>",
         "legendgroup": "Antoñito Molina",
         "marker": {
          "color": "#636efa",
          "symbol": "circle"
         },
         "mode": "markers",
         "name": "Antoñito Molina",
         "orientation": "v",
         "showlegend": true,
         "type": "scatter",
         "x": [
          25,
          25
         ],
         "xaxis": "x",
         "y": [
          23.995440841262084,
          32.09409394873878
         ],
         "yaxis": "y"
        },
        {
         "hovertemplate": "Nombre del Concierto=BURNING - CONCIERTO ESPECIAL 50 ANIVERSARIO<br>Precio Real=%{x}<br>Precio Predicho=%{y}<extra></extra>",
         "legendgroup": "BURNING - CONCIERTO ESPECIAL 50 ANIVERSARIO",
         "marker": {
          "color": "#EF553B",
          "symbol": "circle"
         },
         "mode": "markers",
         "name": "BURNING - CONCIERTO ESPECIAL 50 ANIVERSARIO",
         "orientation": "v",
         "showlegend": true,
         "type": "scatter",
         "x": [
          30
         ],
         "xaxis": "x",
         "y": [
          28.494094528999742
         ],
         "yaxis": "y"
        },
        {
         "hovertemplate": "Nombre del Concierto=Ballet Flamenco Sara Baras<br>Precio Real=%{x}<br>Precio Predicho=%{y}<extra></extra>",
         "legendgroup": "Ballet Flamenco Sara Baras",
         "marker": {
          "color": "#00cc96",
          "symbol": "circle"
         },
         "mode": "markers",
         "name": "Ballet Flamenco Sara Baras",
         "orientation": "v",
         "showlegend": true,
         "type": "scatter",
         "x": [
          30.01,
          30.01
         ],
         "xaxis": "x",
         "y": [
          30.461197572839588,
          30.3824077857801
         ],
         "yaxis": "y"
        },
        {
         "hovertemplate": "Nombre del Concierto=Ballet Nacional de España / Estampas Flamencas<br>Precio Real=%{x}<br>Precio Predicho=%{y}<extra></extra>",
         "legendgroup": "Ballet Nacional de España / Estampas Flamencas",
         "marker": {
          "color": "#ab63fa",
          "symbol": "circle"
         },
         "mode": "markers",
         "name": "Ballet Nacional de España / Estampas Flamencas",
         "orientation": "v",
         "showlegend": true,
         "type": "scatter",
         "x": [
          25
         ],
         "xaxis": "x",
         "y": [
          26.675841119690055
         ],
         "yaxis": "y"
        },
        {
         "hovertemplate": "Nombre del Concierto=Benjamin Ingrosso<br>Precio Real=%{x}<br>Precio Predicho=%{y}<extra></extra>",
         "legendgroup": "Benjamin Ingrosso",
         "marker": {
          "color": "#FFA15A",
          "symbol": "circle"
         },
         "mode": "markers",
         "name": "Benjamin Ingrosso",
         "orientation": "v",
         "showlegend": true,
         "type": "scatter",
         "x": [
          23
         ],
         "xaxis": "x",
         "y": [
          27.11155586242014
         ],
         "yaxis": "y"
        },
        {
         "hovertemplate": "Nombre del Concierto=Big Time Rush - UK & Europe Tour 2024<br>Precio Real=%{x}<br>Precio Predicho=%{y}<extra></extra>",
         "legendgroup": "Big Time Rush - UK & Europe Tour 2024",
         "marker": {
          "color": "#19d3f3",
          "symbol": "circle"
         },
         "mode": "markers",
         "name": "Big Time Rush - UK & Europe Tour 2024",
         "orientation": "v",
         "showlegend": true,
         "type": "scatter",
         "x": [
          40
         ],
         "xaxis": "x",
         "y": [
          44.368229866321045
         ],
         "yaxis": "y"
        },
        {
         "hovertemplate": "Nombre del Concierto=Bunbury<br>Precio Real=%{x}<br>Precio Predicho=%{y}<extra></extra>",
         "legendgroup": "Bunbury",
         "marker": {
          "color": "#FF6692",
          "symbol": "circle"
         },
         "mode": "markers",
         "name": "Bunbury",
         "orientation": "v",
         "showlegend": true,
         "type": "scatter",
         "x": [
          40,
          70
         ],
         "xaxis": "x",
         "y": [
          59.85578829073727,
          63.92094875220666
         ],
         "yaxis": "y"
        },
        {
         "hovertemplate": "Nombre del Concierto=CHUMI DJ presenta YESTERDAY 17 - DÉCIMO ANIVERSARIO<br>Precio Real=%{x}<br>Precio Predicho=%{y}<extra></extra>",
         "legendgroup": "CHUMI DJ presenta YESTERDAY 17 - DÉCIMO ANIVERSARIO",
         "marker": {
          "color": "#B6E880",
          "symbol": "circle"
         },
         "mode": "markers",
         "name": "CHUMI DJ presenta YESTERDAY 17 - DÉCIMO ANIVERSARIO",
         "orientation": "v",
         "showlegend": true,
         "type": "scatter",
         "x": [
          24,
          25
         ],
         "xaxis": "x",
         "y": [
          25.54710785851048,
          26.166527194137192
         ],
         "yaxis": "y"
        },
        {
         "hovertemplate": "Nombre del Concierto=Café Quijano<br>Precio Real=%{x}<br>Precio Predicho=%{y}<extra></extra>",
         "legendgroup": "Café Quijano",
         "marker": {
          "color": "#FF97FF",
          "symbol": "circle"
         },
         "mode": "markers",
         "name": "Café Quijano",
         "orientation": "v",
         "showlegend": true,
         "type": "scatter",
         "x": [
          30,
          30,
          34
         ],
         "xaxis": "x",
         "y": [
          32.52825408508698,
          29.36478260045047,
          32.426349492810445
         ],
         "yaxis": "y"
        },
        {
         "hovertemplate": "Nombre del Concierto=Califato ¾<br>Precio Real=%{x}<br>Precio Predicho=%{y}<extra></extra>",
         "legendgroup": "Califato ¾",
         "marker": {
          "color": "#FECB52",
          "symbol": "circle"
         },
         "mode": "markers",
         "name": "Califato ¾",
         "orientation": "v",
         "showlegend": true,
         "type": "scatter",
         "x": [
          20
         ],
         "xaxis": "x",
         "y": [
          26.061368086797216
         ],
         "yaxis": "y"
        },
        {
         "hovertemplate": "Nombre del Concierto=Camela<br>Precio Real=%{x}<br>Precio Predicho=%{y}<extra></extra>",
         "legendgroup": "Camela",
         "marker": {
          "color": "#636efa",
          "symbol": "circle"
         },
         "mode": "markers",
         "name": "Camela",
         "orientation": "v",
         "showlegend": true,
         "type": "scatter",
         "x": [
          27,
          30,
          35
         ],
         "xaxis": "x",
         "y": [
          29.481815947341897,
          34.25083022592574,
          33.34544076287958
         ],
         "yaxis": "y"
        },
        {
         "hovertemplate": "Nombre del Concierto=Camilo<br>Precio Real=%{x}<br>Precio Predicho=%{y}<extra></extra>",
         "legendgroup": "Camilo",
         "marker": {
          "color": "#EF553B",
          "symbol": "circle"
         },
         "mode": "markers",
         "name": "Camilo",
         "orientation": "v",
         "showlegend": true,
         "type": "scatter",
         "x": [
          25,
          25,
          35,
          35,
          40,
          40,
          40,
          40,
          43,
          44.64,
          45,
          45,
          49,
          56.25,
          59.82,
          76.79
         ],
         "xaxis": "x",
         "y": [
          40.93161989156169,
          44.5824158821354,
          43.78866264022782,
          37.9715100181999,
          48.512698202336146,
          41.24307781874794,
          45.65231391269146,
          38.044960687206995,
          41.078815413738894,
          46.558151342503756,
          41.47519383448892,
          40.637084462624095,
          38.24599072436535,
          46.46015826882465,
          46.535022003664324,
          46.103274345328124
         ],
         "yaxis": "y"
        },
        {
         "hovertemplate": "Nombre del Concierto=Cano<br>Precio Real=%{x}<br>Precio Predicho=%{y}<extra></extra>",
         "legendgroup": "Cano",
         "marker": {
          "color": "#00cc96",
          "symbol": "circle"
         },
         "mode": "markers",
         "name": "Cano",
         "orientation": "v",
         "showlegend": true,
         "type": "scatter",
         "x": [
          25
         ],
         "xaxis": "x",
         "y": [
          29.401777929288944
         ],
         "yaxis": "y"
        },
        {
         "hovertemplate": "Nombre del Concierto=Carlos Piñana y la Orquesta Sinfónica de la Región de Murcia / Rubato<br>Precio Real=%{x}<br>Precio Predicho=%{y}<extra></extra>",
         "legendgroup": "Carlos Piñana y la Orquesta Sinfónica de la Región de Murcia / Rubato",
         "marker": {
          "color": "#ab63fa",
          "symbol": "circle"
         },
         "mode": "markers",
         "name": "Carlos Piñana y la Orquesta Sinfónica de la Región de Murcia / Rubato",
         "orientation": "v",
         "showlegend": true,
         "type": "scatter",
         "x": [
          15
         ],
         "xaxis": "x",
         "y": [
          20.238734975472
         ],
         "yaxis": "y"
        },
        {
         "hovertemplate": "Nombre del Concierto=Carlos Vives<br>Precio Real=%{x}<br>Precio Predicho=%{y}<extra></extra>",
         "legendgroup": "Carlos Vives",
         "marker": {
          "color": "#FFA15A",
          "symbol": "circle"
         },
         "mode": "markers",
         "name": "Carlos Vives",
         "orientation": "v",
         "showlegend": true,
         "type": "scatter",
         "x": [
          35.71
         ],
         "xaxis": "x",
         "y": [
          37.04035018022253
         ],
         "yaxis": "y"
        },
        {
         "hovertemplate": "Nombre del Concierto=Carlos Vives - El Rock de mi pueblo vive - Tour España 2024<br>Precio Real=%{x}<br>Precio Predicho=%{y}<extra></extra>",
         "legendgroup": "Carlos Vives - El Rock de mi pueblo vive - Tour España 2024",
         "marker": {
          "color": "#19d3f3",
          "symbol": "circle"
         },
         "mode": "markers",
         "name": "Carlos Vives - El Rock de mi pueblo vive - Tour España 2024",
         "orientation": "v",
         "showlegend": true,
         "type": "scatter",
         "x": [
          48
         ],
         "xaxis": "x",
         "y": [
          55.940519696820196
         ],
         "yaxis": "y"
        },
        {
         "hovertemplate": "Nombre del Concierto=Carmen Boza<br>Precio Real=%{x}<br>Precio Predicho=%{y}<extra></extra>",
         "legendgroup": "Carmen Boza",
         "marker": {
          "color": "#FF6692",
          "symbol": "circle"
         },
         "mode": "markers",
         "name": "Carmen Boza",
         "orientation": "v",
         "showlegend": true,
         "type": "scatter",
         "x": [
          17
         ],
         "xaxis": "x",
         "y": [
          16.639219781333463
         ],
         "yaxis": "y"
        },
        {
         "hovertemplate": "Nombre del Concierto=Carín León<br>Precio Real=%{x}<br>Precio Predicho=%{y}<extra></extra>",
         "legendgroup": "Carín León",
         "marker": {
          "color": "#B6E880",
          "symbol": "circle"
         },
         "mode": "markers",
         "name": "Carín León",
         "orientation": "v",
         "showlegend": true,
         "type": "scatter",
         "x": [
          30
         ],
         "xaxis": "x",
         "y": [
          41.48081380866696
         ],
         "yaxis": "y"
        },
        {
         "hovertemplate": "Nombre del Concierto=Celtas Cortos y amigos<br>Precio Real=%{x}<br>Precio Predicho=%{y}<extra></extra>",
         "legendgroup": "Celtas Cortos y amigos",
         "marker": {
          "color": "#FF97FF",
          "symbol": "circle"
         },
         "mode": "markers",
         "name": "Celtas Cortos y amigos",
         "orientation": "v",
         "showlegend": true,
         "type": "scatter",
         "x": [
          35
         ],
         "xaxis": "x",
         "y": [
          44.19675366088856
         ],
         "yaxis": "y"
        },
        {
         "hovertemplate": "Nombre del Concierto=Charlie USG<br>Precio Real=%{x}<br>Precio Predicho=%{y}<extra></extra>",
         "legendgroup": "Charlie USG",
         "marker": {
          "color": "#FECB52",
          "symbol": "circle"
         },
         "mode": "markers",
         "name": "Charlie USG",
         "orientation": "v",
         "showlegend": true,
         "type": "scatter",
         "x": [
          18,
          18,
          18,
          18,
          18,
          20
         ],
         "xaxis": "x",
         "y": [
          20.734119954606957,
          20.34457082125872,
          21.424432253710144,
          20.340664401380025,
          20.659137212724275,
          20.546663099900254
         ],
         "yaxis": "y"
        },
        {
         "hovertemplate": "Nombre del Concierto=Christian Nodal<br>Precio Real=%{x}<br>Precio Predicho=%{y}<extra></extra>",
         "legendgroup": "Christian Nodal",
         "marker": {
          "color": "#636efa",
          "symbol": "circle"
         },
         "mode": "markers",
         "name": "Christian Nodal",
         "orientation": "v",
         "showlegend": true,
         "type": "scatter",
         "x": [
          25,
          30,
          30.01,
          37.5
         ],
         "xaxis": "x",
         "y": [
          42.708548454236855,
          39.31138354584244,
          42.02681353071984,
          39.24147923371315
         ],
         "yaxis": "y"
        },
        {
         "hovertemplate": "Nombre del Concierto=Cruz Cafuné<br>Precio Real=%{x}<br>Precio Predicho=%{y}<extra></extra>",
         "legendgroup": "Cruz Cafuné",
         "marker": {
          "color": "#EF553B",
          "symbol": "circle"
         },
         "mode": "markers",
         "name": "Cruz Cafuné",
         "orientation": "v",
         "showlegend": true,
         "type": "scatter",
         "x": [
          35
         ],
         "xaxis": "x",
         "y": [
          30.49133567254067
         ],
         "yaxis": "y"
        },
        {
         "hovertemplate": "Nombre del Concierto=Crystal Fighters<br>Precio Real=%{x}<br>Precio Predicho=%{y}<extra></extra>",
         "legendgroup": "Crystal Fighters",
         "marker": {
          "color": "#00cc96",
          "symbol": "circle"
         },
         "mode": "markers",
         "name": "Crystal Fighters",
         "orientation": "v",
         "showlegend": true,
         "type": "scatter",
         "x": [
          35,
          35,
          35
         ],
         "xaxis": "x",
         "y": [
          22.43111742498226,
          23.16850305691668,
          31.041163161349203
         ],
         "yaxis": "y"
        },
        {
         "hovertemplate": "Nombre del Concierto=Cultura Profética<br>Precio Real=%{x}<br>Precio Predicho=%{y}<extra></extra>",
         "legendgroup": "Cultura Profética",
         "marker": {
          "color": "#ab63fa",
          "symbol": "circle"
         },
         "mode": "markers",
         "name": "Cultura Profética",
         "orientation": "v",
         "showlegend": true,
         "type": "scatter",
         "x": [
          43,
          44
         ],
         "xaxis": "x",
         "y": [
          38.20105274607879,
          37.30545222360407
         ],
         "yaxis": "y"
        },
        {
         "hovertemplate": "Nombre del Concierto=Danza Invisible<br>Precio Real=%{x}<br>Precio Predicho=%{y}<extra></extra>",
         "legendgroup": "Danza Invisible",
         "marker": {
          "color": "#FFA15A",
          "symbol": "circle"
         },
         "mode": "markers",
         "name": "Danza Invisible",
         "orientation": "v",
         "showlegend": true,
         "type": "scatter",
         "x": [
          30
         ],
         "xaxis": "x",
         "y": [
          30.935173473379166
         ],
         "yaxis": "y"
        },
        {
         "hovertemplate": "Nombre del Concierto=Das Ich<br>Precio Real=%{x}<br>Precio Predicho=%{y}<extra></extra>",
         "legendgroup": "Das Ich",
         "marker": {
          "color": "#19d3f3",
          "symbol": "circle"
         },
         "mode": "markers",
         "name": "Das Ich",
         "orientation": "v",
         "showlegend": true,
         "type": "scatter",
         "x": [
          25
         ],
         "xaxis": "x",
         "y": [
          31.6029632102212
         ],
         "yaxis": "y"
        },
        {
         "hovertemplate": "Nombre del Concierto=David Bisbal<br>Precio Real=%{x}<br>Precio Predicho=%{y}<extra></extra>",
         "legendgroup": "David Bisbal",
         "marker": {
          "color": "#FF6692",
          "symbol": "circle"
         },
         "mode": "markers",
         "name": "David Bisbal",
         "orientation": "v",
         "showlegend": true,
         "type": "scatter",
         "x": [
          40
         ],
         "xaxis": "x",
         "y": [
          41.59162155975686
         ],
         "yaxis": "y"
        },
        {
         "hovertemplate": "Nombre del Concierto=Dead Poet Society<br>Precio Real=%{x}<br>Precio Predicho=%{y}<extra></extra>",
         "legendgroup": "Dead Poet Society",
         "marker": {
          "color": "#B6E880",
          "symbol": "circle"
         },
         "mode": "markers",
         "name": "Dead Poet Society",
         "orientation": "v",
         "showlegend": true,
         "type": "scatter",
         "x": [
          20,
          20
         ],
         "xaxis": "x",
         "y": [
          29.53474656520241,
          29.581826466549295
         ],
         "yaxis": "y"
        },
        {
         "hovertemplate": "Nombre del Concierto=Delaporte - Aquí y Ahora Tour<br>Precio Real=%{x}<br>Precio Predicho=%{y}<extra></extra>",
         "legendgroup": "Delaporte - Aquí y Ahora Tour",
         "marker": {
          "color": "#FF97FF",
          "symbol": "circle"
         },
         "mode": "markers",
         "name": "Delaporte - Aquí y Ahora Tour",
         "orientation": "v",
         "showlegend": true,
         "type": "scatter",
         "x": [
          23
         ],
         "xaxis": "x",
         "y": [
          20.94513223389155
         ],
         "yaxis": "y"
        },
        {
         "hovertemplate": "Nombre del Concierto=Depeche Mode - Memento Mori Tour<br>Precio Real=%{x}<br>Precio Predicho=%{y}<extra></extra>",
         "legendgroup": "Depeche Mode - Memento Mori Tour",
         "marker": {
          "color": "#FECB52",
          "symbol": "circle"
         },
         "mode": "markers",
         "name": "Depeche Mode - Memento Mori Tour",
         "orientation": "v",
         "showlegend": true,
         "type": "scatter",
         "x": [
          50,
          50,
          60
         ],
         "xaxis": "x",
         "y": [
          48.939448247790686,
          55.72265075941526,
          51.916699193296694
         ],
         "yaxis": "y"
        },
        {
         "hovertemplate": "Nombre del Concierto=Diana Krall<br>Precio Real=%{x}<br>Precio Predicho=%{y}<extra></extra>",
         "legendgroup": "Diana Krall",
         "marker": {
          "color": "#636efa",
          "symbol": "circle"
         },
         "mode": "markers",
         "name": "Diana Krall",
         "orientation": "v",
         "showlegend": true,
         "type": "scatter",
         "x": [
          30.01,
          31.25
         ],
         "xaxis": "x",
         "y": [
          29.61987309583845,
          29.533324592494402
         ],
         "yaxis": "y"
        },
        {
         "hovertemplate": "Nombre del Concierto=Dreamcatcher<br>Precio Real=%{x}<br>Precio Predicho=%{y}<extra></extra>",
         "legendgroup": "Dreamcatcher",
         "marker": {
          "color": "#EF553B",
          "symbol": "circle"
         },
         "mode": "markers",
         "name": "Dreamcatcher",
         "orientation": "v",
         "showlegend": true,
         "type": "scatter",
         "x": [
          105
         ],
         "xaxis": "x",
         "y": [
          46.575057647325686
         ],
         "yaxis": "y"
        },
        {
         "hovertemplate": "Nombre del Concierto=Duki<br>Precio Real=%{x}<br>Precio Predicho=%{y}<extra></extra>",
         "legendgroup": "Duki",
         "marker": {
          "color": "#00cc96",
          "symbol": "circle"
         },
         "mode": "markers",
         "name": "Duki",
         "orientation": "v",
         "showlegend": true,
         "type": "scatter",
         "x": [
          28
         ],
         "xaxis": "x",
         "y": [
          46.43824749360849
         ],
         "yaxis": "y"
        },
        {
         "hovertemplate": "Nombre del Concierto=Dystinct<br>Precio Real=%{x}<br>Precio Predicho=%{y}<extra></extra>",
         "legendgroup": "Dystinct",
         "marker": {
          "color": "#ab63fa",
          "symbol": "circle"
         },
         "mode": "markers",
         "name": "Dystinct",
         "orientation": "v",
         "showlegend": true,
         "type": "scatter",
         "x": [
          22
         ],
         "xaxis": "x",
         "y": [
          32.36703014798417
         ],
         "yaxis": "y"
        },
        {
         "hovertemplate": "Nombre del Concierto=Eduardo Guerrero “SO-LA-NA Las Minas Flamenco”<br>Precio Real=%{x}<br>Precio Predicho=%{y}<extra></extra>",
         "legendgroup": "Eduardo Guerrero “SO-LA-NA Las Minas Flamenco”",
         "marker": {
          "color": "#FFA15A",
          "symbol": "circle"
         },
         "mode": "markers",
         "name": "Eduardo Guerrero “SO-LA-NA Las Minas Flamenco”",
         "orientation": "v",
         "showlegend": true,
         "type": "scatter",
         "x": [
          20
         ],
         "xaxis": "x",
         "y": [
          19.7791150187439
         ],
         "yaxis": "y"
        },
        {
         "hovertemplate": "Nombre del Concierto=El Barrio<br>Precio Real=%{x}<br>Precio Predicho=%{y}<extra></extra>",
         "legendgroup": "El Barrio",
         "marker": {
          "color": "#19d3f3",
          "symbol": "circle"
         },
         "mode": "markers",
         "name": "El Barrio",
         "orientation": "v",
         "showlegend": true,
         "type": "scatter",
         "x": [
          40,
          40
         ],
         "xaxis": "x",
         "y": [
          41.348644414298725,
          41.43904638583255
         ],
         "yaxis": "y"
        },
        {
         "hovertemplate": "Nombre del Concierto=El Kanka<br>Precio Real=%{x}<br>Precio Predicho=%{y}<extra></extra>",
         "legendgroup": "El Kanka",
         "marker": {
          "color": "#FF6692",
          "symbol": "circle"
         },
         "mode": "markers",
         "name": "El Kanka",
         "orientation": "v",
         "showlegend": true,
         "type": "scatter",
         "x": [
          20,
          30,
          30,
          30,
          30,
          35
         ],
         "xaxis": "x",
         "y": [
          31.6155554338387,
          27.83017108702665,
          27.765198845264653,
          27.867298082319216,
          30.707809656701336,
          31.61207408731333
         ],
         "yaxis": "y"
        },
        {
         "hovertemplate": "Nombre del Concierto=El Pau<br>Precio Real=%{x}<br>Precio Predicho=%{y}<extra></extra>",
         "legendgroup": "El Pau",
         "marker": {
          "color": "#B6E880",
          "symbol": "circle"
         },
         "mode": "markers",
         "name": "El Pau",
         "orientation": "v",
         "showlegend": true,
         "type": "scatter",
         "x": [
          10,
          13,
          13,
          13,
          15,
          15,
          15,
          15,
          15,
          15,
          16
         ],
         "xaxis": "x",
         "y": [
          23.24610460198994,
          22.951034186976564,
          23.085038572025187,
          23.030472722765374,
          22.951034186976564,
          22.803825903636483,
          24.900590593330726,
          23.605629774953538,
          23.166661278065106,
          23.251779125127428,
          23.036147245902857
         ],
         "yaxis": "y"
        },
        {
         "hovertemplate": "Nombre del Concierto=ElGrandeToto - Twenty-Seven Tour<br>Precio Real=%{x}<br>Precio Predicho=%{y}<extra></extra>",
         "legendgroup": "ElGrandeToto - Twenty-Seven Tour",
         "marker": {
          "color": "#FF97FF",
          "symbol": "circle"
         },
         "mode": "markers",
         "name": "ElGrandeToto - Twenty-Seven Tour",
         "orientation": "v",
         "showlegend": true,
         "type": "scatter",
         "x": [
          24,
          24
         ],
         "xaxis": "x",
         "y": [
          25.135458146577562,
          24.675212589277443
         ],
         "yaxis": "y"
        },
        {
         "hovertemplate": "Nombre del Concierto=Emilia<br>Precio Real=%{x}<br>Precio Predicho=%{y}<extra></extra>",
         "legendgroup": "Emilia",
         "marker": {
          "color": "#FECB52",
          "symbol": "circle"
         },
         "mode": "markers",
         "name": "Emilia",
         "orientation": "v",
         "showlegend": true,
         "type": "scatter",
         "x": [
          25,
          25,
          34.82,
          34.82,
          35,
          35
         ],
         "xaxis": "x",
         "y": [
          33.70211918543513,
          30.402719109283954,
          28.432071962834957,
          28.22503170926392,
          33.78632106133073,
          33.59452789956853
         ],
         "yaxis": "y"
        },
        {
         "hovertemplate": "Nombre del Concierto=Enol<br>Precio Real=%{x}<br>Precio Predicho=%{y}<extra></extra>",
         "legendgroup": "Enol",
         "marker": {
          "color": "#636efa",
          "symbol": "circle"
         },
         "mode": "markers",
         "name": "Enol",
         "orientation": "v",
         "showlegend": true,
         "type": "scatter",
         "x": [
          22,
          22,
          22
         ],
         "xaxis": "x",
         "y": [
          28.499293408987615,
          31.960725349901473,
          31.152175862846846
         ],
         "yaxis": "y"
        },
        {
         "hovertemplate": "Nombre del Concierto=Estopa<br>Precio Real=%{x}<br>Precio Predicho=%{y}<extra></extra>",
         "legendgroup": "Estopa",
         "marker": {
          "color": "#EF553B",
          "symbol": "circle"
         },
         "mode": "markers",
         "name": "Estopa",
         "orientation": "v",
         "showlegend": true,
         "type": "scatter",
         "x": [
          40
         ],
         "xaxis": "x",
         "y": [
          49.526974362242136
         ],
         "yaxis": "y"
        },
        {
         "hovertemplate": "Nombre del Concierto=Eva Ruiz<br>Precio Real=%{x}<br>Precio Predicho=%{y}<extra></extra>",
         "legendgroup": "Eva Ruiz",
         "marker": {
          "color": "#00cc96",
          "symbol": "circle"
         },
         "mode": "markers",
         "name": "Eva Ruiz",
         "orientation": "v",
         "showlegend": true,
         "type": "scatter",
         "x": [
          23,
          23,
          23
         ],
         "xaxis": "x",
         "y": [
          21.577578032799835,
          21.618539444247595,
          21.611884808271245
         ],
         "yaxis": "y"
        },
        {
         "hovertemplate": "Nombre del Concierto=Fletcher<br>Precio Real=%{x}<br>Precio Predicho=%{y}<extra></extra>",
         "legendgroup": "Fletcher",
         "marker": {
          "color": "#ab63fa",
          "symbol": "circle"
         },
         "mode": "markers",
         "name": "Fletcher",
         "orientation": "v",
         "showlegend": true,
         "type": "scatter",
         "x": [
          24,
          24,
          40,
          40
         ],
         "xaxis": "x",
         "y": [
          50.08817141818714,
          47.16152091528408,
          49.853754040480325,
          46.42838272182612
         ],
         "yaxis": "y"
        },
        {
         "hovertemplate": "Nombre del Concierto=Flor Bertotti<br>Precio Real=%{x}<br>Precio Predicho=%{y}<extra></extra>",
         "legendgroup": "Flor Bertotti",
         "marker": {
          "color": "#FFA15A",
          "symbol": "circle"
         },
         "mode": "markers",
         "name": "Flor Bertotti",
         "orientation": "v",
         "showlegend": true,
         "type": "scatter",
         "x": [
          30
         ],
         "xaxis": "x",
         "y": [
          30.45630403919023
         ],
         "yaxis": "y"
        },
        {
         "hovertemplate": "Nombre del Concierto=Fonseca<br>Precio Real=%{x}<br>Precio Predicho=%{y}<extra></extra>",
         "legendgroup": "Fonseca",
         "marker": {
          "color": "#19d3f3",
          "symbol": "circle"
         },
         "mode": "markers",
         "name": "Fonseca",
         "orientation": "v",
         "showlegend": true,
         "type": "scatter",
         "x": [
          30
         ],
         "xaxis": "x",
         "y": [
          50.91539558663728
         ],
         "yaxis": "y"
        },
        {
         "hovertemplate": "Nombre del Concierto=Foy Vance - Regarding The Joy Of Nothing Tour<br>Precio Real=%{x}<br>Precio Predicho=%{y}<extra></extra>",
         "legendgroup": "Foy Vance - Regarding The Joy Of Nothing Tour",
         "marker": {
          "color": "#FF6692",
          "symbol": "circle"
         },
         "mode": "markers",
         "name": "Foy Vance - Regarding The Joy Of Nothing Tour",
         "orientation": "v",
         "showlegend": true,
         "type": "scatter",
         "x": [
          23,
          23,
          23,
          25,
          25,
          25
         ],
         "xaxis": "x",
         "y": [
          30.456601486747044,
          30.549299252980823,
          30.467388365201693,
          30.584268157409504,
          30.58628332624067,
          30.638677715851067
         ],
         "yaxis": "y"
        },
        {
         "hovertemplate": "Nombre del Concierto=Fran Perea<br>Precio Real=%{x}<br>Precio Predicho=%{y}<extra></extra>",
         "legendgroup": "Fran Perea",
         "marker": {
          "color": "#B6E880",
          "symbol": "circle"
         },
         "mode": "markers",
         "name": "Fran Perea",
         "orientation": "v",
         "showlegend": true,
         "type": "scatter",
         "x": [
          25,
          25,
          25,
          25,
          25,
          25,
          25,
          25
         ],
         "xaxis": "x",
         "y": [
          24.16888669600379,
          24.13493063953861,
          23.868470055774573,
          24.15530427341772,
          23.944776723333632,
          23.868470055774573,
          27.114721918768495,
          24.039853681436124
         ],
         "yaxis": "y"
        },
        {
         "hovertemplate": "Nombre del Concierto=Front 242<br>Precio Real=%{x}<br>Precio Predicho=%{y}<extra></extra>",
         "legendgroup": "Front 242",
         "marker": {
          "color": "#FF97FF",
          "symbol": "circle"
         },
         "mode": "markers",
         "name": "Front 242",
         "orientation": "v",
         "showlegend": true,
         "type": "scatter",
         "x": [
          33.13,
          33.13
         ],
         "xaxis": "x",
         "y": [
          36.25033886259877,
          36.24521007690841
         ],
         "yaxis": "y"
        },
        {
         "hovertemplate": "Nombre del Concierto=Funzo & Baby Loud<br>Precio Real=%{x}<br>Precio Predicho=%{y}<extra></extra>",
         "legendgroup": "Funzo & Baby Loud",
         "marker": {
          "color": "#FECB52",
          "symbol": "circle"
         },
         "mode": "markers",
         "name": "Funzo & Baby Loud",
         "orientation": "v",
         "showlegend": true,
         "type": "scatter",
         "x": [
          29
         ],
         "xaxis": "x",
         "y": [
          26.22316844191306
         ],
         "yaxis": "y"
        },
        {
         "hovertemplate": "Nombre del Concierto=Future Islands<br>Precio Real=%{x}<br>Precio Predicho=%{y}<extra></extra>",
         "legendgroup": "Future Islands",
         "marker": {
          "color": "#636efa",
          "symbol": "circle"
         },
         "mode": "markers",
         "name": "Future Islands",
         "orientation": "v",
         "showlegend": true,
         "type": "scatter",
         "x": [
          35,
          35
         ],
         "xaxis": "x",
         "y": [
          42.5080630857209,
          40.1017089817613
         ],
         "yaxis": "y"
        },
        {
         "hovertemplate": "Nombre del Concierto=Garbage<br>Precio Real=%{x}<br>Precio Predicho=%{y}<extra></extra>",
         "legendgroup": "Garbage",
         "marker": {
          "color": "#EF553B",
          "symbol": "circle"
         },
         "mode": "markers",
         "name": "Garbage",
         "orientation": "v",
         "showlegend": true,
         "type": "scatter",
         "x": [
          40
         ],
         "xaxis": "x",
         "y": [
          27.1706655988779
         ],
         "yaxis": "y"
        },
        {
         "hovertemplate": "Nombre del Concierto=Gipsy Kings Featuring Nicolas Reyes And Tonino Baliardo<br>Precio Real=%{x}<br>Precio Predicho=%{y}<extra></extra>",
         "legendgroup": "Gipsy Kings Featuring Nicolas Reyes And Tonino Baliardo",
         "marker": {
          "color": "#00cc96",
          "symbol": "circle"
         },
         "mode": "markers",
         "name": "Gipsy Kings Featuring Nicolas Reyes And Tonino Baliardo",
         "orientation": "v",
         "showlegend": true,
         "type": "scatter",
         "x": [
          30
         ],
         "xaxis": "x",
         "y": [
          27.339167536542647
         ],
         "yaxis": "y"
        },
        {
         "hovertemplate": "Nombre del Concierto=Gonzalo Alhambra<br>Precio Real=%{x}<br>Precio Predicho=%{y}<extra></extra>",
         "legendgroup": "Gonzalo Alhambra",
         "marker": {
          "color": "#ab63fa",
          "symbol": "circle"
         },
         "mode": "markers",
         "name": "Gonzalo Alhambra",
         "orientation": "v",
         "showlegend": true,
         "type": "scatter",
         "x": [
          12
         ],
         "xaxis": "x",
         "y": [
          19.139166929553852
         ],
         "yaxis": "y"
        },
        {
         "hovertemplate": "Nombre del Concierto=Gordo<br>Precio Real=%{x}<br>Precio Predicho=%{y}<extra></extra>",
         "legendgroup": "Gordo",
         "marker": {
          "color": "#FFA15A",
          "symbol": "circle"
         },
         "mode": "markers",
         "name": "Gordo",
         "orientation": "v",
         "showlegend": true,
         "type": "scatter",
         "x": [
          25
         ],
         "xaxis": "x",
         "y": [
          23.710957067199757
         ],
         "yaxis": "y"
        },
        {
         "hovertemplate": "Nombre del Concierto=Ha*Ash<br>Precio Real=%{x}<br>Precio Predicho=%{y}<extra></extra>",
         "legendgroup": "Ha*Ash",
         "marker": {
          "color": "#19d3f3",
          "symbol": "circle"
         },
         "mode": "markers",
         "name": "Ha*Ash",
         "orientation": "v",
         "showlegend": true,
         "type": "scatter",
         "x": [
          35,
          35,
          35,
          35,
          40,
          40
         ],
         "xaxis": "x",
         "y": [
          31.699805981856436,
          32.60127628294392,
          31.66384920202064,
          47.84410409177442,
          39.44009068579803,
          35.55246596910299
         ],
         "yaxis": "y"
        },
        {
         "hovertemplate": "Nombre del Concierto=Hauser<br>Precio Real=%{x}<br>Precio Predicho=%{y}<extra></extra>",
         "legendgroup": "Hauser",
         "marker": {
          "color": "#FF6692",
          "symbol": "circle"
         },
         "mode": "markers",
         "name": "Hauser",
         "orientation": "v",
         "showlegend": true,
         "type": "scatter",
         "x": [
          35.71,
          35.71
         ],
         "xaxis": "x",
         "y": [
          37.369953344905255,
          37.58713640783099
         ],
         "yaxis": "y"
        },
        {
         "hovertemplate": "Nombre del Concierto=Hens<br>Precio Real=%{x}<br>Precio Predicho=%{y}<extra></extra>",
         "legendgroup": "Hens",
         "marker": {
          "color": "#B6E880",
          "symbol": "circle"
         },
         "mode": "markers",
         "name": "Hens",
         "orientation": "v",
         "showlegend": true,
         "type": "scatter",
         "x": [
          30
         ],
         "xaxis": "x",
         "y": [
          34.277114126597894
         ],
         "yaxis": "y"
        },
        {
         "hovertemplate": "Nombre del Concierto=Hermanos Gutiérrez<br>Precio Real=%{x}<br>Precio Predicho=%{y}<extra></extra>",
         "legendgroup": "Hermanos Gutiérrez",
         "marker": {
          "color": "#FF97FF",
          "symbol": "circle"
         },
         "mode": "markers",
         "name": "Hermanos Gutiérrez",
         "orientation": "v",
         "showlegend": true,
         "type": "scatter",
         "x": [
          40
         ],
         "xaxis": "x",
         "y": [
          41.68938005845779
         ],
         "yaxis": "y"
        },
        {
         "hovertemplate": "Nombre del Concierto=Hivernacle Pop Up Club#5 SEASON CLOSING: PAWSA, Toman & Foie Grass<br>Precio Real=%{x}<br>Precio Predicho=%{y}<extra></extra>",
         "legendgroup": "Hivernacle Pop Up Club#5 SEASON CLOSING: PAWSA, Toman & Foie Grass",
         "marker": {
          "color": "#FECB52",
          "symbol": "circle"
         },
         "mode": "markers",
         "name": "Hivernacle Pop Up Club#5 SEASON CLOSING: PAWSA, Toman & Foie Grass",
         "orientation": "v",
         "showlegend": true,
         "type": "scatter",
         "x": [
          23,
          23
         ],
         "xaxis": "x",
         "y": [
          28.829421577597454,
          30.75669459054111
         ],
         "yaxis": "y"
        },
        {
         "hovertemplate": "Nombre del Concierto=Hombres G<br>Precio Real=%{x}<br>Precio Predicho=%{y}<extra></extra>",
         "legendgroup": "Hombres G",
         "marker": {
          "color": "#636efa",
          "symbol": "circle"
         },
         "mode": "markers",
         "name": "Hombres G",
         "orientation": "v",
         "showlegend": true,
         "type": "scatter",
         "x": [
          39.29,
          39.29
         ],
         "xaxis": "x",
         "y": [
          35.61211032778168,
          35.221053197775966
         ],
         "yaxis": "y"
        },
        {
         "hovertemplate": "Nombre del Concierto=Hozier<br>Precio Real=%{x}<br>Precio Predicho=%{y}<extra></extra>",
         "legendgroup": "Hozier",
         "marker": {
          "color": "#EF553B",
          "symbol": "circle"
         },
         "mode": "markers",
         "name": "Hozier",
         "orientation": "v",
         "showlegend": true,
         "type": "scatter",
         "x": [
          55
         ],
         "xaxis": "x",
         "y": [
          50.23444354156502
         ],
         "yaxis": "y"
        },
        {
         "hovertemplate": "Nombre del Concierto=I Love by Dj Nano<br>Precio Real=%{x}<br>Precio Predicho=%{y}<extra></extra>",
         "legendgroup": "I Love by Dj Nano",
         "marker": {
          "color": "#00cc96",
          "symbol": "circle"
         },
         "mode": "markers",
         "name": "I Love by Dj Nano",
         "orientation": "v",
         "showlegend": true,
         "type": "scatter",
         "x": [
          30
         ],
         "xaxis": "x",
         "y": [
          24.30841232241557
         ],
         "yaxis": "y"
        },
        {
         "hovertemplate": "Nombre del Concierto=IAMDDB<br>Precio Real=%{x}<br>Precio Predicho=%{y}<extra></extra>",
         "legendgroup": "IAMDDB",
         "marker": {
          "color": "#ab63fa",
          "symbol": "circle"
         },
         "mode": "markers",
         "name": "IAMDDB",
         "orientation": "v",
         "showlegend": true,
         "type": "scatter",
         "x": [
          26
         ],
         "xaxis": "x",
         "y": [
          27.483916552079215
         ],
         "yaxis": "y"
        },
        {
         "hovertemplate": "Nombre del Concierto=ITZY 2ND WORLD TOUR ‘BORN TO BE’<br>Precio Real=%{x}<br>Precio Predicho=%{y}<extra></extra>",
         "legendgroup": "ITZY 2ND WORLD TOUR ‘BORN TO BE’",
         "marker": {
          "color": "#FFA15A",
          "symbol": "circle"
         },
         "mode": "markers",
         "name": "ITZY 2ND WORLD TOUR ‘BORN TO BE’",
         "orientation": "v",
         "showlegend": true,
         "type": "scatter",
         "x": [
          65
         ],
         "xaxis": "x",
         "y": [
          55.981855911015195
         ],
         "yaxis": "y"
        },
        {
         "hovertemplate": "Nombre del Concierto=IVE - THE 1ST WORLD TOUR 'SHOW WHAT I HAVE’<br>Precio Real=%{x}<br>Precio Predicho=%{y}<extra></extra>",
         "legendgroup": "IVE - THE 1ST WORLD TOUR 'SHOW WHAT I HAVE’",
         "marker": {
          "color": "#19d3f3",
          "symbol": "circle"
         },
         "mode": "markers",
         "name": "IVE - THE 1ST WORLD TOUR 'SHOW WHAT I HAVE’",
         "orientation": "v",
         "showlegend": true,
         "type": "scatter",
         "x": [
          60
         ],
         "xaxis": "x",
         "y": [
          44.03017560611837
         ],
         "yaxis": "y"
        },
        {
         "hovertemplate": "Nombre del Concierto=Isaac Delusion<br>Precio Real=%{x}<br>Precio Predicho=%{y}<extra></extra>",
         "legendgroup": "Isaac Delusion",
         "marker": {
          "color": "#FF6692",
          "symbol": "circle"
         },
         "mode": "markers",
         "name": "Isaac Delusion",
         "orientation": "v",
         "showlegend": true,
         "type": "scatter",
         "x": [
          18,
          18,
          23
         ],
         "xaxis": "x",
         "y": [
          22.373071420396364,
          17.543125671876588,
          22.42404852266378
         ],
         "yaxis": "y"
        },
        {
         "hovertemplate": "Nombre del Concierto=Izaro<br>Precio Real=%{x}<br>Precio Predicho=%{y}<extra></extra>",
         "legendgroup": "Izaro",
         "marker": {
          "color": "#B6E880",
          "symbol": "circle"
         },
         "mode": "markers",
         "name": "Izaro",
         "orientation": "v",
         "showlegend": true,
         "type": "scatter",
         "x": [
          16
         ],
         "xaxis": "x",
         "y": [
          15.559179695231697
         ],
         "yaxis": "y"
        },
        {
         "hovertemplate": "Nombre del Concierto=JP Saxe - A Grey Area Tour<br>Precio Real=%{x}<br>Precio Predicho=%{y}<extra></extra>",
         "legendgroup": "JP Saxe - A Grey Area Tour",
         "marker": {
          "color": "#FF97FF",
          "symbol": "circle"
         },
         "mode": "markers",
         "name": "JP Saxe - A Grey Area Tour",
         "orientation": "v",
         "showlegend": true,
         "type": "scatter",
         "x": [
          22,
          22
         ],
         "xaxis": "x",
         "y": [
          34.48019467168603,
          33.911847307918585
         ],
         "yaxis": "y"
        },
        {
         "hovertemplate": "Nombre del Concierto=JP Saxe | “When You Think of Me” Soundcheck Experience<br>Precio Real=%{x}<br>Precio Predicho=%{y}<extra></extra>",
         "legendgroup": "JP Saxe | “When You Think of Me” Soundcheck Experience",
         "marker": {
          "color": "#FECB52",
          "symbol": "circle"
         },
         "mode": "markers",
         "name": "JP Saxe | “When You Think of Me” Soundcheck Experience",
         "orientation": "v",
         "showlegend": true,
         "type": "scatter",
         "x": [
          72,
          72
         ],
         "xaxis": "x",
         "y": [
          34.157491429042,
          34.93577367348376
         ],
         "yaxis": "y"
        },
        {
         "hovertemplate": "Nombre del Concierto=Jacob Collier // DJESSE UK & EUROPE TOUR<br>Precio Real=%{x}<br>Precio Predicho=%{y}<extra></extra>",
         "legendgroup": "Jacob Collier // DJESSE UK & EUROPE TOUR",
         "marker": {
          "color": "#636efa",
          "symbol": "circle"
         },
         "mode": "markers",
         "name": "Jacob Collier // DJESSE UK & EUROPE TOUR",
         "orientation": "v",
         "showlegend": true,
         "type": "scatter",
         "x": [
          40,
          40
         ],
         "xaxis": "x",
         "y": [
          39.71646259279602,
          36.35643120473158
         ],
         "yaxis": "y"
        },
        {
         "hovertemplate": "Nombre del Concierto=Jamie Cullum<br>Precio Real=%{x}<br>Precio Predicho=%{y}<extra></extra>",
         "legendgroup": "Jamie Cullum",
         "marker": {
          "color": "#EF553B",
          "symbol": "circle"
         },
         "mode": "markers",
         "name": "Jamie Cullum",
         "orientation": "v",
         "showlegend": true,
         "type": "scatter",
         "x": [
          30.01,
          30.01
         ],
         "xaxis": "x",
         "y": [
          30.227698750807658,
          30.601937777708535
         ],
         "yaxis": "y"
        },
        {
         "hovertemplate": "Nombre del Concierto=Joan Dausà<br>Precio Real=%{x}<br>Precio Predicho=%{y}<extra></extra>",
         "legendgroup": "Joan Dausà",
         "marker": {
          "color": "#00cc96",
          "symbol": "circle"
         },
         "mode": "markers",
         "name": "Joan Dausà",
         "orientation": "v",
         "showlegend": true,
         "type": "scatter",
         "x": [
          32
         ],
         "xaxis": "x",
         "y": [
          33.3763259241479
         ],
         "yaxis": "y"
        },
        {
         "hovertemplate": "Nombre del Concierto=Jolie Holland<br>Precio Real=%{x}<br>Precio Predicho=%{y}<extra></extra>",
         "legendgroup": "Jolie Holland",
         "marker": {
          "color": "#ab63fa",
          "symbol": "circle"
         },
         "mode": "markers",
         "name": "Jolie Holland",
         "orientation": "v",
         "showlegend": true,
         "type": "scatter",
         "x": [
          18,
          18
         ],
         "xaxis": "x",
         "y": [
          18.412900569811836,
          18.605488311930724
         ],
         "yaxis": "y"
        },
        {
         "hovertemplate": "Nombre del Concierto=Jonas Brothers: FIVE ALBUMS. ONE NIGHT<br>Precio Real=%{x}<br>Precio Predicho=%{y}<extra></extra>",
         "legendgroup": "Jonas Brothers: FIVE ALBUMS. ONE NIGHT",
         "marker": {
          "color": "#FFA15A",
          "symbol": "circle"
         },
         "mode": "markers",
         "name": "Jonas Brothers: FIVE ALBUMS. ONE NIGHT",
         "orientation": "v",
         "showlegend": true,
         "type": "scatter",
         "x": [
          65
         ],
         "xaxis": "x",
         "y": [
          40.38445716437969
         ],
         "yaxis": "y"
        },
        {
         "hovertemplate": "Nombre del Concierto=Jorge Celedón<br>Precio Real=%{x}<br>Precio Predicho=%{y}<extra></extra>",
         "legendgroup": "Jorge Celedón",
         "marker": {
          "color": "#19d3f3",
          "symbol": "circle"
         },
         "mode": "markers",
         "name": "Jorge Celedón",
         "orientation": "v",
         "showlegend": true,
         "type": "scatter",
         "x": [
          35,
          35,
          35,
          45,
          55
         ],
         "xaxis": "x",
         "y": [
          50.64420907444721,
          49.948341988851276,
          39.37896341113319,
          39.297415400777886,
          36.277810968974805
         ],
         "yaxis": "y"
        },
        {
         "hovertemplate": "Nombre del Concierto=Juancho Marqués<br>Precio Real=%{x}<br>Precio Predicho=%{y}<extra></extra>",
         "legendgroup": "Juancho Marqués",
         "marker": {
          "color": "#FF6692",
          "symbol": "circle"
         },
         "mode": "markers",
         "name": "Juancho Marqués",
         "orientation": "v",
         "showlegend": true,
         "type": "scatter",
         "x": [
          25,
          25,
          25,
          25
         ],
         "xaxis": "x",
         "y": [
          22.0851708821543,
          27.216127306647806,
          28.57359231495601,
          25.966002900392205
         ],
         "yaxis": "y"
        },
        {
         "hovertemplate": "Nombre del Concierto=Juanjo Montserrat y Mansfel<br>Precio Real=%{x}<br>Precio Predicho=%{y}<extra></extra>",
         "legendgroup": "Juanjo Montserrat y Mansfel",
         "marker": {
          "color": "#B6E880",
          "symbol": "circle"
         },
         "mode": "markers",
         "name": "Juanjo Montserrat y Mansfel",
         "orientation": "v",
         "showlegend": true,
         "type": "scatter",
         "x": [
          9
         ],
         "xaxis": "x",
         "y": [
          18.162705957672706
         ],
         "yaxis": "y"
        },
        {
         "hovertemplate": "Nombre del Concierto=Kadec Santa Anna - 24 Tour<br>Precio Real=%{x}<br>Precio Predicho=%{y}<extra></extra>",
         "legendgroup": "Kadec Santa Anna - 24 Tour",
         "marker": {
          "color": "#FF97FF",
          "symbol": "circle"
         },
         "mode": "markers",
         "name": "Kadec Santa Anna - 24 Tour",
         "orientation": "v",
         "showlegend": true,
         "type": "scatter",
         "x": [
          22,
          22,
          22,
          22,
          22,
          22,
          22,
          22,
          22,
          28
         ],
         "xaxis": "x",
         "y": [
          23.42978100985742,
          23.608523476337712,
          23.814634682829585,
          23.50842769510875,
          23.626397722985743,
          23.50392370191183,
          23.415481612538997,
          23.383307968572545,
          23.622822873656133,
          31.622065788880285
         ],
         "yaxis": "y"
        },
        {
         "hovertemplate": "Nombre del Concierto=Kaizers Orchestra<br>Precio Real=%{x}<br>Precio Predicho=%{y}<extra></extra>",
         "legendgroup": "Kaizers Orchestra",
         "marker": {
          "color": "#FECB52",
          "symbol": "circle"
         },
         "mode": "markers",
         "name": "Kaizers Orchestra",
         "orientation": "v",
         "showlegend": true,
         "type": "scatter",
         "x": [
          35
         ],
         "xaxis": "x",
         "y": [
          36.38861703578119
         ],
         "yaxis": "y"
        },
        {
         "hovertemplate": "Nombre del Concierto=Kamelot + Ad Infinitum + Blackbriar + Frozen Crown<br>Precio Real=%{x}<br>Precio Predicho=%{y}<extra></extra>",
         "legendgroup": "Kamelot + Ad Infinitum + Blackbriar + Frozen Crown",
         "marker": {
          "color": "#636efa",
          "symbol": "circle"
         },
         "mode": "markers",
         "name": "Kamelot + Ad Infinitum + Blackbriar + Frozen Crown",
         "orientation": "v",
         "showlegend": true,
         "type": "scatter",
         "x": [
          32,
          32
         ],
         "xaxis": "x",
         "y": [
          33.135301799771256,
          32.090709844584794
         ],
         "yaxis": "y"
        },
        {
         "hovertemplate": "Nombre del Concierto=Kany García<br>Precio Real=%{x}<br>Precio Predicho=%{y}<extra></extra>",
         "legendgroup": "Kany García",
         "marker": {
          "color": "#EF553B",
          "symbol": "circle"
         },
         "mode": "markers",
         "name": "Kany García",
         "orientation": "v",
         "showlegend": true,
         "type": "scatter",
         "x": [
          35,
          35,
          40
         ],
         "xaxis": "x",
         "y": [
          37.26336003525808,
          43.94846612535503,
          43.94645095652386
         ],
         "yaxis": "y"
        },
        {
         "hovertemplate": "Nombre del Concierto=Karol G - Mañana Será Bonito Tour<br>Precio Real=%{x}<br>Precio Predicho=%{y}<extra></extra>",
         "legendgroup": "Karol G - Mañana Será Bonito Tour",
         "marker": {
          "color": "#00cc96",
          "symbol": "circle"
         },
         "mode": "markers",
         "name": "Karol G - Mañana Será Bonito Tour",
         "orientation": "v",
         "showlegend": true,
         "type": "scatter",
         "x": [
          58,
          58
         ],
         "xaxis": "x",
         "y": [
          60.83734680434159,
          59.30123619151177
         ],
         "yaxis": "y"
        },
        {
         "hovertemplate": "Nombre del Concierto=Kazy Lambist<br>Precio Real=%{x}<br>Precio Predicho=%{y}<extra></extra>",
         "legendgroup": "Kazy Lambist",
         "marker": {
          "color": "#ab63fa",
          "symbol": "circle"
         },
         "mode": "markers",
         "name": "Kazy Lambist",
         "orientation": "v",
         "showlegend": true,
         "type": "scatter",
         "x": [
          22,
          22
         ],
         "xaxis": "x",
         "y": [
          21.1089096126464,
          21.08920937395726
         ],
         "yaxis": "y"
        },
        {
         "hovertemplate": "Nombre del Concierto=Keane<br>Precio Real=%{x}<br>Precio Predicho=%{y}<extra></extra>",
         "legendgroup": "Keane",
         "marker": {
          "color": "#FFA15A",
          "symbol": "circle"
         },
         "mode": "markers",
         "name": "Keane",
         "orientation": "v",
         "showlegend": true,
         "type": "scatter",
         "x": [
          32.14,
          32.14
         ],
         "xaxis": "x",
         "y": [
          41.65770736673592,
          41.6745741809369
         ],
         "yaxis": "y"
        },
        {
         "hovertemplate": "Nombre del Concierto=Kontravoid<br>Precio Real=%{x}<br>Precio Predicho=%{y}<extra></extra>",
         "legendgroup": "Kontravoid",
         "marker": {
          "color": "#19d3f3",
          "symbol": "circle"
         },
         "mode": "markers",
         "name": "Kontravoid",
         "orientation": "v",
         "showlegend": true,
         "type": "scatter",
         "x": [
          20,
          20
         ],
         "xaxis": "x",
         "y": [
          27.08111784003358,
          31.17282658398364
         ],
         "yaxis": "y"
        },
        {
         "hovertemplate": "Nombre del Concierto=LANGUI<br>Precio Real=%{x}<br>Precio Predicho=%{y}<extra></extra>",
         "legendgroup": "LANGUI",
         "marker": {
          "color": "#FF6692",
          "symbol": "circle"
         },
         "mode": "markers",
         "name": "LANGUI",
         "orientation": "v",
         "showlegend": true,
         "type": "scatter",
         "x": [
          18,
          18
         ],
         "xaxis": "x",
         "y": [
          22.67702831778231,
          19.097794814260304
         ],
         "yaxis": "y"
        },
        {
         "hovertemplate": "Nombre del Concierto=La Bien Querida<br>Precio Real=%{x}<br>Precio Predicho=%{y}<extra></extra>",
         "legendgroup": "La Bien Querida",
         "marker": {
          "color": "#B6E880",
          "symbol": "circle"
         },
         "mode": "markers",
         "name": "La Bien Querida",
         "orientation": "v",
         "showlegend": true,
         "type": "scatter",
         "x": [
          25
         ],
         "xaxis": "x",
         "y": [
          35.65708341151943
         ],
         "yaxis": "y"
        },
        {
         "hovertemplate": "Nombre del Concierto=La Música de Hans Zimmer y Otros<br>Precio Real=%{x}<br>Precio Predicho=%{y}<extra></extra>",
         "legendgroup": "La Música de Hans Zimmer y Otros",
         "marker": {
          "color": "#FF97FF",
          "symbol": "circle"
         },
         "mode": "markers",
         "name": "La Música de Hans Zimmer y Otros",
         "orientation": "v",
         "showlegend": true,
         "type": "scatter",
         "x": [
          36.6
         ],
         "xaxis": "x",
         "y": [
          37.37603566247973
         ],
         "yaxis": "y"
        },
        {
         "hovertemplate": "Nombre del Concierto=La Oreja de Van Gogh<br>Precio Real=%{x}<br>Precio Predicho=%{y}<extra></extra>",
         "legendgroup": "La Oreja de Van Gogh",
         "marker": {
          "color": "#FECB52",
          "symbol": "circle"
         },
         "mode": "markers",
         "name": "La Oreja de Van Gogh",
         "orientation": "v",
         "showlegend": true,
         "type": "scatter",
         "x": [
          30.01,
          30.01
         ],
         "xaxis": "x",
         "y": [
          45.80513672305704,
          45.19245784287039
         ],
         "yaxis": "y"
        },
        {
         "hovertemplate": "Nombre del Concierto=La Plazuela<br>Precio Real=%{x}<br>Precio Predicho=%{y}<extra></extra>",
         "legendgroup": "La Plazuela",
         "marker": {
          "color": "#636efa",
          "symbol": "circle"
         },
         "mode": "markers",
         "name": "La Plazuela",
         "orientation": "v",
         "showlegend": true,
         "type": "scatter",
         "x": [
          25
         ],
         "xaxis": "x",
         "y": [
          25.8079482502015
         ],
         "yaxis": "y"
        },
        {
         "hovertemplate": "Nombre del Concierto=La Sonrisa de Julia<br>Precio Real=%{x}<br>Precio Predicho=%{y}<extra></extra>",
         "legendgroup": "La Sonrisa de Julia",
         "marker": {
          "color": "#EF553B",
          "symbol": "circle"
         },
         "mode": "markers",
         "name": "La Sonrisa de Julia",
         "orientation": "v",
         "showlegend": true,
         "type": "scatter",
         "x": [
          22,
          22,
          22,
          22,
          22,
          22
         ],
         "xaxis": "x",
         "y": [
          26.063896811513718,
          26.22845798250089,
          26.15468918171354,
          26.075245857788694,
          28.25349119630416,
          28.939670396725234
         ],
         "yaxis": "y"
        },
        {
         "hovertemplate": "Nombre del Concierto=Las Novias + La Broma Negra<br>Precio Real=%{x}<br>Precio Predicho=%{y}<extra></extra>",
         "legendgroup": "Las Novias + La Broma Negra",
         "marker": {
          "color": "#00cc96",
          "symbol": "circle"
         },
         "mode": "markers",
         "name": "Las Novias + La Broma Negra",
         "orientation": "v",
         "showlegend": true,
         "type": "scatter",
         "x": [
          22,
          22
         ],
         "xaxis": "x",
         "y": [
          26.32968516095793,
          25.114396326707812
         ],
         "yaxis": "y"
        },
        {
         "hovertemplate": "Nombre del Concierto=Lil Yachty : The Field Trip Tour<br>Precio Real=%{x}<br>Precio Predicho=%{y}<extra></extra>",
         "legendgroup": "Lil Yachty : The Field Trip Tour",
         "marker": {
          "color": "#ab63fa",
          "symbol": "circle"
         },
         "mode": "markers",
         "name": "Lil Yachty : The Field Trip Tour",
         "orientation": "v",
         "showlegend": true,
         "type": "scatter",
         "x": [
          30
         ],
         "xaxis": "x",
         "y": [
          43.81663349146117
         ],
         "yaxis": "y"
        },
        {
         "hovertemplate": "Nombre del Concierto=Lord Apex<br>Precio Real=%{x}<br>Precio Predicho=%{y}<extra></extra>",
         "legendgroup": "Lord Apex",
         "marker": {
          "color": "#FFA15A",
          "symbol": "circle"
         },
         "mode": "markers",
         "name": "Lord Apex",
         "orientation": "v",
         "showlegend": true,
         "type": "scatter",
         "x": [
          18,
          18
         ],
         "xaxis": "x",
         "y": [
          29.49595062353015,
          20.809573834995554
         ],
         "yaxis": "y"
        },
        {
         "hovertemplate": "Nombre del Concierto=Los Secretos<br>Precio Real=%{x}<br>Precio Predicho=%{y}<extra></extra>",
         "legendgroup": "Los Secretos",
         "marker": {
          "color": "#19d3f3",
          "symbol": "circle"
         },
         "mode": "markers",
         "name": "Los Secretos",
         "orientation": "v",
         "showlegend": true,
         "type": "scatter",
         "x": [
          30.01,
          30.01,
          40
         ],
         "xaxis": "x",
         "y": [
          36.036407399699506,
          36.04145677831517,
          33.44453150221393
         ],
         "yaxis": "y"
        },
        {
         "hovertemplate": "Nombre del Concierto=Luis Miguel<br>Precio Real=%{x}<br>Precio Predicho=%{y}<extra></extra>",
         "legendgroup": "Luis Miguel",
         "marker": {
          "color": "#FF6692",
          "symbol": "circle"
         },
         "mode": "markers",
         "name": "Luis Miguel",
         "orientation": "v",
         "showlegend": true,
         "type": "scatter",
         "x": [
          50,
          55,
          60,
          60,
          70,
          75,
          75,
          80,
          141.1,
          179.46
         ],
         "xaxis": "x",
         "y": [
          70.16506988725006,
          67.08165076449065,
          66.53696404769696,
          63.817533033868365,
          60.85497548055718,
          65.0719372698354,
          62.92822063901616,
          65.02977023433294,
          63.1963857221729,
          102.72922421929668
         ],
         "yaxis": "y"
        },
        {
         "hovertemplate": "Nombre del Concierto=MANÁ<br>Precio Real=%{x}<br>Precio Predicho=%{y}<extra></extra>",
         "legendgroup": "MANÁ",
         "marker": {
          "color": "#B6E880",
          "symbol": "circle"
         },
         "mode": "markers",
         "name": "MANÁ",
         "orientation": "v",
         "showlegend": true,
         "type": "scatter",
         "x": [
          60,
          60,
          70,
          75,
          75,
          75,
          75,
          75,
          85,
          85
         ],
         "xaxis": "x",
         "y": [
          67.91420489915889,
          66.61546020568323,
          63.37677364006198,
          65.78786729982446,
          66.98653011810485,
          66.27812392166358,
          74.23582834991352,
          74.44666352742581,
          74.11776065050664,
          73.35032060436195
         ],
         "yaxis": "y"
        },
        {
         "hovertemplate": "Nombre del Concierto=MARCUS KING: MOOD SWINGS THE WORLD TOUR<br>Precio Real=%{x}<br>Precio Predicho=%{y}<extra></extra>",
         "legendgroup": "MARCUS KING: MOOD SWINGS THE WORLD TOUR",
         "marker": {
          "color": "#FF97FF",
          "symbol": "circle"
         },
         "mode": "markers",
         "name": "MARCUS KING: MOOD SWINGS THE WORLD TOUR",
         "orientation": "v",
         "showlegend": true,
         "type": "scatter",
         "x": [
          35,
          35
         ],
         "xaxis": "x",
         "y": [
          34.66329987534914,
          38.16253133231483
         ],
         "yaxis": "y"
        },
        {
         "hovertemplate": "Nombre del Concierto=Madison Beer<br>Precio Real=%{x}<br>Precio Predicho=%{y}<extra></extra>",
         "legendgroup": "Madison Beer",
         "marker": {
          "color": "#FECB52",
          "symbol": "circle"
         },
         "mode": "markers",
         "name": "Madison Beer",
         "orientation": "v",
         "showlegend": true,
         "type": "scatter",
         "x": [
          35
         ],
         "xaxis": "x",
         "y": [
          36.98430013285168
         ],
         "yaxis": "y"
        },
        {
         "hovertemplate": "Nombre del Concierto=Madison Beer - THE SPINNIN TOUR<br>Precio Real=%{x}<br>Precio Predicho=%{y}<extra></extra>",
         "legendgroup": "Madison Beer - THE SPINNIN TOUR",
         "marker": {
          "color": "#636efa",
          "symbol": "circle"
         },
         "mode": "markers",
         "name": "Madison Beer - THE SPINNIN TOUR",
         "orientation": "v",
         "showlegend": true,
         "type": "scatter",
         "x": [
          35
         ],
         "xaxis": "x",
         "y": [
          44.04489548203885
         ],
         "yaxis": "y"
        },
        {
         "hovertemplate": "Nombre del Concierto=Mago de Oz<br>Precio Real=%{x}<br>Precio Predicho=%{y}<extra></extra>",
         "legendgroup": "Mago de Oz",
         "marker": {
          "color": "#EF553B",
          "symbol": "circle"
         },
         "mode": "markers",
         "name": "Mago de Oz",
         "orientation": "v",
         "showlegend": true,
         "type": "scatter",
         "x": [
          30
         ],
         "xaxis": "x",
         "y": [
          45.942740691757656
         ],
         "yaxis": "y"
        },
        {
         "hovertemplate": "Nombre del Concierto=Maiden united (feat. Dennis Stratton)<br>Precio Real=%{x}<br>Precio Predicho=%{y}<extra></extra>",
         "legendgroup": "Maiden united (feat. Dennis Stratton)",
         "marker": {
          "color": "#00cc96",
          "symbol": "circle"
         },
         "mode": "markers",
         "name": "Maiden united (feat. Dennis Stratton)",
         "orientation": "v",
         "showlegend": true,
         "type": "scatter",
         "x": [
          22
         ],
         "xaxis": "x",
         "y": [
          19.769865655045855
         ],
         "yaxis": "y"
        },
        {
         "hovertemplate": "Nombre del Concierto=Manolo García<br>Precio Real=%{x}<br>Precio Predicho=%{y}<extra></extra>",
         "legendgroup": "Manolo García",
         "marker": {
          "color": "#ab63fa",
          "symbol": "circle"
         },
         "mode": "markers",
         "name": "Manolo García",
         "orientation": "v",
         "showlegend": true,
         "type": "scatter",
         "x": [
          40,
          40,
          44,
          47,
          47,
          47,
          47,
          47,
          47,
          47,
          47,
          47,
          47,
          47,
          47,
          47,
          47,
          50,
          60
         ],
         "xaxis": "x",
         "y": [
          43.35697974524714,
          45.31401616395774,
          37.103070564373986,
          38.87219000213314,
          44.80092851958472,
          44.79686694863846,
          44.40360323196387,
          40.597590468641,
          42.75142882398475,
          44.79657683642801,
          44.50511520403817,
          44.389454230134625,
          45.05909433235278,
          44.96896050310121,
          44.420828103756016,
          44.93235554472343,
          40.755145366534215,
          45.55270525314834,
          45.34063135129048
         ],
         "yaxis": "y"
        },
        {
         "hovertemplate": "Nombre del Concierto=Manolo García - Gira Teatros<br>Precio Real=%{x}<br>Precio Predicho=%{y}<extra></extra>",
         "legendgroup": "Manolo García - Gira Teatros",
         "marker": {
          "color": "#FFA15A",
          "symbol": "circle"
         },
         "mode": "markers",
         "name": "Manolo García - Gira Teatros",
         "orientation": "v",
         "showlegend": true,
         "type": "scatter",
         "x": [
          50,
          55,
          55,
          65
         ],
         "xaxis": "x",
         "y": [
          40.89830443399079,
          40.929093869013975,
          40.882746322613976,
          39.2327378392439
         ],
         "yaxis": "y"
        },
        {
         "hovertemplate": "Nombre del Concierto=Marc Anthony<br>Precio Real=%{x}<br>Precio Predicho=%{y}<extra></extra>",
         "legendgroup": "Marc Anthony",
         "marker": {
          "color": "#19d3f3",
          "symbol": "circle"
         },
         "mode": "markers",
         "name": "Marc Anthony",
         "orientation": "v",
         "showlegend": true,
         "type": "scatter",
         "x": [
          59,
          59
         ],
         "xaxis": "x",
         "y": [
          59.20365418197404,
          59.77712586480745
         ],
         "yaxis": "y"
        },
        {
         "hovertemplate": "Nombre del Concierto=Marc Seguí - AAAAAA Tour<br>Precio Real=%{x}<br>Precio Predicho=%{y}<extra></extra>",
         "legendgroup": "Marc Seguí - AAAAAA Tour",
         "marker": {
          "color": "#FF6692",
          "symbol": "circle"
         },
         "mode": "markers",
         "name": "Marc Seguí - AAAAAA Tour",
         "orientation": "v",
         "showlegend": true,
         "type": "scatter",
         "x": [
          20,
          20,
          20,
          20,
          20,
          20
         ],
         "xaxis": "x",
         "y": [
          24.855939765046642,
          24.239121057321974,
          21.511940346269753,
          21.594141309990142,
          24.558165216489904,
          22.243667368079397
         ],
         "yaxis": "y"
        },
        {
         "hovertemplate": "Nombre del Concierto=Marlon<br>Precio Real=%{x}<br>Precio Predicho=%{y}<extra></extra>",
         "legendgroup": "Marlon",
         "marker": {
          "color": "#B6E880",
          "symbol": "circle"
         },
         "mode": "markers",
         "name": "Marlon",
         "orientation": "v",
         "showlegend": true,
         "type": "scatter",
         "x": [
          27,
          27,
          27,
          27
         ],
         "xaxis": "x",
         "y": [
          23.18294192620172,
          23.095104073178117,
          22.89240133543133,
          23.45321224319744
         ],
         "yaxis": "y"
        },
        {
         "hovertemplate": "Nombre del Concierto=María Peláe<br>Precio Real=%{x}<br>Precio Predicho=%{y}<extra></extra>",
         "legendgroup": "María Peláe",
         "marker": {
          "color": "#FF97FF",
          "symbol": "circle"
         },
         "mode": "markers",
         "name": "María Peláe",
         "orientation": "v",
         "showlegend": true,
         "type": "scatter",
         "x": [
          30
         ],
         "xaxis": "x",
         "y": [
          33.43476545792567
         ],
         "yaxis": "y"
        },
        {
         "hovertemplate": "Nombre del Concierto=Mega Silent Disco<br>Precio Real=%{x}<br>Precio Predicho=%{y}<extra></extra>",
         "legendgroup": "Mega Silent Disco",
         "marker": {
          "color": "#FECB52",
          "symbol": "circle"
         },
         "mode": "markers",
         "name": "Mega Silent Disco",
         "orientation": "v",
         "showlegend": true,
         "type": "scatter",
         "x": [
          20
         ],
         "xaxis": "x",
         "y": [
          19.739718786567327
         ],
         "yaxis": "y"
        },
        {
         "hovertemplate": "Nombre del Concierto=Miguel Mateos<br>Precio Real=%{x}<br>Precio Predicho=%{y}<extra></extra>",
         "legendgroup": "Miguel Mateos",
         "marker": {
          "color": "#636efa",
          "symbol": "circle"
         },
         "mode": "markers",
         "name": "Miguel Mateos",
         "orientation": "v",
         "showlegend": true,
         "type": "scatter",
         "x": [
          36.6,
          36.6,
          36.6,
          36.6,
          36.6,
          36.6
         ],
         "xaxis": "x",
         "y": [
          41.22911778155611,
          41.203263802574156,
          41.20843459837055,
          43.52696425304148,
          41.02745674549686,
          41.23428857735251
         ],
         "yaxis": "y"
        },
        {
         "hovertemplate": "Nombre del Concierto=Miguel Poveda \"Poema del Cante Jondo\"<br>Precio Real=%{x}<br>Precio Predicho=%{y}<extra></extra>",
         "legendgroup": "Miguel Poveda \"Poema del Cante Jondo\"",
         "marker": {
          "color": "#EF553B",
          "symbol": "circle"
         },
         "mode": "markers",
         "name": "Miguel Poveda \"Poema del Cante Jondo\"",
         "orientation": "v",
         "showlegend": true,
         "type": "scatter",
         "x": [
          25
         ],
         "xaxis": "x",
         "y": [
          24.437900198054393
         ],
         "yaxis": "y"
        },
        {
         "hovertemplate": "Nombre del Concierto=Miguel Poveda - Poema del Cante Jondo<br>Precio Real=%{x}<br>Precio Predicho=%{y}<extra></extra>",
         "legendgroup": "Miguel Poveda - Poema del Cante Jondo",
         "marker": {
          "color": "#00cc96",
          "symbol": "circle"
         },
         "mode": "markers",
         "name": "Miguel Poveda - Poema del Cante Jondo",
         "orientation": "v",
         "showlegend": true,
         "type": "scatter",
         "x": [
          30.01,
          30.01
         ],
         "xaxis": "x",
         "y": [
          28.461172650810425,
          28.447137483486948
         ],
         "yaxis": "y"
        },
        {
         "hovertemplate": "Nombre del Concierto=Miguel Ríos cumple 80 años. Granada All Stars<br>Precio Real=%{x}<br>Precio Predicho=%{y}<extra></extra>",
         "legendgroup": "Miguel Ríos cumple 80 años. Granada All Stars",
         "marker": {
          "color": "#ab63fa",
          "symbol": "circle"
         },
         "mode": "markers",
         "name": "Miguel Ríos cumple 80 años. Granada All Stars",
         "orientation": "v",
         "showlegend": true,
         "type": "scatter",
         "x": [
          35
         ],
         "xaxis": "x",
         "y": [
          51.04782086646109
         ],
         "yaxis": "y"
        },
        {
         "hovertemplate": "Nombre del Concierto=Mikel Erentxun<br>Precio Real=%{x}<br>Precio Predicho=%{y}<extra></extra>",
         "legendgroup": "Mikel Erentxun",
         "marker": {
          "color": "#FFA15A",
          "symbol": "circle"
         },
         "mode": "markers",
         "name": "Mikel Erentxun",
         "orientation": "v",
         "showlegend": true,
         "type": "scatter",
         "x": [
          27,
          27,
          27
         ],
         "xaxis": "x",
         "y": [
          23.851191115389746,
          23.801293416472507,
          23.80628318636423
         ],
         "yaxis": "y"
        },
        {
         "hovertemplate": "Nombre del Concierto=Milo J<br>Precio Real=%{x}<br>Precio Predicho=%{y}<extra></extra>",
         "legendgroup": "Milo J",
         "marker": {
          "color": "#19d3f3",
          "symbol": "circle"
         },
         "mode": "markers",
         "name": "Milo J",
         "orientation": "v",
         "showlegend": true,
         "type": "scatter",
         "x": [
          30,
          30,
          35,
          35,
          35,
          35
         ],
         "xaxis": "x",
         "y": [
          30.985309384641532,
          27.563817099947922,
          26.857943967781832,
          26.857612406489746,
          23.72647038517684,
          23.78366797445053
         ],
         "yaxis": "y"
        },
        {
         "hovertemplate": "Nombre del Concierto=Miriam Rodríguez<br>Precio Real=%{x}<br>Precio Predicho=%{y}<extra></extra>",
         "legendgroup": "Miriam Rodríguez",
         "marker": {
          "color": "#FF6692",
          "symbol": "circle"
         },
         "mode": "markers",
         "name": "Miriam Rodríguez",
         "orientation": "v",
         "showlegend": true,
         "type": "scatter",
         "x": [
          25,
          25,
          25,
          25,
          25,
          25,
          25,
          25,
          26.5,
          26.5
         ],
         "xaxis": "x",
         "y": [
          27.517528202865513,
          26.089801993679117,
          26.08261163912537,
          26.090700787998337,
          26.14013447555538,
          26.175187454004917,
          26.19637261924589,
          30.127456104441226,
          26.17608624832414,
          26.1077778800635
         ],
         "yaxis": "y"
        },
        {
         "hovertemplate": "Nombre del Concierto=Morat<br>Precio Real=%{x}<br>Precio Predicho=%{y}<extra></extra>",
         "legendgroup": "Morat",
         "marker": {
          "color": "#B6E880",
          "symbol": "circle"
         },
         "mode": "markers",
         "name": "Morat",
         "orientation": "v",
         "showlegend": true,
         "type": "scatter",
         "x": [
          36
         ],
         "xaxis": "x",
         "y": [
          46.05923201461814
         ],
         "yaxis": "y"
        },
        {
         "hovertemplate": "Nombre del Concierto=Mother Mother<br>Precio Real=%{x}<br>Precio Predicho=%{y}<extra></extra>",
         "legendgroup": "Mother Mother",
         "marker": {
          "color": "#FF97FF",
          "symbol": "circle"
         },
         "mode": "markers",
         "name": "Mother Mother",
         "orientation": "v",
         "showlegend": true,
         "type": "scatter",
         "x": [
          25,
          36,
          36,
          36
         ],
         "xaxis": "x",
         "y": [
          52.234685621639365,
          42.79911842927822,
          44.23691899631374,
          51.749054739434946
         ],
         "yaxis": "y"
        },
        {
         "hovertemplate": "Nombre del Concierto=Mudhoney<br>Precio Real=%{x}<br>Precio Predicho=%{y}<extra></extra>",
         "legendgroup": "Mudhoney",
         "marker": {
          "color": "#FECB52",
          "symbol": "circle"
         },
         "mode": "markers",
         "name": "Mudhoney",
         "orientation": "v",
         "showlegend": true,
         "type": "scatter",
         "x": [
          25,
          25
         ],
         "xaxis": "x",
         "y": [
          24.625497594945983,
          24.623413554572682
         ],
         "yaxis": "y"
        },
        {
         "hovertemplate": "Nombre del Concierto=Myke Towers<br>Precio Real=%{x}<br>Precio Predicho=%{y}<extra></extra>",
         "legendgroup": "Myke Towers",
         "marker": {
          "color": "#636efa",
          "symbol": "circle"
         },
         "mode": "markers",
         "name": "Myke Towers",
         "orientation": "v",
         "showlegend": true,
         "type": "scatter",
         "x": [
          65.18,
          71.43
         ],
         "xaxis": "x",
         "y": [
          38.962315224877095,
          39.26420021275619
         ],
         "yaxis": "y"
        },
        {
         "hovertemplate": "Nombre del Concierto=Nada Surf<br>Precio Real=%{x}<br>Precio Predicho=%{y}<extra></extra>",
         "legendgroup": "Nada Surf",
         "marker": {
          "color": "#EF553B",
          "symbol": "circle"
         },
         "mode": "markers",
         "name": "Nada Surf",
         "orientation": "v",
         "showlegend": true,
         "type": "scatter",
         "x": [
          30
         ],
         "xaxis": "x",
         "y": [
          27.476799571326435
         ],
         "yaxis": "y"
        },
        {
         "hovertemplate": "Nombre del Concierto=Nathan Fake<br>Precio Real=%{x}<br>Precio Predicho=%{y}<extra></extra>",
         "legendgroup": "Nathan Fake",
         "marker": {
          "color": "#00cc96",
          "symbol": "circle"
         },
         "mode": "markers",
         "name": "Nathan Fake",
         "orientation": "v",
         "showlegend": true,
         "type": "scatter",
         "x": [
          20,
          20
         ],
         "xaxis": "x",
         "y": [
          18.559041705342146,
          18.959144908356137
         ],
         "yaxis": "y"
        },
        {
         "hovertemplate": "Nombre del Concierto=New Model Army<br>Precio Real=%{x}<br>Precio Predicho=%{y}<extra></extra>",
         "legendgroup": "New Model Army",
         "marker": {
          "color": "#ab63fa",
          "symbol": "circle"
         },
         "mode": "markers",
         "name": "New Model Army",
         "orientation": "v",
         "showlegend": true,
         "type": "scatter",
         "x": [
          26,
          26,
          26
         ],
         "xaxis": "x",
         "y": [
          24.74424055434868,
          24.778367471035928,
          24.762347094231753
         ],
         "yaxis": "y"
        },
        {
         "hovertemplate": "Nombre del Concierto=Niall Horan - The Show<br>Precio Real=%{x}<br>Precio Predicho=%{y}<extra></extra>",
         "legendgroup": "Niall Horan - The Show",
         "marker": {
          "color": "#FFA15A",
          "symbol": "circle"
         },
         "mode": "markers",
         "name": "Niall Horan - The Show",
         "orientation": "v",
         "showlegend": true,
         "type": "scatter",
         "x": [
          40
         ],
         "xaxis": "x",
         "y": [
          47.05215632704466
         ],
         "yaxis": "y"
        },
        {
         "hovertemplate": "Nombre del Concierto=Nicki Nicole<br>Precio Real=%{x}<br>Precio Predicho=%{y}<extra></extra>",
         "legendgroup": "Nicki Nicole",
         "marker": {
          "color": "#19d3f3",
          "symbol": "circle"
         },
         "mode": "markers",
         "name": "Nicki Nicole",
         "orientation": "v",
         "showlegend": true,
         "type": "scatter",
         "x": [
          30,
          30
         ],
         "xaxis": "x",
         "y": [
          24.86882313920622,
          29.287657025246645
         ],
         "yaxis": "y"
        },
        {
         "hovertemplate": "Nombre del Concierto=NieR:Orchestra Concert<br>Precio Real=%{x}<br>Precio Predicho=%{y}<extra></extra>",
         "legendgroup": "NieR:Orchestra Concert",
         "marker": {
          "color": "#FF6692",
          "symbol": "circle"
         },
         "mode": "markers",
         "name": "NieR:Orchestra Concert",
         "orientation": "v",
         "showlegend": true,
         "type": "scatter",
         "x": [
          52
         ],
         "xaxis": "x",
         "y": [
          20.920024088795948
         ],
         "yaxis": "y"
        },
        {
         "hovertemplate": "Nombre del Concierto=Nil Moliner<br>Precio Real=%{x}<br>Precio Predicho=%{y}<extra></extra>",
         "legendgroup": "Nil Moliner",
         "marker": {
          "color": "#B6E880",
          "symbol": "circle"
         },
         "mode": "markers",
         "name": "Nil Moliner",
         "orientation": "v",
         "showlegend": true,
         "type": "scatter",
         "x": [
          28,
          30,
          30,
          30,
          30,
          30,
          30,
          30,
          30,
          30
         ],
         "xaxis": "x",
         "y": [
          41.77387100098566,
          38.345377319677304,
          30.739215623374236,
          30.708919351680258,
          30.70386997306459,
          30.602882400751326,
          30.597833022135664,
          30.567536750441683,
          30.451503578098325,
          30.70386997306459
         ],
         "yaxis": "y"
        },
        {
         "hovertemplate": "Nombre del Concierto=Nil Moliner - Early Entry<br>Precio Real=%{x}<br>Precio Predicho=%{y}<extra></extra>",
         "legendgroup": "Nil Moliner - Early Entry",
         "marker": {
          "color": "#FF97FF",
          "symbol": "circle"
         },
         "mode": "markers",
         "name": "Nil Moliner - Early Entry",
         "orientation": "v",
         "showlegend": true,
         "type": "scatter",
         "x": [
          45
         ],
         "xaxis": "x",
         "y": [
          42.40262374198513
         ],
         "yaxis": "y"
        },
        {
         "hovertemplate": "Nombre del Concierto=Niños Mutantes<br>Precio Real=%{x}<br>Precio Predicho=%{y}<extra></extra>",
         "legendgroup": "Niños Mutantes",
         "marker": {
          "color": "#FECB52",
          "symbol": "circle"
         },
         "mode": "markers",
         "name": "Niños Mutantes",
         "orientation": "v",
         "showlegend": true,
         "type": "scatter",
         "x": [
          25
         ],
         "xaxis": "x",
         "y": [
          21.06235662659884
         ],
         "yaxis": "y"
        },
        {
         "hovertemplate": "Nombre del Concierto=Niños del Brasil + Serch. + Alqa<br>Precio Real=%{x}<br>Precio Predicho=%{y}<extra></extra>",
         "legendgroup": "Niños del Brasil + Serch. + Alqa",
         "marker": {
          "color": "#636efa",
          "symbol": "circle"
         },
         "mode": "markers",
         "name": "Niños del Brasil + Serch. + Alqa",
         "orientation": "v",
         "showlegend": true,
         "type": "scatter",
         "x": [
          22
         ],
         "xaxis": "x",
         "y": [
          16.35668893044874
         ],
         "yaxis": "y"
        },
        {
         "hovertemplate": "Nombre del Concierto=Nothing But Thieves<br>Precio Real=%{x}<br>Precio Predicho=%{y}<extra></extra>",
         "legendgroup": "Nothing But Thieves",
         "marker": {
          "color": "#EF553B",
          "symbol": "circle"
         },
         "mode": "markers",
         "name": "Nothing But Thieves",
         "orientation": "v",
         "showlegend": true,
         "type": "scatter",
         "x": [
          30,
          30
         ],
         "xaxis": "x",
         "y": [
          37.61098478599211,
          82.57311188538235
         ],
         "yaxis": "y"
        },
        {
         "hovertemplate": "Nombre del Concierto=Olivia Rodrigo - GUTS world tour<br>Precio Real=%{x}<br>Precio Predicho=%{y}<extra></extra>",
         "legendgroup": "Olivia Rodrigo - GUTS world tour",
         "marker": {
          "color": "#00cc96",
          "symbol": "circle"
         },
         "mode": "markers",
         "name": "Olivia Rodrigo - GUTS world tour",
         "orientation": "v",
         "showlegend": true,
         "type": "scatter",
         "x": [
          60,
          60
         ],
         "xaxis": "x",
         "y": [
          32.72829836851623,
          29.40827770473495
         ],
         "yaxis": "y"
        },
        {
         "hovertemplate": "Nombre del Concierto=Orphaned Land<br>Precio Real=%{x}<br>Precio Predicho=%{y}<extra></extra>",
         "legendgroup": "Orphaned Land",
         "marker": {
          "color": "#ab63fa",
          "symbol": "circle"
         },
         "mode": "markers",
         "name": "Orphaned Land",
         "orientation": "v",
         "showlegend": true,
         "type": "scatter",
         "x": [
          27
         ],
         "xaxis": "x",
         "y": [
          29.102370880285964
         ],
         "yaxis": "y"
        },
        {
         "hovertemplate": "Nombre del Concierto=Parra for Cuva<br>Precio Real=%{x}<br>Precio Predicho=%{y}<extra></extra>",
         "legendgroup": "Parra for Cuva",
         "marker": {
          "color": "#FFA15A",
          "symbol": "circle"
         },
         "mode": "markers",
         "name": "Parra for Cuva",
         "orientation": "v",
         "showlegend": true,
         "type": "scatter",
         "x": [
          25,
          25
         ],
         "xaxis": "x",
         "y": [
          21.001040709134642,
          21.096504088094488
         ],
         "yaxis": "y"
        },
        {
         "hovertemplate": "Nombre del Concierto=Patriarchy<br>Precio Real=%{x}<br>Precio Predicho=%{y}<extra></extra>",
         "legendgroup": "Patriarchy",
         "marker": {
          "color": "#19d3f3",
          "symbol": "circle"
         },
         "mode": "markers",
         "name": "Patriarchy",
         "orientation": "v",
         "showlegend": true,
         "type": "scatter",
         "x": [
          19,
          19
         ],
         "xaxis": "x",
         "y": [
          16.72942426447157,
          17.720315662533245
         ],
         "yaxis": "y"
        },
        {
         "hovertemplate": "Nombre del Concierto=Paul Alone<br>Precio Real=%{x}<br>Precio Predicho=%{y}<extra></extra>",
         "legendgroup": "Paul Alone",
         "marker": {
          "color": "#FF6692",
          "symbol": "circle"
         },
         "mode": "markers",
         "name": "Paul Alone",
         "orientation": "v",
         "showlegend": true,
         "type": "scatter",
         "x": [
          12
         ],
         "xaxis": "x",
         "y": [
          17.1337175698132
         ],
         "yaxis": "y"
        },
        {
         "hovertemplate": "Nombre del Concierto=Paula Mattheus<br>Precio Real=%{x}<br>Precio Predicho=%{y}<extra></extra>",
         "legendgroup": "Paula Mattheus",
         "marker": {
          "color": "#B6E880",
          "symbol": "circle"
         },
         "mode": "markers",
         "name": "Paula Mattheus",
         "orientation": "v",
         "showlegend": true,
         "type": "scatter",
         "x": [
          26.5
         ],
         "xaxis": "x",
         "y": [
          27.430944599817902
         ],
         "yaxis": "y"
        },
        {
         "hovertemplate": "Nombre del Concierto=Paula Mattheus y Marlon<br>Precio Real=%{x}<br>Precio Predicho=%{y}<extra></extra>",
         "legendgroup": "Paula Mattheus y Marlon",
         "marker": {
          "color": "#FF97FF",
          "symbol": "circle"
         },
         "mode": "markers",
         "name": "Paula Mattheus y Marlon",
         "orientation": "v",
         "showlegend": true,
         "type": "scatter",
         "x": [
          30
         ],
         "xaxis": "x",
         "y": [
          18.091859002341437
         ],
         "yaxis": "y"
        },
        {
         "hovertemplate": "Nombre del Concierto=Pearl Jam - Dark Matter World Tour 2024<br>Precio Real=%{x}<br>Precio Predicho=%{y}<extra></extra>",
         "legendgroup": "Pearl Jam - Dark Matter World Tour 2024",
         "marker": {
          "color": "#FECB52",
          "symbol": "circle"
         },
         "mode": "markers",
         "name": "Pearl Jam - Dark Matter World Tour 2024",
         "orientation": "v",
         "showlegend": true,
         "type": "scatter",
         "x": [
          81,
          81,
          105
         ],
         "xaxis": "x",
         "y": [
          77.9269796152102,
          80.12256695470147,
          78.53049181011984
         ],
         "yaxis": "y"
        },
        {
         "hovertemplate": "Nombre del Concierto=Pink Turns Blue + Hørd<br>Precio Real=%{x}<br>Precio Predicho=%{y}<extra></extra>",
         "legendgroup": "Pink Turns Blue + Hørd",
         "marker": {
          "color": "#636efa",
          "symbol": "circle"
         },
         "mode": "markers",
         "name": "Pink Turns Blue + Hørd",
         "orientation": "v",
         "showlegend": true,
         "type": "scatter",
         "x": [
          22,
          22
         ],
         "xaxis": "x",
         "y": [
          21.477598581639036,
          20.97190788391682
         ],
         "yaxis": "y"
        },
        {
         "hovertemplate": "Nombre del Concierto=Pitingo / Soulería de ida y vuelta<br>Precio Real=%{x}<br>Precio Predicho=%{y}<extra></extra>",
         "legendgroup": "Pitingo / Soulería de ida y vuelta",
         "marker": {
          "color": "#EF553B",
          "symbol": "circle"
         },
         "mode": "markers",
         "name": "Pitingo / Soulería de ida y vuelta",
         "orientation": "v",
         "showlegend": true,
         "type": "scatter",
         "x": [
          25
         ],
         "xaxis": "x",
         "y": [
          24.882269046574848
         ],
         "yaxis": "y"
        },
        {
         "hovertemplate": "Nombre del Concierto=Pixies<br>Precio Real=%{x}<br>Precio Predicho=%{y}<extra></extra>",
         "legendgroup": "Pixies",
         "marker": {
          "color": "#00cc96",
          "symbol": "circle"
         },
         "mode": "markers",
         "name": "Pixies",
         "orientation": "v",
         "showlegend": true,
         "type": "scatter",
         "x": [
          50
         ],
         "xaxis": "x",
         "y": [
          38.19144571696523
         ],
         "yaxis": "y"
        },
        {
         "hovertemplate": "Nombre del Concierto=Pol Granch - Tour 2024<br>Precio Real=%{x}<br>Precio Predicho=%{y}<extra></extra>",
         "legendgroup": "Pol Granch - Tour 2024",
         "marker": {
          "color": "#ab63fa",
          "symbol": "circle"
         },
         "mode": "markers",
         "name": "Pol Granch - Tour 2024",
         "orientation": "v",
         "showlegend": true,
         "type": "scatter",
         "x": [
          20,
          20,
          20,
          20,
          20,
          20,
          20
         ],
         "xaxis": "x",
         "y": [
          22.177269860500154,
          22.1742712074256,
          22.195261778947483,
          22.15028198282917,
          22.201655747638767,
          22.198657094564215,
          27.797701396877777
         ],
         "yaxis": "y"
        },
        {
         "hovertemplate": "Nombre del Concierto=Premier - La gran quedada<br>Precio Real=%{x}<br>Precio Predicho=%{y}<extra></extra>",
         "legendgroup": "Premier - La gran quedada",
         "marker": {
          "color": "#FFA15A",
          "symbol": "circle"
         },
         "mode": "markers",
         "name": "Premier - La gran quedada",
         "orientation": "v",
         "showlegend": true,
         "type": "scatter",
         "x": [
          35
         ],
         "xaxis": "x",
         "y": [
          25.577865742350774
         ],
         "yaxis": "y"
        },
        {
         "hovertemplate": "Nombre del Concierto=Queens of the Stone Age<br>Precio Real=%{x}<br>Precio Predicho=%{y}<extra></extra>",
         "legendgroup": "Queens of the Stone Age",
         "marker": {
          "color": "#19d3f3",
          "symbol": "circle"
         },
         "mode": "markers",
         "name": "Queens of the Stone Age",
         "orientation": "v",
         "showlegend": true,
         "type": "scatter",
         "x": [
          50,
          55
         ],
         "xaxis": "x",
         "y": [
          41.20918101209106,
          44.45780950258832
         ],
         "yaxis": "y"
        },
        {
         "hovertemplate": "Nombre del Concierto=ROUSS<br>Precio Real=%{x}<br>Precio Predicho=%{y}<extra></extra>",
         "legendgroup": "ROUSS",
         "marker": {
          "color": "#FF6692",
          "symbol": "circle"
         },
         "mode": "markers",
         "name": "ROUSS",
         "orientation": "v",
         "showlegend": true,
         "type": "scatter",
         "x": [
          20
         ],
         "xaxis": "x",
         "y": [
          20.197182575544012
         ],
         "yaxis": "y"
        },
        {
         "hovertemplate": "Nombre del Concierto=Rawayana ¿Quién trae las cornetas? - Tour 2024<br>Precio Real=%{x}<br>Precio Predicho=%{y}<extra></extra>",
         "legendgroup": "Rawayana ¿Quién trae las cornetas? - Tour 2024",
         "marker": {
          "color": "#B6E880",
          "symbol": "circle"
         },
         "mode": "markers",
         "name": "Rawayana ¿Quién trae las cornetas? - Tour 2024",
         "orientation": "v",
         "showlegend": true,
         "type": "scatter",
         "x": [
          35,
          40,
          42
         ],
         "xaxis": "x",
         "y": [
          29.764899049213604,
          23.278702046001513,
          30.57411854203385
         ],
         "yaxis": "y"
        },
        {
         "hovertemplate": "Nombre del Concierto=Rojuu<br>Precio Real=%{x}<br>Precio Predicho=%{y}<extra></extra>",
         "legendgroup": "Rojuu",
         "marker": {
          "color": "#FF97FF",
          "symbol": "circle"
         },
         "mode": "markers",
         "name": "Rojuu",
         "orientation": "v",
         "showlegend": true,
         "type": "scatter",
         "x": [
          22,
          22
         ],
         "xaxis": "x",
         "y": [
          21.512621732837076,
          21.771484518854272
         ],
         "yaxis": "y"
        },
        {
         "hovertemplate": "Nombre del Concierto=Ronald Borjas<br>Precio Real=%{x}<br>Precio Predicho=%{y}<extra></extra>",
         "legendgroup": "Ronald Borjas",
         "marker": {
          "color": "#FECB52",
          "symbol": "circle"
         },
         "mode": "markers",
         "name": "Ronald Borjas",
         "orientation": "v",
         "showlegend": true,
         "type": "scatter",
         "x": [
          40,
          44
         ],
         "xaxis": "x",
         "y": [
          28.899369226005348,
          26.022011117514467
         ],
         "yaxis": "y"
        },
        {
         "hovertemplate": "Nombre del Concierto=Rozalén<br>Precio Real=%{x}<br>Precio Predicho=%{y}<extra></extra>",
         "legendgroup": "Rozalén",
         "marker": {
          "color": "#636efa",
          "symbol": "circle"
         },
         "mode": "markers",
         "name": "Rozalén",
         "orientation": "v",
         "showlegend": true,
         "type": "scatter",
         "x": [
          38
         ],
         "xaxis": "x",
         "y": [
          36.91184169754339
         ],
         "yaxis": "y"
        },
        {
         "hovertemplate": "Nombre del Concierto=Rulo y la Contrabanda - Tour 5<br>Precio Real=%{x}<br>Precio Predicho=%{y}<extra></extra>",
         "legendgroup": "Rulo y la Contrabanda - Tour 5",
         "marker": {
          "color": "#EF553B",
          "symbol": "circle"
         },
         "mode": "markers",
         "name": "Rulo y la Contrabanda - Tour 5",
         "orientation": "v",
         "showlegend": true,
         "type": "scatter",
         "x": [
          28,
          28,
          30,
          30,
          30,
          30,
          30,
          32,
          32
         ],
         "xaxis": "x",
         "y": [
          27.086623576842733,
          27.391743106745423,
          32.14372594664511,
          27.172488936221225,
          27.207870703473713,
          27.114462837927142,
          27.10435481064253,
          30.531047241503742,
          27.163997312080625
         ],
         "yaxis": "y"
        },
        {
         "hovertemplate": "Nombre del Concierto=STINGERS + ALEJANDRIA + THE NIGHT PROWLERS<br>Precio Real=%{x}<br>Precio Predicho=%{y}<extra></extra>",
         "legendgroup": "STINGERS + ALEJANDRIA + THE NIGHT PROWLERS",
         "marker": {
          "color": "#00cc96",
          "symbol": "circle"
         },
         "mode": "markers",
         "name": "STINGERS + ALEJANDRIA + THE NIGHT PROWLERS",
         "orientation": "v",
         "showlegend": true,
         "type": "scatter",
         "x": [
          22
         ],
         "xaxis": "x",
         "y": [
          32.50394080158437
         ],
         "yaxis": "y"
        },
        {
         "hovertemplate": "Nombre del Concierto=Sasha Velour - The Big Reveal Live Show<br>Precio Real=%{x}<br>Precio Predicho=%{y}<extra></extra>",
         "legendgroup": "Sasha Velour - The Big Reveal Live Show",
         "marker": {
          "color": "#ab63fa",
          "symbol": "circle"
         },
         "mode": "markers",
         "name": "Sasha Velour - The Big Reveal Live Show",
         "orientation": "v",
         "showlegend": true,
         "type": "scatter",
         "x": [
          40,
          40
         ],
         "xaxis": "x",
         "y": [
          35.591442979320696,
          38.85642948642753
         ],
         "yaxis": "y"
        },
        {
         "hovertemplate": "Nombre del Concierto=Shawn James<br>Precio Real=%{x}<br>Precio Predicho=%{y}<extra></extra>",
         "legendgroup": "Shawn James",
         "marker": {
          "color": "#FFA15A",
          "symbol": "circle"
         },
         "mode": "markers",
         "name": "Shawn James",
         "orientation": "v",
         "showlegend": true,
         "type": "scatter",
         "x": [
          25,
          25
         ],
         "xaxis": "x",
         "y": [
          26.89336467404786,
          26.095833112974184
         ],
         "yaxis": "y"
        },
        {
         "hovertemplate": "Nombre del Concierto=Sheryl Crow<br>Precio Real=%{x}<br>Precio Predicho=%{y}<extra></extra>",
         "legendgroup": "Sheryl Crow",
         "marker": {
          "color": "#19d3f3",
          "symbol": "circle"
         },
         "mode": "markers",
         "name": "Sheryl Crow",
         "orientation": "v",
         "showlegend": true,
         "type": "scatter",
         "x": [
          30.01,
          31.25
         ],
         "xaxis": "x",
         "y": [
          38.55958337925324,
          37.7980355489084
         ],
         "yaxis": "y"
        },
        {
         "hovertemplate": "Nombre del Concierto=Siempre Así<br>Precio Real=%{x}<br>Precio Predicho=%{y}<extra></extra>",
         "legendgroup": "Siempre Así",
         "marker": {
          "color": "#FF6692",
          "symbol": "circle"
         },
         "mode": "markers",
         "name": "Siempre Así",
         "orientation": "v",
         "showlegend": true,
         "type": "scatter",
         "x": [
          30.01,
          30.01
         ],
         "xaxis": "x",
         "y": [
          29.05365701530612,
          29.187243367898088
         ],
         "yaxis": "y"
        },
        {
         "hovertemplate": "Nombre del Concierto=Siempre así<br>Precio Real=%{x}<br>Precio Predicho=%{y}<extra></extra>",
         "legendgroup": "Siempre así",
         "marker": {
          "color": "#B6E880",
          "symbol": "circle"
         },
         "mode": "markers",
         "name": "Siempre así",
         "orientation": "v",
         "showlegend": true,
         "type": "scatter",
         "x": [
          40
         ],
         "xaxis": "x",
         "y": [
          29.33356673607422
         ],
         "yaxis": "y"
        },
        {
         "hovertemplate": "Nombre del Concierto=Simple Minds<br>Precio Real=%{x}<br>Precio Predicho=%{y}<extra></extra>",
         "legendgroup": "Simple Minds",
         "marker": {
          "color": "#FF97FF",
          "symbol": "circle"
         },
         "mode": "markers",
         "name": "Simple Minds",
         "orientation": "v",
         "showlegend": true,
         "type": "scatter",
         "x": [
          35.71
         ],
         "xaxis": "x",
         "y": [
          40.414125868474954
         ],
         "yaxis": "y"
        },
        {
         "hovertemplate": "Nombre del Concierto=Supersuckers + Wicked Dog<br>Precio Real=%{x}<br>Precio Predicho=%{y}<extra></extra>",
         "legendgroup": "Supersuckers + Wicked Dog",
         "marker": {
          "color": "#FECB52",
          "symbol": "circle"
         },
         "mode": "markers",
         "name": "Supersuckers + Wicked Dog",
         "orientation": "v",
         "showlegend": true,
         "type": "scatter",
         "x": [
          22
         ],
         "xaxis": "x",
         "y": [
          26.158793096064286
         ],
         "yaxis": "y"
        },
        {
         "hovertemplate": "Nombre del Concierto=Sôber Gira 30 Aniversario + Savia+ Skizoo + Hamlet<br>Precio Real=%{x}<br>Precio Predicho=%{y}<extra></extra>",
         "legendgroup": "Sôber Gira 30 Aniversario + Savia+ Skizoo + Hamlet",
         "marker": {
          "color": "#636efa",
          "symbol": "circle"
         },
         "mode": "markers",
         "name": "Sôber Gira 30 Aniversario + Savia+ Skizoo + Hamlet",
         "orientation": "v",
         "showlegend": true,
         "type": "scatter",
         "x": [
          22
         ],
         "xaxis": "x",
         "y": [
          26.14635960427014
         ],
         "yaxis": "y"
        },
        {
         "hovertemplate": "Nombre del Concierto=Take That<br>Precio Real=%{x}<br>Precio Predicho=%{y}<extra></extra>",
         "legendgroup": "Take That",
         "marker": {
          "color": "#EF553B",
          "symbol": "circle"
         },
         "mode": "markers",
         "name": "Take That",
         "orientation": "v",
         "showlegend": true,
         "type": "scatter",
         "x": [
          55.36,
          67.86,
          87.5,
          138.04
         ],
         "xaxis": "x",
         "y": [
          58.045946236704516,
          56.63862286280232,
          58.35303615172121,
          58.03727042601236
         ],
         "yaxis": "y"
        },
        {
         "hovertemplate": "Nombre del Concierto=Tan Biónica: La Última Noche Mágica Tour<br>Precio Real=%{x}<br>Precio Predicho=%{y}<extra></extra>",
         "legendgroup": "Tan Biónica: La Última Noche Mágica Tour",
         "marker": {
          "color": "#00cc96",
          "symbol": "circle"
         },
         "mode": "markers",
         "name": "Tan Biónica: La Última Noche Mágica Tour",
         "orientation": "v",
         "showlegend": true,
         "type": "scatter",
         "x": [
          38,
          38
         ],
         "xaxis": "x",
         "y": [
          29.317485334535128,
          32.19489319359229
         ],
         "yaxis": "y"
        },
        {
         "hovertemplate": "Nombre del Concierto=Tate McRae – THINK LATER TOUR<br>Precio Real=%{x}<br>Precio Predicho=%{y}<extra></extra>",
         "legendgroup": "Tate McRae – THINK LATER TOUR",
         "marker": {
          "color": "#ab63fa",
          "symbol": "circle"
         },
         "mode": "markers",
         "name": "Tate McRae – THINK LATER TOUR",
         "orientation": "v",
         "showlegend": true,
         "type": "scatter",
         "x": [
          37,
          39
         ],
         "xaxis": "x",
         "y": [
          47.28578194141232,
          43.148401751221364
         ],
         "yaxis": "y"
        },
        {
         "hovertemplate": "Nombre del Concierto=Taylor Swift | The Eras Tour<br>Precio Real=%{x}<br>Precio Predicho=%{y}<extra></extra>",
         "legendgroup": "Taylor Swift | The Eras Tour",
         "marker": {
          "color": "#FFA15A",
          "symbol": "circle"
         },
         "mode": "markers",
         "name": "Taylor Swift | The Eras Tour",
         "orientation": "v",
         "showlegend": true,
         "type": "scatter",
         "x": [
          65
         ],
         "xaxis": "x",
         "y": [
          97.39017980149411
         ],
         "yaxis": "y"
        },
        {
         "hovertemplate": "Nombre del Concierto=The 1975<br>Precio Real=%{x}<br>Precio Predicho=%{y}<extra></extra>",
         "legendgroup": "The 1975",
         "marker": {
          "color": "#19d3f3",
          "symbol": "circle"
         },
         "mode": "markers",
         "name": "The 1975",
         "orientation": "v",
         "showlegend": true,
         "type": "scatter",
         "x": [
          55
         ],
         "xaxis": "x",
         "y": [
          48.47342789948717
         ],
         "yaxis": "y"
        },
        {
         "hovertemplate": "Nombre del Concierto=The Answer<br>Precio Real=%{x}<br>Precio Predicho=%{y}<extra></extra>",
         "legendgroup": "The Answer",
         "marker": {
          "color": "#FF6692",
          "symbol": "circle"
         },
         "mode": "markers",
         "name": "The Answer",
         "orientation": "v",
         "showlegend": true,
         "type": "scatter",
         "x": [
          25,
          25,
          25
         ],
         "xaxis": "x",
         "y": [
          28.87481917447381,
          28.91198302101113,
          29.213075855424016
         ],
         "yaxis": "y"
        },
        {
         "hovertemplate": "Nombre del Concierto=The Australian Pink Floyd Show<br>Precio Real=%{x}<br>Precio Predicho=%{y}<extra></extra>",
         "legendgroup": "The Australian Pink Floyd Show",
         "marker": {
          "color": "#B6E880",
          "symbol": "circle"
         },
         "mode": "markers",
         "name": "The Australian Pink Floyd Show",
         "orientation": "v",
         "showlegend": true,
         "type": "scatter",
         "x": [
          40
         ],
         "xaxis": "x",
         "y": [
          39.27853098753545
         ],
         "yaxis": "y"
        },
        {
         "hovertemplate": "Nombre del Concierto=The Breeders<br>Precio Real=%{x}<br>Precio Predicho=%{y}<extra></extra>",
         "legendgroup": "The Breeders",
         "marker": {
          "color": "#FF97FF",
          "symbol": "circle"
         },
         "mode": "markers",
         "name": "The Breeders",
         "orientation": "v",
         "showlegend": true,
         "type": "scatter",
         "x": [
          40
         ],
         "xaxis": "x",
         "y": [
          28.553746591127457
         ],
         "yaxis": "y"
        },
        {
         "hovertemplate": "Nombre del Concierto=The Cat Empire<br>Precio Real=%{x}<br>Precio Predicho=%{y}<extra></extra>",
         "legendgroup": "The Cat Empire",
         "marker": {
          "color": "#FECB52",
          "symbol": "circle"
         },
         "mode": "markers",
         "name": "The Cat Empire",
         "orientation": "v",
         "showlegend": true,
         "type": "scatter",
         "x": [
          35
         ],
         "xaxis": "x",
         "y": [
          29.49256272784067
         ],
         "yaxis": "y"
        },
        {
         "hovertemplate": "Nombre del Concierto=The Change<br>Precio Real=%{x}<br>Precio Predicho=%{y}<extra></extra>",
         "legendgroup": "The Change",
         "marker": {
          "color": "#636efa",
          "symbol": "circle"
         },
         "mode": "markers",
         "name": "The Change",
         "orientation": "v",
         "showlegend": true,
         "type": "scatter",
         "x": [
          18
         ],
         "xaxis": "x",
         "y": [
          17.899662175493553
         ],
         "yaxis": "y"
        },
        {
         "hovertemplate": "Nombre del Concierto=The Clockworks<br>Precio Real=%{x}<br>Precio Predicho=%{y}<extra></extra>",
         "legendgroup": "The Clockworks",
         "marker": {
          "color": "#EF553B",
          "symbol": "circle"
         },
         "mode": "markers",
         "name": "The Clockworks",
         "orientation": "v",
         "showlegend": true,
         "type": "scatter",
         "x": [
          18,
          18
         ],
         "xaxis": "x",
         "y": [
          22.545967191108456,
          22.543491087293177
         ],
         "yaxis": "y"
        },
        {
         "hovertemplate": "Nombre del Concierto=The Magical Music of Harry Potter<br>Precio Real=%{x}<br>Precio Predicho=%{y}<extra></extra>",
         "legendgroup": "The Magical Music of Harry Potter",
         "marker": {
          "color": "#00cc96",
          "symbol": "circle"
         },
         "mode": "markers",
         "name": "The Magical Music of Harry Potter",
         "orientation": "v",
         "showlegend": true,
         "type": "scatter",
         "x": [
          36.6,
          36.6
         ],
         "xaxis": "x",
         "y": [
          37.16635931245805,
          34.83365401269944
         ],
         "yaxis": "y"
        },
        {
         "hovertemplate": "Nombre del Concierto=The Music of Hans Zimmer & More<br>Precio Real=%{x}<br>Precio Predicho=%{y}<extra></extra>",
         "legendgroup": "The Music of Hans Zimmer & More",
         "marker": {
          "color": "#ab63fa",
          "symbol": "circle"
         },
         "mode": "markers",
         "name": "The Music of Hans Zimmer & More",
         "orientation": "v",
         "showlegend": true,
         "type": "scatter",
         "x": [
          36.6
         ],
         "xaxis": "x",
         "y": [
          35.68443843714725
         ],
         "yaxis": "y"
        },
        {
         "hovertemplate": "Nombre del Concierto=The New Raemon<br>Precio Real=%{x}<br>Precio Predicho=%{y}<extra></extra>",
         "legendgroup": "The New Raemon",
         "marker": {
          "color": "#FFA15A",
          "symbol": "circle"
         },
         "mode": "markers",
         "name": "The New Raemon",
         "orientation": "v",
         "showlegend": true,
         "type": "scatter",
         "x": [
          25,
          25
         ],
         "xaxis": "x",
         "y": [
          27.53903744693152,
          27.733967721105053
         ],
         "yaxis": "y"
        },
        {
         "hovertemplate": "Nombre del Concierto=The Rose<br>Precio Real=%{x}<br>Precio Predicho=%{y}<extra></extra>",
         "legendgroup": "The Rose",
         "marker": {
          "color": "#19d3f3",
          "symbol": "circle"
         },
         "mode": "markers",
         "name": "The Rose",
         "orientation": "v",
         "showlegend": true,
         "type": "scatter",
         "x": [
          60
         ],
         "xaxis": "x",
         "y": [
          54.42969821549385
         ],
         "yaxis": "y"
        },
        {
         "hovertemplate": "Nombre del Concierto=The Tallest Man On Earth<br>Precio Real=%{x}<br>Precio Predicho=%{y}<extra></extra>",
         "legendgroup": "The Tallest Man On Earth",
         "marker": {
          "color": "#FF6692",
          "symbol": "circle"
         },
         "mode": "markers",
         "name": "The Tallest Man On Earth",
         "orientation": "v",
         "showlegend": true,
         "type": "scatter",
         "x": [
          32,
          32
         ],
         "xaxis": "x",
         "y": [
          31.53992068972912,
          27.775994481507013
         ],
         "yaxis": "y"
        },
        {
         "hovertemplate": "Nombre del Concierto=The Teskey Brothers<br>Precio Real=%{x}<br>Precio Predicho=%{y}<extra></extra>",
         "legendgroup": "The Teskey Brothers",
         "marker": {
          "color": "#B6E880",
          "symbol": "circle"
         },
         "mode": "markers",
         "name": "The Teskey Brothers",
         "orientation": "v",
         "showlegend": true,
         "type": "scatter",
         "x": [
          30,
          30
         ],
         "xaxis": "x",
         "y": [
          30.38246297064176,
          26.954031651116686
         ],
         "yaxis": "y"
        },
        {
         "hovertemplate": "Nombre del Concierto=The Tyets<br>Precio Real=%{x}<br>Precio Predicho=%{y}<extra></extra>",
         "legendgroup": "The Tyets",
         "marker": {
          "color": "#FF97FF",
          "symbol": "circle"
         },
         "mode": "markers",
         "name": "The Tyets",
         "orientation": "v",
         "showlegend": true,
         "type": "scatter",
         "x": [
          20
         ],
         "xaxis": "x",
         "y": [
          17.854234949993156
         ],
         "yaxis": "y"
        },
        {
         "hovertemplate": "Nombre del Concierto=The Warning<br>Precio Real=%{x}<br>Precio Predicho=%{y}<extra></extra>",
         "legendgroup": "The Warning",
         "marker": {
          "color": "#FECB52",
          "symbol": "circle"
         },
         "mode": "markers",
         "name": "The Warning",
         "orientation": "v",
         "showlegend": true,
         "type": "scatter",
         "x": [
          25,
          25,
          25,
          25
         ],
         "xaxis": "x",
         "y": [
          28.113840677109422,
          28.114020630233412,
          28.1143805364814,
          32.64523757098926
         ],
         "yaxis": "y"
        },
        {
         "hovertemplate": "Nombre del Concierto=Thirty Seconds To Mars - Seasons<br>Precio Real=%{x}<br>Precio Predicho=%{y}<extra></extra>",
         "legendgroup": "Thirty Seconds To Mars - Seasons",
         "marker": {
          "color": "#636efa",
          "symbol": "circle"
         },
         "mode": "markers",
         "name": "Thirty Seconds To Mars - Seasons",
         "orientation": "v",
         "showlegend": true,
         "type": "scatter",
         "x": [
          55
         ],
         "xaxis": "x",
         "y": [
          42.23066486768953
         ],
         "yaxis": "y"
        },
        {
         "hovertemplate": "Nombre del Concierto=Tom Jones<br>Precio Real=%{x}<br>Precio Predicho=%{y}<extra></extra>",
         "legendgroup": "Tom Jones",
         "marker": {
          "color": "#EF553B",
          "symbol": "circle"
         },
         "mode": "markers",
         "name": "Tom Jones",
         "orientation": "v",
         "showlegend": true,
         "type": "scatter",
         "x": [
          50.89,
          50.89,
          60
         ],
         "xaxis": "x",
         "y": [
          39.94046325481758,
          39.635379384982905,
          50.00603873497811
         ],
         "yaxis": "y"
        },
        {
         "hovertemplate": "Nombre del Concierto=Tom Odell<br>Precio Real=%{x}<br>Precio Predicho=%{y}<extra></extra>",
         "legendgroup": "Tom Odell",
         "marker": {
          "color": "#00cc96",
          "symbol": "circle"
         },
         "mode": "markers",
         "name": "Tom Odell",
         "orientation": "v",
         "showlegend": true,
         "type": "scatter",
         "x": [
          35,
          35
         ],
         "xaxis": "x",
         "y": [
          38.92537274424004,
          35.42208778218684
         ],
         "yaxis": "y"
        },
        {
         "hovertemplate": "Nombre del Concierto=Tributo a QUEEN<br>Precio Real=%{x}<br>Precio Predicho=%{y}<extra></extra>",
         "legendgroup": "Tributo a QUEEN",
         "marker": {
          "color": "#ab63fa",
          "symbol": "circle"
         },
         "mode": "markers",
         "name": "Tributo a QUEEN",
         "orientation": "v",
         "showlegend": true,
         "type": "scatter",
         "x": [
          20
         ],
         "xaxis": "x",
         "y": [
          24.315518809978617
         ],
         "yaxis": "y"
        },
        {
         "hovertemplate": "Nombre del Concierto=Trisomie 21<br>Precio Real=%{x}<br>Precio Predicho=%{y}<extra></extra>",
         "legendgroup": "Trisomie 21",
         "marker": {
          "color": "#FFA15A",
          "symbol": "circle"
         },
         "mode": "markers",
         "name": "Trisomie 21",
         "orientation": "v",
         "showlegend": true,
         "type": "scatter",
         "x": [
          25,
          25
         ],
         "xaxis": "x",
         "y": [
          16.56949962660025,
          20.546509702045093
         ],
         "yaxis": "y"
        },
        {
         "hovertemplate": "Nombre del Concierto=UB40 Featuring Ali Campbell in memory of Astro<br>Precio Real=%{x}<br>Precio Predicho=%{y}<extra></extra>",
         "legendgroup": "UB40 Featuring Ali Campbell in memory of Astro",
         "marker": {
          "color": "#19d3f3",
          "symbol": "circle"
         },
         "mode": "markers",
         "name": "UB40 Featuring Ali Campbell in memory of Astro",
         "orientation": "v",
         "showlegend": true,
         "type": "scatter",
         "x": [
          30.01
         ],
         "xaxis": "x",
         "y": [
          23.280162702746118
         ],
         "yaxis": "y"
        },
        {
         "hovertemplate": "Nombre del Concierto=Vanesa Martín<br>Precio Real=%{x}<br>Precio Predicho=%{y}<extra></extra>",
         "legendgroup": "Vanesa Martín",
         "marker": {
          "color": "#FF6692",
          "symbol": "circle"
         },
         "mode": "markers",
         "name": "Vanesa Martín",
         "orientation": "v",
         "showlegend": true,
         "type": "scatter",
         "x": [
          30.36,
          31.25,
          31.25
         ],
         "xaxis": "x",
         "y": [
          39.876401657539084,
          40.23995691786684,
          39.588587076446274
         ],
         "yaxis": "y"
        },
        {
         "hovertemplate": "Nombre del Concierto=Vida Records & Friends: Boye<br>Precio Real=%{x}<br>Precio Predicho=%{y}<extra></extra>",
         "legendgroup": "Vida Records & Friends: Boye",
         "marker": {
          "color": "#B6E880",
          "symbol": "circle"
         },
         "mode": "markers",
         "name": "Vida Records & Friends: Boye",
         "orientation": "v",
         "showlegend": true,
         "type": "scatter",
         "x": [
          15
         ],
         "xaxis": "x",
         "y": [
          17.383293635783758
         ],
         "yaxis": "y"
        },
        {
         "hovertemplate": "Nombre del Concierto=Vida Records & Friends: Lime Garden<br>Precio Real=%{x}<br>Precio Predicho=%{y}<extra></extra>",
         "legendgroup": "Vida Records & Friends: Lime Garden",
         "marker": {
          "color": "#FF97FF",
          "symbol": "circle"
         },
         "mode": "markers",
         "name": "Vida Records & Friends: Lime Garden",
         "orientation": "v",
         "showlegend": true,
         "type": "scatter",
         "x": [
          10
         ],
         "xaxis": "x",
         "y": [
          17.037763338087366
         ],
         "yaxis": "y"
        },
        {
         "hovertemplate": "Nombre del Concierto=Víctor Martín<br>Precio Real=%{x}<br>Precio Predicho=%{y}<extra></extra>",
         "legendgroup": "Víctor Martín",
         "marker": {
          "color": "#FECB52",
          "symbol": "circle"
         },
         "mode": "markers",
         "name": "Víctor Martín",
         "orientation": "v",
         "showlegend": true,
         "type": "scatter",
         "x": [
          12,
          12,
          12,
          13,
          13
         ],
         "xaxis": "x",
         "y": [
          17.311883051485516,
          17.35837738059393,
          17.534514464035162,
          17.392716213528573,
          17.592407687657975
         ],
         "yaxis": "y"
        },
        {
         "hovertemplate": "Nombre del Concierto=Walls<br>Precio Real=%{x}<br>Precio Predicho=%{y}<extra></extra>",
         "legendgroup": "Walls",
         "marker": {
          "color": "#636efa",
          "symbol": "circle"
         },
         "mode": "markers",
         "name": "Walls",
         "orientation": "v",
         "showlegend": true,
         "type": "scatter",
         "x": [
          25
         ],
         "xaxis": "x",
         "y": [
          51.64646347224127
         ],
         "yaxis": "y"
        },
        {
         "hovertemplate": "Nombre del Concierto=Yung Sarria<br>Precio Real=%{x}<br>Precio Predicho=%{y}<extra></extra>",
         "legendgroup": "Yung Sarria",
         "marker": {
          "color": "#EF553B",
          "symbol": "circle"
         },
         "mode": "markers",
         "name": "Yung Sarria",
         "orientation": "v",
         "showlegend": true,
         "type": "scatter",
         "x": [
          12
         ],
         "xaxis": "x",
         "y": [
          17.648900633120633
         ],
         "yaxis": "y"
        },
        {
         "hovertemplate": "Nombre del Concierto=ZENOBIA + DEBLER<br>Precio Real=%{x}<br>Precio Predicho=%{y}<extra></extra>",
         "legendgroup": "ZENOBIA + DEBLER",
         "marker": {
          "color": "#00cc96",
          "symbol": "circle"
         },
         "mode": "markers",
         "name": "ZENOBIA + DEBLER",
         "orientation": "v",
         "showlegend": true,
         "type": "scatter",
         "x": [
          22
         ],
         "xaxis": "x",
         "y": [
          21.3764232684375
         ],
         "yaxis": "y"
        },
        {
         "hovertemplate": "Nombre del Concierto=gREAT sTRAITS<br>Precio Real=%{x}<br>Precio Predicho=%{y}<extra></extra>",
         "legendgroup": "gREAT sTRAITS",
         "marker": {
          "color": "#ab63fa",
          "symbol": "circle"
         },
         "mode": "markers",
         "name": "gREAT sTRAITS",
         "orientation": "v",
         "showlegend": true,
         "type": "scatter",
         "x": [
          35,
          38
         ],
         "xaxis": "x",
         "y": [
          28.174791824785693,
          30.855905991533643
         ],
         "yaxis": "y"
        },
        {
         "hovertemplate": "Nombre del Concierto=Álvaro de Luna<br>Precio Real=%{x}<br>Precio Predicho=%{y}<extra></extra>",
         "legendgroup": "Álvaro de Luna",
         "marker": {
          "color": "#FFA15A",
          "symbol": "circle"
         },
         "mode": "markers",
         "name": "Álvaro de Luna",
         "orientation": "v",
         "showlegend": true,
         "type": "scatter",
         "x": [
          25
         ],
         "xaxis": "x",
         "y": [
          32.55640053750157
         ],
         "yaxis": "y"
        }
       ],
       "layout": {
        "legend": {
         "title": {
          "text": "Nombre del Concierto"
         },
         "tracegroupgap": 0
        },
        "shapes": [
         {
          "line": {
           "color": "red",
           "dash": "dash",
           "width": 2
          },
          "type": "line",
          "x0": 9,
          "x1": 179.46,
          "y0": 9,
          "y1": 179.46
         }
        ],
        "template": {
         "data": {
          "bar": [
           {
            "error_x": {
             "color": "#2a3f5f"
            },
            "error_y": {
             "color": "#2a3f5f"
            },
            "marker": {
             "line": {
              "color": "#E5ECF6",
              "width": 0.5
             },
             "pattern": {
              "fillmode": "overlay",
              "size": 10,
              "solidity": 0.2
             }
            },
            "type": "bar"
           }
          ],
          "barpolar": [
           {
            "marker": {
             "line": {
              "color": "#E5ECF6",
              "width": 0.5
             },
             "pattern": {
              "fillmode": "overlay",
              "size": 10,
              "solidity": 0.2
             }
            },
            "type": "barpolar"
           }
          ],
          "carpet": [
           {
            "aaxis": {
             "endlinecolor": "#2a3f5f",
             "gridcolor": "white",
             "linecolor": "white",
             "minorgridcolor": "white",
             "startlinecolor": "#2a3f5f"
            },
            "baxis": {
             "endlinecolor": "#2a3f5f",
             "gridcolor": "white",
             "linecolor": "white",
             "minorgridcolor": "white",
             "startlinecolor": "#2a3f5f"
            },
            "type": "carpet"
           }
          ],
          "choropleth": [
           {
            "colorbar": {
             "outlinewidth": 0,
             "ticks": ""
            },
            "type": "choropleth"
           }
          ],
          "contour": [
           {
            "colorbar": {
             "outlinewidth": 0,
             "ticks": ""
            },
            "colorscale": [
             [
              0,
              "#0d0887"
             ],
             [
              0.1111111111111111,
              "#46039f"
             ],
             [
              0.2222222222222222,
              "#7201a8"
             ],
             [
              0.3333333333333333,
              "#9c179e"
             ],
             [
              0.4444444444444444,
              "#bd3786"
             ],
             [
              0.5555555555555556,
              "#d8576b"
             ],
             [
              0.6666666666666666,
              "#ed7953"
             ],
             [
              0.7777777777777778,
              "#fb9f3a"
             ],
             [
              0.8888888888888888,
              "#fdca26"
             ],
             [
              1,
              "#f0f921"
             ]
            ],
            "type": "contour"
           }
          ],
          "contourcarpet": [
           {
            "colorbar": {
             "outlinewidth": 0,
             "ticks": ""
            },
            "type": "contourcarpet"
           }
          ],
          "heatmap": [
           {
            "colorbar": {
             "outlinewidth": 0,
             "ticks": ""
            },
            "colorscale": [
             [
              0,
              "#0d0887"
             ],
             [
              0.1111111111111111,
              "#46039f"
             ],
             [
              0.2222222222222222,
              "#7201a8"
             ],
             [
              0.3333333333333333,
              "#9c179e"
             ],
             [
              0.4444444444444444,
              "#bd3786"
             ],
             [
              0.5555555555555556,
              "#d8576b"
             ],
             [
              0.6666666666666666,
              "#ed7953"
             ],
             [
              0.7777777777777778,
              "#fb9f3a"
             ],
             [
              0.8888888888888888,
              "#fdca26"
             ],
             [
              1,
              "#f0f921"
             ]
            ],
            "type": "heatmap"
           }
          ],
          "heatmapgl": [
           {
            "colorbar": {
             "outlinewidth": 0,
             "ticks": ""
            },
            "colorscale": [
             [
              0,
              "#0d0887"
             ],
             [
              0.1111111111111111,
              "#46039f"
             ],
             [
              0.2222222222222222,
              "#7201a8"
             ],
             [
              0.3333333333333333,
              "#9c179e"
             ],
             [
              0.4444444444444444,
              "#bd3786"
             ],
             [
              0.5555555555555556,
              "#d8576b"
             ],
             [
              0.6666666666666666,
              "#ed7953"
             ],
             [
              0.7777777777777778,
              "#fb9f3a"
             ],
             [
              0.8888888888888888,
              "#fdca26"
             ],
             [
              1,
              "#f0f921"
             ]
            ],
            "type": "heatmapgl"
           }
          ],
          "histogram": [
           {
            "marker": {
             "pattern": {
              "fillmode": "overlay",
              "size": 10,
              "solidity": 0.2
             }
            },
            "type": "histogram"
           }
          ],
          "histogram2d": [
           {
            "colorbar": {
             "outlinewidth": 0,
             "ticks": ""
            },
            "colorscale": [
             [
              0,
              "#0d0887"
             ],
             [
              0.1111111111111111,
              "#46039f"
             ],
             [
              0.2222222222222222,
              "#7201a8"
             ],
             [
              0.3333333333333333,
              "#9c179e"
             ],
             [
              0.4444444444444444,
              "#bd3786"
             ],
             [
              0.5555555555555556,
              "#d8576b"
             ],
             [
              0.6666666666666666,
              "#ed7953"
             ],
             [
              0.7777777777777778,
              "#fb9f3a"
             ],
             [
              0.8888888888888888,
              "#fdca26"
             ],
             [
              1,
              "#f0f921"
             ]
            ],
            "type": "histogram2d"
           }
          ],
          "histogram2dcontour": [
           {
            "colorbar": {
             "outlinewidth": 0,
             "ticks": ""
            },
            "colorscale": [
             [
              0,
              "#0d0887"
             ],
             [
              0.1111111111111111,
              "#46039f"
             ],
             [
              0.2222222222222222,
              "#7201a8"
             ],
             [
              0.3333333333333333,
              "#9c179e"
             ],
             [
              0.4444444444444444,
              "#bd3786"
             ],
             [
              0.5555555555555556,
              "#d8576b"
             ],
             [
              0.6666666666666666,
              "#ed7953"
             ],
             [
              0.7777777777777778,
              "#fb9f3a"
             ],
             [
              0.8888888888888888,
              "#fdca26"
             ],
             [
              1,
              "#f0f921"
             ]
            ],
            "type": "histogram2dcontour"
           }
          ],
          "mesh3d": [
           {
            "colorbar": {
             "outlinewidth": 0,
             "ticks": ""
            },
            "type": "mesh3d"
           }
          ],
          "parcoords": [
           {
            "line": {
             "colorbar": {
              "outlinewidth": 0,
              "ticks": ""
             }
            },
            "type": "parcoords"
           }
          ],
          "pie": [
           {
            "automargin": true,
            "type": "pie"
           }
          ],
          "scatter": [
           {
            "fillpattern": {
             "fillmode": "overlay",
             "size": 10,
             "solidity": 0.2
            },
            "type": "scatter"
           }
          ],
          "scatter3d": [
           {
            "line": {
             "colorbar": {
              "outlinewidth": 0,
              "ticks": ""
             }
            },
            "marker": {
             "colorbar": {
              "outlinewidth": 0,
              "ticks": ""
             }
            },
            "type": "scatter3d"
           }
          ],
          "scattercarpet": [
           {
            "marker": {
             "colorbar": {
              "outlinewidth": 0,
              "ticks": ""
             }
            },
            "type": "scattercarpet"
           }
          ],
          "scattergeo": [
           {
            "marker": {
             "colorbar": {
              "outlinewidth": 0,
              "ticks": ""
             }
            },
            "type": "scattergeo"
           }
          ],
          "scattergl": [
           {
            "marker": {
             "colorbar": {
              "outlinewidth": 0,
              "ticks": ""
             }
            },
            "type": "scattergl"
           }
          ],
          "scattermapbox": [
           {
            "marker": {
             "colorbar": {
              "outlinewidth": 0,
              "ticks": ""
             }
            },
            "type": "scattermapbox"
           }
          ],
          "scatterpolar": [
           {
            "marker": {
             "colorbar": {
              "outlinewidth": 0,
              "ticks": ""
             }
            },
            "type": "scatterpolar"
           }
          ],
          "scatterpolargl": [
           {
            "marker": {
             "colorbar": {
              "outlinewidth": 0,
              "ticks": ""
             }
            },
            "type": "scatterpolargl"
           }
          ],
          "scatterternary": [
           {
            "marker": {
             "colorbar": {
              "outlinewidth": 0,
              "ticks": ""
             }
            },
            "type": "scatterternary"
           }
          ],
          "surface": [
           {
            "colorbar": {
             "outlinewidth": 0,
             "ticks": ""
            },
            "colorscale": [
             [
              0,
              "#0d0887"
             ],
             [
              0.1111111111111111,
              "#46039f"
             ],
             [
              0.2222222222222222,
              "#7201a8"
             ],
             [
              0.3333333333333333,
              "#9c179e"
             ],
             [
              0.4444444444444444,
              "#bd3786"
             ],
             [
              0.5555555555555556,
              "#d8576b"
             ],
             [
              0.6666666666666666,
              "#ed7953"
             ],
             [
              0.7777777777777778,
              "#fb9f3a"
             ],
             [
              0.8888888888888888,
              "#fdca26"
             ],
             [
              1,
              "#f0f921"
             ]
            ],
            "type": "surface"
           }
          ],
          "table": [
           {
            "cells": {
             "fill": {
              "color": "#EBF0F8"
             },
             "line": {
              "color": "white"
             }
            },
            "header": {
             "fill": {
              "color": "#C8D4E3"
             },
             "line": {
              "color": "white"
             }
            },
            "type": "table"
           }
          ]
         },
         "layout": {
          "annotationdefaults": {
           "arrowcolor": "#2a3f5f",
           "arrowhead": 0,
           "arrowwidth": 1
          },
          "autotypenumbers": "strict",
          "coloraxis": {
           "colorbar": {
            "outlinewidth": 0,
            "ticks": ""
           }
          },
          "colorscale": {
           "diverging": [
            [
             0,
             "#8e0152"
            ],
            [
             0.1,
             "#c51b7d"
            ],
            [
             0.2,
             "#de77ae"
            ],
            [
             0.3,
             "#f1b6da"
            ],
            [
             0.4,
             "#fde0ef"
            ],
            [
             0.5,
             "#f7f7f7"
            ],
            [
             0.6,
             "#e6f5d0"
            ],
            [
             0.7,
             "#b8e186"
            ],
            [
             0.8,
             "#7fbc41"
            ],
            [
             0.9,
             "#4d9221"
            ],
            [
             1,
             "#276419"
            ]
           ],
           "sequential": [
            [
             0,
             "#0d0887"
            ],
            [
             0.1111111111111111,
             "#46039f"
            ],
            [
             0.2222222222222222,
             "#7201a8"
            ],
            [
             0.3333333333333333,
             "#9c179e"
            ],
            [
             0.4444444444444444,
             "#bd3786"
            ],
            [
             0.5555555555555556,
             "#d8576b"
            ],
            [
             0.6666666666666666,
             "#ed7953"
            ],
            [
             0.7777777777777778,
             "#fb9f3a"
            ],
            [
             0.8888888888888888,
             "#fdca26"
            ],
            [
             1,
             "#f0f921"
            ]
           ],
           "sequentialminus": [
            [
             0,
             "#0d0887"
            ],
            [
             0.1111111111111111,
             "#46039f"
            ],
            [
             0.2222222222222222,
             "#7201a8"
            ],
            [
             0.3333333333333333,
             "#9c179e"
            ],
            [
             0.4444444444444444,
             "#bd3786"
            ],
            [
             0.5555555555555556,
             "#d8576b"
            ],
            [
             0.6666666666666666,
             "#ed7953"
            ],
            [
             0.7777777777777778,
             "#fb9f3a"
            ],
            [
             0.8888888888888888,
             "#fdca26"
            ],
            [
             1,
             "#f0f921"
            ]
           ]
          },
          "colorway": [
           "#636efa",
           "#EF553B",
           "#00cc96",
           "#ab63fa",
           "#FFA15A",
           "#19d3f3",
           "#FF6692",
           "#B6E880",
           "#FF97FF",
           "#FECB52"
          ],
          "font": {
           "color": "#2a3f5f"
          },
          "geo": {
           "bgcolor": "white",
           "lakecolor": "white",
           "landcolor": "#E5ECF6",
           "showlakes": true,
           "showland": true,
           "subunitcolor": "white"
          },
          "hoverlabel": {
           "align": "left"
          },
          "hovermode": "closest",
          "mapbox": {
           "style": "light"
          },
          "paper_bgcolor": "white",
          "plot_bgcolor": "#E5ECF6",
          "polar": {
           "angularaxis": {
            "gridcolor": "white",
            "linecolor": "white",
            "ticks": ""
           },
           "bgcolor": "#E5ECF6",
           "radialaxis": {
            "gridcolor": "white",
            "linecolor": "white",
            "ticks": ""
           }
          },
          "scene": {
           "xaxis": {
            "backgroundcolor": "#E5ECF6",
            "gridcolor": "white",
            "gridwidth": 2,
            "linecolor": "white",
            "showbackground": true,
            "ticks": "",
            "zerolinecolor": "white"
           },
           "yaxis": {
            "backgroundcolor": "#E5ECF6",
            "gridcolor": "white",
            "gridwidth": 2,
            "linecolor": "white",
            "showbackground": true,
            "ticks": "",
            "zerolinecolor": "white"
           },
           "zaxis": {
            "backgroundcolor": "#E5ECF6",
            "gridcolor": "white",
            "gridwidth": 2,
            "linecolor": "white",
            "showbackground": true,
            "ticks": "",
            "zerolinecolor": "white"
           }
          },
          "shapedefaults": {
           "line": {
            "color": "#2a3f5f"
           }
          },
          "ternary": {
           "aaxis": {
            "gridcolor": "white",
            "linecolor": "white",
            "ticks": ""
           },
           "baxis": {
            "gridcolor": "white",
            "linecolor": "white",
            "ticks": ""
           },
           "bgcolor": "#E5ECF6",
           "caxis": {
            "gridcolor": "white",
            "linecolor": "white",
            "ticks": ""
           }
          },
          "title": {
           "x": 0.05
          },
          "xaxis": {
           "automargin": true,
           "gridcolor": "white",
           "linecolor": "white",
           "ticks": "",
           "title": {
            "standoff": 15
           },
           "zerolinecolor": "white",
           "zerolinewidth": 2
          },
          "yaxis": {
           "automargin": true,
           "gridcolor": "white",
           "linecolor": "white",
           "ticks": "",
           "title": {
            "standoff": 15
           },
           "zerolinecolor": "white",
           "zerolinewidth": 2
          }
         }
        },
        "title": {
         "text": "Comparación de Precios Reales vs Precios Predichos"
        },
        "xaxis": {
         "anchor": "y",
         "domain": [
          0,
          1
         ],
         "title": {
          "text": "Precio Real"
         }
        },
        "yaxis": {
         "anchor": "x",
         "domain": [
          0,
          1
         ],
         "title": {
          "text": "Precio Predicho"
         }
        }
       }
      }
     },
     "metadata": {},
     "output_type": "display_data"
    },
    {
     "data": {
      "image/png": "[encoded data removed]",
      "text/plain": [
       "<Figure size 800x600 with 1 Axes>"
      ]
     },
     "metadata": {},
     "output_type": "display_data"
    },
    {
     "data": {
      "text/html": [
       "<div>\n",
       "<style scoped>\n",
       "    .dataframe tbody tr th:only-of-type {\n",
       "        vertical-align: middle;\n",
       "    }\n",
       "\n",
       "    .dataframe tbody tr th {\n",
       "        vertical-align: top;\n",
       "    }\n",
       "\n",
       "    .dataframe thead th {\n",
       "        text-align: right;\n",
       "    }\n",
       "</style>\n",
       "<table border=\"1\" class=\"dataframe\">\n",
       "  <thead>\n",
       "    <tr style=\"text-align: right;\">\n",
       "      <th></th>\n",
       "      <th>Test Fold</th>\n",
       "      <th>MAPE Train</th>\n",
       "      <th>RMSE Train</th>\n",
       "      <th>MSE Train</th>\n",
       "      <th>MAE Train</th>\n",
       "      <th>MAPE Val</th>\n",
       "      <th>RMSE Val</th>\n",
       "      <th>MSE Val</th>\n",
       "      <th>MAE Val</th>\n",
       "    </tr>\n",
       "  </thead>\n",
       "  <tbody>\n",
       "    <tr>\n",
       "      <th>0</th>\n",
       "      <td>0</td>\n",
       "      <td>0.211016</td>\n",
       "      <td>11.891391</td>\n",
       "      <td>141.405168</td>\n",
       "      <td>7.307461</td>\n",
       "      <td>0.306556</td>\n",
       "      <td>13.772803</td>\n",
       "      <td>189.690111</td>\n",
       "      <td>9.720950</td>\n",
       "    </tr>\n",
       "    <tr>\n",
       "      <th>1</th>\n",
       "      <td>1</td>\n",
       "      <td>0.216605</td>\n",
       "      <td>12.424092</td>\n",
       "      <td>154.358063</td>\n",
       "      <td>7.685481</td>\n",
       "      <td>0.292645</td>\n",
       "      <td>12.096001</td>\n",
       "      <td>146.313232</td>\n",
       "      <td>8.424752</td>\n",
       "    </tr>\n",
       "    <tr>\n",
       "      <th>2</th>\n",
       "      <td>2</td>\n",
       "      <td>0.210855</td>\n",
       "      <td>10.406270</td>\n",
       "      <td>108.290448</td>\n",
       "      <td>6.674462</td>\n",
       "      <td>0.206275</td>\n",
       "      <td>18.714336</td>\n",
       "      <td>350.226372</td>\n",
       "      <td>10.452336</td>\n",
       "    </tr>\n",
       "    <tr>\n",
       "      <th>3</th>\n",
       "      <td>3</td>\n",
       "      <td>0.191812</td>\n",
       "      <td>10.706709</td>\n",
       "      <td>114.633608</td>\n",
       "      <td>6.656889</td>\n",
       "      <td>0.296250</td>\n",
       "      <td>17.757720</td>\n",
       "      <td>315.336619</td>\n",
       "      <td>10.128919</td>\n",
       "    </tr>\n",
       "    <tr>\n",
       "      <th>4</th>\n",
       "      <td>Promedio</td>\n",
       "      <td>0.207572</td>\n",
       "      <td>11.357115</td>\n",
       "      <td>129.671822</td>\n",
       "      <td>7.081073</td>\n",
       "      <td>0.275431</td>\n",
       "      <td>15.585215</td>\n",
       "      <td>250.391584</td>\n",
       "      <td>9.681739</td>\n",
       "    </tr>\n",
       "  </tbody>\n",
       "</table>\n",
       "</div>"
      ],
      "text/plain": [
       "  Test Fold  MAPE Train  RMSE Train   MSE Train  MAE Train  MAPE Val  \\\n",
       "0         0    0.211016   11.891391  141.405168   7.307461  0.306556   \n",
       "1         1    0.216605   12.424092  154.358063   7.685481  0.292645   \n",
       "2         2    0.210855   10.406270  108.290448   6.674462  0.206275   \n",
       "3         3    0.191812   10.706709  114.633608   6.656889  0.296250   \n",
       "4  Promedio    0.207572   11.357115  129.671822   7.081073  0.275431   \n",
       "\n",
       "    RMSE Val     MSE Val    MAE Val  \n",
       "0  13.772803  189.690111   9.720950  \n",
       "1  12.096001  146.313232   8.424752  \n",
       "2  18.714336  350.226372  10.452336  \n",
       "3  17.757720  315.336619  10.128919  \n",
       "4  15.585215  250.391584   9.681739  "
      ]
     },
     "execution_count": 9,
     "metadata": {},
     "output_type": "execute_result"
    }
   ],
   "source": [
    "# Definir los parámetros para GridSearchCV\n",
    "params = {\n",
    "    'mlp__hidden_layer_sizes': [(1,), (20,20), (50,50), (100,), (100,100), (200,), (300,)],\n",
    "    'mlp__learning_rate': ['constant', 'invscaling', 'adaptive'],\n",
    "    'mlp__alpha': [0.00001, 0.0001, 0.001, 0.01, 0.1, 1, 10, 100] \n",
    "}\n",
    "\n",
    "# Realizar GridSearchCV\n",
    "start_time = time.time()\n",
    "\n",
    "gridSearch = GridSearchCV(estimator=pipeline, param_grid=params, n_jobs=-1, scoring='neg_mean_squared_error', cv=ps)\n",
    "gridSearch.fit(X_train, y)\n",
    "\n",
    "results = cross_validate(gridSearch.best_estimator_, X_train, y, cv=ps, scoring=scoring, return_train_score=True)\n",
    "\n",
    "end_time = time.time()\n",
    "execution_time = end_time - start_time\n",
    "print(\"Tiempo de ejecución:\", execution_time, \"segundos\")\n",
    "\n",
    "print('Mejores parámetros GridSearchCV: ', gridSearch.best_params_)\n",
    "\n",
    "resultados = crear_tabla_resultados(results)\n",
    "\n",
    "cargar_modelo_mlflow(gridSearch.best_estimator_, 'MIN_PRICE', 'GRID SEARCH ESTANDARIZADO', resultados, execution_time)\n",
    "\n",
    "# Mostrar las predicciones y los valores reales\n",
    "plot_model_predictions(gridSearch.best_estimator_, X_train, y, data)\n",
    "feature_importance(gridSearch.best_estimator_, X_train, y, 15)\n",
    "resultados"
   ]
  },
  {
   "cell_type": "markdown",
   "metadata": {},
   "source": [
    "RANDOM SEARCH - NUEVOS PARÁETROS - STANDARD SCALER"
   ]
  },
  {
   "cell_type": "code",
   "execution_count": 10,
   "metadata": {},
   "outputs": [
    {
     "name": "stdout",
     "output_type": "stream",
     "text": [
      "Tiempo de ejecución: 372.37504291534424 segundos\n",
      "Mejores parámetros RandomSearch:  {'mlp__learning_rate': 'constant', 'mlp__hidden_layer_sizes': (71,), 'mlp__alpha': 0.07196856730011514}\n"
     ]
    },
    {
     "data": {
      "application/vnd.plotly.v1+json": {
       "config": {
        "plotlyServerURL": "https://plot.ly"
       },
       "data": [
        {
         "hovertemplate": "Nombre del Concierto=30 Aniversario de Sôber, con Savia y Skizoo<br>Precio Real=%{x}<br>Precio Predicho=%{y}<extra></extra>",
         "legendgroup": "30 Aniversario de Sôber, con Savia y Skizoo",
         "marker": {
          "color": "#636efa",
          "symbol": "circle"
         },
         "mode": "markers",
         "name": "30 Aniversario de Sôber, con Savia y Skizoo",
         "orientation": "v",
         "showlegend": true,
         "type": "scatter",
         "x": [
          28
         ],
         "xaxis": "x",
         "y": [
          45.130401431399775
         ],
         "yaxis": "y"
        },
        {
         "hovertemplate": "Nombre del Concierto=30 Aniversario de Sôber, con Savia y Skizoo | Soundcheck Experience<br>Precio Real=%{x}<br>Precio Predicho=%{y}<extra></extra>",
         "legendgroup": "30 Aniversario de Sôber, con Savia y Skizoo | Soundcheck Experience",
         "marker": {
          "color": "#EF553B",
          "symbol": "circle"
         },
         "mode": "markers",
         "name": "30 Aniversario de Sôber, con Savia y Skizoo | Soundcheck Experience",
         "orientation": "v",
         "showlegend": true,
         "type": "scatter",
         "x": [
          50
         ],
         "xaxis": "x",
         "y": [
          45.130401431399775
         ],
         "yaxis": "y"
        },
        {
         "hovertemplate": "Nombre del Concierto=AC/DC - Power Up Tour<br>Precio Real=%{x}<br>Precio Predicho=%{y}<extra></extra>",
         "legendgroup": "AC/DC - Power Up Tour",
         "marker": {
          "color": "#00cc96",
          "symbol": "circle"
         },
         "mode": "markers",
         "name": "AC/DC - Power Up Tour",
         "orientation": "v",
         "showlegend": true,
         "type": "scatter",
         "x": [
          105,
          105,
          105,
          105
         ],
         "xaxis": "x",
         "y": [
          92.90171516081556,
          92.81601614995645,
          94.09686857283037,
          94.00213939072363
         ],
         "yaxis": "y"
        },
        {
         "hovertemplate": "Nombre del Concierto=Abba The New Experience & Queen Forever<br>Precio Real=%{x}<br>Precio Predicho=%{y}<extra></extra>",
         "legendgroup": "Abba The New Experience & Queen Forever",
         "marker": {
          "color": "#ab63fa",
          "symbol": "circle"
         },
         "mode": "markers",
         "name": "Abba The New Experience & Queen Forever",
         "orientation": "v",
         "showlegend": true,
         "type": "scatter",
         "x": [
          20
         ],
         "xaxis": "x",
         "y": [
          27.102244544248606
         ],
         "yaxis": "y"
        },
        {
         "hovertemplate": "Nombre del Concierto=Abraham Mateo y Nil Moliner<br>Precio Real=%{x}<br>Precio Predicho=%{y}<extra></extra>",
         "legendgroup": "Abraham Mateo y Nil Moliner",
         "marker": {
          "color": "#FFA15A",
          "symbol": "circle"
         },
         "mode": "markers",
         "name": "Abraham Mateo y Nil Moliner",
         "orientation": "v",
         "showlegend": true,
         "type": "scatter",
         "x": [
          30.01,
          30.01
         ],
         "xaxis": "x",
         "y": [
          36.744008604365256,
          33.55203735496143
         ],
         "yaxis": "y"
        },
        {
         "hovertemplate": "Nombre del Concierto=Aitana<br>Precio Real=%{x}<br>Precio Predicho=%{y}<extra></extra>",
         "legendgroup": "Aitana",
         "marker": {
          "color": "#19d3f3",
          "symbol": "circle"
         },
         "mode": "markers",
         "name": "Aitana",
         "orientation": "v",
         "showlegend": true,
         "type": "scatter",
         "x": [
          41.43,
          49.11,
          49.11,
          50,
          59.82,
          65.18,
          65.18,
          71.43
         ],
         "xaxis": "x",
         "y": [
          67.3869579494906,
          68.03061478394919,
          68.21477509905446,
          51.923139527248864,
          68.22276245650674,
          69.53801727419521,
          67.76854048937635,
          67.99519933873665
         ],
         "yaxis": "y"
        },
        {
         "hovertemplate": "Nombre del Concierto=Aleman<br>Precio Real=%{x}<br>Precio Predicho=%{y}<extra></extra>",
         "legendgroup": "Aleman",
         "marker": {
          "color": "#FF6692",
          "symbol": "circle"
         },
         "mode": "markers",
         "name": "Aleman",
         "orientation": "v",
         "showlegend": true,
         "type": "scatter",
         "x": [
          22,
          22
         ],
         "xaxis": "x",
         "y": [
          17.752174946436348,
          17.8162883042278
         ],
         "yaxis": "y"
        },
        {
         "hovertemplate": "Nombre del Concierto=Ana Mena<br>Precio Real=%{x}<br>Precio Predicho=%{y}<extra></extra>",
         "legendgroup": "Ana Mena",
         "marker": {
          "color": "#B6E880",
          "symbol": "circle"
         },
         "mode": "markers",
         "name": "Ana Mena",
         "orientation": "v",
         "showlegend": true,
         "type": "scatter",
         "x": [
          30
         ],
         "xaxis": "x",
         "y": [
          16.08437674780403
         ],
         "yaxis": "y"
        },
        {
         "hovertemplate": "Nombre del Concierto=Andrés Calamaro<br>Precio Real=%{x}<br>Precio Predicho=%{y}<extra></extra>",
         "legendgroup": "Andrés Calamaro",
         "marker": {
          "color": "#FF97FF",
          "symbol": "circle"
         },
         "mode": "markers",
         "name": "Andrés Calamaro",
         "orientation": "v",
         "showlegend": true,
         "type": "scatter",
         "x": [
          37
         ],
         "xaxis": "x",
         "y": [
          37.4615117001024
         ],
         "yaxis": "y"
        },
        {
         "hovertemplate": "Nombre del Concierto=Antonio José<br>Precio Real=%{x}<br>Precio Predicho=%{y}<extra></extra>",
         "legendgroup": "Antonio José",
         "marker": {
          "color": "#FECB52",
          "symbol": "circle"
         },
         "mode": "markers",
         "name": "Antonio José",
         "orientation": "v",
         "showlegend": true,
         "type": "scatter",
         "x": [
          27,
          30.01,
          30.01
         ],
         "xaxis": "x",
         "y": [
          51.080614569786455,
          35.19064048237482,
          35.18343376683754
         ],
         "yaxis": "y"
        },
        {
         "hovertemplate": "Nombre del Concierto=Antoñito Molina<br>Precio Real=%{x}<br>Precio Predicho=%{y}<extra></extra>",
         "legendgroup": "Antoñito Molina",
         "marker": {
          "color": "#636efa",
          "symbol": "circle"
         },
         "mode": "markers",
         "name": "Antoñito Molina",
         "orientation": "v",
         "showlegend": true,
         "type": "scatter",
         "x": [
          25,
          25
         ],
         "xaxis": "x",
         "y": [
          27.745860448010546,
          36.29467131712369
         ],
         "yaxis": "y"
        },
        {
         "hovertemplate": "Nombre del Concierto=BURNING - CONCIERTO ESPECIAL 50 ANIVERSARIO<br>Precio Real=%{x}<br>Precio Predicho=%{y}<extra></extra>",
         "legendgroup": "BURNING - CONCIERTO ESPECIAL 50 ANIVERSARIO",
         "marker": {
          "color": "#EF553B",
          "symbol": "circle"
         },
         "mode": "markers",
         "name": "BURNING - CONCIERTO ESPECIAL 50 ANIVERSARIO",
         "orientation": "v",
         "showlegend": true,
         "type": "scatter",
         "x": [
          30
         ],
         "xaxis": "x",
         "y": [
          26.508322567492513
         ],
         "yaxis": "y"
        },
        {
         "hovertemplate": "Nombre del Concierto=Ballet Flamenco Sara Baras<br>Precio Real=%{x}<br>Precio Predicho=%{y}<extra></extra>",
         "legendgroup": "Ballet Flamenco Sara Baras",
         "marker": {
          "color": "#00cc96",
          "symbol": "circle"
         },
         "mode": "markers",
         "name": "Ballet Flamenco Sara Baras",
         "orientation": "v",
         "showlegend": true,
         "type": "scatter",
         "x": [
          30.01,
          30.01
         ],
         "xaxis": "x",
         "y": [
          23.478460185366067,
          23.387215032244825
         ],
         "yaxis": "y"
        },
        {
         "hovertemplate": "Nombre del Concierto=Ballet Nacional de España / Estampas Flamencas<br>Precio Real=%{x}<br>Precio Predicho=%{y}<extra></extra>",
         "legendgroup": "Ballet Nacional de España / Estampas Flamencas",
         "marker": {
          "color": "#ab63fa",
          "symbol": "circle"
         },
         "mode": "markers",
         "name": "Ballet Nacional de España / Estampas Flamencas",
         "orientation": "v",
         "showlegend": true,
         "type": "scatter",
         "x": [
          25
         ],
         "xaxis": "x",
         "y": [
          24.811553643713793
         ],
         "yaxis": "y"
        },
        {
         "hovertemplate": "Nombre del Concierto=Benjamin Ingrosso<br>Precio Real=%{x}<br>Precio Predicho=%{y}<extra></extra>",
         "legendgroup": "Benjamin Ingrosso",
         "marker": {
          "color": "#FFA15A",
          "symbol": "circle"
         },
         "mode": "markers",
         "name": "Benjamin Ingrosso",
         "orientation": "v",
         "showlegend": true,
         "type": "scatter",
         "x": [
          23
         ],
         "xaxis": "x",
         "y": [
          29.17870177499269
         ],
         "yaxis": "y"
        },
        {
         "hovertemplate": "Nombre del Concierto=Big Time Rush - UK & Europe Tour 2024<br>Precio Real=%{x}<br>Precio Predicho=%{y}<extra></extra>",
         "legendgroup": "Big Time Rush - UK & Europe Tour 2024",
         "marker": {
          "color": "#19d3f3",
          "symbol": "circle"
         },
         "mode": "markers",
         "name": "Big Time Rush - UK & Europe Tour 2024",
         "orientation": "v",
         "showlegend": true,
         "type": "scatter",
         "x": [
          40
         ],
         "xaxis": "x",
         "y": [
          50.2889189217855
         ],
         "yaxis": "y"
        },
        {
         "hovertemplate": "Nombre del Concierto=Bunbury<br>Precio Real=%{x}<br>Precio Predicho=%{y}<extra></extra>",
         "legendgroup": "Bunbury",
         "marker": {
          "color": "#FF6692",
          "symbol": "circle"
         },
         "mode": "markers",
         "name": "Bunbury",
         "orientation": "v",
         "showlegend": true,
         "type": "scatter",
         "x": [
          40,
          70
         ],
         "xaxis": "x",
         "y": [
          56.18589971869464,
          61.75941599816402
         ],
         "yaxis": "y"
        },
        {
         "hovertemplate": "Nombre del Concierto=CHUMI DJ presenta YESTERDAY 17 - DÉCIMO ANIVERSARIO<br>Precio Real=%{x}<br>Precio Predicho=%{y}<extra></extra>",
         "legendgroup": "CHUMI DJ presenta YESTERDAY 17 - DÉCIMO ANIVERSARIO",
         "marker": {
          "color": "#B6E880",
          "symbol": "circle"
         },
         "mode": "markers",
         "name": "CHUMI DJ presenta YESTERDAY 17 - DÉCIMO ANIVERSARIO",
         "orientation": "v",
         "showlegend": true,
         "type": "scatter",
         "x": [
          24,
          25
         ],
         "xaxis": "x",
         "y": [
          23.664272981036802,
          24.707937976596284
         ],
         "yaxis": "y"
        },
        {
         "hovertemplate": "Nombre del Concierto=Café Quijano<br>Precio Real=%{x}<br>Precio Predicho=%{y}<extra></extra>",
         "legendgroup": "Café Quijano",
         "marker": {
          "color": "#FF97FF",
          "symbol": "circle"
         },
         "mode": "markers",
         "name": "Café Quijano",
         "orientation": "v",
         "showlegend": true,
         "type": "scatter",
         "x": [
          30,
          30,
          34
         ],
         "xaxis": "x",
         "y": [
          32.35220803451813,
          27.95516235673174,
          32.24836352820003
         ],
         "yaxis": "y"
        },
        {
         "hovertemplate": "Nombre del Concierto=Califato ¾<br>Precio Real=%{x}<br>Precio Predicho=%{y}<extra></extra>",
         "legendgroup": "Califato ¾",
         "marker": {
          "color": "#FECB52",
          "symbol": "circle"
         },
         "mode": "markers",
         "name": "Califato ¾",
         "orientation": "v",
         "showlegend": true,
         "type": "scatter",
         "x": [
          20
         ],
         "xaxis": "x",
         "y": [
          23.174657990171692
         ],
         "yaxis": "y"
        },
        {
         "hovertemplate": "Nombre del Concierto=Camela<br>Precio Real=%{x}<br>Precio Predicho=%{y}<extra></extra>",
         "legendgroup": "Camela",
         "marker": {
          "color": "#636efa",
          "symbol": "circle"
         },
         "mode": "markers",
         "name": "Camela",
         "orientation": "v",
         "showlegend": true,
         "type": "scatter",
         "x": [
          27,
          30,
          35
         ],
         "xaxis": "x",
         "y": [
          33.3119270423694,
          37.643609296985886,
          37.80215668758491
         ],
         "yaxis": "y"
        },
        {
         "hovertemplate": "Nombre del Concierto=Camilo<br>Precio Real=%{x}<br>Precio Predicho=%{y}<extra></extra>",
         "legendgroup": "Camilo",
         "marker": {
          "color": "#EF553B",
          "symbol": "circle"
         },
         "mode": "markers",
         "name": "Camilo",
         "orientation": "v",
         "showlegend": true,
         "type": "scatter",
         "x": [
          25,
          25,
          35,
          35,
          40,
          40,
          40,
          40,
          43,
          44.64,
          45,
          45,
          49,
          56.25,
          59.82,
          76.79
         ],
         "xaxis": "x",
         "y": [
          38.244226157797016,
          43.14092662437598,
          41.20096778145416,
          34.144102644573124,
          44.037476898446215,
          38.6341380058157,
          40.000417559236595,
          34.173622221343656,
          38.42926670466598,
          34.89707368331524,
          38.92980568926044,
          36.943938896652966,
          34.51607806610036,
          34.80589982106096,
          34.875827953943805,
          34.4792410056769
         ],
         "yaxis": "y"
        },
        {
         "hovertemplate": "Nombre del Concierto=Cano<br>Precio Real=%{x}<br>Precio Predicho=%{y}<extra></extra>",
         "legendgroup": "Cano",
         "marker": {
          "color": "#00cc96",
          "symbol": "circle"
         },
         "mode": "markers",
         "name": "Cano",
         "orientation": "v",
         "showlegend": true,
         "type": "scatter",
         "x": [
          25
         ],
         "xaxis": "x",
         "y": [
          29.290179688231817
         ],
         "yaxis": "y"
        },
        {
         "hovertemplate": "Nombre del Concierto=Carlos Piñana y la Orquesta Sinfónica de la Región de Murcia / Rubato<br>Precio Real=%{x}<br>Precio Predicho=%{y}<extra></extra>",
         "legendgroup": "Carlos Piñana y la Orquesta Sinfónica de la Región de Murcia / Rubato",
         "marker": {
          "color": "#ab63fa",
          "symbol": "circle"
         },
         "mode": "markers",
         "name": "Carlos Piñana y la Orquesta Sinfónica de la Región de Murcia / Rubato",
         "orientation": "v",
         "showlegend": true,
         "type": "scatter",
         "x": [
          15
         ],
         "xaxis": "x",
         "y": [
          21.840073850391754
         ],
         "yaxis": "y"
        },
        {
         "hovertemplate": "Nombre del Concierto=Carlos Vives<br>Precio Real=%{x}<br>Precio Predicho=%{y}<extra></extra>",
         "legendgroup": "Carlos Vives",
         "marker": {
          "color": "#FFA15A",
          "symbol": "circle"
         },
         "mode": "markers",
         "name": "Carlos Vives",
         "orientation": "v",
         "showlegend": true,
         "type": "scatter",
         "x": [
          35.71
         ],
         "xaxis": "x",
         "y": [
          35.50281615096232
         ],
         "yaxis": "y"
        },
        {
         "hovertemplate": "Nombre del Concierto=Carlos Vives - El Rock de mi pueblo vive - Tour España 2024<br>Precio Real=%{x}<br>Precio Predicho=%{y}<extra></extra>",
         "legendgroup": "Carlos Vives - El Rock de mi pueblo vive - Tour España 2024",
         "marker": {
          "color": "#19d3f3",
          "symbol": "circle"
         },
         "mode": "markers",
         "name": "Carlos Vives - El Rock de mi pueblo vive - Tour España 2024",
         "orientation": "v",
         "showlegend": true,
         "type": "scatter",
         "x": [
          48
         ],
         "xaxis": "x",
         "y": [
          56.7875607279353
         ],
         "yaxis": "y"
        },
        {
         "hovertemplate": "Nombre del Concierto=Carmen Boza<br>Precio Real=%{x}<br>Precio Predicho=%{y}<extra></extra>",
         "legendgroup": "Carmen Boza",
         "marker": {
          "color": "#FF6692",
          "symbol": "circle"
         },
         "mode": "markers",
         "name": "Carmen Boza",
         "orientation": "v",
         "showlegend": true,
         "type": "scatter",
         "x": [
          17
         ],
         "xaxis": "x",
         "y": [
          17.25731154340273
         ],
         "yaxis": "y"
        },
        {
         "hovertemplate": "Nombre del Concierto=Carín León<br>Precio Real=%{x}<br>Precio Predicho=%{y}<extra></extra>",
         "legendgroup": "Carín León",
         "marker": {
          "color": "#B6E880",
          "symbol": "circle"
         },
         "mode": "markers",
         "name": "Carín León",
         "orientation": "v",
         "showlegend": true,
         "type": "scatter",
         "x": [
          30
         ],
         "xaxis": "x",
         "y": [
          38.937079160540094
         ],
         "yaxis": "y"
        },
        {
         "hovertemplate": "Nombre del Concierto=Celtas Cortos y amigos<br>Precio Real=%{x}<br>Precio Predicho=%{y}<extra></extra>",
         "legendgroup": "Celtas Cortos y amigos",
         "marker": {
          "color": "#FF97FF",
          "symbol": "circle"
         },
         "mode": "markers",
         "name": "Celtas Cortos y amigos",
         "orientation": "v",
         "showlegend": true,
         "type": "scatter",
         "x": [
          35
         ],
         "xaxis": "x",
         "y": [
          43.24150312607436
         ],
         "yaxis": "y"
        },
        {
         "hovertemplate": "Nombre del Concierto=Charlie USG<br>Precio Real=%{x}<br>Precio Predicho=%{y}<extra></extra>",
         "legendgroup": "Charlie USG",
         "marker": {
          "color": "#FECB52",
          "symbol": "circle"
         },
         "mode": "markers",
         "name": "Charlie USG",
         "orientation": "v",
         "showlegend": true,
         "type": "scatter",
         "x": [
          18,
          18,
          18,
          18,
          18,
          20
         ],
         "xaxis": "x",
         "y": [
          21.645131507629195,
          21.488332906052847,
          21.933938352187113,
          21.483514452707098,
          21.616945989816543,
          21.57466771309756
         ],
         "yaxis": "y"
        },
        {
         "hovertemplate": "Nombre del Concierto=Christian Nodal<br>Precio Real=%{x}<br>Precio Predicho=%{y}<extra></extra>",
         "legendgroup": "Christian Nodal",
         "marker": {
          "color": "#636efa",
          "symbol": "circle"
         },
         "mode": "markers",
         "name": "Christian Nodal",
         "orientation": "v",
         "showlegend": true,
         "type": "scatter",
         "x": [
          25,
          30,
          30.01,
          37.5
         ],
         "xaxis": "x",
         "y": [
          42.435725918829405,
          38.21031633725859,
          39.77657591369514,
          37.17051882208145
         ],
         "yaxis": "y"
        },
        {
         "hovertemplate": "Nombre del Concierto=Cruz Cafuné<br>Precio Real=%{x}<br>Precio Predicho=%{y}<extra></extra>",
         "legendgroup": "Cruz Cafuné",
         "marker": {
          "color": "#EF553B",
          "symbol": "circle"
         },
         "mode": "markers",
         "name": "Cruz Cafuné",
         "orientation": "v",
         "showlegend": true,
         "type": "scatter",
         "x": [
          35
         ],
         "xaxis": "x",
         "y": [
          30.517567000735344
         ],
         "yaxis": "y"
        },
        {
         "hovertemplate": "Nombre del Concierto=Crystal Fighters<br>Precio Real=%{x}<br>Precio Predicho=%{y}<extra></extra>",
         "legendgroup": "Crystal Fighters",
         "marker": {
          "color": "#00cc96",
          "symbol": "circle"
         },
         "mode": "markers",
         "name": "Crystal Fighters",
         "orientation": "v",
         "showlegend": true,
         "type": "scatter",
         "x": [
          35,
          35,
          35
         ],
         "xaxis": "x",
         "y": [
          25.322336068405754,
          26.50538812838913,
          35.40800799638642
         ],
         "yaxis": "y"
        },
        {
         "hovertemplate": "Nombre del Concierto=Cultura Profética<br>Precio Real=%{x}<br>Precio Predicho=%{y}<extra></extra>",
         "legendgroup": "Cultura Profética",
         "marker": {
          "color": "#ab63fa",
          "symbol": "circle"
         },
         "mode": "markers",
         "name": "Cultura Profética",
         "orientation": "v",
         "showlegend": true,
         "type": "scatter",
         "x": [
          43,
          44
         ],
         "xaxis": "x",
         "y": [
          41.44582465188115,
          38.741896130049554
         ],
         "yaxis": "y"
        },
        {
         "hovertemplate": "Nombre del Concierto=Danza Invisible<br>Precio Real=%{x}<br>Precio Predicho=%{y}<extra></extra>",
         "legendgroup": "Danza Invisible",
         "marker": {
          "color": "#FFA15A",
          "symbol": "circle"
         },
         "mode": "markers",
         "name": "Danza Invisible",
         "orientation": "v",
         "showlegend": true,
         "type": "scatter",
         "x": [
          30
         ],
         "xaxis": "x",
         "y": [
          28.459798192131274
         ],
         "yaxis": "y"
        },
        {
         "hovertemplate": "Nombre del Concierto=Das Ich<br>Precio Real=%{x}<br>Precio Predicho=%{y}<extra></extra>",
         "legendgroup": "Das Ich",
         "marker": {
          "color": "#19d3f3",
          "symbol": "circle"
         },
         "mode": "markers",
         "name": "Das Ich",
         "orientation": "v",
         "showlegend": true,
         "type": "scatter",
         "x": [
          25
         ],
         "xaxis": "x",
         "y": [
          28.404124056542997
         ],
         "yaxis": "y"
        },
        {
         "hovertemplate": "Nombre del Concierto=David Bisbal<br>Precio Real=%{x}<br>Precio Predicho=%{y}<extra></extra>",
         "legendgroup": "David Bisbal",
         "marker": {
          "color": "#FF6692",
          "symbol": "circle"
         },
         "mode": "markers",
         "name": "David Bisbal",
         "orientation": "v",
         "showlegend": true,
         "type": "scatter",
         "x": [
          40
         ],
         "xaxis": "x",
         "y": [
          43.184217972272904
         ],
         "yaxis": "y"
        },
        {
         "hovertemplate": "Nombre del Concierto=Dead Poet Society<br>Precio Real=%{x}<br>Precio Predicho=%{y}<extra></extra>",
         "legendgroup": "Dead Poet Society",
         "marker": {
          "color": "#B6E880",
          "symbol": "circle"
         },
         "mode": "markers",
         "name": "Dead Poet Society",
         "orientation": "v",
         "showlegend": true,
         "type": "scatter",
         "x": [
          20,
          20
         ],
         "xaxis": "x",
         "y": [
          31.25888116961913,
          31.316403064007226
         ],
         "yaxis": "y"
        },
        {
         "hovertemplate": "Nombre del Concierto=Delaporte - Aquí y Ahora Tour<br>Precio Real=%{x}<br>Precio Predicho=%{y}<extra></extra>",
         "legendgroup": "Delaporte - Aquí y Ahora Tour",
         "marker": {
          "color": "#FF97FF",
          "symbol": "circle"
         },
         "mode": "markers",
         "name": "Delaporte - Aquí y Ahora Tour",
         "orientation": "v",
         "showlegend": true,
         "type": "scatter",
         "x": [
          23
         ],
         "xaxis": "x",
         "y": [
          21.906565804385906
         ],
         "yaxis": "y"
        },
        {
         "hovertemplate": "Nombre del Concierto=Depeche Mode - Memento Mori Tour<br>Precio Real=%{x}<br>Precio Predicho=%{y}<extra></extra>",
         "legendgroup": "Depeche Mode - Memento Mori Tour",
         "marker": {
          "color": "#FECB52",
          "symbol": "circle"
         },
         "mode": "markers",
         "name": "Depeche Mode - Memento Mori Tour",
         "orientation": "v",
         "showlegend": true,
         "type": "scatter",
         "x": [
          50,
          50,
          60
         ],
         "xaxis": "x",
         "y": [
          48.68883649133879,
          56.48363028807805,
          53.227912883445114
         ],
         "yaxis": "y"
        },
        {
         "hovertemplate": "Nombre del Concierto=Diana Krall<br>Precio Real=%{x}<br>Precio Predicho=%{y}<extra></extra>",
         "legendgroup": "Diana Krall",
         "marker": {
          "color": "#636efa",
          "symbol": "circle"
         },
         "mode": "markers",
         "name": "Diana Krall",
         "orientation": "v",
         "showlegend": true,
         "type": "scatter",
         "x": [
          30.01,
          31.25
         ],
         "xaxis": "x",
         "y": [
          29.533196168516714,
          29.453059643505163
         ],
         "yaxis": "y"
        },
        {
         "hovertemplate": "Nombre del Concierto=Dreamcatcher<br>Precio Real=%{x}<br>Precio Predicho=%{y}<extra></extra>",
         "legendgroup": "Dreamcatcher",
         "marker": {
          "color": "#EF553B",
          "symbol": "circle"
         },
         "mode": "markers",
         "name": "Dreamcatcher",
         "orientation": "v",
         "showlegend": true,
         "type": "scatter",
         "x": [
          105
         ],
         "xaxis": "x",
         "y": [
          41.91863766905065
         ],
         "yaxis": "y"
        },
        {
         "hovertemplate": "Nombre del Concierto=Duki<br>Precio Real=%{x}<br>Precio Predicho=%{y}<extra></extra>",
         "legendgroup": "Duki",
         "marker": {
          "color": "#00cc96",
          "symbol": "circle"
         },
         "mode": "markers",
         "name": "Duki",
         "orientation": "v",
         "showlegend": true,
         "type": "scatter",
         "x": [
          28
         ],
         "xaxis": "x",
         "y": [
          49.22154604976839
         ],
         "yaxis": "y"
        },
        {
         "hovertemplate": "Nombre del Concierto=Dystinct<br>Precio Real=%{x}<br>Precio Predicho=%{y}<extra></extra>",
         "legendgroup": "Dystinct",
         "marker": {
          "color": "#ab63fa",
          "symbol": "circle"
         },
         "mode": "markers",
         "name": "Dystinct",
         "orientation": "v",
         "showlegend": true,
         "type": "scatter",
         "x": [
          22
         ],
         "xaxis": "x",
         "y": [
          27.305878605289877
         ],
         "yaxis": "y"
        },
        {
         "hovertemplate": "Nombre del Concierto=Eduardo Guerrero “SO-LA-NA Las Minas Flamenco”<br>Precio Real=%{x}<br>Precio Predicho=%{y}<extra></extra>",
         "legendgroup": "Eduardo Guerrero “SO-LA-NA Las Minas Flamenco”",
         "marker": {
          "color": "#FFA15A",
          "symbol": "circle"
         },
         "mode": "markers",
         "name": "Eduardo Guerrero “SO-LA-NA Las Minas Flamenco”",
         "orientation": "v",
         "showlegend": true,
         "type": "scatter",
         "x": [
          20
         ],
         "xaxis": "x",
         "y": [
          18.22971488077684
         ],
         "yaxis": "y"
        },
        {
         "hovertemplate": "Nombre del Concierto=El Barrio<br>Precio Real=%{x}<br>Precio Predicho=%{y}<extra></extra>",
         "legendgroup": "El Barrio",
         "marker": {
          "color": "#19d3f3",
          "symbol": "circle"
         },
         "mode": "markers",
         "name": "El Barrio",
         "orientation": "v",
         "showlegend": true,
         "type": "scatter",
         "x": [
          40,
          40
         ],
         "xaxis": "x",
         "y": [
          42.09110484876477,
          42.51810167324907
         ],
         "yaxis": "y"
        },
        {
         "hovertemplate": "Nombre del Concierto=El Kanka<br>Precio Real=%{x}<br>Precio Predicho=%{y}<extra></extra>",
         "legendgroup": "El Kanka",
         "marker": {
          "color": "#FF6692",
          "symbol": "circle"
         },
         "mode": "markers",
         "name": "El Kanka",
         "orientation": "v",
         "showlegend": true,
         "type": "scatter",
         "x": [
          20,
          30,
          30,
          30,
          30,
          35
         ],
         "xaxis": "x",
         "y": [
          34.95441948391641,
          30.47745019123122,
          30.32616711342218,
          30.563897664264964,
          32.950798807027795,
          35.03941655242653
         ],
         "yaxis": "y"
        },
        {
         "hovertemplate": "Nombre del Concierto=El Pau<br>Precio Real=%{x}<br>Precio Predicho=%{y}<extra></extra>",
         "legendgroup": "El Pau",
         "marker": {
          "color": "#B6E880",
          "symbol": "circle"
         },
         "mode": "markers",
         "name": "El Pau",
         "orientation": "v",
         "showlegend": true,
         "type": "scatter",
         "x": [
          10,
          13,
          13,
          13,
          15,
          15,
          15,
          15,
          15,
          15,
          16
         ],
         "xaxis": "x",
         "y": [
          22.120596137011223,
          21.814315810267694,
          21.932188793923167,
          21.896775898237102,
          21.814315810267694,
          21.710353015503806,
          23.05155947474527,
          22.43865647632181,
          22.03813604904181,
          22.126486143294752,
          21.90266590452063
         ],
         "yaxis": "y"
        },
        {
         "hovertemplate": "Nombre del Concierto=ElGrandeToto - Twenty-Seven Tour<br>Precio Real=%{x}<br>Precio Predicho=%{y}<extra></extra>",
         "legendgroup": "ElGrandeToto - Twenty-Seven Tour",
         "marker": {
          "color": "#FF97FF",
          "symbol": "circle"
         },
         "mode": "markers",
         "name": "ElGrandeToto - Twenty-Seven Tour",
         "orientation": "v",
         "showlegend": true,
         "type": "scatter",
         "x": [
          24,
          24
         ],
         "xaxis": "x",
         "y": [
          22.08293410032065,
          21.121292004589954
         ],
         "yaxis": "y"
        },
        {
         "hovertemplate": "Nombre del Concierto=Emilia<br>Precio Real=%{x}<br>Precio Predicho=%{y}<extra></extra>",
         "legendgroup": "Emilia",
         "marker": {
          "color": "#FECB52",
          "symbol": "circle"
         },
         "mode": "markers",
         "name": "Emilia",
         "orientation": "v",
         "showlegend": true,
         "type": "scatter",
         "x": [
          25,
          25,
          34.82,
          34.82,
          35,
          35
         ],
         "xaxis": "x",
         "y": [
          32.44293642056549,
          28.147056573510795,
          22.20907124020235,
          21.76943550243638,
          32.55488853908573,
          32.30592330290558
         ],
         "yaxis": "y"
        },
        {
         "hovertemplate": "Nombre del Concierto=Enol<br>Precio Real=%{x}<br>Precio Predicho=%{y}<extra></extra>",
         "legendgroup": "Enol",
         "marker": {
          "color": "#636efa",
          "symbol": "circle"
         },
         "mode": "markers",
         "name": "Enol",
         "orientation": "v",
         "showlegend": true,
         "type": "scatter",
         "x": [
          22,
          22,
          22
         ],
         "xaxis": "x",
         "y": [
          29.361890441655923,
          34.664002541110015,
          33.77861641079629
         ],
         "yaxis": "y"
        },
        {
         "hovertemplate": "Nombre del Concierto=Estopa<br>Precio Real=%{x}<br>Precio Predicho=%{y}<extra></extra>",
         "legendgroup": "Estopa",
         "marker": {
          "color": "#EF553B",
          "symbol": "circle"
         },
         "mode": "markers",
         "name": "Estopa",
         "orientation": "v",
         "showlegend": true,
         "type": "scatter",
         "x": [
          40
         ],
         "xaxis": "x",
         "y": [
          51.468913371995384
         ],
         "yaxis": "y"
        },
        {
         "hovertemplate": "Nombre del Concierto=Eva Ruiz<br>Precio Real=%{x}<br>Precio Predicho=%{y}<extra></extra>",
         "legendgroup": "Eva Ruiz",
         "marker": {
          "color": "#00cc96",
          "symbol": "circle"
         },
         "mode": "markers",
         "name": "Eva Ruiz",
         "orientation": "v",
         "showlegend": true,
         "type": "scatter",
         "x": [
          23,
          23,
          23
         ],
         "xaxis": "x",
         "y": [
          16.783997842208393,
          16.71285098461046,
          16.65289875176086
         ],
         "yaxis": "y"
        },
        {
         "hovertemplate": "Nombre del Concierto=Fletcher<br>Precio Real=%{x}<br>Precio Predicho=%{y}<extra></extra>",
         "legendgroup": "Fletcher",
         "marker": {
          "color": "#ab63fa",
          "symbol": "circle"
         },
         "mode": "markers",
         "name": "Fletcher",
         "orientation": "v",
         "showlegend": true,
         "type": "scatter",
         "x": [
          24,
          24,
          40,
          40
         ],
         "xaxis": "x",
         "y": [
          53.798752201337756,
          49.23002296973291,
          52.29564090584735,
          47.7269116742425
         ],
         "yaxis": "y"
        },
        {
         "hovertemplate": "Nombre del Concierto=Flor Bertotti<br>Precio Real=%{x}<br>Precio Predicho=%{y}<extra></extra>",
         "legendgroup": "Flor Bertotti",
         "marker": {
          "color": "#FFA15A",
          "symbol": "circle"
         },
         "mode": "markers",
         "name": "Flor Bertotti",
         "orientation": "v",
         "showlegend": true,
         "type": "scatter",
         "x": [
          30
         ],
         "xaxis": "x",
         "y": [
          31.32762637040763
         ],
         "yaxis": "y"
        },
        {
         "hovertemplate": "Nombre del Concierto=Fonseca<br>Precio Real=%{x}<br>Precio Predicho=%{y}<extra></extra>",
         "legendgroup": "Fonseca",
         "marker": {
          "color": "#19d3f3",
          "symbol": "circle"
         },
         "mode": "markers",
         "name": "Fonseca",
         "orientation": "v",
         "showlegend": true,
         "type": "scatter",
         "x": [
          30
         ],
         "xaxis": "x",
         "y": [
          52.801799354500105
         ],
         "yaxis": "y"
        },
        {
         "hovertemplate": "Nombre del Concierto=Foy Vance - Regarding The Joy Of Nothing Tour<br>Precio Real=%{x}<br>Precio Predicho=%{y}<extra></extra>",
         "legendgroup": "Foy Vance - Regarding The Joy Of Nothing Tour",
         "marker": {
          "color": "#FF6692",
          "symbol": "circle"
         },
         "mode": "markers",
         "name": "Foy Vance - Regarding The Joy Of Nothing Tour",
         "orientation": "v",
         "showlegend": true,
         "type": "scatter",
         "x": [
          23,
          23,
          23,
          25,
          25,
          25
         ],
         "xaxis": "x",
         "y": [
          33.24177457410094,
          33.63108436428445,
          33.05861198594026,
          33.5293617737981,
          33.53782876425004,
          33.77687609790456
         ],
         "yaxis": "y"
        },
        {
         "hovertemplate": "Nombre del Concierto=Fran Perea<br>Precio Real=%{x}<br>Precio Predicho=%{y}<extra></extra>",
         "legendgroup": "Fran Perea",
         "marker": {
          "color": "#B6E880",
          "symbol": "circle"
         },
         "mode": "markers",
         "name": "Fran Perea",
         "orientation": "v",
         "showlegend": true,
         "type": "scatter",
         "x": [
          25,
          25,
          25,
          25,
          25,
          25,
          25,
          25
         ],
         "xaxis": "x",
         "y": [
          25.42761038954821,
          25.392194944335657,
          25.105332656040872,
          25.413444211463194,
          25.19487775374831,
          25.105332656040872,
          29.67051752519761,
          25.29332366136385
         ],
         "yaxis": "y"
        },
        {
         "hovertemplate": "Nombre del Concierto=Front 242<br>Precio Real=%{x}<br>Precio Predicho=%{y}<extra></extra>",
         "legendgroup": "Front 242",
         "marker": {
          "color": "#FF97FF",
          "symbol": "circle"
         },
         "mode": "markers",
         "name": "Front 242",
         "orientation": "v",
         "showlegend": true,
         "type": "scatter",
         "x": [
          33.13,
          33.13
         ],
         "xaxis": "x",
         "y": [
          31.236028494722582,
          31.22818365283403
         ],
         "yaxis": "y"
        },
        {
         "hovertemplate": "Nombre del Concierto=Funzo & Baby Loud<br>Precio Real=%{x}<br>Precio Predicho=%{y}<extra></extra>",
         "legendgroup": "Funzo & Baby Loud",
         "marker": {
          "color": "#FECB52",
          "symbol": "circle"
         },
         "mode": "markers",
         "name": "Funzo & Baby Loud",
         "orientation": "v",
         "showlegend": true,
         "type": "scatter",
         "x": [
          29
         ],
         "xaxis": "x",
         "y": [
          28.21505135802742
         ],
         "yaxis": "y"
        },
        {
         "hovertemplate": "Nombre del Concierto=Future Islands<br>Precio Real=%{x}<br>Precio Predicho=%{y}<extra></extra>",
         "legendgroup": "Future Islands",
         "marker": {
          "color": "#636efa",
          "symbol": "circle"
         },
         "mode": "markers",
         "name": "Future Islands",
         "orientation": "v",
         "showlegend": true,
         "type": "scatter",
         "x": [
          35,
          35
         ],
         "xaxis": "x",
         "y": [
          42.91805951525252,
          38.74167416154028
         ],
         "yaxis": "y"
        },
        {
         "hovertemplate": "Nombre del Concierto=Garbage<br>Precio Real=%{x}<br>Precio Predicho=%{y}<extra></extra>",
         "legendgroup": "Garbage",
         "marker": {
          "color": "#EF553B",
          "symbol": "circle"
         },
         "mode": "markers",
         "name": "Garbage",
         "orientation": "v",
         "showlegend": true,
         "type": "scatter",
         "x": [
          40
         ],
         "xaxis": "x",
         "y": [
          30.01970358290506
         ],
         "yaxis": "y"
        },
        {
         "hovertemplate": "Nombre del Concierto=Gipsy Kings Featuring Nicolas Reyes And Tonino Baliardo<br>Precio Real=%{x}<br>Precio Predicho=%{y}<extra></extra>",
         "legendgroup": "Gipsy Kings Featuring Nicolas Reyes And Tonino Baliardo",
         "marker": {
          "color": "#00cc96",
          "symbol": "circle"
         },
         "mode": "markers",
         "name": "Gipsy Kings Featuring Nicolas Reyes And Tonino Baliardo",
         "orientation": "v",
         "showlegend": true,
         "type": "scatter",
         "x": [
          30
         ],
         "xaxis": "x",
         "y": [
          20.417285102924794
         ],
         "yaxis": "y"
        },
        {
         "hovertemplate": "Nombre del Concierto=Gonzalo Alhambra<br>Precio Real=%{x}<br>Precio Predicho=%{y}<extra></extra>",
         "legendgroup": "Gonzalo Alhambra",
         "marker": {
          "color": "#ab63fa",
          "symbol": "circle"
         },
         "mode": "markers",
         "name": "Gonzalo Alhambra",
         "orientation": "v",
         "showlegend": true,
         "type": "scatter",
         "x": [
          12
         ],
         "xaxis": "x",
         "y": [
          20.040225923339676
         ],
         "yaxis": "y"
        },
        {
         "hovertemplate": "Nombre del Concierto=Gordo<br>Precio Real=%{x}<br>Precio Predicho=%{y}<extra></extra>",
         "legendgroup": "Gordo",
         "marker": {
          "color": "#FFA15A",
          "symbol": "circle"
         },
         "mode": "markers",
         "name": "Gordo",
         "orientation": "v",
         "showlegend": true,
         "type": "scatter",
         "x": [
          25
         ],
         "xaxis": "x",
         "y": [
          26.298775665060617
         ],
         "yaxis": "y"
        },
        {
         "hovertemplate": "Nombre del Concierto=Ha*Ash<br>Precio Real=%{x}<br>Precio Predicho=%{y}<extra></extra>",
         "legendgroup": "Ha*Ash",
         "marker": {
          "color": "#19d3f3",
          "symbol": "circle"
         },
         "mode": "markers",
         "name": "Ha*Ash",
         "orientation": "v",
         "showlegend": true,
         "type": "scatter",
         "x": [
          35,
          35,
          35,
          35,
          40,
          40
         ],
         "xaxis": "x",
         "y": [
          32.022841650167194,
          34.47617813487746,
          32.513385758965924,
          44.71346677760417,
          41.983761193205225,
          37.90785560451327
         ],
         "yaxis": "y"
        },
        {
         "hovertemplate": "Nombre del Concierto=Hauser<br>Precio Real=%{x}<br>Precio Predicho=%{y}<extra></extra>",
         "legendgroup": "Hauser",
         "marker": {
          "color": "#FF6692",
          "symbol": "circle"
         },
         "mode": "markers",
         "name": "Hauser",
         "orientation": "v",
         "showlegend": true,
         "type": "scatter",
         "x": [
          35.71,
          35.71
         ],
         "xaxis": "x",
         "y": [
          33.743158964307604,
          33.9979319923275
         ],
         "yaxis": "y"
        },
        {
         "hovertemplate": "Nombre del Concierto=Hens<br>Precio Real=%{x}<br>Precio Predicho=%{y}<extra></extra>",
         "legendgroup": "Hens",
         "marker": {
          "color": "#B6E880",
          "symbol": "circle"
         },
         "mode": "markers",
         "name": "Hens",
         "orientation": "v",
         "showlegend": true,
         "type": "scatter",
         "x": [
          30
         ],
         "xaxis": "x",
         "y": [
          33.24459897243386
         ],
         "yaxis": "y"
        },
        {
         "hovertemplate": "Nombre del Concierto=Hermanos Gutiérrez<br>Precio Real=%{x}<br>Precio Predicho=%{y}<extra></extra>",
         "legendgroup": "Hermanos Gutiérrez",
         "marker": {
          "color": "#FF97FF",
          "symbol": "circle"
         },
         "mode": "markers",
         "name": "Hermanos Gutiérrez",
         "orientation": "v",
         "showlegend": true,
         "type": "scatter",
         "x": [
          40
         ],
         "xaxis": "x",
         "y": [
          36.91220660601736
         ],
         "yaxis": "y"
        },
        {
         "hovertemplate": "Nombre del Concierto=Hivernacle Pop Up Club#5 SEASON CLOSING: PAWSA, Toman & Foie Grass<br>Precio Real=%{x}<br>Precio Predicho=%{y}<extra></extra>",
         "legendgroup": "Hivernacle Pop Up Club#5 SEASON CLOSING: PAWSA, Toman & Foie Grass",
         "marker": {
          "color": "#FECB52",
          "symbol": "circle"
         },
         "mode": "markers",
         "name": "Hivernacle Pop Up Club#5 SEASON CLOSING: PAWSA, Toman & Foie Grass",
         "orientation": "v",
         "showlegend": true,
         "type": "scatter",
         "x": [
          23,
          23
         ],
         "xaxis": "x",
         "y": [
          29.056186489430548,
          30.311312138527274
         ],
         "yaxis": "y"
        },
        {
         "hovertemplate": "Nombre del Concierto=Hombres G<br>Precio Real=%{x}<br>Precio Predicho=%{y}<extra></extra>",
         "legendgroup": "Hombres G",
         "marker": {
          "color": "#636efa",
          "symbol": "circle"
         },
         "mode": "markers",
         "name": "Hombres G",
         "orientation": "v",
         "showlegend": true,
         "type": "scatter",
         "x": [
          39.29,
          39.29
         ],
         "xaxis": "x",
         "y": [
          37.24098184396537,
          36.79612124369086
         ],
         "yaxis": "y"
        },
        {
         "hovertemplate": "Nombre del Concierto=Hozier<br>Precio Real=%{x}<br>Precio Predicho=%{y}<extra></extra>",
         "legendgroup": "Hozier",
         "marker": {
          "color": "#EF553B",
          "symbol": "circle"
         },
         "mode": "markers",
         "name": "Hozier",
         "orientation": "v",
         "showlegend": true,
         "type": "scatter",
         "x": [
          55
         ],
         "xaxis": "x",
         "y": [
          51.637432982317975
         ],
         "yaxis": "y"
        },
        {
         "hovertemplate": "Nombre del Concierto=I Love by Dj Nano<br>Precio Real=%{x}<br>Precio Predicho=%{y}<extra></extra>",
         "legendgroup": "I Love by Dj Nano",
         "marker": {
          "color": "#00cc96",
          "symbol": "circle"
         },
         "mode": "markers",
         "name": "I Love by Dj Nano",
         "orientation": "v",
         "showlegend": true,
         "type": "scatter",
         "x": [
          30
         ],
         "xaxis": "x",
         "y": [
          21.06780085309744
         ],
         "yaxis": "y"
        },
        {
         "hovertemplate": "Nombre del Concierto=IAMDDB<br>Precio Real=%{x}<br>Precio Predicho=%{y}<extra></extra>",
         "legendgroup": "IAMDDB",
         "marker": {
          "color": "#ab63fa",
          "symbol": "circle"
         },
         "mode": "markers",
         "name": "IAMDDB",
         "orientation": "v",
         "showlegend": true,
         "type": "scatter",
         "x": [
          26
         ],
         "xaxis": "x",
         "y": [
          24.50941949215754
         ],
         "yaxis": "y"
        },
        {
         "hovertemplate": "Nombre del Concierto=ITZY 2ND WORLD TOUR ‘BORN TO BE’<br>Precio Real=%{x}<br>Precio Predicho=%{y}<extra></extra>",
         "legendgroup": "ITZY 2ND WORLD TOUR ‘BORN TO BE’",
         "marker": {
          "color": "#FFA15A",
          "symbol": "circle"
         },
         "mode": "markers",
         "name": "ITZY 2ND WORLD TOUR ‘BORN TO BE’",
         "orientation": "v",
         "showlegend": true,
         "type": "scatter",
         "x": [
          65
         ],
         "xaxis": "x",
         "y": [
          53.72633709917422
         ],
         "yaxis": "y"
        },
        {
         "hovertemplate": "Nombre del Concierto=IVE - THE 1ST WORLD TOUR 'SHOW WHAT I HAVE’<br>Precio Real=%{x}<br>Precio Predicho=%{y}<extra></extra>",
         "legendgroup": "IVE - THE 1ST WORLD TOUR 'SHOW WHAT I HAVE’",
         "marker": {
          "color": "#19d3f3",
          "symbol": "circle"
         },
         "mode": "markers",
         "name": "IVE - THE 1ST WORLD TOUR 'SHOW WHAT I HAVE’",
         "orientation": "v",
         "showlegend": true,
         "type": "scatter",
         "x": [
          60
         ],
         "xaxis": "x",
         "y": [
          34.600039391680994
         ],
         "yaxis": "y"
        },
        {
         "hovertemplate": "Nombre del Concierto=Isaac Delusion<br>Precio Real=%{x}<br>Precio Predicho=%{y}<extra></extra>",
         "legendgroup": "Isaac Delusion",
         "marker": {
          "color": "#FF6692",
          "symbol": "circle"
         },
         "mode": "markers",
         "name": "Isaac Delusion",
         "orientation": "v",
         "showlegend": true,
         "type": "scatter",
         "x": [
          18,
          18,
          23
         ],
         "xaxis": "x",
         "y": [
          25.788621648040134,
          18.672149971515303,
          25.950808538216517
         ],
         "yaxis": "y"
        },
        {
         "hovertemplate": "Nombre del Concierto=Izaro<br>Precio Real=%{x}<br>Precio Predicho=%{y}<extra></extra>",
         "legendgroup": "Izaro",
         "marker": {
          "color": "#B6E880",
          "symbol": "circle"
         },
         "mode": "markers",
         "name": "Izaro",
         "orientation": "v",
         "showlegend": true,
         "type": "scatter",
         "x": [
          16
         ],
         "xaxis": "x",
         "y": [
          18.845961361004882
         ],
         "yaxis": "y"
        },
        {
         "hovertemplate": "Nombre del Concierto=JP Saxe - A Grey Area Tour<br>Precio Real=%{x}<br>Precio Predicho=%{y}<extra></extra>",
         "legendgroup": "JP Saxe - A Grey Area Tour",
         "marker": {
          "color": "#FF97FF",
          "symbol": "circle"
         },
         "mode": "markers",
         "name": "JP Saxe - A Grey Area Tour",
         "orientation": "v",
         "showlegend": true,
         "type": "scatter",
         "x": [
          22,
          22
         ],
         "xaxis": "x",
         "y": [
          27.68730842758644,
          26.959666133770185
         ],
         "yaxis": "y"
        },
        {
         "hovertemplate": "Nombre del Concierto=JP Saxe | “When You Think of Me” Soundcheck Experience<br>Precio Real=%{x}<br>Precio Predicho=%{y}<extra></extra>",
         "legendgroup": "JP Saxe | “When You Think of Me” Soundcheck Experience",
         "marker": {
          "color": "#FECB52",
          "symbol": "circle"
         },
         "mode": "markers",
         "name": "JP Saxe | “When You Think of Me” Soundcheck Experience",
         "orientation": "v",
         "showlegend": true,
         "type": "scatter",
         "x": [
          72,
          72
         ],
         "xaxis": "x",
         "y": [
          27.215273246062168,
          28.021105251429535
         ],
         "yaxis": "y"
        },
        {
         "hovertemplate": "Nombre del Concierto=Jacob Collier // DJESSE UK & EUROPE TOUR<br>Precio Real=%{x}<br>Precio Predicho=%{y}<extra></extra>",
         "legendgroup": "Jacob Collier // DJESSE UK & EUROPE TOUR",
         "marker": {
          "color": "#636efa",
          "symbol": "circle"
         },
         "mode": "markers",
         "name": "Jacob Collier // DJESSE UK & EUROPE TOUR",
         "orientation": "v",
         "showlegend": true,
         "type": "scatter",
         "x": [
          40,
          40
         ],
         "xaxis": "x",
         "y": [
          44.401701287015,
          40.083466916099525
         ],
         "yaxis": "y"
        },
        {
         "hovertemplate": "Nombre del Concierto=Jamie Cullum<br>Precio Real=%{x}<br>Precio Predicho=%{y}<extra></extra>",
         "legendgroup": "Jamie Cullum",
         "marker": {
          "color": "#EF553B",
          "symbol": "circle"
         },
         "mode": "markers",
         "name": "Jamie Cullum",
         "orientation": "v",
         "showlegend": true,
         "type": "scatter",
         "x": [
          30.01,
          30.01
         ],
         "xaxis": "x",
         "y": [
          28.54808871935218,
          28.96062090374697
         ],
         "yaxis": "y"
        },
        {
         "hovertemplate": "Nombre del Concierto=Joan Dausà<br>Precio Real=%{x}<br>Precio Predicho=%{y}<extra></extra>",
         "legendgroup": "Joan Dausà",
         "marker": {
          "color": "#00cc96",
          "symbol": "circle"
         },
         "mode": "markers",
         "name": "Joan Dausà",
         "orientation": "v",
         "showlegend": true,
         "type": "scatter",
         "x": [
          32
         ],
         "xaxis": "x",
         "y": [
          37.426166100512305
         ],
         "yaxis": "y"
        },
        {
         "hovertemplate": "Nombre del Concierto=Jolie Holland<br>Precio Real=%{x}<br>Precio Predicho=%{y}<extra></extra>",
         "legendgroup": "Jolie Holland",
         "marker": {
          "color": "#ab63fa",
          "symbol": "circle"
         },
         "mode": "markers",
         "name": "Jolie Holland",
         "orientation": "v",
         "showlegend": true,
         "type": "scatter",
         "x": [
          18,
          18
         ],
         "xaxis": "x",
         "y": [
          19.05126219053418,
          19.727613865906218
         ],
         "yaxis": "y"
        },
        {
         "hovertemplate": "Nombre del Concierto=Jonas Brothers: FIVE ALBUMS. ONE NIGHT<br>Precio Real=%{x}<br>Precio Predicho=%{y}<extra></extra>",
         "legendgroup": "Jonas Brothers: FIVE ALBUMS. ONE NIGHT",
         "marker": {
          "color": "#FFA15A",
          "symbol": "circle"
         },
         "mode": "markers",
         "name": "Jonas Brothers: FIVE ALBUMS. ONE NIGHT",
         "orientation": "v",
         "showlegend": true,
         "type": "scatter",
         "x": [
          65
         ],
         "xaxis": "x",
         "y": [
          42.44330401312902
         ],
         "yaxis": "y"
        },
        {
         "hovertemplate": "Nombre del Concierto=Jorge Celedón<br>Precio Real=%{x}<br>Precio Predicho=%{y}<extra></extra>",
         "legendgroup": "Jorge Celedón",
         "marker": {
          "color": "#19d3f3",
          "symbol": "circle"
         },
         "mode": "markers",
         "name": "Jorge Celedón",
         "orientation": "v",
         "showlegend": true,
         "type": "scatter",
         "x": [
          35,
          35,
          35,
          45,
          55
         ],
         "xaxis": "x",
         "y": [
          52.91058377524034,
          51.685209370886156,
          41.045158254125354,
          40.90349647327516,
          36.81485836543765
         ],
         "yaxis": "y"
        },
        {
         "hovertemplate": "Nombre del Concierto=Juancho Marqués<br>Precio Real=%{x}<br>Precio Predicho=%{y}<extra></extra>",
         "legendgroup": "Juancho Marqués",
         "marker": {
          "color": "#FF6692",
          "symbol": "circle"
         },
         "mode": "markers",
         "name": "Juancho Marqués",
         "orientation": "v",
         "showlegend": true,
         "type": "scatter",
         "x": [
          25,
          25,
          25,
          25
         ],
         "xaxis": "x",
         "y": [
          25.957345287120443,
          30.574337161201473,
          31.716428194818334,
          30.259529043415135
         ],
         "yaxis": "y"
        },
        {
         "hovertemplate": "Nombre del Concierto=Juanjo Montserrat y Mansfel<br>Precio Real=%{x}<br>Precio Predicho=%{y}<extra></extra>",
         "legendgroup": "Juanjo Montserrat y Mansfel",
         "marker": {
          "color": "#B6E880",
          "symbol": "circle"
         },
         "mode": "markers",
         "name": "Juanjo Montserrat y Mansfel",
         "orientation": "v",
         "showlegend": true,
         "type": "scatter",
         "x": [
          9
         ],
         "xaxis": "x",
         "y": [
          22.631959623459156
         ],
         "yaxis": "y"
        },
        {
         "hovertemplate": "Nombre del Concierto=Kadec Santa Anna - 24 Tour<br>Precio Real=%{x}<br>Precio Predicho=%{y}<extra></extra>",
         "legendgroup": "Kadec Santa Anna - 24 Tour",
         "marker": {
          "color": "#FF97FF",
          "symbol": "circle"
         },
         "mode": "markers",
         "name": "Kadec Santa Anna - 24 Tour",
         "orientation": "v",
         "showlegend": true,
         "type": "scatter",
         "x": [
          22,
          22,
          22,
          22,
          22,
          22,
          22,
          22,
          22,
          28
         ],
         "xaxis": "x",
         "y": [
          22.126038312100768,
          22.38606777985011,
          22.686063020324617,
          22.224531881133068,
          22.414913476049584,
          22.212399229025635,
          22.109741200727868,
          22.073072700138834,
          22.409144336809685,
          31.054771235749605
         ],
         "yaxis": "y"
        },
        {
         "hovertemplate": "Nombre del Concierto=Kaizers Orchestra<br>Precio Real=%{x}<br>Precio Predicho=%{y}<extra></extra>",
         "legendgroup": "Kaizers Orchestra",
         "marker": {
          "color": "#FECB52",
          "symbol": "circle"
         },
         "mode": "markers",
         "name": "Kaizers Orchestra",
         "orientation": "v",
         "showlegend": true,
         "type": "scatter",
         "x": [
          35
         ],
         "xaxis": "x",
         "y": [
          33.56466703159183
         ],
         "yaxis": "y"
        },
        {
         "hovertemplate": "Nombre del Concierto=Kamelot + Ad Infinitum + Blackbriar + Frozen Crown<br>Precio Real=%{x}<br>Precio Predicho=%{y}<extra></extra>",
         "legendgroup": "Kamelot + Ad Infinitum + Blackbriar + Frozen Crown",
         "marker": {
          "color": "#636efa",
          "symbol": "circle"
         },
         "mode": "markers",
         "name": "Kamelot + Ad Infinitum + Blackbriar + Frozen Crown",
         "orientation": "v",
         "showlegend": true,
         "type": "scatter",
         "x": [
          32,
          32
         ],
         "xaxis": "x",
         "y": [
          33.752398692171994,
          30.503100969691687
         ],
         "yaxis": "y"
        },
        {
         "hovertemplate": "Nombre del Concierto=Kany García<br>Precio Real=%{x}<br>Precio Predicho=%{y}<extra></extra>",
         "legendgroup": "Kany García",
         "marker": {
          "color": "#EF553B",
          "symbol": "circle"
         },
         "mode": "markers",
         "name": "Kany García",
         "orientation": "v",
         "showlegend": true,
         "type": "scatter",
         "x": [
          35,
          35,
          40
         ],
         "xaxis": "x",
         "y": [
          36.73498889113583,
          45.710486134644306,
          45.70232385047133
         ],
         "yaxis": "y"
        },
        {
         "hovertemplate": "Nombre del Concierto=Karol G - Mañana Será Bonito Tour<br>Precio Real=%{x}<br>Precio Predicho=%{y}<extra></extra>",
         "legendgroup": "Karol G - Mañana Será Bonito Tour",
         "marker": {
          "color": "#00cc96",
          "symbol": "circle"
         },
         "mode": "markers",
         "name": "Karol G - Mañana Será Bonito Tour",
         "orientation": "v",
         "showlegend": true,
         "type": "scatter",
         "x": [
          58,
          58
         ],
         "xaxis": "x",
         "y": [
          61.655472867260386,
          62.68222294157795
         ],
         "yaxis": "y"
        },
        {
         "hovertemplate": "Nombre del Concierto=Kazy Lambist<br>Precio Real=%{x}<br>Precio Predicho=%{y}<extra></extra>",
         "legendgroup": "Kazy Lambist",
         "marker": {
          "color": "#ab63fa",
          "symbol": "circle"
         },
         "mode": "markers",
         "name": "Kazy Lambist",
         "orientation": "v",
         "showlegend": true,
         "type": "scatter",
         "x": [
          22,
          22
         ],
         "xaxis": "x",
         "y": [
          22.92619439651615,
          22.908897227872945
         ],
         "yaxis": "y"
        },
        {
         "hovertemplate": "Nombre del Concierto=Keane<br>Precio Real=%{x}<br>Precio Predicho=%{y}<extra></extra>",
         "legendgroup": "Keane",
         "marker": {
          "color": "#FFA15A",
          "symbol": "circle"
         },
         "mode": "markers",
         "name": "Keane",
         "orientation": "v",
         "showlegend": true,
         "type": "scatter",
         "x": [
          32.14,
          32.14
         ],
         "xaxis": "x",
         "y": [
          41.03243593390219,
          41.04837657222667
         ],
         "yaxis": "y"
        },
        {
         "hovertemplate": "Nombre del Concierto=Kontravoid<br>Precio Real=%{x}<br>Precio Predicho=%{y}<extra></extra>",
         "legendgroup": "Kontravoid",
         "marker": {
          "color": "#19d3f3",
          "symbol": "circle"
         },
         "mode": "markers",
         "name": "Kontravoid",
         "orientation": "v",
         "showlegend": true,
         "type": "scatter",
         "x": [
          20,
          20
         ],
         "xaxis": "x",
         "y": [
          30.72706189536906,
          35.9380781114685
         ],
         "yaxis": "y"
        },
        {
         "hovertemplate": "Nombre del Concierto=LANGUI<br>Precio Real=%{x}<br>Precio Predicho=%{y}<extra></extra>",
         "legendgroup": "LANGUI",
         "marker": {
          "color": "#FF6692",
          "symbol": "circle"
         },
         "mode": "markers",
         "name": "LANGUI",
         "orientation": "v",
         "showlegend": true,
         "type": "scatter",
         "x": [
          18,
          18
         ],
         "xaxis": "x",
         "y": [
          18.334069242911355,
          16.098211658741324
         ],
         "yaxis": "y"
        },
        {
         "hovertemplate": "Nombre del Concierto=La Bien Querida<br>Precio Real=%{x}<br>Precio Predicho=%{y}<extra></extra>",
         "legendgroup": "La Bien Querida",
         "marker": {
          "color": "#B6E880",
          "symbol": "circle"
         },
         "mode": "markers",
         "name": "La Bien Querida",
         "orientation": "v",
         "showlegend": true,
         "type": "scatter",
         "x": [
          25
         ],
         "xaxis": "x",
         "y": [
          33.05291513572509
         ],
         "yaxis": "y"
        },
        {
         "hovertemplate": "Nombre del Concierto=La Música de Hans Zimmer y Otros<br>Precio Real=%{x}<br>Precio Predicho=%{y}<extra></extra>",
         "legendgroup": "La Música de Hans Zimmer y Otros",
         "marker": {
          "color": "#FF97FF",
          "symbol": "circle"
         },
         "mode": "markers",
         "name": "La Música de Hans Zimmer y Otros",
         "orientation": "v",
         "showlegend": true,
         "type": "scatter",
         "x": [
          36.6
         ],
         "xaxis": "x",
         "y": [
          36.09935558911463
         ],
         "yaxis": "y"
        },
        {
         "hovertemplate": "Nombre del Concierto=La Oreja de Van Gogh<br>Precio Real=%{x}<br>Precio Predicho=%{y}<extra></extra>",
         "legendgroup": "La Oreja de Van Gogh",
         "marker": {
          "color": "#FECB52",
          "symbol": "circle"
         },
         "mode": "markers",
         "name": "La Oreja de Van Gogh",
         "orientation": "v",
         "showlegend": true,
         "type": "scatter",
         "x": [
          30.01,
          30.01
         ],
         "xaxis": "x",
         "y": [
          40.45151653050668,
          39.990791394539436
         ],
         "yaxis": "y"
        },
        {
         "hovertemplate": "Nombre del Concierto=La Plazuela<br>Precio Real=%{x}<br>Precio Predicho=%{y}<extra></extra>",
         "legendgroup": "La Plazuela",
         "marker": {
          "color": "#636efa",
          "symbol": "circle"
         },
         "mode": "markers",
         "name": "La Plazuela",
         "orientation": "v",
         "showlegend": true,
         "type": "scatter",
         "x": [
          25
         ],
         "xaxis": "x",
         "y": [
          26.564002054305302
         ],
         "yaxis": "y"
        },
        {
         "hovertemplate": "Nombre del Concierto=La Sonrisa de Julia<br>Precio Real=%{x}<br>Precio Predicho=%{y}<extra></extra>",
         "legendgroup": "La Sonrisa de Julia",
         "marker": {
          "color": "#EF553B",
          "symbol": "circle"
         },
         "mode": "markers",
         "name": "La Sonrisa de Julia",
         "orientation": "v",
         "showlegend": true,
         "type": "scatter",
         "x": [
          22,
          22,
          22,
          22,
          22,
          22
         ],
         "xaxis": "x",
         "y": [
          21.59876612949467,
          21.76445134189285,
          21.690178660472974,
          21.610192695866957,
          22.880839299224686,
          23.22986409413544
         ],
         "yaxis": "y"
        },
        {
         "hovertemplate": "Nombre del Concierto=Las Novias + La Broma Negra<br>Precio Real=%{x}<br>Precio Predicho=%{y}<extra></extra>",
         "legendgroup": "Las Novias + La Broma Negra",
         "marker": {
          "color": "#00cc96",
          "symbol": "circle"
         },
         "mode": "markers",
         "name": "Las Novias + La Broma Negra",
         "orientation": "v",
         "showlegend": true,
         "type": "scatter",
         "x": [
          22,
          22
         ],
         "xaxis": "x",
         "y": [
          27.22653522992694,
          22.22258110489897
         ],
         "yaxis": "y"
        },
        {
         "hovertemplate": "Nombre del Concierto=Lil Yachty : The Field Trip Tour<br>Precio Real=%{x}<br>Precio Predicho=%{y}<extra></extra>",
         "legendgroup": "Lil Yachty : The Field Trip Tour",
         "marker": {
          "color": "#ab63fa",
          "symbol": "circle"
         },
         "mode": "markers",
         "name": "Lil Yachty : The Field Trip Tour",
         "orientation": "v",
         "showlegend": true,
         "type": "scatter",
         "x": [
          30
         ],
         "xaxis": "x",
         "y": [
          43.60302878003256
         ],
         "yaxis": "y"
        },
        {
         "hovertemplate": "Nombre del Concierto=Lord Apex<br>Precio Real=%{x}<br>Precio Predicho=%{y}<extra></extra>",
         "legendgroup": "Lord Apex",
         "marker": {
          "color": "#FFA15A",
          "symbol": "circle"
         },
         "mode": "markers",
         "name": "Lord Apex",
         "orientation": "v",
         "showlegend": true,
         "type": "scatter",
         "x": [
          18,
          18
         ],
         "xaxis": "x",
         "y": [
          24.964303982583864,
          19.538528172748983
         ],
         "yaxis": "y"
        },
        {
         "hovertemplate": "Nombre del Concierto=Los Secretos<br>Precio Real=%{x}<br>Precio Predicho=%{y}<extra></extra>",
         "legendgroup": "Los Secretos",
         "marker": {
          "color": "#19d3f3",
          "symbol": "circle"
         },
         "mode": "markers",
         "name": "Los Secretos",
         "orientation": "v",
         "showlegend": true,
         "type": "scatter",
         "x": [
          30.01,
          30.01,
          40
         ],
         "xaxis": "x",
         "y": [
          34.2423259311563,
          34.250165032227024,
          34.34203109725248
         ],
         "yaxis": "y"
        },
        {
         "hovertemplate": "Nombre del Concierto=Luis Miguel<br>Precio Real=%{x}<br>Precio Predicho=%{y}<extra></extra>",
         "legendgroup": "Luis Miguel",
         "marker": {
          "color": "#FF6692",
          "symbol": "circle"
         },
         "mode": "markers",
         "name": "Luis Miguel",
         "orientation": "v",
         "showlegend": true,
         "type": "scatter",
         "x": [
          50,
          55,
          60,
          60,
          70,
          75,
          75,
          80,
          141.1,
          179.46
         ],
         "xaxis": "x",
         "y": [
          72.52506391956025,
          68.6930901268942,
          68.06490284874003,
          63.221745385342174,
          59.591463406771496,
          65.27066462046803,
          61.736709476054045,
          65.23088521893361,
          63.47317621622467,
          83.60735301730993
         ],
         "yaxis": "y"
        },
        {
         "hovertemplate": "Nombre del Concierto=MANÁ<br>Precio Real=%{x}<br>Precio Predicho=%{y}<extra></extra>",
         "legendgroup": "MANÁ",
         "marker": {
          "color": "#B6E880",
          "symbol": "circle"
         },
         "mode": "markers",
         "name": "MANÁ",
         "orientation": "v",
         "showlegend": true,
         "type": "scatter",
         "x": [
          60,
          60,
          70,
          75,
          75,
          75,
          75,
          75,
          85,
          85
         ],
         "xaxis": "x",
         "y": [
          65.66560116985013,
          64.43947054210373,
          59.629880503121534,
          63.665825135297766,
          64.79016458524212,
          64.12038039530525,
          70.45518107833277,
          70.65443905738864,
          70.34359661006145,
          69.61429924696849
         ],
         "yaxis": "y"
        },
        {
         "hovertemplate": "Nombre del Concierto=MARCUS KING: MOOD SWINGS THE WORLD TOUR<br>Precio Real=%{x}<br>Precio Predicho=%{y}<extra></extra>",
         "legendgroup": "MARCUS KING: MOOD SWINGS THE WORLD TOUR",
         "marker": {
          "color": "#FF97FF",
          "symbol": "circle"
         },
         "mode": "markers",
         "name": "MARCUS KING: MOOD SWINGS THE WORLD TOUR",
         "orientation": "v",
         "showlegend": true,
         "type": "scatter",
         "x": [
          35,
          35
         ],
         "xaxis": "x",
         "y": [
          27.191461778986515,
          32.14692339002512
         ],
         "yaxis": "y"
        },
        {
         "hovertemplate": "Nombre del Concierto=Madison Beer<br>Precio Real=%{x}<br>Precio Predicho=%{y}<extra></extra>",
         "legendgroup": "Madison Beer",
         "marker": {
          "color": "#FECB52",
          "symbol": "circle"
         },
         "mode": "markers",
         "name": "Madison Beer",
         "orientation": "v",
         "showlegend": true,
         "type": "scatter",
         "x": [
          35
         ],
         "xaxis": "x",
         "y": [
          38.48689281846836
         ],
         "yaxis": "y"
        },
        {
         "hovertemplate": "Nombre del Concierto=Madison Beer - THE SPINNIN TOUR<br>Precio Real=%{x}<br>Precio Predicho=%{y}<extra></extra>",
         "legendgroup": "Madison Beer - THE SPINNIN TOUR",
         "marker": {
          "color": "#636efa",
          "symbol": "circle"
         },
         "mode": "markers",
         "name": "Madison Beer - THE SPINNIN TOUR",
         "orientation": "v",
         "showlegend": true,
         "type": "scatter",
         "x": [
          35
         ],
         "xaxis": "x",
         "y": [
          47.57861122706174
         ],
         "yaxis": "y"
        },
        {
         "hovertemplate": "Nombre del Concierto=Mago de Oz<br>Precio Real=%{x}<br>Precio Predicho=%{y}<extra></extra>",
         "legendgroup": "Mago de Oz",
         "marker": {
          "color": "#EF553B",
          "symbol": "circle"
         },
         "mode": "markers",
         "name": "Mago de Oz",
         "orientation": "v",
         "showlegend": true,
         "type": "scatter",
         "x": [
          30
         ],
         "xaxis": "x",
         "y": [
          44.05889529314197
         ],
         "yaxis": "y"
        },
        {
         "hovertemplate": "Nombre del Concierto=Maiden united (feat. Dennis Stratton)<br>Precio Real=%{x}<br>Precio Predicho=%{y}<extra></extra>",
         "legendgroup": "Maiden united (feat. Dennis Stratton)",
         "marker": {
          "color": "#00cc96",
          "symbol": "circle"
         },
         "mode": "markers",
         "name": "Maiden united (feat. Dennis Stratton)",
         "orientation": "v",
         "showlegend": true,
         "type": "scatter",
         "x": [
          22
         ],
         "xaxis": "x",
         "y": [
          18.25647737009143
         ],
         "yaxis": "y"
        },
        {
         "hovertemplate": "Nombre del Concierto=Manolo García<br>Precio Real=%{x}<br>Precio Predicho=%{y}<extra></extra>",
         "legendgroup": "Manolo García",
         "marker": {
          "color": "#ab63fa",
          "symbol": "circle"
         },
         "mode": "markers",
         "name": "Manolo García",
         "orientation": "v",
         "showlegend": true,
         "type": "scatter",
         "x": [
          40,
          40,
          44,
          47,
          47,
          47,
          47,
          47,
          47,
          47,
          47,
          47,
          47,
          47,
          47,
          47,
          47,
          50,
          60
         ],
         "xaxis": "x",
         "y": [
          39.834924197964675,
          43.2433802841157,
          31.17354665115826,
          32.70565239701651,
          41.1733766627174,
          41.272539909312535,
          40.405945302412654,
          35.93021109273457,
          37.84984797388955,
          41.27962299835505,
          41.28424834368387,
          40.24232330051539,
          42.055560018084506,
          41.7936094884699,
          40.604271795602926,
          41.88631091229721,
          36.16303816676326,
          38.13311469712,
          37.833571204680354
         ],
         "yaxis": "y"
        },
        {
         "hovertemplate": "Nombre del Concierto=Manolo García - Gira Teatros<br>Precio Real=%{x}<br>Precio Predicho=%{y}<extra></extra>",
         "legendgroup": "Manolo García - Gira Teatros",
         "marker": {
          "color": "#FFA15A",
          "symbol": "circle"
         },
         "mode": "markers",
         "name": "Manolo García - Gira Teatros",
         "orientation": "v",
         "showlegend": true,
         "type": "scatter",
         "x": [
          50,
          55,
          55,
          65
         ],
         "xaxis": "x",
         "y": [
          36.141167633361036,
          35.946774668998046,
          35.83111549481886,
          32.959910394497896
         ],
         "yaxis": "y"
        },
        {
         "hovertemplate": "Nombre del Concierto=Marc Anthony<br>Precio Real=%{x}<br>Precio Predicho=%{y}<extra></extra>",
         "legendgroup": "Marc Anthony",
         "marker": {
          "color": "#19d3f3",
          "symbol": "circle"
         },
         "mode": "markers",
         "name": "Marc Anthony",
         "orientation": "v",
         "showlegend": true,
         "type": "scatter",
         "x": [
          59,
          59
         ],
         "xaxis": "x",
         "y": [
          59.085928092209315,
          59.647391512190964
         ],
         "yaxis": "y"
        },
        {
         "hovertemplate": "Nombre del Concierto=Marc Seguí - AAAAAA Tour<br>Precio Real=%{x}<br>Precio Predicho=%{y}<extra></extra>",
         "legendgroup": "Marc Seguí - AAAAAA Tour",
         "marker": {
          "color": "#FF6692",
          "symbol": "circle"
         },
         "mode": "markers",
         "name": "Marc Seguí - AAAAAA Tour",
         "orientation": "v",
         "showlegend": true,
         "type": "scatter",
         "x": [
          20,
          20,
          20,
          20,
          20,
          20
         ],
         "xaxis": "x",
         "y": [
          24.957970975232378,
          24.785004720040153,
          23.616144511655143,
          23.703806433745296,
          24.873423116832896,
          24.154774047702496
         ],
         "yaxis": "y"
        },
        {
         "hovertemplate": "Nombre del Concierto=Marlon<br>Precio Real=%{x}<br>Precio Predicho=%{y}<extra></extra>",
         "legendgroup": "Marlon",
         "marker": {
          "color": "#B6E880",
          "symbol": "circle"
         },
         "mode": "markers",
         "name": "Marlon",
         "orientation": "v",
         "showlegend": true,
         "type": "scatter",
         "x": [
          27,
          27,
          27,
          27
         ],
         "xaxis": "x",
         "y": [
          16.61898210410235,
          16.646180107976274,
          16.707924889769483,
          16.571322100963272
         ],
         "yaxis": "y"
        },
        {
         "hovertemplate": "Nombre del Concierto=María Peláe<br>Precio Real=%{x}<br>Precio Predicho=%{y}<extra></extra>",
         "legendgroup": "María Peláe",
         "marker": {
          "color": "#FF97FF",
          "symbol": "circle"
         },
         "mode": "markers",
         "name": "María Peláe",
         "orientation": "v",
         "showlegend": true,
         "type": "scatter",
         "x": [
          30
         ],
         "xaxis": "x",
         "y": [
          38.26205196378075
         ],
         "yaxis": "y"
        },
        {
         "hovertemplate": "Nombre del Concierto=Mega Silent Disco<br>Precio Real=%{x}<br>Precio Predicho=%{y}<extra></extra>",
         "legendgroup": "Mega Silent Disco",
         "marker": {
          "color": "#FECB52",
          "symbol": "circle"
         },
         "mode": "markers",
         "name": "Mega Silent Disco",
         "orientation": "v",
         "showlegend": true,
         "type": "scatter",
         "x": [
          20
         ],
         "xaxis": "x",
         "y": [
          18.699307697923373
         ],
         "yaxis": "y"
        },
        {
         "hovertemplate": "Nombre del Concierto=Miguel Mateos<br>Precio Real=%{x}<br>Precio Predicho=%{y}<extra></extra>",
         "legendgroup": "Miguel Mateos",
         "marker": {
          "color": "#636efa",
          "symbol": "circle"
         },
         "mode": "markers",
         "name": "Miguel Mateos",
         "orientation": "v",
         "showlegend": true,
         "type": "scatter",
         "x": [
          36.6,
          36.6,
          36.6,
          36.6,
          36.6,
          36.6
         ],
         "xaxis": "x",
         "y": [
          38.66256709343457,
          38.62292963679326,
          38.63085712812152,
          42.83940497868018,
          38.35339493163235,
          38.670494584762835
         ],
         "yaxis": "y"
        },
        {
         "hovertemplate": "Nombre del Concierto=Miguel Poveda \"Poema del Cante Jondo\"<br>Precio Real=%{x}<br>Precio Predicho=%{y}<extra></extra>",
         "legendgroup": "Miguel Poveda \"Poema del Cante Jondo\"",
         "marker": {
          "color": "#EF553B",
          "symbol": "circle"
         },
         "mode": "markers",
         "name": "Miguel Poveda \"Poema del Cante Jondo\"",
         "orientation": "v",
         "showlegend": true,
         "type": "scatter",
         "x": [
          25
         ],
         "xaxis": "x",
         "y": [
          24.085317434945708
         ],
         "yaxis": "y"
        },
        {
         "hovertemplate": "Nombre del Concierto=Miguel Poveda - Poema del Cante Jondo<br>Precio Real=%{x}<br>Precio Predicho=%{y}<extra></extra>",
         "legendgroup": "Miguel Poveda - Poema del Cante Jondo",
         "marker": {
          "color": "#00cc96",
          "symbol": "circle"
         },
         "mode": "markers",
         "name": "Miguel Poveda - Poema del Cante Jondo",
         "orientation": "v",
         "showlegend": true,
         "type": "scatter",
         "x": [
          30.01,
          30.01
         ],
         "xaxis": "x",
         "y": [
          28.972293827775175,
          28.96292376658112
         ],
         "yaxis": "y"
        },
        {
         "hovertemplate": "Nombre del Concierto=Miguel Ríos cumple 80 años. Granada All Stars<br>Precio Real=%{x}<br>Precio Predicho=%{y}<extra></extra>",
         "legendgroup": "Miguel Ríos cumple 80 años. Granada All Stars",
         "marker": {
          "color": "#ab63fa",
          "symbol": "circle"
         },
         "mode": "markers",
         "name": "Miguel Ríos cumple 80 años. Granada All Stars",
         "orientation": "v",
         "showlegend": true,
         "type": "scatter",
         "x": [
          35
         ],
         "xaxis": "x",
         "y": [
          49.67292146295107
         ],
         "yaxis": "y"
        },
        {
         "hovertemplate": "Nombre del Concierto=Mikel Erentxun<br>Precio Real=%{x}<br>Precio Predicho=%{y}<extra></extra>",
         "legendgroup": "Mikel Erentxun",
         "marker": {
          "color": "#FFA15A",
          "symbol": "circle"
         },
         "mode": "markers",
         "name": "Mikel Erentxun",
         "orientation": "v",
         "showlegend": true,
         "type": "scatter",
         "x": [
          27,
          27,
          27
         ],
         "xaxis": "x",
         "y": [
          28.454301484733612,
          28.7712791254556,
          28.7395813613834
         ],
         "yaxis": "y"
        },
        {
         "hovertemplate": "Nombre del Concierto=Milo J<br>Precio Real=%{x}<br>Precio Predicho=%{y}<extra></extra>",
         "legendgroup": "Milo J",
         "marker": {
          "color": "#19d3f3",
          "symbol": "circle"
         },
         "mode": "markers",
         "name": "Milo J",
         "orientation": "v",
         "showlegend": true,
         "type": "scatter",
         "x": [
          30,
          30,
          35,
          35,
          35,
          35
         ],
         "xaxis": "x",
         "y": [
          29.018307747666633,
          26.867196562883038,
          25.899471718917,
          25.900385180410353,
          22.54806770140646,
          22.642307801942934
         ],
         "yaxis": "y"
        },
        {
         "hovertemplate": "Nombre del Concierto=Miriam Rodríguez<br>Precio Real=%{x}<br>Precio Predicho=%{y}<extra></extra>",
         "legendgroup": "Miriam Rodríguez",
         "marker": {
          "color": "#FF6692",
          "symbol": "circle"
         },
         "mode": "markers",
         "name": "Miriam Rodríguez",
         "orientation": "v",
         "showlegend": true,
         "type": "scatter",
         "x": [
          25,
          25,
          25,
          25,
          25,
          25,
          25,
          25,
          26.5,
          26.5
         ],
         "xaxis": "x",
         "y": [
          28.061538618280096,
          26.068400882325108,
          26.012005067747204,
          26.07545035914735,
          26.46317158437045,
          26.737668864758838,
          26.39985097938831,
          30.889639821380847,
          26.744597474537446,
          26.20939041876988
         ],
         "yaxis": "y"
        },
        {
         "hovertemplate": "Nombre del Concierto=Morat<br>Precio Real=%{x}<br>Precio Predicho=%{y}<extra></extra>",
         "legendgroup": "Morat",
         "marker": {
          "color": "#B6E880",
          "symbol": "circle"
         },
         "mode": "markers",
         "name": "Morat",
         "orientation": "v",
         "showlegend": true,
         "type": "scatter",
         "x": [
          36
         ],
         "xaxis": "x",
         "y": [
          51.428903468989034
         ],
         "yaxis": "y"
        },
        {
         "hovertemplate": "Nombre del Concierto=Mother Mother<br>Precio Real=%{x}<br>Precio Predicho=%{y}<extra></extra>",
         "legendgroup": "Mother Mother",
         "marker": {
          "color": "#FF97FF",
          "symbol": "circle"
         },
         "mode": "markers",
         "name": "Mother Mother",
         "orientation": "v",
         "showlegend": true,
         "type": "scatter",
         "x": [
          25,
          36,
          36,
          36
         ],
         "xaxis": "x",
         "y": [
          53.90881578533332,
          45.413189279708234,
          43.398142316286496,
          53.378488375554866
         ],
         "yaxis": "y"
        },
        {
         "hovertemplate": "Nombre del Concierto=Mudhoney<br>Precio Real=%{x}<br>Precio Predicho=%{y}<extra></extra>",
         "legendgroup": "Mudhoney",
         "marker": {
          "color": "#FECB52",
          "symbol": "circle"
         },
         "mode": "markers",
         "name": "Mudhoney",
         "orientation": "v",
         "showlegend": true,
         "type": "scatter",
         "x": [
          25,
          25
         ],
         "xaxis": "x",
         "y": [
          26.272971741757754,
          26.290603168208246
         ],
         "yaxis": "y"
        },
        {
         "hovertemplate": "Nombre del Concierto=Myke Towers<br>Precio Real=%{x}<br>Precio Predicho=%{y}<extra></extra>",
         "legendgroup": "Myke Towers",
         "marker": {
          "color": "#636efa",
          "symbol": "circle"
         },
         "mode": "markers",
         "name": "Myke Towers",
         "orientation": "v",
         "showlegend": true,
         "type": "scatter",
         "x": [
          65.18,
          71.43
         ],
         "xaxis": "x",
         "y": [
          36.663643899396874,
          37.00202729618611
         ],
         "yaxis": "y"
        },
        {
         "hovertemplate": "Nombre del Concierto=Nada Surf<br>Precio Real=%{x}<br>Precio Predicho=%{y}<extra></extra>",
         "legendgroup": "Nada Surf",
         "marker": {
          "color": "#EF553B",
          "symbol": "circle"
         },
         "mode": "markers",
         "name": "Nada Surf",
         "orientation": "v",
         "showlegend": true,
         "type": "scatter",
         "x": [
          30
         ],
         "xaxis": "x",
         "y": [
          31.827583584776875
         ],
         "yaxis": "y"
        },
        {
         "hovertemplate": "Nombre del Concierto=Nathan Fake<br>Precio Real=%{x}<br>Precio Predicho=%{y}<extra></extra>",
         "legendgroup": "Nathan Fake",
         "marker": {
          "color": "#00cc96",
          "symbol": "circle"
         },
         "mode": "markers",
         "name": "Nathan Fake",
         "orientation": "v",
         "showlegend": true,
         "type": "scatter",
         "x": [
          20,
          20
         ],
         "xaxis": "x",
         "y": [
          17.592482750215517,
          17.244008111487965
         ],
         "yaxis": "y"
        },
        {
         "hovertemplate": "Nombre del Concierto=New Model Army<br>Precio Real=%{x}<br>Precio Predicho=%{y}<extra></extra>",
         "legendgroup": "New Model Army",
         "marker": {
          "color": "#ab63fa",
          "symbol": "circle"
         },
         "mode": "markers",
         "name": "New Model Army",
         "orientation": "v",
         "showlegend": true,
         "type": "scatter",
         "x": [
          26,
          26,
          26
         ],
         "xaxis": "x",
         "y": [
          27.242234233435774,
          27.51058505779835,
          27.46468813388296
         ],
         "yaxis": "y"
        },
        {
         "hovertemplate": "Nombre del Concierto=Niall Horan - The Show<br>Precio Real=%{x}<br>Precio Predicho=%{y}<extra></extra>",
         "legendgroup": "Niall Horan - The Show",
         "marker": {
          "color": "#FFA15A",
          "symbol": "circle"
         },
         "mode": "markers",
         "name": "Niall Horan - The Show",
         "orientation": "v",
         "showlegend": true,
         "type": "scatter",
         "x": [
          40
         ],
         "xaxis": "x",
         "y": [
          50.949806847662
         ],
         "yaxis": "y"
        },
        {
         "hovertemplate": "Nombre del Concierto=Nicki Nicole<br>Precio Real=%{x}<br>Precio Predicho=%{y}<extra></extra>",
         "legendgroup": "Nicki Nicole",
         "marker": {
          "color": "#19d3f3",
          "symbol": "circle"
         },
         "mode": "markers",
         "name": "Nicki Nicole",
         "orientation": "v",
         "showlegend": true,
         "type": "scatter",
         "x": [
          30,
          30
         ],
         "xaxis": "x",
         "y": [
          28.69809301906875,
          33.343978265972794
         ],
         "yaxis": "y"
        },
        {
         "hovertemplate": "Nombre del Concierto=NieR:Orchestra Concert<br>Precio Real=%{x}<br>Precio Predicho=%{y}<extra></extra>",
         "legendgroup": "NieR:Orchestra Concert",
         "marker": {
          "color": "#FF6692",
          "symbol": "circle"
         },
         "mode": "markers",
         "name": "NieR:Orchestra Concert",
         "orientation": "v",
         "showlegend": true,
         "type": "scatter",
         "x": [
          52
         ],
         "xaxis": "x",
         "y": [
          19.378975518165078
         ],
         "yaxis": "y"
        },
        {
         "hovertemplate": "Nombre del Concierto=Nil Moliner<br>Precio Real=%{x}<br>Precio Predicho=%{y}<extra></extra>",
         "legendgroup": "Nil Moliner",
         "marker": {
          "color": "#B6E880",
          "symbol": "circle"
         },
         "mode": "markers",
         "name": "Nil Moliner",
         "orientation": "v",
         "showlegend": true,
         "type": "scatter",
         "x": [
          28,
          30,
          30,
          30,
          30,
          30,
          30,
          30,
          30,
          30
         ],
         "xaxis": "x",
         "y": [
          42.01524805255231,
          41.53361740547581,
          32.40467643348363,
          32.36245316809369,
          32.35541595719536,
          32.21467173922889,
          32.207634528330566,
          32.165411262940616,
          31.489839016701538,
          32.35541595719536
         ],
         "yaxis": "y"
        },
        {
         "hovertemplate": "Nombre del Concierto=Nil Moliner - Early Entry<br>Precio Real=%{x}<br>Precio Predicho=%{y}<extra></extra>",
         "legendgroup": "Nil Moliner - Early Entry",
         "marker": {
          "color": "#FF97FF",
          "symbol": "circle"
         },
         "mode": "markers",
         "name": "Nil Moliner - Early Entry",
         "orientation": "v",
         "showlegend": true,
         "type": "scatter",
         "x": [
          45
         ],
         "xaxis": "x",
         "y": [
          43.6849353823424
         ],
         "yaxis": "y"
        },
        {
         "hovertemplate": "Nombre del Concierto=Niños Mutantes<br>Precio Real=%{x}<br>Precio Predicho=%{y}<extra></extra>",
         "legendgroup": "Niños Mutantes",
         "marker": {
          "color": "#FECB52",
          "symbol": "circle"
         },
         "mode": "markers",
         "name": "Niños Mutantes",
         "orientation": "v",
         "showlegend": true,
         "type": "scatter",
         "x": [
          25
         ],
         "xaxis": "x",
         "y": [
          19.66434012625901
         ],
         "yaxis": "y"
        },
        {
         "hovertemplate": "Nombre del Concierto=Niños del Brasil + Serch. + Alqa<br>Precio Real=%{x}<br>Precio Predicho=%{y}<extra></extra>",
         "legendgroup": "Niños del Brasil + Serch. + Alqa",
         "marker": {
          "color": "#636efa",
          "symbol": "circle"
         },
         "mode": "markers",
         "name": "Niños del Brasil + Serch. + Alqa",
         "orientation": "v",
         "showlegend": true,
         "type": "scatter",
         "x": [
          22
         ],
         "xaxis": "x",
         "y": [
          16.124704487318
         ],
         "yaxis": "y"
        },
        {
         "hovertemplate": "Nombre del Concierto=Nothing But Thieves<br>Precio Real=%{x}<br>Precio Predicho=%{y}<extra></extra>",
         "legendgroup": "Nothing But Thieves",
         "marker": {
          "color": "#EF553B",
          "symbol": "circle"
         },
         "mode": "markers",
         "name": "Nothing But Thieves",
         "orientation": "v",
         "showlegend": true,
         "type": "scatter",
         "x": [
          30,
          30
         ],
         "xaxis": "x",
         "y": [
          38.13741469521641,
          71.14169443497336
         ],
         "yaxis": "y"
        },
        {
         "hovertemplate": "Nombre del Concierto=Olivia Rodrigo - GUTS world tour<br>Precio Real=%{x}<br>Precio Predicho=%{y}<extra></extra>",
         "legendgroup": "Olivia Rodrigo - GUTS world tour",
         "marker": {
          "color": "#00cc96",
          "symbol": "circle"
         },
         "mode": "markers",
         "name": "Olivia Rodrigo - GUTS world tour",
         "orientation": "v",
         "showlegend": true,
         "type": "scatter",
         "x": [
          60,
          60
         ],
         "xaxis": "x",
         "y": [
          30.469722427636704,
          25.926563591611338
         ],
         "yaxis": "y"
        },
        {
         "hovertemplate": "Nombre del Concierto=Orphaned Land<br>Precio Real=%{x}<br>Precio Predicho=%{y}<extra></extra>",
         "legendgroup": "Orphaned Land",
         "marker": {
          "color": "#ab63fa",
          "symbol": "circle"
         },
         "mode": "markers",
         "name": "Orphaned Land",
         "orientation": "v",
         "showlegend": true,
         "type": "scatter",
         "x": [
          27
         ],
         "xaxis": "x",
         "y": [
          30.201928593626015
         ],
         "yaxis": "y"
        },
        {
         "hovertemplate": "Nombre del Concierto=Parra for Cuva<br>Precio Real=%{x}<br>Precio Predicho=%{y}<extra></extra>",
         "legendgroup": "Parra for Cuva",
         "marker": {
          "color": "#FFA15A",
          "symbol": "circle"
         },
         "mode": "markers",
         "name": "Parra for Cuva",
         "orientation": "v",
         "showlegend": true,
         "type": "scatter",
         "x": [
          25,
          25
         ],
         "xaxis": "x",
         "y": [
          21.297879941024547,
          20.632920790155943
         ],
         "yaxis": "y"
        },
        {
         "hovertemplate": "Nombre del Concierto=Patriarchy<br>Precio Real=%{x}<br>Precio Predicho=%{y}<extra></extra>",
         "legendgroup": "Patriarchy",
         "marker": {
          "color": "#19d3f3",
          "symbol": "circle"
         },
         "mode": "markers",
         "name": "Patriarchy",
         "orientation": "v",
         "showlegend": true,
         "type": "scatter",
         "x": [
          19,
          19
         ],
         "xaxis": "x",
         "y": [
          14.462207042541083,
          18.17013444611336
         ],
         "yaxis": "y"
        },
        {
         "hovertemplate": "Nombre del Concierto=Paul Alone<br>Precio Real=%{x}<br>Precio Predicho=%{y}<extra></extra>",
         "legendgroup": "Paul Alone",
         "marker": {
          "color": "#FF6692",
          "symbol": "circle"
         },
         "mode": "markers",
         "name": "Paul Alone",
         "orientation": "v",
         "showlegend": true,
         "type": "scatter",
         "x": [
          12
         ],
         "xaxis": "x",
         "y": [
          16.696440871488434
         ],
         "yaxis": "y"
        },
        {
         "hovertemplate": "Nombre del Concierto=Paula Mattheus<br>Precio Real=%{x}<br>Precio Predicho=%{y}<extra></extra>",
         "legendgroup": "Paula Mattheus",
         "marker": {
          "color": "#B6E880",
          "symbol": "circle"
         },
         "mode": "markers",
         "name": "Paula Mattheus",
         "orientation": "v",
         "showlegend": true,
         "type": "scatter",
         "x": [
          26.5
         ],
         "xaxis": "x",
         "y": [
          27.772009953361177
         ],
         "yaxis": "y"
        },
        {
         "hovertemplate": "Nombre del Concierto=Paula Mattheus y Marlon<br>Precio Real=%{x}<br>Precio Predicho=%{y}<extra></extra>",
         "legendgroup": "Paula Mattheus y Marlon",
         "marker": {
          "color": "#FF97FF",
          "symbol": "circle"
         },
         "mode": "markers",
         "name": "Paula Mattheus y Marlon",
         "orientation": "v",
         "showlegend": true,
         "type": "scatter",
         "x": [
          30
         ],
         "xaxis": "x",
         "y": [
          15.204574068169515
         ],
         "yaxis": "y"
        },
        {
         "hovertemplate": "Nombre del Concierto=Pearl Jam - Dark Matter World Tour 2024<br>Precio Real=%{x}<br>Precio Predicho=%{y}<extra></extra>",
         "legendgroup": "Pearl Jam - Dark Matter World Tour 2024",
         "marker": {
          "color": "#FECB52",
          "symbol": "circle"
         },
         "mode": "markers",
         "name": "Pearl Jam - Dark Matter World Tour 2024",
         "orientation": "v",
         "showlegend": true,
         "type": "scatter",
         "x": [
          81,
          81,
          105
         ],
         "xaxis": "x",
         "y": [
          71.33368267852889,
          73.09591644910653,
          71.67540151995088
         ],
         "yaxis": "y"
        },
        {
         "hovertemplate": "Nombre del Concierto=Pink Turns Blue + Hørd<br>Precio Real=%{x}<br>Precio Predicho=%{y}<extra></extra>",
         "legendgroup": "Pink Turns Blue + Hørd",
         "marker": {
          "color": "#636efa",
          "symbol": "circle"
         },
         "mode": "markers",
         "name": "Pink Turns Blue + Hørd",
         "orientation": "v",
         "showlegend": true,
         "type": "scatter",
         "x": [
          22,
          22
         ],
         "xaxis": "x",
         "y": [
          19.543793587064556,
          19.71903801876939
         ],
         "yaxis": "y"
        },
        {
         "hovertemplate": "Nombre del Concierto=Pitingo / Soulería de ida y vuelta<br>Precio Real=%{x}<br>Precio Predicho=%{y}<extra></extra>",
         "legendgroup": "Pitingo / Soulería de ida y vuelta",
         "marker": {
          "color": "#EF553B",
          "symbol": "circle"
         },
         "mode": "markers",
         "name": "Pitingo / Soulería de ida y vuelta",
         "orientation": "v",
         "showlegend": true,
         "type": "scatter",
         "x": [
          25
         ],
         "xaxis": "x",
         "y": [
          27.293983046426483
         ],
         "yaxis": "y"
        },
        {
         "hovertemplate": "Nombre del Concierto=Pixies<br>Precio Real=%{x}<br>Precio Predicho=%{y}<extra></extra>",
         "legendgroup": "Pixies",
         "marker": {
          "color": "#00cc96",
          "symbol": "circle"
         },
         "mode": "markers",
         "name": "Pixies",
         "orientation": "v",
         "showlegend": true,
         "type": "scatter",
         "x": [
          50
         ],
         "xaxis": "x",
         "y": [
          39.61166935609687
         ],
         "yaxis": "y"
        },
        {
         "hovertemplate": "Nombre del Concierto=Pol Granch - Tour 2024<br>Precio Real=%{x}<br>Precio Predicho=%{y}<extra></extra>",
         "legendgroup": "Pol Granch - Tour 2024",
         "marker": {
          "color": "#ab63fa",
          "symbol": "circle"
         },
         "mode": "markers",
         "name": "Pol Granch - Tour 2024",
         "orientation": "v",
         "showlegend": true,
         "type": "scatter",
         "x": [
          20,
          20,
          20,
          20,
          20,
          20,
          20
         ],
         "xaxis": "x",
         "y": [
          26.909947282243735,
          26.9019769630815,
          26.957769197217146,
          26.838214409783614,
          26.852399567723673,
          26.844429248561433,
          30.969761363035065
         ],
         "yaxis": "y"
        },
        {
         "hovertemplate": "Nombre del Concierto=Premier - La gran quedada<br>Precio Real=%{x}<br>Precio Predicho=%{y}<extra></extra>",
         "legendgroup": "Premier - La gran quedada",
         "marker": {
          "color": "#FFA15A",
          "symbol": "circle"
         },
         "mode": "markers",
         "name": "Premier - La gran quedada",
         "orientation": "v",
         "showlegend": true,
         "type": "scatter",
         "x": [
          35
         ],
         "xaxis": "x",
         "y": [
          25.29603051995747
         ],
         "yaxis": "y"
        },
        {
         "hovertemplate": "Nombre del Concierto=Queens of the Stone Age<br>Precio Real=%{x}<br>Precio Predicho=%{y}<extra></extra>",
         "legendgroup": "Queens of the Stone Age",
         "marker": {
          "color": "#19d3f3",
          "symbol": "circle"
         },
         "mode": "markers",
         "name": "Queens of the Stone Age",
         "orientation": "v",
         "showlegend": true,
         "type": "scatter",
         "x": [
          50,
          55
         ],
         "xaxis": "x",
         "y": [
          47.651722381681964,
          47.88829960660471
         ],
         "yaxis": "y"
        },
        {
         "hovertemplate": "Nombre del Concierto=ROUSS<br>Precio Real=%{x}<br>Precio Predicho=%{y}<extra></extra>",
         "legendgroup": "ROUSS",
         "marker": {
          "color": "#FF6692",
          "symbol": "circle"
         },
         "mode": "markers",
         "name": "ROUSS",
         "orientation": "v",
         "showlegend": true,
         "type": "scatter",
         "x": [
          20
         ],
         "xaxis": "x",
         "y": [
          21.34390134205649
         ],
         "yaxis": "y"
        },
        {
         "hovertemplate": "Nombre del Concierto=Rawayana ¿Quién trae las cornetas? - Tour 2024<br>Precio Real=%{x}<br>Precio Predicho=%{y}<extra></extra>",
         "legendgroup": "Rawayana ¿Quién trae las cornetas? - Tour 2024",
         "marker": {
          "color": "#B6E880",
          "symbol": "circle"
         },
         "mode": "markers",
         "name": "Rawayana ¿Quién trae las cornetas? - Tour 2024",
         "orientation": "v",
         "showlegend": true,
         "type": "scatter",
         "x": [
          35,
          40,
          42
         ],
         "xaxis": "x",
         "y": [
          24.86079641269497,
          21.894069554020838,
          31.487681427152367
         ],
         "yaxis": "y"
        },
        {
         "hovertemplate": "Nombre del Concierto=Rojuu<br>Precio Real=%{x}<br>Precio Predicho=%{y}<extra></extra>",
         "legendgroup": "Rojuu",
         "marker": {
          "color": "#FF97FF",
          "symbol": "circle"
         },
         "mode": "markers",
         "name": "Rojuu",
         "orientation": "v",
         "showlegend": true,
         "type": "scatter",
         "x": [
          22,
          22
         ],
         "xaxis": "x",
         "y": [
          19.67040921121975,
          19.732009499019345
         ],
         "yaxis": "y"
        },
        {
         "hovertemplate": "Nombre del Concierto=Ronald Borjas<br>Precio Real=%{x}<br>Precio Predicho=%{y}<extra></extra>",
         "legendgroup": "Ronald Borjas",
         "marker": {
          "color": "#FECB52",
          "symbol": "circle"
         },
         "mode": "markers",
         "name": "Ronald Borjas",
         "orientation": "v",
         "showlegend": true,
         "type": "scatter",
         "x": [
          40,
          44
         ],
         "xaxis": "x",
         "y": [
          27.548569696768602,
          23.094339995651353
         ],
         "yaxis": "y"
        },
        {
         "hovertemplate": "Nombre del Concierto=Rozalén<br>Precio Real=%{x}<br>Precio Predicho=%{y}<extra></extra>",
         "legendgroup": "Rozalén",
         "marker": {
          "color": "#636efa",
          "symbol": "circle"
         },
         "mode": "markers",
         "name": "Rozalén",
         "orientation": "v",
         "showlegend": true,
         "type": "scatter",
         "x": [
          38
         ],
         "xaxis": "x",
         "y": [
          42.371945858800295
         ],
         "yaxis": "y"
        },
        {
         "hovertemplate": "Nombre del Concierto=Rulo y la Contrabanda - Tour 5<br>Precio Real=%{x}<br>Precio Predicho=%{y}<extra></extra>",
         "legendgroup": "Rulo y la Contrabanda - Tour 5",
         "marker": {
          "color": "#EF553B",
          "symbol": "circle"
         },
         "mode": "markers",
         "name": "Rulo y la Contrabanda - Tour 5",
         "orientation": "v",
         "showlegend": true,
         "type": "scatter",
         "x": [
          28,
          28,
          30,
          30,
          30,
          30,
          30,
          32,
          32
         ],
         "xaxis": "x",
         "y": [
          24.938815902916215,
          26.09972719522512,
          29.05096699623018,
          25.50179277478212,
          25.677340800536484,
          25.21326712795084,
          25.16400665166258,
          29.93089550795845,
          25.45956950939217
         ],
         "yaxis": "y"
        },
        {
         "hovertemplate": "Nombre del Concierto=STINGERS + ALEJANDRIA + THE NIGHT PROWLERS<br>Precio Real=%{x}<br>Precio Predicho=%{y}<extra></extra>",
         "legendgroup": "STINGERS + ALEJANDRIA + THE NIGHT PROWLERS",
         "marker": {
          "color": "#00cc96",
          "symbol": "circle"
         },
         "mode": "markers",
         "name": "STINGERS + ALEJANDRIA + THE NIGHT PROWLERS",
         "orientation": "v",
         "showlegend": true,
         "type": "scatter",
         "x": [
          22
         ],
         "xaxis": "x",
         "y": [
          29.40386683779359
         ],
         "yaxis": "y"
        },
        {
         "hovertemplate": "Nombre del Concierto=Sasha Velour - The Big Reveal Live Show<br>Precio Real=%{x}<br>Precio Predicho=%{y}<extra></extra>",
         "legendgroup": "Sasha Velour - The Big Reveal Live Show",
         "marker": {
          "color": "#ab63fa",
          "symbol": "circle"
         },
         "mode": "markers",
         "name": "Sasha Velour - The Big Reveal Live Show",
         "orientation": "v",
         "showlegend": true,
         "type": "scatter",
         "x": [
          40,
          40
         ],
         "xaxis": "x",
         "y": [
          27.418184876019964,
          31.62001127540097
         ],
         "yaxis": "y"
        },
        {
         "hovertemplate": "Nombre del Concierto=Shawn James<br>Precio Real=%{x}<br>Precio Predicho=%{y}<extra></extra>",
         "legendgroup": "Shawn James",
         "marker": {
          "color": "#FFA15A",
          "symbol": "circle"
         },
         "mode": "markers",
         "name": "Shawn James",
         "orientation": "v",
         "showlegend": true,
         "type": "scatter",
         "x": [
          25,
          25
         ],
         "xaxis": "x",
         "y": [
          29.095789316805856,
          28.215034973201007
         ],
         "yaxis": "y"
        },
        {
         "hovertemplate": "Nombre del Concierto=Sheryl Crow<br>Precio Real=%{x}<br>Precio Predicho=%{y}<extra></extra>",
         "legendgroup": "Sheryl Crow",
         "marker": {
          "color": "#19d3f3",
          "symbol": "circle"
         },
         "mode": "markers",
         "name": "Sheryl Crow",
         "orientation": "v",
         "showlegend": true,
         "type": "scatter",
         "x": [
          30.01,
          31.25
         ],
         "xaxis": "x",
         "y": [
          36.73338274896032,
          35.894743756541146
         ],
         "yaxis": "y"
        },
        {
         "hovertemplate": "Nombre del Concierto=Siempre Así<br>Precio Real=%{x}<br>Precio Predicho=%{y}<extra></extra>",
         "legendgroup": "Siempre Así",
         "marker": {
          "color": "#FF6692",
          "symbol": "circle"
         },
         "mode": "markers",
         "name": "Siempre Así",
         "orientation": "v",
         "showlegend": true,
         "type": "scatter",
         "x": [
          30.01,
          30.01
         ],
         "xaxis": "x",
         "y": [
          29.09674171728002,
          29.204983700525112
         ],
         "yaxis": "y"
        },
        {
         "hovertemplate": "Nombre del Concierto=Siempre así<br>Precio Real=%{x}<br>Precio Predicho=%{y}<extra></extra>",
         "legendgroup": "Siempre así",
         "marker": {
          "color": "#B6E880",
          "symbol": "circle"
         },
         "mode": "markers",
         "name": "Siempre así",
         "orientation": "v",
         "showlegend": true,
         "type": "scatter",
         "x": [
          40
         ],
         "xaxis": "x",
         "y": [
          31.346895447601128
         ],
         "yaxis": "y"
        },
        {
         "hovertemplate": "Nombre del Concierto=Simple Minds<br>Precio Real=%{x}<br>Precio Predicho=%{y}<extra></extra>",
         "legendgroup": "Simple Minds",
         "marker": {
          "color": "#FF97FF",
          "symbol": "circle"
         },
         "mode": "markers",
         "name": "Simple Minds",
         "orientation": "v",
         "showlegend": true,
         "type": "scatter",
         "x": [
          35.71
         ],
         "xaxis": "x",
         "y": [
          36.61912626313021
         ],
         "yaxis": "y"
        },
        {
         "hovertemplate": "Nombre del Concierto=Supersuckers + Wicked Dog<br>Precio Real=%{x}<br>Precio Predicho=%{y}<extra></extra>",
         "legendgroup": "Supersuckers + Wicked Dog",
         "marker": {
          "color": "#FECB52",
          "symbol": "circle"
         },
         "mode": "markers",
         "name": "Supersuckers + Wicked Dog",
         "orientation": "v",
         "showlegend": true,
         "type": "scatter",
         "x": [
          22
         ],
         "xaxis": "x",
         "y": [
          28.962884834115503
         ],
         "yaxis": "y"
        },
        {
         "hovertemplate": "Nombre del Concierto=Sôber Gira 30 Aniversario + Savia+ Skizoo + Hamlet<br>Precio Real=%{x}<br>Precio Predicho=%{y}<extra></extra>",
         "legendgroup": "Sôber Gira 30 Aniversario + Savia+ Skizoo + Hamlet",
         "marker": {
          "color": "#636efa",
          "symbol": "circle"
         },
         "mode": "markers",
         "name": "Sôber Gira 30 Aniversario + Savia+ Skizoo + Hamlet",
         "orientation": "v",
         "showlegend": true,
         "type": "scatter",
         "x": [
          22
         ],
         "xaxis": "x",
         "y": [
          28.59246991849527
         ],
         "yaxis": "y"
        },
        {
         "hovertemplate": "Nombre del Concierto=Take That<br>Precio Real=%{x}<br>Precio Predicho=%{y}<extra></extra>",
         "legendgroup": "Take That",
         "marker": {
          "color": "#EF553B",
          "symbol": "circle"
         },
         "mode": "markers",
         "name": "Take That",
         "orientation": "v",
         "showlegend": true,
         "type": "scatter",
         "x": [
          55.36,
          67.86,
          87.5,
          138.04
         ],
         "xaxis": "x",
         "y": [
          54.240349621833374,
          53.07254419822904,
          54.49534082736372,
          54.23326653279086
         ],
         "yaxis": "y"
        },
        {
         "hovertemplate": "Nombre del Concierto=Tan Biónica: La Última Noche Mágica Tour<br>Precio Real=%{x}<br>Precio Predicho=%{y}<extra></extra>",
         "legendgroup": "Tan Biónica: La Última Noche Mágica Tour",
         "marker": {
          "color": "#00cc96",
          "symbol": "circle"
         },
         "mode": "markers",
         "name": "Tan Biónica: La Última Noche Mágica Tour",
         "orientation": "v",
         "showlegend": true,
         "type": "scatter",
         "x": [
          38,
          38
         ],
         "xaxis": "x",
         "y": [
          25.826135782427166,
          29.759987417252486
         ],
         "yaxis": "y"
        },
        {
         "hovertemplate": "Nombre del Concierto=Tate McRae – THINK LATER TOUR<br>Precio Real=%{x}<br>Precio Predicho=%{y}<extra></extra>",
         "legendgroup": "Tate McRae – THINK LATER TOUR",
         "marker": {
          "color": "#ab63fa",
          "symbol": "circle"
         },
         "mode": "markers",
         "name": "Tate McRae – THINK LATER TOUR",
         "orientation": "v",
         "showlegend": true,
         "type": "scatter",
         "x": [
          37,
          39
         ],
         "xaxis": "x",
         "y": [
          49.70002922707573,
          44.46739744839897
         ],
         "yaxis": "y"
        },
        {
         "hovertemplate": "Nombre del Concierto=Taylor Swift | The Eras Tour<br>Precio Real=%{x}<br>Precio Predicho=%{y}<extra></extra>",
         "legendgroup": "Taylor Swift | The Eras Tour",
         "marker": {
          "color": "#FFA15A",
          "symbol": "circle"
         },
         "mode": "markers",
         "name": "Taylor Swift | The Eras Tour",
         "orientation": "v",
         "showlegend": true,
         "type": "scatter",
         "x": [
          65
         ],
         "xaxis": "x",
         "y": [
          102.38731930922752
         ],
         "yaxis": "y"
        },
        {
         "hovertemplate": "Nombre del Concierto=The 1975<br>Precio Real=%{x}<br>Precio Predicho=%{y}<extra></extra>",
         "legendgroup": "The 1975",
         "marker": {
          "color": "#19d3f3",
          "symbol": "circle"
         },
         "mode": "markers",
         "name": "The 1975",
         "orientation": "v",
         "showlegend": true,
         "type": "scatter",
         "x": [
          55
         ],
         "xaxis": "x",
         "y": [
          49.69395658500917
         ],
         "yaxis": "y"
        },
        {
         "hovertemplate": "Nombre del Concierto=The Answer<br>Precio Real=%{x}<br>Precio Predicho=%{y}<extra></extra>",
         "legendgroup": "The Answer",
         "marker": {
          "color": "#FF6692",
          "symbol": "circle"
         },
         "mode": "markers",
         "name": "The Answer",
         "orientation": "v",
         "showlegend": true,
         "type": "scatter",
         "x": [
          25,
          25,
          25
         ],
         "xaxis": "x",
         "y": [
          31.57086683820866,
          31.632577688109464,
          30.71357479602837
         ],
         "yaxis": "y"
        },
        {
         "hovertemplate": "Nombre del Concierto=The Australian Pink Floyd Show<br>Precio Real=%{x}<br>Precio Predicho=%{y}<extra></extra>",
         "legendgroup": "The Australian Pink Floyd Show",
         "marker": {
          "color": "#B6E880",
          "symbol": "circle"
         },
         "mode": "markers",
         "name": "The Australian Pink Floyd Show",
         "orientation": "v",
         "showlegend": true,
         "type": "scatter",
         "x": [
          40
         ],
         "xaxis": "x",
         "y": [
          44.61982264301865
         ],
         "yaxis": "y"
        },
        {
         "hovertemplate": "Nombre del Concierto=The Breeders<br>Precio Real=%{x}<br>Precio Predicho=%{y}<extra></extra>",
         "legendgroup": "The Breeders",
         "marker": {
          "color": "#FF97FF",
          "symbol": "circle"
         },
         "mode": "markers",
         "name": "The Breeders",
         "orientation": "v",
         "showlegend": true,
         "type": "scatter",
         "x": [
          40
         ],
         "xaxis": "x",
         "y": [
          32.925874803946655
         ],
         "yaxis": "y"
        },
        {
         "hovertemplate": "Nombre del Concierto=The Cat Empire<br>Precio Real=%{x}<br>Precio Predicho=%{y}<extra></extra>",
         "legendgroup": "The Cat Empire",
         "marker": {
          "color": "#FECB52",
          "symbol": "circle"
         },
         "mode": "markers",
         "name": "The Cat Empire",
         "orientation": "v",
         "showlegend": true,
         "type": "scatter",
         "x": [
          35
         ],
         "xaxis": "x",
         "y": [
          31.137016369081636
         ],
         "yaxis": "y"
        },
        {
         "hovertemplate": "Nombre del Concierto=The Change<br>Precio Real=%{x}<br>Precio Predicho=%{y}<extra></extra>",
         "legendgroup": "The Change",
         "marker": {
          "color": "#636efa",
          "symbol": "circle"
         },
         "mode": "markers",
         "name": "The Change",
         "orientation": "v",
         "showlegend": true,
         "type": "scatter",
         "x": [
          18
         ],
         "xaxis": "x",
         "y": [
          19.470198876120428
         ],
         "yaxis": "y"
        },
        {
         "hovertemplate": "Nombre del Concierto=The Clockworks<br>Precio Real=%{x}<br>Precio Predicho=%{y}<extra></extra>",
         "legendgroup": "The Clockworks",
         "marker": {
          "color": "#EF553B",
          "symbol": "circle"
         },
         "mode": "markers",
         "name": "The Clockworks",
         "orientation": "v",
         "showlegend": true,
         "type": "scatter",
         "x": [
          18,
          18
         ],
         "xaxis": "x",
         "y": [
          20.606463662784364,
          20.60074542003831
         ],
         "yaxis": "y"
        },
        {
         "hovertemplate": "Nombre del Concierto=The Magical Music of Harry Potter<br>Precio Real=%{x}<br>Precio Predicho=%{y}<extra></extra>",
         "legendgroup": "The Magical Music of Harry Potter",
         "marker": {
          "color": "#00cc96",
          "symbol": "circle"
         },
         "mode": "markers",
         "name": "The Magical Music of Harry Potter",
         "orientation": "v",
         "showlegend": true,
         "type": "scatter",
         "x": [
          36.6,
          36.6
         ],
         "xaxis": "x",
         "y": [
          36.05617831549215,
          31.49649904556532
         ],
         "yaxis": "y"
        },
        {
         "hovertemplate": "Nombre del Concierto=The Music of Hans Zimmer & More<br>Precio Real=%{x}<br>Precio Predicho=%{y}<extra></extra>",
         "legendgroup": "The Music of Hans Zimmer & More",
         "marker": {
          "color": "#ab63fa",
          "symbol": "circle"
         },
         "mode": "markers",
         "name": "The Music of Hans Zimmer & More",
         "orientation": "v",
         "showlegend": true,
         "type": "scatter",
         "x": [
          36.6
         ],
         "xaxis": "x",
         "y": [
          31.77201540072389
         ],
         "yaxis": "y"
        },
        {
         "hovertemplate": "Nombre del Concierto=The New Raemon<br>Precio Real=%{x}<br>Precio Predicho=%{y}<extra></extra>",
         "legendgroup": "The New Raemon",
         "marker": {
          "color": "#FFA15A",
          "symbol": "circle"
         },
         "mode": "markers",
         "name": "The New Raemon",
         "orientation": "v",
         "showlegend": true,
         "type": "scatter",
         "x": [
          25,
          25
         ],
         "xaxis": "x",
         "y": [
          26.336561755919355,
          26.56802797755102
         ],
         "yaxis": "y"
        },
        {
         "hovertemplate": "Nombre del Concierto=The Rose<br>Precio Real=%{x}<br>Precio Predicho=%{y}<extra></extra>",
         "legendgroup": "The Rose",
         "marker": {
          "color": "#19d3f3",
          "symbol": "circle"
         },
         "mode": "markers",
         "name": "The Rose",
         "orientation": "v",
         "showlegend": true,
         "type": "scatter",
         "x": [
          60
         ],
         "xaxis": "x",
         "y": [
          51.24668712587966
         ],
         "yaxis": "y"
        },
        {
         "hovertemplate": "Nombre del Concierto=The Tallest Man On Earth<br>Precio Real=%{x}<br>Precio Predicho=%{y}<extra></extra>",
         "legendgroup": "The Tallest Man On Earth",
         "marker": {
          "color": "#FF6692",
          "symbol": "circle"
         },
         "mode": "markers",
         "name": "The Tallest Man On Earth",
         "orientation": "v",
         "showlegend": true,
         "type": "scatter",
         "x": [
          32,
          32
         ],
         "xaxis": "x",
         "y": [
          33.49347290842969,
          29.61449683252411
         ],
         "yaxis": "y"
        },
        {
         "hovertemplate": "Nombre del Concierto=The Teskey Brothers<br>Precio Real=%{x}<br>Precio Predicho=%{y}<extra></extra>",
         "legendgroup": "The Teskey Brothers",
         "marker": {
          "color": "#B6E880",
          "symbol": "circle"
         },
         "mode": "markers",
         "name": "The Teskey Brothers",
         "orientation": "v",
         "showlegend": true,
         "type": "scatter",
         "x": [
          30,
          30
         ],
         "xaxis": "x",
         "y": [
          33.129086412101366,
          28.475677943406353
         ],
         "yaxis": "y"
        },
        {
         "hovertemplate": "Nombre del Concierto=The Tyets<br>Precio Real=%{x}<br>Precio Predicho=%{y}<extra></extra>",
         "legendgroup": "The Tyets",
         "marker": {
          "color": "#FF97FF",
          "symbol": "circle"
         },
         "mode": "markers",
         "name": "The Tyets",
         "orientation": "v",
         "showlegend": true,
         "type": "scatter",
         "x": [
          20
         ],
         "xaxis": "x",
         "y": [
          16.568354613504123
         ],
         "yaxis": "y"
        },
        {
         "hovertemplate": "Nombre del Concierto=The Warning<br>Precio Real=%{x}<br>Precio Predicho=%{y}<extra></extra>",
         "legendgroup": "The Warning",
         "marker": {
          "color": "#FECB52",
          "symbol": "circle"
         },
         "mode": "markers",
         "name": "The Warning",
         "orientation": "v",
         "showlegend": true,
         "type": "scatter",
         "x": [
          25,
          25,
          25,
          25
         ],
         "xaxis": "x",
         "y": [
          31.241415224809245,
          31.23437801391092,
          31.220303592114277,
          35.776076121460434
         ],
         "yaxis": "y"
        },
        {
         "hovertemplate": "Nombre del Concierto=Thirty Seconds To Mars - Seasons<br>Precio Real=%{x}<br>Precio Predicho=%{y}<extra></extra>",
         "legendgroup": "Thirty Seconds To Mars - Seasons",
         "marker": {
          "color": "#636efa",
          "symbol": "circle"
         },
         "mode": "markers",
         "name": "Thirty Seconds To Mars - Seasons",
         "orientation": "v",
         "showlegend": true,
         "type": "scatter",
         "x": [
          55
         ],
         "xaxis": "x",
         "y": [
          45.64643239228942
         ],
         "yaxis": "y"
        },
        {
         "hovertemplate": "Nombre del Concierto=Tom Jones<br>Precio Real=%{x}<br>Precio Predicho=%{y}<extra></extra>",
         "legendgroup": "Tom Jones",
         "marker": {
          "color": "#EF553B",
          "symbol": "circle"
         },
         "mode": "markers",
         "name": "Tom Jones",
         "orientation": "v",
         "showlegend": true,
         "type": "scatter",
         "x": [
          50.89,
          50.89,
          60
         ],
         "xaxis": "x",
         "y": [
          40.153727244836666,
          39.92275456393282,
          43.84067997426895
         ],
         "yaxis": "y"
        },
        {
         "hovertemplate": "Nombre del Concierto=Tom Odell<br>Precio Real=%{x}<br>Precio Predicho=%{y}<extra></extra>",
         "legendgroup": "Tom Odell",
         "marker": {
          "color": "#00cc96",
          "symbol": "circle"
         },
         "mode": "markers",
         "name": "Tom Odell",
         "orientation": "v",
         "showlegend": true,
         "type": "scatter",
         "x": [
          35,
          35
         ],
         "xaxis": "x",
         "y": [
          40.733717062641766,
          36.22638432772846
         ],
         "yaxis": "y"
        },
        {
         "hovertemplate": "Nombre del Concierto=Tributo a QUEEN<br>Precio Real=%{x}<br>Precio Predicho=%{y}<extra></extra>",
         "legendgroup": "Tributo a QUEEN",
         "marker": {
          "color": "#ab63fa",
          "symbol": "circle"
         },
         "mode": "markers",
         "name": "Tributo a QUEEN",
         "orientation": "v",
         "showlegend": true,
         "type": "scatter",
         "x": [
          20
         ],
         "xaxis": "x",
         "y": [
          22.408987938238596
         ],
         "yaxis": "y"
        },
        {
         "hovertemplate": "Nombre del Concierto=Trisomie 21<br>Precio Real=%{x}<br>Precio Predicho=%{y}<extra></extra>",
         "legendgroup": "Trisomie 21",
         "marker": {
          "color": "#FFA15A",
          "symbol": "circle"
         },
         "mode": "markers",
         "name": "Trisomie 21",
         "orientation": "v",
         "showlegend": true,
         "type": "scatter",
         "x": [
          25,
          25
         ],
         "xaxis": "x",
         "y": [
          16.248367470478055,
          20.83292114723683
         ],
         "yaxis": "y"
        },
        {
         "hovertemplate": "Nombre del Concierto=UB40 Featuring Ali Campbell in memory of Astro<br>Precio Real=%{x}<br>Precio Predicho=%{y}<extra></extra>",
         "legendgroup": "UB40 Featuring Ali Campbell in memory of Astro",
         "marker": {
          "color": "#19d3f3",
          "symbol": "circle"
         },
         "mode": "markers",
         "name": "UB40 Featuring Ali Campbell in memory of Astro",
         "orientation": "v",
         "showlegend": true,
         "type": "scatter",
         "x": [
          30.01
         ],
         "xaxis": "x",
         "y": [
          14.970606284377423
         ],
         "yaxis": "y"
        },
        {
         "hovertemplate": "Nombre del Concierto=Vanesa Martín<br>Precio Real=%{x}<br>Precio Predicho=%{y}<extra></extra>",
         "legendgroup": "Vanesa Martín",
         "marker": {
          "color": "#FF6692",
          "symbol": "circle"
         },
         "mode": "markers",
         "name": "Vanesa Martín",
         "orientation": "v",
         "showlegend": true,
         "type": "scatter",
         "x": [
          30.36,
          31.25,
          31.25
         ],
         "xaxis": "x",
         "y": [
          37.12654176683656,
          37.63462808143803,
          36.72466819022226
         ],
         "yaxis": "y"
        },
        {
         "hovertemplate": "Nombre del Concierto=Vida Records & Friends: Boye<br>Precio Real=%{x}<br>Precio Predicho=%{y}<extra></extra>",
         "legendgroup": "Vida Records & Friends: Boye",
         "marker": {
          "color": "#B6E880",
          "symbol": "circle"
         },
         "mode": "markers",
         "name": "Vida Records & Friends: Boye",
         "orientation": "v",
         "showlegend": true,
         "type": "scatter",
         "x": [
          15
         ],
         "xaxis": "x",
         "y": [
          19.819235083513533
         ],
         "yaxis": "y"
        },
        {
         "hovertemplate": "Nombre del Concierto=Vida Records & Friends: Lime Garden<br>Precio Real=%{x}<br>Precio Predicho=%{y}<extra></extra>",
         "legendgroup": "Vida Records & Friends: Lime Garden",
         "marker": {
          "color": "#FF97FF",
          "symbol": "circle"
         },
         "mode": "markers",
         "name": "Vida Records & Friends: Lime Garden",
         "orientation": "v",
         "showlegend": true,
         "type": "scatter",
         "x": [
          10
         ],
         "xaxis": "x",
         "y": [
          19.44395314700892
         ],
         "yaxis": "y"
        },
        {
         "hovertemplate": "Nombre del Concierto=Víctor Martín<br>Precio Real=%{x}<br>Precio Predicho=%{y}<extra></extra>",
         "legendgroup": "Víctor Martín",
         "marker": {
          "color": "#FECB52",
          "symbol": "circle"
         },
         "mode": "markers",
         "name": "Víctor Martín",
         "orientation": "v",
         "showlegend": true,
         "type": "scatter",
         "x": [
          12,
          12,
          12,
          13,
          13
         ],
         "xaxis": "x",
         "y": [
          16.11516524289361,
          16.13297105484996,
          16.2003079391605,
          16.16061396735366,
          16.219162266767448
         ],
         "yaxis": "y"
        },
        {
         "hovertemplate": "Nombre del Concierto=Walls<br>Precio Real=%{x}<br>Precio Predicho=%{y}<extra></extra>",
         "legendgroup": "Walls",
         "marker": {
          "color": "#636efa",
          "symbol": "circle"
         },
         "mode": "markers",
         "name": "Walls",
         "orientation": "v",
         "showlegend": true,
         "type": "scatter",
         "x": [
          25
         ],
         "xaxis": "x",
         "y": [
          44.80743269450029
         ],
         "yaxis": "y"
        },
        {
         "hovertemplate": "Nombre del Concierto=Yung Sarria<br>Precio Real=%{x}<br>Precio Predicho=%{y}<extra></extra>",
         "legendgroup": "Yung Sarria",
         "marker": {
          "color": "#EF553B",
          "symbol": "circle"
         },
         "mode": "markers",
         "name": "Yung Sarria",
         "orientation": "v",
         "showlegend": true,
         "type": "scatter",
         "x": [
          12
         ],
         "xaxis": "x",
         "y": [
          19.61408772897296
         ],
         "yaxis": "y"
        },
        {
         "hovertemplate": "Nombre del Concierto=ZENOBIA + DEBLER<br>Precio Real=%{x}<br>Precio Predicho=%{y}<extra></extra>",
         "legendgroup": "ZENOBIA + DEBLER",
         "marker": {
          "color": "#00cc96",
          "symbol": "circle"
         },
         "mode": "markers",
         "name": "ZENOBIA + DEBLER",
         "orientation": "v",
         "showlegend": true,
         "type": "scatter",
         "x": [
          22
         ],
         "xaxis": "x",
         "y": [
          20.07281805359672
         ],
         "yaxis": "y"
        },
        {
         "hovertemplate": "Nombre del Concierto=gREAT sTRAITS<br>Precio Real=%{x}<br>Precio Predicho=%{y}<extra></extra>",
         "legendgroup": "gREAT sTRAITS",
         "marker": {
          "color": "#ab63fa",
          "symbol": "circle"
         },
         "mode": "markers",
         "name": "gREAT sTRAITS",
         "orientation": "v",
         "showlegend": true,
         "type": "scatter",
         "x": [
          35,
          38
         ],
         "xaxis": "x",
         "y": [
          24.046747317777296,
          28.419869660450974
         ],
         "yaxis": "y"
        },
        {
         "hovertemplate": "Nombre del Concierto=Álvaro de Luna<br>Precio Real=%{x}<br>Precio Predicho=%{y}<extra></extra>",
         "legendgroup": "Álvaro de Luna",
         "marker": {
          "color": "#FFA15A",
          "symbol": "circle"
         },
         "mode": "markers",
         "name": "Álvaro de Luna",
         "orientation": "v",
         "showlegend": true,
         "type": "scatter",
         "x": [
          25
         ],
         "xaxis": "x",
         "y": [
          30.60021824775643
         ],
         "yaxis": "y"
        }
       ],
       "layout": {
        "legend": {
         "title": {
          "text": "Nombre del Concierto"
         },
         "tracegroupgap": 0
        },
        "shapes": [
         {
          "line": {
           "color": "red",
           "dash": "dash",
           "width": 2
          },
          "type": "line",
          "x0": 9,
          "x1": 179.46,
          "y0": 9,
          "y1": 179.46
         }
        ],
        "template": {
         "data": {
          "bar": [
           {
            "error_x": {
             "color": "#2a3f5f"
            },
            "error_y": {
             "color": "#2a3f5f"
            },
            "marker": {
             "line": {
              "color": "#E5ECF6",
              "width": 0.5
             },
             "pattern": {
              "fillmode": "overlay",
              "size": 10,
              "solidity": 0.2
             }
            },
            "type": "bar"
           }
          ],
          "barpolar": [
           {
            "marker": {
             "line": {
              "color": "#E5ECF6",
              "width": 0.5
             },
             "pattern": {
              "fillmode": "overlay",
              "size": 10,
              "solidity": 0.2
             }
            },
            "type": "barpolar"
           }
          ],
          "carpet": [
           {
            "aaxis": {
             "endlinecolor": "#2a3f5f",
             "gridcolor": "white",
             "linecolor": "white",
             "minorgridcolor": "white",
             "startlinecolor": "#2a3f5f"
            },
            "baxis": {
             "endlinecolor": "#2a3f5f",
             "gridcolor": "white",
             "linecolor": "white",
             "minorgridcolor": "white",
             "startlinecolor": "#2a3f5f"
            },
            "type": "carpet"
           }
          ],
          "choropleth": [
           {
            "colorbar": {
             "outlinewidth": 0,
             "ticks": ""
            },
            "type": "choropleth"
           }
          ],
          "contour": [
           {
            "colorbar": {
             "outlinewidth": 0,
             "ticks": ""
            },
            "colorscale": [
             [
              0,
              "#0d0887"
             ],
             [
              0.1111111111111111,
              "#46039f"
             ],
             [
              0.2222222222222222,
              "#7201a8"
             ],
             [
              0.3333333333333333,
              "#9c179e"
             ],
             [
              0.4444444444444444,
              "#bd3786"
             ],
             [
              0.5555555555555556,
              "#d8576b"
             ],
             [
              0.6666666666666666,
              "#ed7953"
             ],
             [
              0.7777777777777778,
              "#fb9f3a"
             ],
             [
              0.8888888888888888,
              "#fdca26"
             ],
             [
              1,
              "#f0f921"
             ]
            ],
            "type": "contour"
           }
          ],
          "contourcarpet": [
           {
            "colorbar": {
             "outlinewidth": 0,
             "ticks": ""
            },
            "type": "contourcarpet"
           }
          ],
          "heatmap": [
           {
            "colorbar": {
             "outlinewidth": 0,
             "ticks": ""
            },
            "colorscale": [
             [
              0,
              "#0d0887"
             ],
             [
              0.1111111111111111,
              "#46039f"
             ],
             [
              0.2222222222222222,
              "#7201a8"
             ],
             [
              0.3333333333333333,
              "#9c179e"
             ],
             [
              0.4444444444444444,
              "#bd3786"
             ],
             [
              0.5555555555555556,
              "#d8576b"
             ],
             [
              0.6666666666666666,
              "#ed7953"
             ],
             [
              0.7777777777777778,
              "#fb9f3a"
             ],
             [
              0.8888888888888888,
              "#fdca26"
             ],
             [
              1,
              "#f0f921"
             ]
            ],
            "type": "heatmap"
           }
          ],
          "heatmapgl": [
           {
            "colorbar": {
             "outlinewidth": 0,
             "ticks": ""
            },
            "colorscale": [
             [
              0,
              "#0d0887"
             ],
             [
              0.1111111111111111,
              "#46039f"
             ],
             [
              0.2222222222222222,
              "#7201a8"
             ],
             [
              0.3333333333333333,
              "#9c179e"
             ],
             [
              0.4444444444444444,
              "#bd3786"
             ],
             [
              0.5555555555555556,
              "#d8576b"
             ],
             [
              0.6666666666666666,
              "#ed7953"
             ],
             [
              0.7777777777777778,
              "#fb9f3a"
             ],
             [
              0.8888888888888888,
              "#fdca26"
             ],
             [
              1,
              "#f0f921"
             ]
            ],
            "type": "heatmapgl"
           }
          ],
          "histogram": [
           {
            "marker": {
             "pattern": {
              "fillmode": "overlay",
              "size": 10,
              "solidity": 0.2
             }
            },
            "type": "histogram"
           }
          ],
          "histogram2d": [
           {
            "colorbar": {
             "outlinewidth": 0,
             "ticks": ""
            },
            "colorscale": [
             [
              0,
              "#0d0887"
             ],
             [
              0.1111111111111111,
              "#46039f"
             ],
             [
              0.2222222222222222,
              "#7201a8"
             ],
             [
              0.3333333333333333,
              "#9c179e"
             ],
             [
              0.4444444444444444,
              "#bd3786"
             ],
             [
              0.5555555555555556,
              "#d8576b"
             ],
             [
              0.6666666666666666,
              "#ed7953"
             ],
             [
              0.7777777777777778,
              "#fb9f3a"
             ],
             [
              0.8888888888888888,
              "#fdca26"
             ],
             [
              1,
              "#f0f921"
             ]
            ],
            "type": "histogram2d"
           }
          ],
          "histogram2dcontour": [
           {
            "colorbar": {
             "outlinewidth": 0,
             "ticks": ""
            },
            "colorscale": [
             [
              0,
              "#0d0887"
             ],
             [
              0.1111111111111111,
              "#46039f"
             ],
             [
              0.2222222222222222,
              "#7201a8"
             ],
             [
              0.3333333333333333,
              "#9c179e"
             ],
             [
              0.4444444444444444,
              "#bd3786"
             ],
             [
              0.5555555555555556,
              "#d8576b"
             ],
             [
              0.6666666666666666,
              "#ed7953"
             ],
             [
              0.7777777777777778,
              "#fb9f3a"
             ],
             [
              0.8888888888888888,
              "#fdca26"
             ],
             [
              1,
              "#f0f921"
             ]
            ],
            "type": "histogram2dcontour"
           }
          ],
          "mesh3d": [
           {
            "colorbar": {
             "outlinewidth": 0,
             "ticks": ""
            },
            "type": "mesh3d"
           }
          ],
          "parcoords": [
           {
            "line": {
             "colorbar": {
              "outlinewidth": 0,
              "ticks": ""
             }
            },
            "type": "parcoords"
           }
          ],
          "pie": [
           {
            "automargin": true,
            "type": "pie"
           }
          ],
          "scatter": [
           {
            "fillpattern": {
             "fillmode": "overlay",
             "size": 10,
             "solidity": 0.2
            },
            "type": "scatter"
           }
          ],
          "scatter3d": [
           {
            "line": {
             "colorbar": {
              "outlinewidth": 0,
              "ticks": ""
             }
            },
            "marker": {
             "colorbar": {
              "outlinewidth": 0,
              "ticks": ""
             }
            },
            "type": "scatter3d"
           }
          ],
          "scattercarpet": [
           {
            "marker": {
             "colorbar": {
              "outlinewidth": 0,
              "ticks": ""
             }
            },
            "type": "scattercarpet"
           }
          ],
          "scattergeo": [
           {
            "marker": {
             "colorbar": {
              "outlinewidth": 0,
              "ticks": ""
             }
            },
            "type": "scattergeo"
           }
          ],
          "scattergl": [
           {
            "marker": {
             "colorbar": {
              "outlinewidth": 0,
              "ticks": ""
             }
            },
            "type": "scattergl"
           }
          ],
          "scattermapbox": [
           {
            "marker": {
             "colorbar": {
              "outlinewidth": 0,
              "ticks": ""
             }
            },
            "type": "scattermapbox"
           }
          ],
          "scatterpolar": [
           {
            "marker": {
             "colorbar": {
              "outlinewidth": 0,
              "ticks": ""
             }
            },
            "type": "scatterpolar"
           }
          ],
          "scatterpolargl": [
           {
            "marker": {
             "colorbar": {
              "outlinewidth": 0,
              "ticks": ""
             }
            },
            "type": "scatterpolargl"
           }
          ],
          "scatterternary": [
           {
            "marker": {
             "colorbar": {
              "outlinewidth": 0,
              "ticks": ""
             }
            },
            "type": "scatterternary"
           }
          ],
          "surface": [
           {
            "colorbar": {
             "outlinewidth": 0,
             "ticks": ""
            },
            "colorscale": [
             [
              0,
              "#0d0887"
             ],
             [
              0.1111111111111111,
              "#46039f"
             ],
             [
              0.2222222222222222,
              "#7201a8"
             ],
             [
              0.3333333333333333,
              "#9c179e"
             ],
             [
              0.4444444444444444,
              "#bd3786"
             ],
             [
              0.5555555555555556,
              "#d8576b"
             ],
             [
              0.6666666666666666,
              "#ed7953"
             ],
             [
              0.7777777777777778,
              "#fb9f3a"
             ],
             [
              0.8888888888888888,
              "#fdca26"
             ],
             [
              1,
              "#f0f921"
             ]
            ],
            "type": "surface"
           }
          ],
          "table": [
           {
            "cells": {
             "fill": {
              "color": "#EBF0F8"
             },
             "line": {
              "color": "white"
             }
            },
            "header": {
             "fill": {
              "color": "#C8D4E3"
             },
             "line": {
              "color": "white"
             }
            },
            "type": "table"
           }
          ]
         },
         "layout": {
          "annotationdefaults": {
           "arrowcolor": "#2a3f5f",
           "arrowhead": 0,
           "arrowwidth": 1
          },
          "autotypenumbers": "strict",
          "coloraxis": {
           "colorbar": {
            "outlinewidth": 0,
            "ticks": ""
           }
          },
          "colorscale": {
           "diverging": [
            [
             0,
             "#8e0152"
            ],
            [
             0.1,
             "#c51b7d"
            ],
            [
             0.2,
             "#de77ae"
            ],
            [
             0.3,
             "#f1b6da"
            ],
            [
             0.4,
             "#fde0ef"
            ],
            [
             0.5,
             "#f7f7f7"
            ],
            [
             0.6,
             "#e6f5d0"
            ],
            [
             0.7,
             "#b8e186"
            ],
            [
             0.8,
             "#7fbc41"
            ],
            [
             0.9,
             "#4d9221"
            ],
            [
             1,
             "#276419"
            ]
           ],
           "sequential": [
            [
             0,
             "#0d0887"
            ],
            [
             0.1111111111111111,
             "#46039f"
            ],
            [
             0.2222222222222222,
             "#7201a8"
            ],
            [
             0.3333333333333333,
             "#9c179e"
            ],
            [
             0.4444444444444444,
             "#bd3786"
            ],
            [
             0.5555555555555556,
             "#d8576b"
            ],
            [
             0.6666666666666666,
             "#ed7953"
            ],
            [
             0.7777777777777778,
             "#fb9f3a"
            ],
            [
             0.8888888888888888,
             "#fdca26"
            ],
            [
             1,
             "#f0f921"
            ]
           ],
           "sequentialminus": [
            [
             0,
             "#0d0887"
            ],
            [
             0.1111111111111111,
             "#46039f"
            ],
            [
             0.2222222222222222,
             "#7201a8"
            ],
            [
             0.3333333333333333,
             "#9c179e"
            ],
            [
             0.4444444444444444,
             "#bd3786"
            ],
            [
             0.5555555555555556,
             "#d8576b"
            ],
            [
             0.6666666666666666,
             "#ed7953"
            ],
            [
             0.7777777777777778,
             "#fb9f3a"
            ],
            [
             0.8888888888888888,
             "#fdca26"
            ],
            [
             1,
             "#f0f921"
            ]
           ]
          },
          "colorway": [
           "#636efa",
           "#EF553B",
           "#00cc96",
           "#ab63fa",
           "#FFA15A",
           "#19d3f3",
           "#FF6692",
           "#B6E880",
           "#FF97FF",
           "#FECB52"
          ],
          "font": {
           "color": "#2a3f5f"
          },
          "geo": {
           "bgcolor": "white",
           "lakecolor": "white",
           "landcolor": "#E5ECF6",
           "showlakes": true,
           "showland": true,
           "subunitcolor": "white"
          },
          "hoverlabel": {
           "align": "left"
          },
          "hovermode": "closest",
          "mapbox": {
           "style": "light"
          },
          "paper_bgcolor": "white",
          "plot_bgcolor": "#E5ECF6",
          "polar": {
           "angularaxis": {
            "gridcolor": "white",
            "linecolor": "white",
            "ticks": ""
           },
           "bgcolor": "#E5ECF6",
           "radialaxis": {
            "gridcolor": "white",
            "linecolor": "white",
            "ticks": ""
           }
          },
          "scene": {
           "xaxis": {
            "backgroundcolor": "#E5ECF6",
            "gridcolor": "white",
            "gridwidth": 2,
            "linecolor": "white",
            "showbackground": true,
            "ticks": "",
            "zerolinecolor": "white"
           },
           "yaxis": {
            "backgroundcolor": "#E5ECF6",
            "gridcolor": "white",
            "gridwidth": 2,
            "linecolor": "white",
            "showbackground": true,
            "ticks": "",
            "zerolinecolor": "white"
           },
           "zaxis": {
            "backgroundcolor": "#E5ECF6",
            "gridcolor": "white",
            "gridwidth": 2,
            "linecolor": "white",
            "showbackground": true,
            "ticks": "",
            "zerolinecolor": "white"
           }
          },
          "shapedefaults": {
           "line": {
            "color": "#2a3f5f"
           }
          },
          "ternary": {
           "aaxis": {
            "gridcolor": "white",
            "linecolor": "white",
            "ticks": ""
           },
           "baxis": {
            "gridcolor": "white",
            "linecolor": "white",
            "ticks": ""
           },
           "bgcolor": "#E5ECF6",
           "caxis": {
            "gridcolor": "white",
            "linecolor": "white",
            "ticks": ""
           }
          },
          "title": {
           "x": 0.05
          },
          "xaxis": {
           "automargin": true,
           "gridcolor": "white",
           "linecolor": "white",
           "ticks": "",
           "title": {
            "standoff": 15
           },
           "zerolinecolor": "white",
           "zerolinewidth": 2
          },
          "yaxis": {
           "automargin": true,
           "gridcolor": "white",
           "linecolor": "white",
           "ticks": "",
           "title": {
            "standoff": 15
           },
           "zerolinecolor": "white",
           "zerolinewidth": 2
          }
         }
        },
        "title": {
         "text": "Comparación de Precios Reales vs Precios Predichos"
        },
        "xaxis": {
         "anchor": "y",
         "domain": [
          0,
          1
         ],
         "title": {
          "text": "Precio Real"
         }
        },
        "yaxis": {
         "anchor": "x",
         "domain": [
          0,
          1
         ],
         "title": {
          "text": "Precio Predicho"
         }
        }
       }
      }
     },
     "metadata": {},
     "output_type": "display_data"
    },
    {
     "data": {
      "image/png": "[encoded data removed]",
      "text/plain": [
       "<Figure size 800x600 with 1 Axes>"
      ]
     },
     "metadata": {},
     "output_type": "display_data"
    },
    {
     "data": {
      "text/html": [
       "<div>\n",
       "<style scoped>\n",
       "    .dataframe tbody tr th:only-of-type {\n",
       "        vertical-align: middle;\n",
       "    }\n",
       "\n",
       "    .dataframe tbody tr th {\n",
       "        vertical-align: top;\n",
       "    }\n",
       "\n",
       "    .dataframe thead th {\n",
       "        text-align: right;\n",
       "    }\n",
       "</style>\n",
       "<table border=\"1\" class=\"dataframe\">\n",
       "  <thead>\n",
       "    <tr style=\"text-align: right;\">\n",
       "      <th></th>\n",
       "      <th>Test Fold</th>\n",
       "      <th>MAPE Train</th>\n",
       "      <th>RMSE Train</th>\n",
       "      <th>MSE Train</th>\n",
       "      <th>MAE Train</th>\n",
       "      <th>MAPE Val</th>\n",
       "      <th>RMSE Val</th>\n",
       "      <th>MSE Val</th>\n",
       "      <th>MAE Val</th>\n",
       "    </tr>\n",
       "  </thead>\n",
       "  <tbody>\n",
       "    <tr>\n",
       "      <th>0</th>\n",
       "      <td>0</td>\n",
       "      <td>0.240317</td>\n",
       "      <td>13.647134</td>\n",
       "      <td>186.244273</td>\n",
       "      <td>8.623930</td>\n",
       "      <td>0.261965</td>\n",
       "      <td>13.162053</td>\n",
       "      <td>173.239627</td>\n",
       "      <td>9.013885</td>\n",
       "    </tr>\n",
       "    <tr>\n",
       "      <th>1</th>\n",
       "      <td>1</td>\n",
       "      <td>0.244428</td>\n",
       "      <td>14.166443</td>\n",
       "      <td>200.688106</td>\n",
       "      <td>9.097399</td>\n",
       "      <td>0.322367</td>\n",
       "      <td>12.636499</td>\n",
       "      <td>159.681117</td>\n",
       "      <td>9.258603</td>\n",
       "    </tr>\n",
       "    <tr>\n",
       "      <th>2</th>\n",
       "      <td>2</td>\n",
       "      <td>0.236285</td>\n",
       "      <td>11.943977</td>\n",
       "      <td>142.658576</td>\n",
       "      <td>7.737236</td>\n",
       "      <td>0.237790</td>\n",
       "      <td>19.218309</td>\n",
       "      <td>369.343383</td>\n",
       "      <td>11.485445</td>\n",
       "    </tr>\n",
       "    <tr>\n",
       "      <th>3</th>\n",
       "      <td>3</td>\n",
       "      <td>0.225817</td>\n",
       "      <td>12.851883</td>\n",
       "      <td>165.170897</td>\n",
       "      <td>8.127261</td>\n",
       "      <td>0.287637</td>\n",
       "      <td>16.205246</td>\n",
       "      <td>262.609998</td>\n",
       "      <td>10.113999</td>\n",
       "    </tr>\n",
       "    <tr>\n",
       "      <th>4</th>\n",
       "      <td>Promedio</td>\n",
       "      <td>0.236712</td>\n",
       "      <td>13.152359</td>\n",
       "      <td>173.690463</td>\n",
       "      <td>8.396457</td>\n",
       "      <td>0.277440</td>\n",
       "      <td>15.305527</td>\n",
       "      <td>241.218531</td>\n",
       "      <td>9.967983</td>\n",
       "    </tr>\n",
       "  </tbody>\n",
       "</table>\n",
       "</div>"
      ],
      "text/plain": [
       "  Test Fold  MAPE Train  RMSE Train   MSE Train  MAE Train  MAPE Val  \\\n",
       "0         0    0.240317   13.647134  186.244273   8.623930  0.261965   \n",
       "1         1    0.244428   14.166443  200.688106   9.097399  0.322367   \n",
       "2         2    0.236285   11.943977  142.658576   7.737236  0.237790   \n",
       "3         3    0.225817   12.851883  165.170897   8.127261  0.287637   \n",
       "4  Promedio    0.236712   13.152359  173.690463   8.396457  0.277440   \n",
       "\n",
       "    RMSE Val     MSE Val    MAE Val  \n",
       "0  13.162053  173.239627   9.013885  \n",
       "1  12.636499  159.681117   9.258603  \n",
       "2  19.218309  369.343383  11.485445  \n",
       "3  16.205246  262.609998  10.113999  \n",
       "4  15.305527  241.218531   9.967983  "
      ]
     },
     "execution_count": 10,
     "metadata": {},
     "output_type": "execute_result"
    }
   ],
   "source": [
    "\n",
    "# Definir los parámetros para Random Search\n",
    "params = {\n",
    "    'mlp__hidden_layer_sizes': [(x,) for x in range(1, 300)] + [(x, x) for x in range(0, 300)],  # Incluye configuraciones de una y dos capas\n",
    "    'mlp__learning_rate': ['invscaling', 'constant','adaptive'] ,\n",
    "    'mlp__alpha': np.logspace(-5, 2)  # Genera 8 valores entre 10^-5 y 10^2\n",
    "}\n",
    "\n",
    "# Realizar Random Search\n",
    "start_time = time.time()\n",
    "\n",
    "randomSearch = RandomizedSearchCV(estimator=pipeline, param_distributions=params, n_iter=224, n_jobs=-1, scoring='neg_mean_squared_error', cv=ps)\n",
    "randomSearch.fit(X_train, y)\n",
    "\n",
    "results = cross_validate(randomSearch.best_estimator_, X_train, y, cv=ps, scoring=scoring, return_train_score=True)\n",
    "\n",
    "end_time = time.time()\n",
    "execution_time = end_time - start_time\n",
    "print(\"Tiempo de ejecución:\", execution_time, \"segundos\")\n",
    "\n",
    "print('Mejores parámetros RandomSearch: ', randomSearch.best_params_)\n",
    "\n",
    "resultados = crear_tabla_resultados(results)\n",
    "\n",
    "cargar_modelo_mlflow(randomSearch.best_estimator_, 'MIN_PRICE', 'RANDOM SEARCH ESTANDARIZADO', resultados, execution_time)\n",
    "\n",
    "# Mostrar las predicciones y los valores reales\n",
    "plot_model_predictions(randomSearch.best_estimator_, X_train, y, data)\n",
    "feature_importance(randomSearch.best_estimator_, X_train, y, 15)\n",
    "resultados\n"
   ]
  }
 ],
 "metadata": {
  "kernelspec": {
   "display_name": "base",
   "language": "python",
   "name": "python3"
  },
  "language_info": {
   "codemirror_mode": {
    "name": "ipython",
    "version": 3
   },
   "file_extension": ".py",
   "mimetype": "text/x-python",
   "name": "python",
   "nbconvert_exporter": "python",
   "pygments_lexer": "ipython3",
   "version": "3.11.7"
  }
 },
 "nbformat": 4,
 "nbformat_minor": 2
}
