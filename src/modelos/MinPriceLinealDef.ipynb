{
  "cells": [
    {
      "cell_type": "markdown",
      "metadata": {
        "id": "8BucjlPPkQqu"
      },
      "source": [
        "Este es el script de código que entrena el modelo con __regresión lineal__ para predecir el __precio mínimo__. El entrenamiento se ha realizado siguiendo varias <u>estrategias</u>:\n",
        "\n",
        "- Modelo base sin escalar\n",
        "    - Todo el conjunto\n",
        "    - Solo variables numéricas\n",
        "- Modelo base con escalado de variables numéricas\n",
        "    - bucle manual con standard scaler\n",
        "    - bucle manual con robust scaler\n",
        "    - pipeline con robust scaler y column transformer\n",
        "> Aunque los resultados con el escalado parecen algo mejores, las técnicas de búsqueda se han hecho sin escalar.\n",
        "- Búsqueda de mejor combinación de parámetros con GridSearchCV\n",
        "- Búsqueda de mejor combinación de parámetros con RandomizedSearchCV\n",
        "> En regularización, sin embargo, se emplee un método u otro siempre hay que estandarizar o normalizar los predictores. Hecho con Robust Scaler.\n",
        "- Regularización con Ridge buscando el mejor valor de alpha\n",
        "    - Ridge sin escalar\n",
        "    - Ridge escalando con RobustScaler()\n",
        "- Regularización con Lasso buscando el mejor valor de alpha\n",
        "- Regularización con Elastic Net buscando los mejores valores de lambda y alpha\n",
        "\n",
        "\n",
        "Para todos ellos, se han calculado las <u>métricas</u>:\n",
        "- MAPE (Mean Absolute Percentage Error)\n",
        "- MSE (Mean Squared Error)\n",
        "- RMSE (Root Mean Squared Error)\n",
        "\n",
        "Además, para todos ellos, se han calculado los <u>coeficientes</u> del modelo ajustado y mostrado en una gráfica.\n",
        "\n",
        "Al final del script hay una <u>tabla resumen</u> que reúne todas las <u>métricas</u>, <u>tiempos de ejecución</u> y <u>otros valores importantes</u> para cada versión del algoritmo de regresión lineal.\n"
      ]
    },
    {
      "cell_type": "markdown",
      "metadata": {
        "id": "HlC5NMgkpyBr"
      },
      "source": [
        "## INSTALACIÓN DE LIBRERÍAS Y MLFLOW"
      ]
    },
    {
      "cell_type": "code",
      "execution_count": 9,
      "metadata": {
        "id": "eb_mVTZzM-oF"
      },
      "outputs": [],
      "source": [
        "#!pip install mlflow"
      ]
    },
    {
      "cell_type": "code",
      "execution_count": 1,
      "metadata": {
        "id": "rXZVRVfgHrPp"
      },
      "outputs": [],
      "source": [
        "# Tratamiento de datos\n",
        "# ==============================================================================\n",
        "import pandas as pd\n",
        "import numpy as np\n",
        "\n",
        "# Gráficos\n",
        "# ==============================================================================\n",
        "import matplotlib.pyplot as plt\n",
        "from matplotlib import style\n",
        "import seaborn as sns\n",
        "\n",
        "# Preprocesado y modelado\n",
        "# ==============================================================================\n",
        "from scipy.stats import pearsonr\n",
        "import mlflow\n",
        "from sklearn.model_selection import train_test_split\n",
        "from sklearn.metrics import mean_squared_error\n",
        "from sklearn.linear_model import LinearRegression\n",
        "from sklearn.linear_model import Ridge\n",
        "from sklearn.linear_model import Lasso\n",
        "from sklearn.linear_model import ElasticNet\n",
        "from sklearn.linear_model import RidgeCV\n",
        "from sklearn.linear_model import LassoCV\n",
        "from sklearn.linear_model import ElasticNetCV"
      ]
    },
    {
      "cell_type": "code",
      "execution_count": 2,
      "metadata": {
        "id": "UO5zW-YcTYu6"
      },
      "outputs": [],
      "source": [
        "# Configuración warnings\n",
        "# ==============================================================================\n",
        "import warnings\n",
        "warnings.filterwarnings('ignore')"
      ]
    },
    {
      "cell_type": "code",
      "execution_count": 3,
      "metadata": {},
      "outputs": [],
      "source": [
        "mlflow.set_tracking_uri('sqlite:///mlflow.db')"
      ]
    },
    {
      "cell_type": "markdown",
      "metadata": {
        "id": "K3b0IsiYpyBu"
      },
      "source": [
        "## LECTURA Y PREPROCESADO DE LOS DATOS"
      ]
    },
    {
      "cell_type": "code",
      "execution_count": 4,
      "metadata": {
        "colab": {
          "base_uri": "https://localhost:8080/",
          "height": 825
        },
        "id": "G_-nDbMV9tDi",
        "outputId": "c7a35661-4c45-4988-d3ac-4d1987b97c3b"
      },
      "outputs": [
        {
          "data": {
            "text/html": [
              "<div>\n",
              "<style scoped>\n",
              "    .dataframe tbody tr th:only-of-type {\n",
              "        vertical-align: middle;\n",
              "    }\n",
              "\n",
              "    .dataframe tbody tr th {\n",
              "        vertical-align: top;\n",
              "    }\n",
              "\n",
              "    .dataframe thead th {\n",
              "        text-align: right;\n",
              "    }\n",
              "</style>\n",
              "<table border=\"1\" class=\"dataframe\">\n",
              "  <thead>\n",
              "    <tr style=\"text-align: right;\">\n",
              "      <th></th>\n",
              "      <th>name</th>\n",
              "      <th>EventStartTime</th>\n",
              "      <th>SalesStartTIme</th>\n",
              "      <th>SalesEndTime</th>\n",
              "      <th>min_price</th>\n",
              "      <th>nameArtist</th>\n",
              "      <th>VenueName</th>\n",
              "      <th>VenueCity</th>\n",
              "      <th>VenueState</th>\n",
              "      <th>num_links</th>\n",
              "      <th>...</th>\n",
              "      <th>Singer-Songwriter</th>\n",
              "      <th>Soul</th>\n",
              "      <th>Urban</th>\n",
              "      <th>World</th>\n",
              "      <th>tiene_wiki</th>\n",
              "      <th>tiene_youtube</th>\n",
              "      <th>dias_Venta</th>\n",
              "      <th>dias_desdeFinVenta</th>\n",
              "      <th>num_noches</th>\n",
              "      <th>fold</th>\n",
              "    </tr>\n",
              "  </thead>\n",
              "  <tbody>\n",
              "    <tr>\n",
              "      <th>0</th>\n",
              "      <td>30 Aniversario de Sôber, con Savia y Skizoo</td>\n",
              "      <td>2024-03-08 20:00:00+00:00</td>\n",
              "      <td>2023-12-14 11:00:00+00:00</td>\n",
              "      <td>2024-03-08 20:00:00+00:00</td>\n",
              "      <td>28.0</td>\n",
              "      <td>Sober</td>\n",
              "      <td>Live Las Ventas</td>\n",
              "      <td>Madrid</td>\n",
              "      <td>Madrid</td>\n",
              "      <td>1</td>\n",
              "      <td>...</td>\n",
              "      <td>0</td>\n",
              "      <td>0</td>\n",
              "      <td>0</td>\n",
              "      <td>0</td>\n",
              "      <td>0</td>\n",
              "      <td>0</td>\n",
              "      <td>85</td>\n",
              "      <td>0</td>\n",
              "      <td>1</td>\n",
              "      <td>0</td>\n",
              "    </tr>\n",
              "    <tr>\n",
              "      <th>1</th>\n",
              "      <td>30 Aniversario de Sôber, con Savia y Skizoo | ...</td>\n",
              "      <td>2024-03-08 20:00:00+00:00</td>\n",
              "      <td>2023-12-14 11:00:00+00:00</td>\n",
              "      <td>2024-03-08 20:00:00+00:00</td>\n",
              "      <td>50.0</td>\n",
              "      <td>Sober</td>\n",
              "      <td>Live Las Ventas</td>\n",
              "      <td>Madrid</td>\n",
              "      <td>Madrid</td>\n",
              "      <td>1</td>\n",
              "      <td>...</td>\n",
              "      <td>0</td>\n",
              "      <td>0</td>\n",
              "      <td>0</td>\n",
              "      <td>0</td>\n",
              "      <td>0</td>\n",
              "      <td>0</td>\n",
              "      <td>85</td>\n",
              "      <td>0</td>\n",
              "      <td>1</td>\n",
              "      <td>0</td>\n",
              "    </tr>\n",
              "    <tr>\n",
              "      <th>2</th>\n",
              "      <td>AC/DC - Power Up Tour</td>\n",
              "      <td>2024-05-25 19:00:00+00:00</td>\n",
              "      <td>2024-01-31 11:00:00+00:00</td>\n",
              "      <td>2024-05-25 19:00:00+00:00</td>\n",
              "      <td>105.0</td>\n",
              "      <td>AC/DC</td>\n",
              "      <td>Estadio La Cartuja de Sevilla</td>\n",
              "      <td>Sevilla</td>\n",
              "      <td>Seville</td>\n",
              "      <td>10</td>\n",
              "      <td>...</td>\n",
              "      <td>0</td>\n",
              "      <td>0</td>\n",
              "      <td>0</td>\n",
              "      <td>0</td>\n",
              "      <td>1</td>\n",
              "      <td>1</td>\n",
              "      <td>115</td>\n",
              "      <td>0</td>\n",
              "      <td>1</td>\n",
              "      <td>0</td>\n",
              "    </tr>\n",
              "    <tr>\n",
              "      <th>3</th>\n",
              "      <td>AC/DC - Power Up Tour</td>\n",
              "      <td>2024-05-29 19:30:00+00:00</td>\n",
              "      <td>2024-02-16 09:00:00+00:00</td>\n",
              "      <td>2024-05-29 19:30:00+00:00</td>\n",
              "      <td>105.0</td>\n",
              "      <td>AC/DC</td>\n",
              "      <td>Estadio La Cartuja de Sevilla</td>\n",
              "      <td>Sevilla</td>\n",
              "      <td>Seville</td>\n",
              "      <td>10</td>\n",
              "      <td>...</td>\n",
              "      <td>0</td>\n",
              "      <td>0</td>\n",
              "      <td>0</td>\n",
              "      <td>0</td>\n",
              "      <td>1</td>\n",
              "      <td>1</td>\n",
              "      <td>103</td>\n",
              "      <td>0</td>\n",
              "      <td>1</td>\n",
              "      <td>0</td>\n",
              "    </tr>\n",
              "    <tr>\n",
              "      <th>4</th>\n",
              "      <td>AC/DC - Power Up Tour</td>\n",
              "      <td>2024-12-14 20:00:00+00:00</td>\n",
              "      <td>2024-03-01 11:00:00+00:00</td>\n",
              "      <td>2024-12-14 20:00:00+00:00</td>\n",
              "      <td>105.0</td>\n",
              "      <td>AC/DC</td>\n",
              "      <td>Estadio La Cartuja de Sevilla</td>\n",
              "      <td>Sevilla</td>\n",
              "      <td>Seville</td>\n",
              "      <td>10</td>\n",
              "      <td>...</td>\n",
              "      <td>0</td>\n",
              "      <td>0</td>\n",
              "      <td>0</td>\n",
              "      <td>0</td>\n",
              "      <td>1</td>\n",
              "      <td>1</td>\n",
              "      <td>288</td>\n",
              "      <td>0</td>\n",
              "      <td>1</td>\n",
              "      <td>0</td>\n",
              "    </tr>\n",
              "    <tr>\n",
              "      <th>...</th>\n",
              "      <td>...</td>\n",
              "      <td>...</td>\n",
              "      <td>...</td>\n",
              "      <td>...</td>\n",
              "      <td>...</td>\n",
              "      <td>...</td>\n",
              "      <td>...</td>\n",
              "      <td>...</td>\n",
              "      <td>...</td>\n",
              "      <td>...</td>\n",
              "      <td>...</td>\n",
              "      <td>...</td>\n",
              "      <td>...</td>\n",
              "      <td>...</td>\n",
              "      <td>...</td>\n",
              "      <td>...</td>\n",
              "      <td>...</td>\n",
              "      <td>...</td>\n",
              "      <td>...</td>\n",
              "      <td>...</td>\n",
              "      <td>...</td>\n",
              "    </tr>\n",
              "    <tr>\n",
              "      <th>489</th>\n",
              "      <td>Yung Sarria</td>\n",
              "      <td>2024-03-30 20:00:00+00:00</td>\n",
              "      <td>2023-10-06 13:00:00+00:00</td>\n",
              "      <td>2024-03-30 20:00:00+00:00</td>\n",
              "      <td>12.0</td>\n",
              "      <td>Yung Sarria</td>\n",
              "      <td>Sala Shoko</td>\n",
              "      <td>Madrid</td>\n",
              "      <td>Madrid</td>\n",
              "      <td>0</td>\n",
              "      <td>...</td>\n",
              "      <td>0</td>\n",
              "      <td>0</td>\n",
              "      <td>1</td>\n",
              "      <td>0</td>\n",
              "      <td>0</td>\n",
              "      <td>0</td>\n",
              "      <td>176</td>\n",
              "      <td>0</td>\n",
              "      <td>1</td>\n",
              "      <td>3</td>\n",
              "    </tr>\n",
              "    <tr>\n",
              "      <th>490</th>\n",
              "      <td>ZENOBIA + DEBLER</td>\n",
              "      <td>2024-06-01 19:30:00+00:00</td>\n",
              "      <td>2024-02-20 09:00:00+00:00</td>\n",
              "      <td>2024-06-01 19:30:00+00:00</td>\n",
              "      <td>22.0</td>\n",
              "      <td>Zenobia</td>\n",
              "      <td>Sala Shoko</td>\n",
              "      <td>Madrid</td>\n",
              "      <td>Madrid</td>\n",
              "      <td>1</td>\n",
              "      <td>...</td>\n",
              "      <td>0</td>\n",
              "      <td>0</td>\n",
              "      <td>0</td>\n",
              "      <td>0</td>\n",
              "      <td>0</td>\n",
              "      <td>0</td>\n",
              "      <td>102</td>\n",
              "      <td>0</td>\n",
              "      <td>1</td>\n",
              "      <td>3</td>\n",
              "    </tr>\n",
              "    <tr>\n",
              "      <th>491</th>\n",
              "      <td>gREAT sTRAITS</td>\n",
              "      <td>2024-10-19 19:30:00+00:00</td>\n",
              "      <td>2024-01-02 11:00:00+00:00</td>\n",
              "      <td>2024-10-19 19:30:00+00:00</td>\n",
              "      <td>35.0</td>\n",
              "      <td>gREAT sTRAITS</td>\n",
              "      <td>Sala Razzmatazz 1</td>\n",
              "      <td>Barcelona</td>\n",
              "      <td>Barcelona</td>\n",
              "      <td>0</td>\n",
              "      <td>...</td>\n",
              "      <td>0</td>\n",
              "      <td>0</td>\n",
              "      <td>0</td>\n",
              "      <td>0</td>\n",
              "      <td>0</td>\n",
              "      <td>0</td>\n",
              "      <td>291</td>\n",
              "      <td>0</td>\n",
              "      <td>1</td>\n",
              "      <td>3</td>\n",
              "    </tr>\n",
              "    <tr>\n",
              "      <th>492</th>\n",
              "      <td>gREAT sTRAITS</td>\n",
              "      <td>2024-09-13 19:30:00+00:00</td>\n",
              "      <td>2023-12-22 09:00:00+00:00</td>\n",
              "      <td>2024-09-13 19:30:00+00:00</td>\n",
              "      <td>38.0</td>\n",
              "      <td>gREAT sTRAITS</td>\n",
              "      <td>La Riviera</td>\n",
              "      <td>Madrid</td>\n",
              "      <td>Madrid</td>\n",
              "      <td>0</td>\n",
              "      <td>...</td>\n",
              "      <td>0</td>\n",
              "      <td>0</td>\n",
              "      <td>0</td>\n",
              "      <td>0</td>\n",
              "      <td>0</td>\n",
              "      <td>0</td>\n",
              "      <td>266</td>\n",
              "      <td>0</td>\n",
              "      <td>1</td>\n",
              "      <td>3</td>\n",
              "    </tr>\n",
              "    <tr>\n",
              "      <th>493</th>\n",
              "      <td>Álvaro de Luna</td>\n",
              "      <td>2024-03-15 20:00:00+00:00</td>\n",
              "      <td>2023-10-13 11:52:00+00:00</td>\n",
              "      <td>2024-03-15 20:00:00+00:00</td>\n",
              "      <td>25.0</td>\n",
              "      <td>Álvaro de Luna</td>\n",
              "      <td>Live Las Ventas</td>\n",
              "      <td>Madrid</td>\n",
              "      <td>Madrid</td>\n",
              "      <td>0</td>\n",
              "      <td>...</td>\n",
              "      <td>0</td>\n",
              "      <td>0</td>\n",
              "      <td>0</td>\n",
              "      <td>0</td>\n",
              "      <td>0</td>\n",
              "      <td>0</td>\n",
              "      <td>154</td>\n",
              "      <td>0</td>\n",
              "      <td>1</td>\n",
              "      <td>3</td>\n",
              "    </tr>\n",
              "  </tbody>\n",
              "</table>\n",
              "<p>494 rows × 67 columns</p>\n",
              "</div>"
            ],
            "text/plain": [
              "                                                  name  \\\n",
              "0          30 Aniversario de Sôber, con Savia y Skizoo   \n",
              "1    30 Aniversario de Sôber, con Savia y Skizoo | ...   \n",
              "2                                AC/DC - Power Up Tour   \n",
              "3                                AC/DC - Power Up Tour   \n",
              "4                                AC/DC - Power Up Tour   \n",
              "..                                                 ...   \n",
              "489                                        Yung Sarria   \n",
              "490                                   ZENOBIA + DEBLER   \n",
              "491                                      gREAT sTRAITS   \n",
              "492                                      gREAT sTRAITS   \n",
              "493                                     Álvaro de Luna   \n",
              "\n",
              "                EventStartTime             SalesStartTIme  \\\n",
              "0    2024-03-08 20:00:00+00:00  2023-12-14 11:00:00+00:00   \n",
              "1    2024-03-08 20:00:00+00:00  2023-12-14 11:00:00+00:00   \n",
              "2    2024-05-25 19:00:00+00:00  2024-01-31 11:00:00+00:00   \n",
              "3    2024-05-29 19:30:00+00:00  2024-02-16 09:00:00+00:00   \n",
              "4    2024-12-14 20:00:00+00:00  2024-03-01 11:00:00+00:00   \n",
              "..                         ...                        ...   \n",
              "489  2024-03-30 20:00:00+00:00  2023-10-06 13:00:00+00:00   \n",
              "490  2024-06-01 19:30:00+00:00  2024-02-20 09:00:00+00:00   \n",
              "491  2024-10-19 19:30:00+00:00  2024-01-02 11:00:00+00:00   \n",
              "492  2024-09-13 19:30:00+00:00  2023-12-22 09:00:00+00:00   \n",
              "493  2024-03-15 20:00:00+00:00  2023-10-13 11:52:00+00:00   \n",
              "\n",
              "                  SalesEndTime  min_price      nameArtist  \\\n",
              "0    2024-03-08 20:00:00+00:00       28.0           Sober   \n",
              "1    2024-03-08 20:00:00+00:00       50.0           Sober   \n",
              "2    2024-05-25 19:00:00+00:00      105.0           AC/DC   \n",
              "3    2024-05-29 19:30:00+00:00      105.0           AC/DC   \n",
              "4    2024-12-14 20:00:00+00:00      105.0           AC/DC   \n",
              "..                         ...        ...             ...   \n",
              "489  2024-03-30 20:00:00+00:00       12.0     Yung Sarria   \n",
              "490  2024-06-01 19:30:00+00:00       22.0         Zenobia   \n",
              "491  2024-10-19 19:30:00+00:00       35.0   gREAT sTRAITS   \n",
              "492  2024-09-13 19:30:00+00:00       38.0   gREAT sTRAITS   \n",
              "493  2024-03-15 20:00:00+00:00       25.0  Álvaro de Luna   \n",
              "\n",
              "                         VenueName  VenueCity VenueState  num_links  ...  \\\n",
              "0                  Live Las Ventas     Madrid     Madrid          1  ...   \n",
              "1                  Live Las Ventas     Madrid     Madrid          1  ...   \n",
              "2    Estadio La Cartuja de Sevilla    Sevilla    Seville         10  ...   \n",
              "3    Estadio La Cartuja de Sevilla    Sevilla    Seville         10  ...   \n",
              "4    Estadio La Cartuja de Sevilla    Sevilla    Seville         10  ...   \n",
              "..                             ...        ...        ...        ...  ...   \n",
              "489                     Sala Shoko     Madrid     Madrid          0  ...   \n",
              "490                     Sala Shoko     Madrid     Madrid          1  ...   \n",
              "491              Sala Razzmatazz 1  Barcelona  Barcelona          0  ...   \n",
              "492                     La Riviera     Madrid     Madrid          0  ...   \n",
              "493                Live Las Ventas     Madrid     Madrid          0  ...   \n",
              "\n",
              "     Singer-Songwriter  Soul  Urban  World  tiene_wiki  tiene_youtube  \\\n",
              "0                    0     0      0      0           0              0   \n",
              "1                    0     0      0      0           0              0   \n",
              "2                    0     0      0      0           1              1   \n",
              "3                    0     0      0      0           1              1   \n",
              "4                    0     0      0      0           1              1   \n",
              "..                 ...   ...    ...    ...         ...            ...   \n",
              "489                  0     0      1      0           0              0   \n",
              "490                  0     0      0      0           0              0   \n",
              "491                  0     0      0      0           0              0   \n",
              "492                  0     0      0      0           0              0   \n",
              "493                  0     0      0      0           0              0   \n",
              "\n",
              "     dias_Venta dias_desdeFinVenta  num_noches  fold  \n",
              "0            85                  0           1     0  \n",
              "1            85                  0           1     0  \n",
              "2           115                  0           1     0  \n",
              "3           103                  0           1     0  \n",
              "4           288                  0           1     0  \n",
              "..          ...                ...         ...   ...  \n",
              "489         176                  0           1     3  \n",
              "490         102                  0           1     3  \n",
              "491         291                  0           1     3  \n",
              "492         266                  0           1     3  \n",
              "493         154                  0           1     3  \n",
              "\n",
              "[494 rows x 67 columns]"
            ]
          },
          "execution_count": 4,
          "metadata": {},
          "output_type": "execute_result"
        }
      ],
      "source": [
        "import pandas as pd\n",
        "datos= pd.read_parquet('minEstratificado.parquet')\n",
        "datos"
      ]
    },
    {
      "cell_type": "code",
      "execution_count": 13,
      "metadata": {
        "colab": {
          "base_uri": "https://localhost:8080/"
        },
        "id": "a9I87Rvn-IYh",
        "outputId": "a56e6502-3d72-4b65-b7cf-c2c84cd3ebdf"
      },
      "outputs": [
        {
          "data": {
            "text/plain": [
              "67"
            ]
          },
          "execution_count": 13,
          "metadata": {},
          "output_type": "execute_result"
        }
      ],
      "source": [
        "len(datos.columns)"
      ]
    },
    {
      "cell_type": "code",
      "execution_count": 14,
      "metadata": {
        "colab": {
          "base_uri": "https://localhost:8080/"
        },
        "id": "fJ7cyAH4-KzP",
        "outputId": "899c424a-54f4-4bf2-a189-b1f5576c962c"
      },
      "outputs": [
        {
          "data": {
            "text/plain": [
              "0      0\n",
              "1      0\n",
              "2      0\n",
              "3      0\n",
              "4      0\n",
              "      ..\n",
              "489    3\n",
              "490    3\n",
              "491    3\n",
              "492    3\n",
              "493    3\n",
              "Name: fold, Length: 494, dtype: int64"
            ]
          },
          "execution_count": 14,
          "metadata": {},
          "output_type": "execute_result"
        }
      ],
      "source": [
        "datos['fold']"
      ]
    },
    {
      "cell_type": "code",
      "execution_count": 5,
      "metadata": {
        "id": "YoJuQkh1-uMp"
      },
      "outputs": [],
      "source": [
        "# Eliminamos las categoricas\n",
        "columnas=['name','EventStartTime', 'SalesStartTIme', 'SalesEndTime', 'nameArtist', 'VenueName',\n",
        "          'VenueCity', 'VenueState','Generos_combinados']\n",
        "\n",
        "datos.drop(columnas, axis=1, inplace=True)"
      ]
    },
    {
      "cell_type": "code",
      "execution_count": 16,
      "metadata": {
        "colab": {
          "base_uri": "https://localhost:8080/",
          "height": 461
        },
        "id": "CagOJtisXnln",
        "outputId": "6fe141ba-eebd-4ea6-d25b-ecf236423297"
      },
      "outputs": [
        {
          "data": {
            "text/html": [
              "<div>\n",
              "<style scoped>\n",
              "    .dataframe tbody tr th:only-of-type {\n",
              "        vertical-align: middle;\n",
              "    }\n",
              "\n",
              "    .dataframe tbody tr th {\n",
              "        vertical-align: top;\n",
              "    }\n",
              "\n",
              "    .dataframe thead th {\n",
              "        text-align: right;\n",
              "    }\n",
              "</style>\n",
              "<table border=\"1\" class=\"dataframe\">\n",
              "  <thead>\n",
              "    <tr style=\"text-align: right;\">\n",
              "      <th></th>\n",
              "      <th>min_price</th>\n",
              "      <th>num_links</th>\n",
              "      <th>seguidoresSpotify</th>\n",
              "      <th>popularidad</th>\n",
              "      <th>subsYT</th>\n",
              "      <th>VenueClass</th>\n",
              "      <th>NumGeneros</th>\n",
              "      <th>peso_promotor</th>\n",
              "      <th>tiene_lastfm_url</th>\n",
              "      <th>conciertos_del_artista_en_ciudad</th>\n",
              "      <th>...</th>\n",
              "      <th>Singer-Songwriter</th>\n",
              "      <th>Soul</th>\n",
              "      <th>Urban</th>\n",
              "      <th>World</th>\n",
              "      <th>tiene_wiki</th>\n",
              "      <th>tiene_youtube</th>\n",
              "      <th>dias_Venta</th>\n",
              "      <th>dias_desdeFinVenta</th>\n",
              "      <th>num_noches</th>\n",
              "      <th>fold</th>\n",
              "    </tr>\n",
              "  </thead>\n",
              "  <tbody>\n",
              "    <tr>\n",
              "      <th>0</th>\n",
              "      <td>28.0</td>\n",
              "      <td>1</td>\n",
              "      <td>4.564084e+06</td>\n",
              "      <td>60.904615</td>\n",
              "      <td>1.716398e+06</td>\n",
              "      <td>2</td>\n",
              "      <td>1</td>\n",
              "      <td>22</td>\n",
              "      <td>0</td>\n",
              "      <td>2.0</td>\n",
              "      <td>...</td>\n",
              "      <td>0</td>\n",
              "      <td>0</td>\n",
              "      <td>0</td>\n",
              "      <td>0</td>\n",
              "      <td>0</td>\n",
              "      <td>0</td>\n",
              "      <td>85</td>\n",
              "      <td>0</td>\n",
              "      <td>1</td>\n",
              "      <td>0</td>\n",
              "    </tr>\n",
              "    <tr>\n",
              "      <th>1</th>\n",
              "      <td>50.0</td>\n",
              "      <td>1</td>\n",
              "      <td>4.564084e+06</td>\n",
              "      <td>60.904615</td>\n",
              "      <td>1.716398e+06</td>\n",
              "      <td>2</td>\n",
              "      <td>1</td>\n",
              "      <td>22</td>\n",
              "      <td>0</td>\n",
              "      <td>2.0</td>\n",
              "      <td>...</td>\n",
              "      <td>0</td>\n",
              "      <td>0</td>\n",
              "      <td>0</td>\n",
              "      <td>0</td>\n",
              "      <td>0</td>\n",
              "      <td>0</td>\n",
              "      <td>85</td>\n",
              "      <td>0</td>\n",
              "      <td>1</td>\n",
              "      <td>0</td>\n",
              "    </tr>\n",
              "    <tr>\n",
              "      <th>2</th>\n",
              "      <td>105.0</td>\n",
              "      <td>10</td>\n",
              "      <td>2.797956e+07</td>\n",
              "      <td>82.000000</td>\n",
              "      <td>1.716398e+06</td>\n",
              "      <td>3</td>\n",
              "      <td>3</td>\n",
              "      <td>85</td>\n",
              "      <td>1</td>\n",
              "      <td>4.0</td>\n",
              "      <td>...</td>\n",
              "      <td>0</td>\n",
              "      <td>0</td>\n",
              "      <td>0</td>\n",
              "      <td>0</td>\n",
              "      <td>1</td>\n",
              "      <td>1</td>\n",
              "      <td>115</td>\n",
              "      <td>0</td>\n",
              "      <td>1</td>\n",
              "      <td>0</td>\n",
              "    </tr>\n",
              "    <tr>\n",
              "      <th>3</th>\n",
              "      <td>105.0</td>\n",
              "      <td>10</td>\n",
              "      <td>2.797956e+07</td>\n",
              "      <td>82.000000</td>\n",
              "      <td>1.716398e+06</td>\n",
              "      <td>3</td>\n",
              "      <td>3</td>\n",
              "      <td>85</td>\n",
              "      <td>1</td>\n",
              "      <td>4.0</td>\n",
              "      <td>...</td>\n",
              "      <td>0</td>\n",
              "      <td>0</td>\n",
              "      <td>0</td>\n",
              "      <td>0</td>\n",
              "      <td>1</td>\n",
              "      <td>1</td>\n",
              "      <td>103</td>\n",
              "      <td>0</td>\n",
              "      <td>1</td>\n",
              "      <td>0</td>\n",
              "    </tr>\n",
              "    <tr>\n",
              "      <th>4</th>\n",
              "      <td>105.0</td>\n",
              "      <td>10</td>\n",
              "      <td>2.797956e+07</td>\n",
              "      <td>82.000000</td>\n",
              "      <td>1.716398e+06</td>\n",
              "      <td>3</td>\n",
              "      <td>3</td>\n",
              "      <td>85</td>\n",
              "      <td>1</td>\n",
              "      <td>4.0</td>\n",
              "      <td>...</td>\n",
              "      <td>0</td>\n",
              "      <td>0</td>\n",
              "      <td>0</td>\n",
              "      <td>0</td>\n",
              "      <td>1</td>\n",
              "      <td>1</td>\n",
              "      <td>288</td>\n",
              "      <td>0</td>\n",
              "      <td>1</td>\n",
              "      <td>0</td>\n",
              "    </tr>\n",
              "    <tr>\n",
              "      <th>...</th>\n",
              "      <td>...</td>\n",
              "      <td>...</td>\n",
              "      <td>...</td>\n",
              "      <td>...</td>\n",
              "      <td>...</td>\n",
              "      <td>...</td>\n",
              "      <td>...</td>\n",
              "      <td>...</td>\n",
              "      <td>...</td>\n",
              "      <td>...</td>\n",
              "      <td>...</td>\n",
              "      <td>...</td>\n",
              "      <td>...</td>\n",
              "      <td>...</td>\n",
              "      <td>...</td>\n",
              "      <td>...</td>\n",
              "      <td>...</td>\n",
              "      <td>...</td>\n",
              "      <td>...</td>\n",
              "      <td>...</td>\n",
              "      <td>...</td>\n",
              "    </tr>\n",
              "    <tr>\n",
              "      <th>489</th>\n",
              "      <td>12.0</td>\n",
              "      <td>0</td>\n",
              "      <td>4.564084e+06</td>\n",
              "      <td>60.904615</td>\n",
              "      <td>1.716398e+06</td>\n",
              "      <td>0</td>\n",
              "      <td>1</td>\n",
              "      <td>3</td>\n",
              "      <td>0</td>\n",
              "      <td>1.0</td>\n",
              "      <td>...</td>\n",
              "      <td>0</td>\n",
              "      <td>0</td>\n",
              "      <td>1</td>\n",
              "      <td>0</td>\n",
              "      <td>0</td>\n",
              "      <td>0</td>\n",
              "      <td>176</td>\n",
              "      <td>0</td>\n",
              "      <td>1</td>\n",
              "      <td>3</td>\n",
              "    </tr>\n",
              "    <tr>\n",
              "      <th>490</th>\n",
              "      <td>22.0</td>\n",
              "      <td>1</td>\n",
              "      <td>4.564084e+06</td>\n",
              "      <td>60.904615</td>\n",
              "      <td>1.716398e+06</td>\n",
              "      <td>0</td>\n",
              "      <td>1</td>\n",
              "      <td>8</td>\n",
              "      <td>0</td>\n",
              "      <td>1.0</td>\n",
              "      <td>...</td>\n",
              "      <td>0</td>\n",
              "      <td>0</td>\n",
              "      <td>0</td>\n",
              "      <td>0</td>\n",
              "      <td>0</td>\n",
              "      <td>0</td>\n",
              "      <td>102</td>\n",
              "      <td>0</td>\n",
              "      <td>1</td>\n",
              "      <td>3</td>\n",
              "    </tr>\n",
              "    <tr>\n",
              "      <th>491</th>\n",
              "      <td>35.0</td>\n",
              "      <td>0</td>\n",
              "      <td>4.564084e+06</td>\n",
              "      <td>60.904615</td>\n",
              "      <td>1.716398e+06</td>\n",
              "      <td>0</td>\n",
              "      <td>1</td>\n",
              "      <td>2</td>\n",
              "      <td>0</td>\n",
              "      <td>1.0</td>\n",
              "      <td>...</td>\n",
              "      <td>0</td>\n",
              "      <td>0</td>\n",
              "      <td>0</td>\n",
              "      <td>0</td>\n",
              "      <td>0</td>\n",
              "      <td>0</td>\n",
              "      <td>291</td>\n",
              "      <td>0</td>\n",
              "      <td>1</td>\n",
              "      <td>3</td>\n",
              "    </tr>\n",
              "    <tr>\n",
              "      <th>492</th>\n",
              "      <td>38.0</td>\n",
              "      <td>0</td>\n",
              "      <td>4.564084e+06</td>\n",
              "      <td>60.904615</td>\n",
              "      <td>1.716398e+06</td>\n",
              "      <td>1</td>\n",
              "      <td>1</td>\n",
              "      <td>2</td>\n",
              "      <td>0</td>\n",
              "      <td>1.0</td>\n",
              "      <td>...</td>\n",
              "      <td>0</td>\n",
              "      <td>0</td>\n",
              "      <td>0</td>\n",
              "      <td>0</td>\n",
              "      <td>0</td>\n",
              "      <td>0</td>\n",
              "      <td>266</td>\n",
              "      <td>0</td>\n",
              "      <td>1</td>\n",
              "      <td>3</td>\n",
              "    </tr>\n",
              "    <tr>\n",
              "      <th>493</th>\n",
              "      <td>25.0</td>\n",
              "      <td>0</td>\n",
              "      <td>4.564084e+06</td>\n",
              "      <td>60.904615</td>\n",
              "      <td>1.716398e+06</td>\n",
              "      <td>2</td>\n",
              "      <td>1</td>\n",
              "      <td>65</td>\n",
              "      <td>0</td>\n",
              "      <td>1.0</td>\n",
              "      <td>...</td>\n",
              "      <td>0</td>\n",
              "      <td>0</td>\n",
              "      <td>0</td>\n",
              "      <td>0</td>\n",
              "      <td>0</td>\n",
              "      <td>0</td>\n",
              "      <td>154</td>\n",
              "      <td>0</td>\n",
              "      <td>1</td>\n",
              "      <td>3</td>\n",
              "    </tr>\n",
              "  </tbody>\n",
              "</table>\n",
              "<p>494 rows × 58 columns</p>\n",
              "</div>"
            ],
            "text/plain": [
              "     min_price  num_links  seguidoresSpotify  popularidad        subsYT  \\\n",
              "0         28.0          1       4.564084e+06    60.904615  1.716398e+06   \n",
              "1         50.0          1       4.564084e+06    60.904615  1.716398e+06   \n",
              "2        105.0         10       2.797956e+07    82.000000  1.716398e+06   \n",
              "3        105.0         10       2.797956e+07    82.000000  1.716398e+06   \n",
              "4        105.0         10       2.797956e+07    82.000000  1.716398e+06   \n",
              "..         ...        ...                ...          ...           ...   \n",
              "489       12.0          0       4.564084e+06    60.904615  1.716398e+06   \n",
              "490       22.0          1       4.564084e+06    60.904615  1.716398e+06   \n",
              "491       35.0          0       4.564084e+06    60.904615  1.716398e+06   \n",
              "492       38.0          0       4.564084e+06    60.904615  1.716398e+06   \n",
              "493       25.0          0       4.564084e+06    60.904615  1.716398e+06   \n",
              "\n",
              "     VenueClass  NumGeneros  peso_promotor  tiene_lastfm_url  \\\n",
              "0             2           1             22                 0   \n",
              "1             2           1             22                 0   \n",
              "2             3           3             85                 1   \n",
              "3             3           3             85                 1   \n",
              "4             3           3             85                 1   \n",
              "..          ...         ...            ...               ...   \n",
              "489           0           1              3                 0   \n",
              "490           0           1              8                 0   \n",
              "491           0           1              2                 0   \n",
              "492           1           1              2                 0   \n",
              "493           2           1             65                 0   \n",
              "\n",
              "     conciertos_del_artista_en_ciudad  ...  Singer-Songwriter  Soul  Urban  \\\n",
              "0                                 2.0  ...                  0     0      0   \n",
              "1                                 2.0  ...                  0     0      0   \n",
              "2                                 4.0  ...                  0     0      0   \n",
              "3                                 4.0  ...                  0     0      0   \n",
              "4                                 4.0  ...                  0     0      0   \n",
              "..                                ...  ...                ...   ...    ...   \n",
              "489                               1.0  ...                  0     0      1   \n",
              "490                               1.0  ...                  0     0      0   \n",
              "491                               1.0  ...                  0     0      0   \n",
              "492                               1.0  ...                  0     0      0   \n",
              "493                               1.0  ...                  0     0      0   \n",
              "\n",
              "     World  tiene_wiki  tiene_youtube  dias_Venta  dias_desdeFinVenta  \\\n",
              "0        0           0              0          85                   0   \n",
              "1        0           0              0          85                   0   \n",
              "2        0           1              1         115                   0   \n",
              "3        0           1              1         103                   0   \n",
              "4        0           1              1         288                   0   \n",
              "..     ...         ...            ...         ...                 ...   \n",
              "489      0           0              0         176                   0   \n",
              "490      0           0              0         102                   0   \n",
              "491      0           0              0         291                   0   \n",
              "492      0           0              0         266                   0   \n",
              "493      0           0              0         154                   0   \n",
              "\n",
              "     num_noches  fold  \n",
              "0             1     0  \n",
              "1             1     0  \n",
              "2             1     0  \n",
              "3             1     0  \n",
              "4             1     0  \n",
              "..          ...   ...  \n",
              "489           1     3  \n",
              "490           1     3  \n",
              "491           1     3  \n",
              "492           1     3  \n",
              "493           1     3  \n",
              "\n",
              "[494 rows x 58 columns]"
            ]
          },
          "execution_count": 16,
          "metadata": {},
          "output_type": "execute_result"
        }
      ],
      "source": [
        "datos"
      ]
    },
    {
      "cell_type": "code",
      "execution_count": 6,
      "metadata": {
        "id": "oh0sxCJAXuyU"
      },
      "outputs": [],
      "source": [
        "columnas_a_escalar = ['num_links', 'seguidoresSpotify', 'popularidad', 'subsYT', 'NumGeneros', 'peso_promotor',\n",
        "               'conciertos_del_artista_en_ciudad', 'dias_Venta', 'dias_desdeFinVenta', 'num_noches'] # las numéricas"
      ]
    },
    {
      "cell_type": "code",
      "execution_count": 7,
      "metadata": {
        "id": "bIZCbV7qHMlf"
      },
      "outputs": [],
      "source": [
        "# División de los datos en X e y\n",
        "# ==============================================================================\n",
        "# RANDOM_STATE = 83 #fijamos la semilla que no hace falta en nuestro estudio\n",
        "\n",
        "X = datos.drop(columns=['min_price', 'fold'])\n",
        "y = datos['min_price']"
      ]
    },
    {
      "cell_type": "code",
      "execution_count": 19,
      "metadata": {
        "colab": {
          "base_uri": "https://localhost:8080/"
        },
        "id": "Ap6Q6cluYct0",
        "outputId": "8621b2a5-3b33-4342-d6c8-47841315ba62"
      },
      "outputs": [
        {
          "name": "stdout",
          "output_type": "stream",
          "text": [
            "     num_links  seguidoresSpotify  popularidad        subsYT  VenueClass  \\\n",
            "0            1       4.564084e+06    60.904615  1.716398e+06           2   \n",
            "1            1       4.564084e+06    60.904615  1.716398e+06           2   \n",
            "2           10       2.797956e+07    82.000000  1.716398e+06           3   \n",
            "3           10       2.797956e+07    82.000000  1.716398e+06           3   \n",
            "4           10       2.797956e+07    82.000000  1.716398e+06           3   \n",
            "..         ...                ...          ...           ...         ...   \n",
            "489          0       4.564084e+06    60.904615  1.716398e+06           0   \n",
            "490          1       4.564084e+06    60.904615  1.716398e+06           0   \n",
            "491          0       4.564084e+06    60.904615  1.716398e+06           0   \n",
            "492          0       4.564084e+06    60.904615  1.716398e+06           1   \n",
            "493          0       4.564084e+06    60.904615  1.716398e+06           2   \n",
            "\n",
            "     NumGeneros  peso_promotor  tiene_lastfm_url  \\\n",
            "0             1             22                 0   \n",
            "1             1             22                 0   \n",
            "2             3             85                 1   \n",
            "3             3             85                 1   \n",
            "4             3             85                 1   \n",
            "..          ...            ...               ...   \n",
            "489           1              3                 0   \n",
            "490           1              8                 0   \n",
            "491           1              2                 0   \n",
            "492           1              2                 0   \n",
            "493           1             65                 0   \n",
            "\n",
            "     conciertos_del_artista_en_ciudad  tiene_twitter  ...  Rock  \\\n",
            "0                                 2.0              0  ...     1   \n",
            "1                                 2.0              0  ...     1   \n",
            "2                                 4.0              1  ...     1   \n",
            "3                                 4.0              1  ...     1   \n",
            "4                                 4.0              1  ...     1   \n",
            "..                                ...            ...  ...   ...   \n",
            "489                               1.0              0  ...     0   \n",
            "490                               1.0              0  ...     1   \n",
            "491                               1.0              0  ...     1   \n",
            "492                               1.0              0  ...     1   \n",
            "493                               1.0              0  ...     1   \n",
            "\n",
            "     Singer-Songwriter  Soul  Urban  World  tiene_wiki  tiene_youtube  \\\n",
            "0                    0     0      0      0           0              0   \n",
            "1                    0     0      0      0           0              0   \n",
            "2                    0     0      0      0           1              1   \n",
            "3                    0     0      0      0           1              1   \n",
            "4                    0     0      0      0           1              1   \n",
            "..                 ...   ...    ...    ...         ...            ...   \n",
            "489                  0     0      1      0           0              0   \n",
            "490                  0     0      0      0           0              0   \n",
            "491                  0     0      0      0           0              0   \n",
            "492                  0     0      0      0           0              0   \n",
            "493                  0     0      0      0           0              0   \n",
            "\n",
            "     dias_Venta  dias_desdeFinVenta  num_noches  \n",
            "0            85                   0           1  \n",
            "1            85                   0           1  \n",
            "2           115                   0           1  \n",
            "3           103                   0           1  \n",
            "4           288                   0           1  \n",
            "..          ...                 ...         ...  \n",
            "489         176                   0           1  \n",
            "490         102                   0           1  \n",
            "491         291                   0           1  \n",
            "492         266                   0           1  \n",
            "493         154                   0           1  \n",
            "\n",
            "[494 rows x 56 columns]\n",
            "0       28.0\n",
            "1       50.0\n",
            "2      105.0\n",
            "3      105.0\n",
            "4      105.0\n",
            "       ...  \n",
            "489     12.0\n",
            "490     22.0\n",
            "491     35.0\n",
            "492     38.0\n",
            "493     25.0\n",
            "Name: min_price, Length: 494, dtype: float64\n"
          ]
        }
      ],
      "source": [
        "print(X)\n",
        "print(y)"
      ]
    },
    {
      "cell_type": "markdown",
      "metadata": {
        "id": "mpqTndkhHhOg"
      },
      "source": [
        "### Uso de __cross_validate__ para hacer la validación cruzada:\n",
        "\n",
        "Si bien __cross_val_score__ es la función por defecto para realizar la validación cruzada y devolver la métrica que se quiere calcular gracias al atributo cv_returns de esta función, en nuestro código, como no tenemos una sino 3 métricas, Python recomienda mejor el uso de __cross_validate__.\n",
        "\n",
        "En la función cross_validate de scikit-learn, no existe un atributo llamado cv_returns para obtener las métricas directamente. Sin embargo, se puede acceder a las métricas calculadas durante la validación cruzada utilizando la salida de la función cross_validate. Esta salida es un diccionario que contiene varias claves, incluyendo las métricas calculadas para cada división de los datos de entrenamiento y prueba.\n",
        "\n",
        "Por ejemplo, si se tiene configurado scoring para calcular el MAPE, MSE y RMSE, se puede acceder a estas métricas utilizando las claves test_mape, test_mse y test_rmse para el conjunto de prueba, y train_mape, train_mse y train_rmse para el conjunto de entrenamiento."
      ]
    },
    {
      "cell_type": "markdown",
      "metadata": {
        "id": "-BnDHKYPIxBD"
      },
      "source": [
        "Función que carga un modelo en MLFLOW. Recibe como parámetros el modelo, el nombre del experimento y el nombre del run."
      ]
    },
    {
      "cell_type": "code",
      "execution_count": 8,
      "metadata": {
        "id": "xxqI9y6JI4SJ"
      },
      "outputs": [],
      "source": [
        "import mlflow\n",
        "\n",
        "def cargar_modelo_mlflow(modelo, experimento, run_name, results, time):\n",
        "\n",
        "    # Convertir resultados a DataFrame\n",
        "    results_df = pd.DataFrame(results)\n",
        "    results_df.to_csv(\"results.csv\", index=False)\n",
        "\n",
        "    # Iniciar un nuevo run de MLflow\n",
        "    with mlflow.start_run(run_name=run_name):\n",
        "\n",
        "        # Configurar el experimento de MLflow\n",
        "        mlflow.set_experiment(experimento)\n",
        "\n",
        "        #mlflow.log_param(\"random_state\", RANDOM_STATE)\n",
        "        mlflow.log_params(modelo.get_params())\n",
        "        mlflow.log_metric(\"execution_time\", time)\n",
        "\n",
        "        mlflow.sklearn.log_model(modelo, \"model\")\n",
        "\n",
        "        # Registrar el archivo CSV en MLflow\n",
        "        mlflow.log_artifact(\"results.csv\", \"results\")\n",
        "\n",
        "    mlflow.end_run()\n"
      ]
    },
    {
      "cell_type": "markdown",
      "metadata": {
        "id": "hUfD6rXKKpbY"
      },
      "source": [
        "Función para guardar los resultados en un formato especifico."
      ]
    },
    {
      "cell_type": "code",
      "execution_count": 9,
      "metadata": {
        "id": "w2SFk8ucKzqt"
      },
      "outputs": [],
      "source": [
        "# Para el método cross_validate()\n",
        "\n",
        "def crear_tabla_resultados(resultados):\n",
        "    # Crear un DataFrame con los resultados de validación cruzada\n",
        "    df = pd.DataFrame(resultados)\n",
        "    df = df.drop(columns=['estimator'])\n",
        "\n",
        "    # Calcular promedios\n",
        "    promedio = df.mean()\n",
        "\n",
        "    # Crear DataFrame sin la fila de promedio\n",
        "    df_sin_promedio = pd.DataFrame({\n",
        "        'Test Fold': range(0, len(resultados['test_mape'])),\n",
        "        'MAPE Train': resultados['train_mape'],\n",
        "        'RMSE Train': resultados['train_rmse'],\n",
        "        'MSE Train': resultados['train_mse'],\n",
        "        'MAPE Val': resultados['test_mape'],\n",
        "        'RMSE Val': resultados['test_rmse'],\n",
        "        'MSE Val': resultados['test_mse'],\n",
        "    })\n",
        "\n",
        "    # Crear DataFrame con la fila de promedio\n",
        "    df_promedio = pd.DataFrame({\n",
        "        'Test Fold': ['Promedio'],\n",
        "        'MAPE Train': promedio['train_mape'],\n",
        "        'RMSE Train': promedio['train_rmse'],\n",
        "        'MSE Train': promedio['train_mse'],\n",
        "        'MAPE Val': promedio['test_mape'],\n",
        "        'RMSE Val': promedio['test_rmse'],\n",
        "        'MSE Val': promedio['test_mse'],\n",
        "    }, index=[len(resultados['test_mape'])])  # Usamos el índice len(resultados['test_MAPE']) para colocar la fila de promedio al final\n",
        "\n",
        "    # Concatenar los DataFrames\n",
        "    df_final = pd.concat([df_sin_promedio, df_promedio])\n",
        "\n",
        "    return df_final"
      ]
    },
    {
      "cell_type": "markdown",
      "metadata": {
        "id": "dyHZA5xKAM1m"
      },
      "source": [
        "## MODELO BASE SIN ESCALAR"
      ]
    },
    {
      "cell_type": "code",
      "execution_count": 10,
      "metadata": {
        "colab": {
          "base_uri": "https://localhost:8080/",
          "height": 1000
        },
        "id": "Cozz1Z5z9h1m",
        "outputId": "ea21122a-b62f-41cd-8f76-3c7ce5a74eff"
      },
      "outputs": [
        {
          "name": "stdout",
          "output_type": "stream",
          "text": [
            "Tiempo de ejecución: 0.09035062789916992 segundos\n"
          ]
        },
        {
          "name": "stderr",
          "output_type": "stream",
          "text": [
            "2024/06/10 19:17:27 INFO mlflow.tracking.fluent: Experiment with name 'MIN_PRICE' does not exist. Creating a new experiment.\n"
          ]
        },
        {
          "name": "stdout",
          "output_type": "stream",
          "text": [
            "MAPE scores por iteración (entrenamiento): [0.19918105 0.19008133 0.18580847 0.17946441]\n",
            "MAPE scores por iteración (validación): [0.31159593 0.36840427 0.25131212 0.34778106]\n",
            "\n",
            "MSE scores por iteración (entrenamiento): [132.28319144 132.33449662  83.94829467  96.7761374 ]\n",
            "MSE scores por iteración (validación): [229.78588341 169.23377247 435.29398501 636.98605696]\n",
            "\n",
            "RMSE scores por iteración (entrenamiento): [11.50144302 11.50367318  9.1623302   9.83748634]\n",
            "RMSE scores por iteración (validación): [15.15869003 13.00898814 20.86370018 25.23858271]\n",
            "\n",
            "Promedio de métricas (entrenamiento):\n",
            "  MAPE: 0.1886338159248249\n",
            "  MSE: 111.33553003252403\n",
            "  RMSE: 10.501233182281245\n",
            "\n",
            "Promedio de métricas (validación):\n",
            "  MAPE: 0.319773346293076\n",
            "  MSE: 367.8249244595045\n",
            "  RMSE: 18.567490262815923\n"
          ]
        },
        {
          "data": {
            "image/png": "[encoded data removed]",
            "text/plain": [
              "<Figure size 1100x384 with 1 Axes>"
            ]
          },
          "metadata": {},
          "output_type": "display_data"
        }
      ],
      "source": [
        "import pandas as pd\n",
        "from sklearn.model_selection import cross_validate, PredefinedSplit\n",
        "from sklearn.metrics import make_scorer, mean_absolute_percentage_error, mean_squared_error\n",
        "from sklearn.linear_model import LinearRegression\n",
        "import numpy as np\n",
        "import matplotlib.pyplot as plt\n",
        "import time\n",
        "\n",
        "# Tiempo de inicio de la ejecución\n",
        "start_time = time.time()\n",
        "\n",
        "# Definir el modelo\n",
        "modelo = LinearRegression()\n",
        "\n",
        "# Definir las métricas a utilizar\n",
        "scoring = {\n",
        "    'mape': make_scorer(mean_absolute_percentage_error, greater_is_better=False),\n",
        "    'mse': 'neg_mean_squared_error',\n",
        "    'rmse': 'neg_root_mean_squared_error'\n",
        "}\n",
        "\n",
        "# Definir el array test_fold a partir de la columna 'fold'\n",
        "test_fold = datos['fold'].values\n",
        "\n",
        "# Crear el PredefinedSplit\n",
        "ps = PredefinedSplit(test_fold=test_fold)\n",
        "\n",
        "# Realizar la validación cruzada\n",
        "scores = cross_validate(modelo, X, y, cv=ps, scoring=scoring, return_train_score=True, return_estimator=True)\n",
        "\n",
        "# Tiempo de finalización de la ejecución\n",
        "end_time = time.time()\n",
        "\n",
        "# Calcular el tiempo de ejecución en segundos\n",
        "execution_time = end_time - start_time\n",
        "\n",
        "# Imprimir el tiempo de ejecución\n",
        "print(\"Tiempo de ejecución:\", execution_time, \"segundos\")\n",
        "\n",
        "# Crear una tabla con los resultados\n",
        "resultados = crear_tabla_resultados(scores)\n",
        "\n",
        "# Cargar el modelo en mlflow\n",
        "cargar_modelo_mlflow(modelo, 'MIN_PRICE', 'Modelo base sin escalar', resultados, execution_time)\n",
        "\n",
        "# Obtener los resultados de la validación cruzada para cada iteración\n",
        "train_mape_scores = -scores['train_mape']  # Como utilizamos greater_is_better=False, invertimos el signo\n",
        "train_mse_scores = -scores['train_mse']\n",
        "train_rmse_scores = -scores['train_rmse']\n",
        "\n",
        "test_mape_scores = -scores['test_mape']  # Como utilizamos greater_is_better=False, invertimos el signo\n",
        "test_mse_scores = -scores['test_mse']\n",
        "test_rmse_scores = -scores['test_rmse']\n",
        "\n",
        "# Imprimir los resultados para cada iteración\n",
        "print(\"MAPE scores por iteración (entrenamiento):\", train_mape_scores)\n",
        "print(\"MAPE scores por iteración (validación):\", test_mape_scores)\n",
        "\n",
        "print(\"\\nMSE scores por iteración (entrenamiento):\", train_mse_scores)\n",
        "print(\"MSE scores por iteración (validación):\", test_mse_scores)\n",
        "\n",
        "print(\"\\nRMSE scores por iteración (entrenamiento):\", train_rmse_scores)\n",
        "print(\"RMSE scores por iteración (validación):\", test_rmse_scores)\n",
        "\n",
        "# Calcular el promedio de las métricas\n",
        "train_mape_mean = np.mean(train_mape_scores)\n",
        "train_mse_mean = np.mean(train_mse_scores)\n",
        "train_rmse_mean = np.mean(train_rmse_scores)\n",
        "\n",
        "test_mape_mean = np.mean(test_mape_scores)\n",
        "test_mse_mean = np.mean(test_mse_scores)\n",
        "test_rmse_mean = np.mean(test_rmse_scores)\n",
        "\n",
        "# Imprimir los resultados promedio\n",
        "print(\"\\nPromedio de métricas (entrenamiento):\")\n",
        "print(f\"  MAPE: {train_mape_mean}\")\n",
        "print(f\"  MSE: {train_mse_mean}\")\n",
        "print(f\"  RMSE: {train_rmse_mean}\")\n",
        "\n",
        "print(\"\\nPromedio de métricas (validación):\")\n",
        "print(f\"  MAPE: {test_mape_mean}\")\n",
        "print(f\"  MSE: {test_mse_mean}\")\n",
        "print(f\"  RMSE: {test_rmse_mean}\")\n",
        "\n",
        "# Obtener los coeficientes del modelo entrenado en cada iteración\n",
        "all_coefs = [pd.DataFrame({'predictor': X.columns, 'coef': est.coef_}) for est in scores['estimator']]\n",
        "\n",
        "# Calcular los coeficientes promedio\n",
        "average_coefs = pd.concat(all_coefs).groupby('predictor')['coef'].mean()\n",
        "\n",
        "# Crear la gráfica de barras para los coeficientes promedio\n",
        "fig, ax = plt.subplots(figsize=(11, 3.84))\n",
        "ax.stem(average_coefs.index, average_coefs.values, markerfmt=' ')\n",
        "plt.xticks(rotation=90, ha='right', size=5)\n",
        "ax.set_xlabel('Variable')\n",
        "ax.set_ylabel('Coeficiente')\n",
        "ax.set_title('Coeficientes promedio del modelo')\n",
        "plt.show()\n"
      ]
    },
    {
      "cell_type": "markdown",
      "metadata": {
        "id": "Kd3z9JR8pyB0"
      },
      "source": [
        "| Métrica                 | MAPE (entrenamiento) | MAPE (validación) | MSE (entrenamiento) | MSE (validación) | RMSE (entrenamiento) | RMSE (validación) |\n",
        "|-------------------------|----------------------|-------------------|---------------------|------------------|----------------------|-------------------|\n",
        "| Iteración 1             | 0.199                | 0.312             | 132.283             | 229.786          | 11.501               | 15.159            |\n",
        "| Iteración 2             | 0.190                | 0.368             | 132.334             | 169.234          | 11.504               | 13.009            |\n",
        "| Iteración 3             | 0.186                | 0.251             | 83.948              | 435.294          | 9.162                | 20.864            |\n",
        "| Iteración 4             | 0.179                | 0.348             | 96.776              | 636.986          | 9.837                | 25.239            |\n",
        "| **Promedio**            | **0.189**            | **0.320**         | **111.336**         | **367.825**      | **10.501**           | **18.567**        |\n",
        "\n",
        "**Tiempo de ejecución**: 0.07301759719848633 segundos\n"
      ]
    },
    {
      "cell_type": "code",
      "execution_count": 11,
      "metadata": {
        "id": "zVlsavzWpyB1",
        "outputId": "fb57072c-b481-43da-c67d-1ab4ea126eaa"
      },
      "outputs": [
        {
          "data": {
            "application/vnd.plotly.v1+json": {
              "config": {
                "plotlyServerURL": "https://plot.ly"
              },
              "data": [
                {
                  "hovertemplate": "Precio Real=%{x}<br>Precio Predicho=%{y}<extra></extra>",
                  "legendgroup": "",
                  "marker": {
                    "color": "#636efa",
                    "symbol": "circle"
                  },
                  "mode": "markers",
                  "name": "",
                  "orientation": "v",
                  "showlegend": false,
                  "type": "scatter",
                  "x": [
                    28,
                    50,
                    105,
                    105,
                    105,
                    105,
                    20,
                    30.01,
                    30.01,
                    41.43,
                    49.11,
                    49.11,
                    50,
                    59.82,
                    65.18,
                    65.18,
                    71.43,
                    22,
                    22,
                    30,
                    37,
                    27,
                    30.01,
                    30.01,
                    25,
                    25,
                    30,
                    30.01,
                    30.01,
                    25,
                    23,
                    40,
                    40,
                    70,
                    24,
                    25,
                    30,
                    30,
                    34,
                    20,
                    27,
                    30,
                    35,
                    25,
                    25,
                    35,
                    35,
                    40,
                    40,
                    40,
                    40,
                    43,
                    44.64,
                    45,
                    45,
                    49,
                    56.25,
                    59.82,
                    76.79,
                    25,
                    15,
                    35.71,
                    48,
                    17,
                    30,
                    35,
                    18,
                    18,
                    18,
                    18,
                    18,
                    20,
                    25,
                    30,
                    30.01,
                    37.5,
                    35,
                    35,
                    35,
                    35,
                    43,
                    44,
                    30,
                    25,
                    40,
                    20,
                    20,
                    23,
                    50,
                    50,
                    60,
                    30.01,
                    31.25,
                    105,
                    28,
                    22,
                    20,
                    40,
                    40,
                    20,
                    30,
                    30,
                    30,
                    30,
                    35,
                    10,
                    13,
                    13,
                    13,
                    15,
                    15,
                    15,
                    15,
                    15,
                    15,
                    16,
                    24,
                    24,
                    25,
                    25,
                    34.82,
                    34.82,
                    35,
                    35,
                    22,
                    22,
                    22,
                    40,
                    23,
                    23,
                    23,
                    24,
                    24,
                    40,
                    40,
                    30,
                    30,
                    23,
                    23,
                    23,
                    25,
                    25,
                    25,
                    25,
                    25,
                    25,
                    25,
                    25,
                    25,
                    25,
                    25,
                    33.13,
                    33.13,
                    29,
                    35,
                    35,
                    40,
                    30,
                    12,
                    25,
                    35,
                    35,
                    35,
                    35,
                    40,
                    40,
                    35.71,
                    35.71,
                    30,
                    40,
                    23,
                    23,
                    39.29,
                    39.29,
                    55,
                    30,
                    26,
                    65,
                    60,
                    18,
                    18,
                    23,
                    16,
                    22,
                    22,
                    72,
                    72,
                    40,
                    40,
                    30.01,
                    30.01,
                    32,
                    18,
                    18,
                    65,
                    35,
                    35,
                    35,
                    45,
                    55,
                    25,
                    25,
                    25,
                    25,
                    9,
                    22,
                    22,
                    22,
                    22,
                    22,
                    22,
                    22,
                    22,
                    22,
                    28,
                    35,
                    32,
                    32,
                    35,
                    35,
                    40,
                    58,
                    58,
                    22,
                    22,
                    32.14,
                    32.14,
                    20,
                    20,
                    18,
                    18,
                    25,
                    36.6,
                    30.01,
                    30.01,
                    25,
                    22,
                    22,
                    22,
                    22,
                    22,
                    22,
                    22,
                    22,
                    30,
                    18,
                    18,
                    30.01,
                    30.01,
                    40,
                    50,
                    55,
                    60,
                    60,
                    70,
                    75,
                    75,
                    80,
                    141.1,
                    179.46,
                    60,
                    60,
                    70,
                    75,
                    75,
                    75,
                    75,
                    75,
                    85,
                    85,
                    35,
                    35,
                    35,
                    35,
                    30,
                    22,
                    40,
                    40,
                    44,
                    47,
                    47,
                    47,
                    47,
                    47,
                    47,
                    47,
                    47,
                    47,
                    47,
                    47,
                    47,
                    47,
                    47,
                    50,
                    60,
                    50,
                    55,
                    55,
                    65,
                    59,
                    59,
                    20,
                    20,
                    20,
                    20,
                    20,
                    20,
                    27,
                    27,
                    27,
                    27,
                    30,
                    20,
                    36.6,
                    36.6,
                    36.6,
                    36.6,
                    36.6,
                    36.6,
                    25,
                    30.01,
                    30.01,
                    35,
                    27,
                    27,
                    27,
                    30,
                    30,
                    35,
                    35,
                    35,
                    35,
                    25,
                    25,
                    25,
                    25,
                    25,
                    25,
                    25,
                    25,
                    26.5,
                    26.5,
                    36,
                    25,
                    36,
                    36,
                    36,
                    25,
                    25,
                    65.18,
                    71.43,
                    30,
                    20,
                    20,
                    26,
                    26,
                    26,
                    40,
                    30,
                    30,
                    52,
                    28,
                    30,
                    30,
                    30,
                    30,
                    30,
                    30,
                    30,
                    30,
                    30,
                    45,
                    25,
                    22,
                    30,
                    30,
                    60,
                    60,
                    27,
                    25,
                    25,
                    19,
                    19,
                    12,
                    26.5,
                    30,
                    81,
                    81,
                    105,
                    22,
                    22,
                    25,
                    50,
                    20,
                    20,
                    20,
                    20,
                    20,
                    20,
                    20,
                    35,
                    50,
                    55,
                    20,
                    35,
                    40,
                    42,
                    22,
                    22,
                    40,
                    44,
                    38,
                    28,
                    28,
                    30,
                    30,
                    30,
                    30,
                    30,
                    32,
                    32,
                    22,
                    40,
                    40,
                    25,
                    25,
                    30.01,
                    31.25,
                    30.01,
                    30.01,
                    40,
                    35.71,
                    22,
                    22,
                    55.36,
                    67.86,
                    87.5,
                    138.04,
                    38,
                    38,
                    37,
                    39,
                    65,
                    55,
                    25,
                    25,
                    25,
                    40,
                    40,
                    35,
                    18,
                    18,
                    18,
                    36.6,
                    36.6,
                    36.6,
                    25,
                    25,
                    60,
                    32,
                    32,
                    30,
                    30,
                    20,
                    25,
                    25,
                    25,
                    25,
                    55,
                    50.89,
                    50.89,
                    60,
                    35,
                    35,
                    20,
                    25,
                    25,
                    30.01,
                    30.36,
                    31.25,
                    31.25,
                    15,
                    10,
                    12,
                    12,
                    12,
                    13,
                    13,
                    25,
                    12,
                    22,
                    35,
                    38,
                    25
                  ],
                  "xaxis": "x",
                  "y": [
                    37.85069316541954,
                    37.85069316541954,
                    60.89483929549023,
                    60.760480981229364,
                    62.83183832608442,
                    62.675086959446745,
                    23.54565751214896,
                    46.74545009725239,
                    46.067824746022524,
                    84.93943957102174,
                    86.04699173716178,
                    86.33810141806032,
                    36.902685496611845,
                    86.2606296612536,
                    88.35438005848548,
                    85.63272026819075,
                    85.99100910621974,
                    27.688065828421415,
                    27.96797898313156,
                    28.209314932265208,
                    35.78360648308435,
                    56.07797271468828,
                    53.34114143452058,
                    53.32994490833217,
                    24.74961183983544,
                    25.970049000239285,
                    28.151514093335386,
                    31.19048133082231,
                    31.06731954274985,
                    27.60785299607469,
                    25.754868874640316,
                    34.94234463183675,
                    69.59335082497645,
                    72.00061185841749,
                    26.942095387423684,
                    28.744736103757006,
                    29.99458856051325,
                    29.31159256008668,
                    29.793051089121946,
                    21.545049086918734,
                    18.044733486033095,
                    27.10792499109808,
                    18.994638261957146,
                    40.5504535491073,
                    42.0955820660411,
                    48.58304625104225,
                    40.27118801632907,
                    49.14894243225086,
                    41.13332843577013,
                    49.01457621505618,
                    40.288966092910265,
                    40.84156323000585,
                    56.47076341551507,
                    41.59238600949477,
                    48.07326864410311,
                    40.89753795801406,
                    56.23654029207068,
                    56.43717383694986,
                    55.81016837039913,
                    37.22652774777811,
                    34.69126488647997,
                    50.39655917126288,
                    61.25632843226421,
                    26.01273605650571,
                    41.62004956253292,
                    39.75707461598034,
                    20.448066099014433,
                    20.078580734797043,
                    21.019088934623124,
                    20.067384208608637,
                    20.380886941883997,
                    20.280118206188348,
                    51.84541042558537,
                    51.09523526802837,
                    57.176385525237336,
                    56.298126629128284,
                    27.05941030083082,
                    25.342099368007474,
                    26.697782963316698,
                    28.54432166375915,
                    28.513059171264842,
                    30.362285942442227,
                    33.9385012342446,
                    25.99660187576972,
                    37.00811669502874,
                    32.107305536138206,
                    32.108209462650336,
                    7.989052044062522,
                    46.73946478788656,
                    55.83507985578814,
                    47.70237394302327,
                    32.30900564680607,
                    32.0971755757385,
                    55.783752865050495,
                    38.70271844902273,
                    31.394117585100005,
                    27.932552255538454,
                    35.42940650246353,
                    36.04521544282584,
                    30.1417412655167,
                    29.41395916033651,
                    29.178832110379986,
                    29.548317474597376,
                    33.22077806439445,
                    30.276099579777565,
                    22.22291016902345,
                    21.64069080722635,
                    21.764756521810945,
                    21.79744217386403,
                    21.64069080722635,
                    20.868130500226357,
                    24.00315783297996,
                    22.827522583197357,
                    22.066158802385768,
                    22.234106695211853,
                    21.808638700052438,
                    24.394350393187516,
                    22.71396753841453,
                    34.02873687155138,
                    33.34574087112481,
                    37.75885301655753,
                    37.16543712857203,
                    34.230274342942685,
                    33.77121676921805,
                    27.55904303846335,
                    30.37561164722203,
                    28.046972087224795,
                    54.920095741981925,
                    22.22023022662534,
                    21.297652502193735,
                    21.121112354306646,
                    52.92003364688067,
                    52.05952226851966,
                    48.28207811923417,
                    47.421566740873175,
                    30.674390809380732,
                    57.272625277338804,
                    34.757946600461395,
                    35.61488595854038,
                    34.18932208914937,
                    35.269810844988086,
                    35.288439961468065,
                    35.77279698994749,
                    0.021922594173950927,
                    -0.0712229882259372,
                    -0.8350167639050312,
                    -0.015335638786002193,
                    -0.59283824966532,
                    -0.8350167639050312,
                    0.025494614455965348,
                    -0.3320306189456268,
                    46.41688250969514,
                    46.39825339321517,
                    22.918803654040154,
                    40.971925417609015,
                    40.44673813588763,
                    29.044664301977406,
                    30.04802634591313,
                    24.701305478048248,
                    30.16570813131449,
                    30.689363544394936,
                    35.6908448605963,
                    31.807110533193608,
                    51.60253212051565,
                    34.62725116223431,
                    34.493275326592446,
                    47.903293011981816,
                    48.573941205261036,
                    32.237935577386565,
                    50.810381655232035,
                    30.027825995101914,
                    33.408574177545205,
                    44.14059118096073,
                    43.097360658081975,
                    44.5163119426429,
                    12.178533651274787,
                    22.189612519074593,
                    85.49369546444993,
                    76.61858530596118,
                    20.498432694070047,
                    8.157598974118184,
                    20.81512767422967,
                    24.342551586513324,
                    33.30099589180975,
                    30.345225719024356,
                    31.18353596062336,
                    33.21410965694095,
                    38.799244145988055,
                    38.329944213706604,
                    26.836322850387113,
                    27.916811606225835,
                    22.112073789690697,
                    23.634580606598604,
                    25.516121371076373,
                    39.322653464760975,
                    53.37243183131841,
                    50.149594680282235,
                    40.50641082964515,
                    40.13382850004559,
                    40.57735527528304,
                    22.16613418046797,
                    32.71586405092822,
                    34.773944963293076,
                    22.374626482029747,
                    34.75513008165682,
                    27.667238556294265,
                    28.598694380293153,
                    29.567408437252006,
                    28.077079118853774,
                    28.691839962693045,
                    27.78789135474142,
                    27.59272209037435,
                    27.425060042054547,
                    28.673210846213067,
                    29.46277777893617,
                    41.14418447118521,
                    25.236348761299666,
                    26.85350987477573,
                    37.53039831323795,
                    39.23279195347997,
                    39.21416283699999,
                    51.792475296242145,
                    55.41978431171904,
                    25.84469909421844,
                    25.807440861258485,
                    45.05098072905443,
                    45.08823896201439,
                    35.30908530631536,
                    37.85596818478705,
                    30.426547344253294,
                    22.639576655622534,
                    27.668065404123702,
                    37.22689325246223,
                    54.1541126078763,
                    53.0736238520376,
                    25.617377110372146,
                    23.71547430976964,
                    24.255718687688997,
                    24.013540173449286,
                    23.752732542729596,
                    26.807907645445972,
                    27.59033053760504,
                    25.79416903983887,
                    17.349529331616125,
                    42.23101128460285,
                    31.557273256237544,
                    26.26969034563436,
                    33.94562205583017,
                    36.41971235175545,
                    34.074915408976,
                    49.213856405138735,
                    48.59186841809496,
                    47.84485960428656,
                    43.763187985371864,
                    43.41893404448763,
                    47.33890684951035,
                    49.054309030895574,
                    47.29102166913802,
                    45.189055561093454,
                    32.38199296401066,
                    54.73609445457073,
                    53.261230899102856,
                    50.452194278718274,
                    52.34183543595405,
                    53.68262048637939,
                    52.87814945612419,
                    60.11000198732924,
                    60.34942788919091,
                    59.97592348228671,
                    59.10441319951024,
                    30.88205752861098,
                    33.87305783441041,
                    39.12921326552777,
                    44.067316945009786,
                    38.84463441742022,
                    11.578269494509486,
                    30.85097717218083,
                    31.862579735894986,
                    27.21230649644353,
                    29.24457124723927,
                    33.292010571795885,
                    33.42608907683842,
                    32.246180536670224,
                    29.915995720008972,
                    32.47959266263674,
                    33.435666112912884,
                    33.433733009904095,
                    32.02590870695749,
                    34.47762994202096,
                    34.12980791801084,
                    32.51433754675529,
                    34.247781076233764,
                    30.232037910466374,
                    35.15285969715913,
                    34.75062418203153,
                    30.20983511298813,
                    29.94665993124118,
                    29.7884455257116,
                    29.54605457328409,
                    51.283808422495305,
                    51.93504687555904,
                    30.166191385232196,
                    29.888457339072666,
                    27.98262716025379,
                    28.12628270137079,
                    30.032112880189665,
                    28.86371447910473,
                    11.037664099105537,
                    11.162165568073606,
                    11.449476650307606,
                    10.65458265612687,
                    30.014821868223976,
                    21.69454191292138,
                    32.32930149407436,
                    32.281416313702024,
                    32.29099334977649,
                    34.41048337279946,
                    31.955797087170154,
                    32.338878530148826,
                    24.944047893769017,
                    30.670284179304474,
                    30.660707143230006,
                    39.019185374880045,
                    18.761671146231812,
                    19.144752589210476,
                    19.10644444491261,
                    26.66008999314799,
                    23.66791521073771,
                    21.09778513441824,
                    21.107362170492703,
                    21.462231863044536,
                    21.615464440236003,
                    25.43813941380094,
                    22.679953024354532,
                    22.603336735758802,
                    22.689530060429,
                    23.21626704452467,
                    23.589771451428874,
                    23.04586954022229,
                    25.498566680813582,
                    23.599348487503335,
                    22.87149374584387,
                    34.105301821416006,
                    52.08668824819755,
                    49.277205648501415,
                    45.23516649886021,
                    51.28420636298036,
                    25.251307624616196,
                    25.270461696765125,
                    31.570534524037534,
                    32.03782014664838,
                    38.68691857512189,
                    16.745297367271554,
                    16.343061852143954,
                    25.950448284065992,
                    26.22818233022553,
                    26.180297149853196,
                    45.986450857004826,
                    21.910038181171117,
                    24.661612585108884,
                    23.86965377816837,
                    37.18385624839039,
                    34.31252018163352,
                    29.374416502151504,
                    29.31695428570471,
                    29.307377249630242,
                    29.115836528140903,
                    29.106259492066442,
                    29.04879727561964,
                    28.12940181247084,
                    29.307377249630242,
                    34.91517756028305,
                    20.25234718197018,
                    13.227673959861617,
                    36.859675911757016,
                    84.63034682890469,
                    26.336932208885337,
                    25.989974597034312,
                    29.137440759075638,
                    16.207280402285686,
                    15.745771877900623,
                    19.60519343478301,
                    31.980864601995066,
                    25.473728898702632,
                    18.32199775999438,
                    19.81947117202327,
                    78.00314793852431,
                    69.89552077241709,
                    78.26426460363692,
                    19.639026642984767,
                    20.38594175481849,
                    29.09293081571392,
                    33.645161287831066,
                    28.448175499003796,
                    28.44210301841978,
                    28.484610382507878,
                    28.393523173747667,
                    28.382350581770954,
                    28.37627810118694,
                    40.17506361291766,
                    22.509961403105027,
                    38.37846683779993,
                    39.377333758765715,
                    19.04313599178468,
                    22.09539870896171,
                    25.107703188749344,
                    26.299561820340543,
                    22.08589857584353,
                    21.782274546642828,
                    31.98506957760228,
                    31.72919917451147,
                    37.29906549358372,
                    29.508410216726496,
                    30.51644199367282,
                    41.75145918028155,
                    29.994208663447615,
                    30.146020678047964,
                    29.745236959503043,
                    29.702729595414944,
                    30.146846896610192,
                    29.95777377994353,
                    30.746884382725753,
                    25.576219698759136,
                    25.856380024186006,
                    31.3562732880431,
                    30.766508567638574,
                    31.16903096612397,
                    30.508102951657758,
                    33.89049391443442,
                    33.93494601690515,
                    31.643771626124682,
                    38.96012237780835,
                    22.29035319960389,
                    32.74590566945174,
                    47.241550711378686,
                    46.21627386187163,
                    47.460160012403186,
                    47.23547823079467,
                    25.892814907690088,
                    25.76611903398802,
                    36.89820777289834,
                    36.065451714326194,
                    288.86142030584523,
                    48.72444912579023,
                    34.67281427096929,
                    34.69807656249666,
                    33.87124683387945,
                    46.92581650100686,
                    23.493080571176783,
                    22.276507382475877,
                    22.797626162232987,
                    24.684389689924007,
                    24.678317209339994,
                    31.23899383831889,
                    30.964905993476037,
                    31.207805216836597,
                    23.57062535382523,
                    23.77101721309769,
                    81.27397198245626,
                    22.793209577983436,
                    23.09090727722921,
                    23.631585033851216,
                    23.338307378065007,
                    21.857909226939093,
                    19.97584421653808,
                    19.969771735954065,
                    19.957626774786036,
                    20.21956965846087,
                    37.02146651993184,
                    33.10852968402762,
                    32.9314553778999,
                    30.198805912429087,
                    33.53454925605445,
                    33.25438893062757,
                    27.353336503670025,
                    13.436071249374056,
                    14.135232735097894,
                    40.889027724897424,
                    37.34798225974718,
                    37.785200861796184,
                    37.001850866458376,
                    28.27476534734196,
                    27.831474264708937,
                    21.271358823177952,
                    21.21063401733781,
                    21.05882200273746,
                    21.58712781354668,
                    21.016314638649362,
                    66.34570230053663,
                    23.008874349569496,
                    22.36100495556272,
                    28.927054929693703,
                    29.04933075993621,
                    26.689877452629865
                  ],
                  "yaxis": "y"
                }
              ],
              "layout": {
                "legend": {
                  "tracegroupgap": 0
                },
                "shapes": [
                  {
                    "line": {
                      "color": "red",
                      "dash": "dash",
                      "width": 2
                    },
                    "type": "line",
                    "x0": 9,
                    "x1": 179.46,
                    "y0": 9,
                    "y1": 179.46
                  }
                ],
                "template": {
                  "data": {
                    "bar": [
                      {
                        "error_x": {
                          "color": "#2a3f5f"
                        },
                        "error_y": {
                          "color": "#2a3f5f"
                        },
                        "marker": {
                          "line": {
                            "color": "#E5ECF6",
                            "width": 0.5
                          },
                          "pattern": {
                            "fillmode": "overlay",
                            "size": 10,
                            "solidity": 0.2
                          }
                        },
                        "type": "bar"
                      }
                    ],
                    "barpolar": [
                      {
                        "marker": {
                          "line": {
                            "color": "#E5ECF6",
                            "width": 0.5
                          },
                          "pattern": {
                            "fillmode": "overlay",
                            "size": 10,
                            "solidity": 0.2
                          }
                        },
                        "type": "barpolar"
                      }
                    ],
                    "carpet": [
                      {
                        "aaxis": {
                          "endlinecolor": "#2a3f5f",
                          "gridcolor": "white",
                          "linecolor": "white",
                          "minorgridcolor": "white",
                          "startlinecolor": "#2a3f5f"
                        },
                        "baxis": {
                          "endlinecolor": "#2a3f5f",
                          "gridcolor": "white",
                          "linecolor": "white",
                          "minorgridcolor": "white",
                          "startlinecolor": "#2a3f5f"
                        },
                        "type": "carpet"
                      }
                    ],
                    "choropleth": [
                      {
                        "colorbar": {
                          "outlinewidth": 0,
                          "ticks": ""
                        },
                        "type": "choropleth"
                      }
                    ],
                    "contour": [
                      {
                        "colorbar": {
                          "outlinewidth": 0,
                          "ticks": ""
                        },
                        "colorscale": [
                          [
                            0,
                            "#0d0887"
                          ],
                          [
                            0.1111111111111111,
                            "#46039f"
                          ],
                          [
                            0.2222222222222222,
                            "#7201a8"
                          ],
                          [
                            0.3333333333333333,
                            "#9c179e"
                          ],
                          [
                            0.4444444444444444,
                            "#bd3786"
                          ],
                          [
                            0.5555555555555556,
                            "#d8576b"
                          ],
                          [
                            0.6666666666666666,
                            "#ed7953"
                          ],
                          [
                            0.7777777777777778,
                            "#fb9f3a"
                          ],
                          [
                            0.8888888888888888,
                            "#fdca26"
                          ],
                          [
                            1,
                            "#f0f921"
                          ]
                        ],
                        "type": "contour"
                      }
                    ],
                    "contourcarpet": [
                      {
                        "colorbar": {
                          "outlinewidth": 0,
                          "ticks": ""
                        },
                        "type": "contourcarpet"
                      }
                    ],
                    "heatmap": [
                      {
                        "colorbar": {
                          "outlinewidth": 0,
                          "ticks": ""
                        },
                        "colorscale": [
                          [
                            0,
                            "#0d0887"
                          ],
                          [
                            0.1111111111111111,
                            "#46039f"
                          ],
                          [
                            0.2222222222222222,
                            "#7201a8"
                          ],
                          [
                            0.3333333333333333,
                            "#9c179e"
                          ],
                          [
                            0.4444444444444444,
                            "#bd3786"
                          ],
                          [
                            0.5555555555555556,
                            "#d8576b"
                          ],
                          [
                            0.6666666666666666,
                            "#ed7953"
                          ],
                          [
                            0.7777777777777778,
                            "#fb9f3a"
                          ],
                          [
                            0.8888888888888888,
                            "#fdca26"
                          ],
                          [
                            1,
                            "#f0f921"
                          ]
                        ],
                        "type": "heatmap"
                      }
                    ],
                    "heatmapgl": [
                      {
                        "colorbar": {
                          "outlinewidth": 0,
                          "ticks": ""
                        },
                        "colorscale": [
                          [
                            0,
                            "#0d0887"
                          ],
                          [
                            0.1111111111111111,
                            "#46039f"
                          ],
                          [
                            0.2222222222222222,
                            "#7201a8"
                          ],
                          [
                            0.3333333333333333,
                            "#9c179e"
                          ],
                          [
                            0.4444444444444444,
                            "#bd3786"
                          ],
                          [
                            0.5555555555555556,
                            "#d8576b"
                          ],
                          [
                            0.6666666666666666,
                            "#ed7953"
                          ],
                          [
                            0.7777777777777778,
                            "#fb9f3a"
                          ],
                          [
                            0.8888888888888888,
                            "#fdca26"
                          ],
                          [
                            1,
                            "#f0f921"
                          ]
                        ],
                        "type": "heatmapgl"
                      }
                    ],
                    "histogram": [
                      {
                        "marker": {
                          "pattern": {
                            "fillmode": "overlay",
                            "size": 10,
                            "solidity": 0.2
                          }
                        },
                        "type": "histogram"
                      }
                    ],
                    "histogram2d": [
                      {
                        "colorbar": {
                          "outlinewidth": 0,
                          "ticks": ""
                        },
                        "colorscale": [
                          [
                            0,
                            "#0d0887"
                          ],
                          [
                            0.1111111111111111,
                            "#46039f"
                          ],
                          [
                            0.2222222222222222,
                            "#7201a8"
                          ],
                          [
                            0.3333333333333333,
                            "#9c179e"
                          ],
                          [
                            0.4444444444444444,
                            "#bd3786"
                          ],
                          [
                            0.5555555555555556,
                            "#d8576b"
                          ],
                          [
                            0.6666666666666666,
                            "#ed7953"
                          ],
                          [
                            0.7777777777777778,
                            "#fb9f3a"
                          ],
                          [
                            0.8888888888888888,
                            "#fdca26"
                          ],
                          [
                            1,
                            "#f0f921"
                          ]
                        ],
                        "type": "histogram2d"
                      }
                    ],
                    "histogram2dcontour": [
                      {
                        "colorbar": {
                          "outlinewidth": 0,
                          "ticks": ""
                        },
                        "colorscale": [
                          [
                            0,
                            "#0d0887"
                          ],
                          [
                            0.1111111111111111,
                            "#46039f"
                          ],
                          [
                            0.2222222222222222,
                            "#7201a8"
                          ],
                          [
                            0.3333333333333333,
                            "#9c179e"
                          ],
                          [
                            0.4444444444444444,
                            "#bd3786"
                          ],
                          [
                            0.5555555555555556,
                            "#d8576b"
                          ],
                          [
                            0.6666666666666666,
                            "#ed7953"
                          ],
                          [
                            0.7777777777777778,
                            "#fb9f3a"
                          ],
                          [
                            0.8888888888888888,
                            "#fdca26"
                          ],
                          [
                            1,
                            "#f0f921"
                          ]
                        ],
                        "type": "histogram2dcontour"
                      }
                    ],
                    "mesh3d": [
                      {
                        "colorbar": {
                          "outlinewidth": 0,
                          "ticks": ""
                        },
                        "type": "mesh3d"
                      }
                    ],
                    "parcoords": [
                      {
                        "line": {
                          "colorbar": {
                            "outlinewidth": 0,
                            "ticks": ""
                          }
                        },
                        "type": "parcoords"
                      }
                    ],
                    "pie": [
                      {
                        "automargin": true,
                        "type": "pie"
                      }
                    ],
                    "scatter": [
                      {
                        "fillpattern": {
                          "fillmode": "overlay",
                          "size": 10,
                          "solidity": 0.2
                        },
                        "type": "scatter"
                      }
                    ],
                    "scatter3d": [
                      {
                        "line": {
                          "colorbar": {
                            "outlinewidth": 0,
                            "ticks": ""
                          }
                        },
                        "marker": {
                          "colorbar": {
                            "outlinewidth": 0,
                            "ticks": ""
                          }
                        },
                        "type": "scatter3d"
                      }
                    ],
                    "scattercarpet": [
                      {
                        "marker": {
                          "colorbar": {
                            "outlinewidth": 0,
                            "ticks": ""
                          }
                        },
                        "type": "scattercarpet"
                      }
                    ],
                    "scattergeo": [
                      {
                        "marker": {
                          "colorbar": {
                            "outlinewidth": 0,
                            "ticks": ""
                          }
                        },
                        "type": "scattergeo"
                      }
                    ],
                    "scattergl": [
                      {
                        "marker": {
                          "colorbar": {
                            "outlinewidth": 0,
                            "ticks": ""
                          }
                        },
                        "type": "scattergl"
                      }
                    ],
                    "scattermapbox": [
                      {
                        "marker": {
                          "colorbar": {
                            "outlinewidth": 0,
                            "ticks": ""
                          }
                        },
                        "type": "scattermapbox"
                      }
                    ],
                    "scatterpolar": [
                      {
                        "marker": {
                          "colorbar": {
                            "outlinewidth": 0,
                            "ticks": ""
                          }
                        },
                        "type": "scatterpolar"
                      }
                    ],
                    "scatterpolargl": [
                      {
                        "marker": {
                          "colorbar": {
                            "outlinewidth": 0,
                            "ticks": ""
                          }
                        },
                        "type": "scatterpolargl"
                      }
                    ],
                    "scatterternary": [
                      {
                        "marker": {
                          "colorbar": {
                            "outlinewidth": 0,
                            "ticks": ""
                          }
                        },
                        "type": "scatterternary"
                      }
                    ],
                    "surface": [
                      {
                        "colorbar": {
                          "outlinewidth": 0,
                          "ticks": ""
                        },
                        "colorscale": [
                          [
                            0,
                            "#0d0887"
                          ],
                          [
                            0.1111111111111111,
                            "#46039f"
                          ],
                          [
                            0.2222222222222222,
                            "#7201a8"
                          ],
                          [
                            0.3333333333333333,
                            "#9c179e"
                          ],
                          [
                            0.4444444444444444,
                            "#bd3786"
                          ],
                          [
                            0.5555555555555556,
                            "#d8576b"
                          ],
                          [
                            0.6666666666666666,
                            "#ed7953"
                          ],
                          [
                            0.7777777777777778,
                            "#fb9f3a"
                          ],
                          [
                            0.8888888888888888,
                            "#fdca26"
                          ],
                          [
                            1,
                            "#f0f921"
                          ]
                        ],
                        "type": "surface"
                      }
                    ],
                    "table": [
                      {
                        "cells": {
                          "fill": {
                            "color": "#EBF0F8"
                          },
                          "line": {
                            "color": "white"
                          }
                        },
                        "header": {
                          "fill": {
                            "color": "#C8D4E3"
                          },
                          "line": {
                            "color": "white"
                          }
                        },
                        "type": "table"
                      }
                    ]
                  },
                  "layout": {
                    "annotationdefaults": {
                      "arrowcolor": "#2a3f5f",
                      "arrowhead": 0,
                      "arrowwidth": 1
                    },
                    "autotypenumbers": "strict",
                    "coloraxis": {
                      "colorbar": {
                        "outlinewidth": 0,
                        "ticks": ""
                      }
                    },
                    "colorscale": {
                      "diverging": [
                        [
                          0,
                          "#8e0152"
                        ],
                        [
                          0.1,
                          "#c51b7d"
                        ],
                        [
                          0.2,
                          "#de77ae"
                        ],
                        [
                          0.3,
                          "#f1b6da"
                        ],
                        [
                          0.4,
                          "#fde0ef"
                        ],
                        [
                          0.5,
                          "#f7f7f7"
                        ],
                        [
                          0.6,
                          "#e6f5d0"
                        ],
                        [
                          0.7,
                          "#b8e186"
                        ],
                        [
                          0.8,
                          "#7fbc41"
                        ],
                        [
                          0.9,
                          "#4d9221"
                        ],
                        [
                          1,
                          "#276419"
                        ]
                      ],
                      "sequential": [
                        [
                          0,
                          "#0d0887"
                        ],
                        [
                          0.1111111111111111,
                          "#46039f"
                        ],
                        [
                          0.2222222222222222,
                          "#7201a8"
                        ],
                        [
                          0.3333333333333333,
                          "#9c179e"
                        ],
                        [
                          0.4444444444444444,
                          "#bd3786"
                        ],
                        [
                          0.5555555555555556,
                          "#d8576b"
                        ],
                        [
                          0.6666666666666666,
                          "#ed7953"
                        ],
                        [
                          0.7777777777777778,
                          "#fb9f3a"
                        ],
                        [
                          0.8888888888888888,
                          "#fdca26"
                        ],
                        [
                          1,
                          "#f0f921"
                        ]
                      ],
                      "sequentialminus": [
                        [
                          0,
                          "#0d0887"
                        ],
                        [
                          0.1111111111111111,
                          "#46039f"
                        ],
                        [
                          0.2222222222222222,
                          "#7201a8"
                        ],
                        [
                          0.3333333333333333,
                          "#9c179e"
                        ],
                        [
                          0.4444444444444444,
                          "#bd3786"
                        ],
                        [
                          0.5555555555555556,
                          "#d8576b"
                        ],
                        [
                          0.6666666666666666,
                          "#ed7953"
                        ],
                        [
                          0.7777777777777778,
                          "#fb9f3a"
                        ],
                        [
                          0.8888888888888888,
                          "#fdca26"
                        ],
                        [
                          1,
                          "#f0f921"
                        ]
                      ]
                    },
                    "colorway": [
                      "#636efa",
                      "#EF553B",
                      "#00cc96",
                      "#ab63fa",
                      "#FFA15A",
                      "#19d3f3",
                      "#FF6692",
                      "#B6E880",
                      "#FF97FF",
                      "#FECB52"
                    ],
                    "font": {
                      "color": "#2a3f5f"
                    },
                    "geo": {
                      "bgcolor": "white",
                      "lakecolor": "white",
                      "landcolor": "#E5ECF6",
                      "showlakes": true,
                      "showland": true,
                      "subunitcolor": "white"
                    },
                    "hoverlabel": {
                      "align": "left"
                    },
                    "hovermode": "closest",
                    "mapbox": {
                      "style": "light"
                    },
                    "paper_bgcolor": "white",
                    "plot_bgcolor": "#E5ECF6",
                    "polar": {
                      "angularaxis": {
                        "gridcolor": "white",
                        "linecolor": "white",
                        "ticks": ""
                      },
                      "bgcolor": "#E5ECF6",
                      "radialaxis": {
                        "gridcolor": "white",
                        "linecolor": "white",
                        "ticks": ""
                      }
                    },
                    "scene": {
                      "xaxis": {
                        "backgroundcolor": "#E5ECF6",
                        "gridcolor": "white",
                        "gridwidth": 2,
                        "linecolor": "white",
                        "showbackground": true,
                        "ticks": "",
                        "zerolinecolor": "white"
                      },
                      "yaxis": {
                        "backgroundcolor": "#E5ECF6",
                        "gridcolor": "white",
                        "gridwidth": 2,
                        "linecolor": "white",
                        "showbackground": true,
                        "ticks": "",
                        "zerolinecolor": "white"
                      },
                      "zaxis": {
                        "backgroundcolor": "#E5ECF6",
                        "gridcolor": "white",
                        "gridwidth": 2,
                        "linecolor": "white",
                        "showbackground": true,
                        "ticks": "",
                        "zerolinecolor": "white"
                      }
                    },
                    "shapedefaults": {
                      "line": {
                        "color": "#2a3f5f"
                      }
                    },
                    "ternary": {
                      "aaxis": {
                        "gridcolor": "white",
                        "linecolor": "white",
                        "ticks": ""
                      },
                      "baxis": {
                        "gridcolor": "white",
                        "linecolor": "white",
                        "ticks": ""
                      },
                      "bgcolor": "#E5ECF6",
                      "caxis": {
                        "gridcolor": "white",
                        "linecolor": "white",
                        "ticks": ""
                      }
                    },
                    "title": {
                      "x": 0.05
                    },
                    "xaxis": {
                      "automargin": true,
                      "gridcolor": "white",
                      "linecolor": "white",
                      "ticks": "",
                      "title": {
                        "standoff": 15
                      },
                      "zerolinecolor": "white",
                      "zerolinewidth": 2
                    },
                    "yaxis": {
                      "automargin": true,
                      "gridcolor": "white",
                      "linecolor": "white",
                      "ticks": "",
                      "title": {
                        "standoff": 15
                      },
                      "zerolinecolor": "white",
                      "zerolinewidth": 2
                    }
                  }
                },
                "title": {
                  "text": "Comparación de Precios Reales vs Precios Predichos (Regresión Lineal)"
                },
                "xaxis": {
                  "anchor": "y",
                  "domain": [
                    0,
                    1
                  ],
                  "title": {
                    "text": "Precio Real"
                  }
                },
                "yaxis": {
                  "anchor": "x",
                  "domain": [
                    0,
                    1
                  ],
                  "title": {
                    "text": "Precio Predicho"
                  }
                }
              }
            }
          },
          "metadata": {},
          "output_type": "display_data"
        }
      ],
      "source": [
        "import plotly.express as px\n",
        "\n",
        "# Obtener las predicciones y los valores verdaderos\n",
        "predicciones = []\n",
        "observados = []\n",
        "\n",
        "for train_index, test_index in ps.split():\n",
        "    X_train, X_test = X.iloc[train_index], X.iloc[test_index]\n",
        "    y_train, y_test = y.iloc[train_index], y.iloc[test_index]\n",
        "    modelo.fit(X_train, y_train)\n",
        "    y_pred = modelo.predict(X_test)\n",
        "    predicciones.extend(y_pred)\n",
        "    observados.extend(y_test)\n",
        "\n",
        "# Crear un DataFrame con los precios reales, predichos y el nombre del concierto (u otra categoría si aplica)\n",
        "df = pd.DataFrame({'Precio Real': observados, 'Precio Predicho': predicciones})\n",
        "\n",
        "# Crear un scatter plot interactivo con Plotly\n",
        "fig = px.scatter(df, x='Precio Real', y='Precio Predicho',\n",
        "                 title='Comparación de Precios Reales vs Precios Predichos (Regresión Lineal)',\n",
        "                 labels={'Precio Real': 'Precio Real', 'Precio Predicho': 'Precio Predicho'})\n",
        "\n",
        "# Agregar una línea diagonal que representa la igualdad entre los precios reales y predichos\n",
        "fig.add_shape(type='line',\n",
        "              x0=df['Precio Real'].min(), y0=df['Precio Real'].min(),\n",
        "              x1=df['Precio Real'].max(), y1=df['Precio Real'].max(),\n",
        "              line=dict(color='red', width=2, dash='dash'))\n",
        "\n",
        "# Mostrar el scatter plot interactivo\n",
        "fig.show()"
      ]
    },
    {
      "cell_type": "markdown",
      "metadata": {
        "id": "PvRSx0WNpyB1"
      },
      "source": [
        "A diferencia de los precios máximos, los precios mínimos parecen ser más homogéneos y por eso los errores promedio no sufren tanto ni son tan elevados, pues no hay muchos casos de valores atípicos en los datos que eleven estos errores tantísimo."
      ]
    },
    {
      "cell_type": "markdown",
      "metadata": {
        "id": "nYjbO54GpyB1"
      },
      "source": [
        "Como último paso, vamos a probar a hacer el modelo base usando solo las variables numéricas, para decidir si tiene sentido utilizar todas las variables o solo las numéricas."
      ]
    },
    {
      "cell_type": "code",
      "execution_count": 12,
      "metadata": {
        "colab": {
          "base_uri": "https://localhost:8080/",
          "height": 423
        },
        "id": "5mKLfdsrpyB1",
        "outputId": "502cbc99-ef30-4a32-b8ed-b412351edda1"
      },
      "outputs": [
        {
          "data": {
            "text/html": [
              "<div>\n",
              "<style scoped>\n",
              "    .dataframe tbody tr th:only-of-type {\n",
              "        vertical-align: middle;\n",
              "    }\n",
              "\n",
              "    .dataframe tbody tr th {\n",
              "        vertical-align: top;\n",
              "    }\n",
              "\n",
              "    .dataframe thead th {\n",
              "        text-align: right;\n",
              "    }\n",
              "</style>\n",
              "<table border=\"1\" class=\"dataframe\">\n",
              "  <thead>\n",
              "    <tr style=\"text-align: right;\">\n",
              "      <th></th>\n",
              "      <th>num_links</th>\n",
              "      <th>seguidoresSpotify</th>\n",
              "      <th>popularidad</th>\n",
              "      <th>subsYT</th>\n",
              "      <th>NumGeneros</th>\n",
              "      <th>peso_promotor</th>\n",
              "      <th>conciertos_del_artista_en_ciudad</th>\n",
              "      <th>dias_Venta</th>\n",
              "      <th>dias_desdeFinVenta</th>\n",
              "      <th>num_noches</th>\n",
              "    </tr>\n",
              "  </thead>\n",
              "  <tbody>\n",
              "    <tr>\n",
              "      <th>0</th>\n",
              "      <td>1</td>\n",
              "      <td>4.564084e+06</td>\n",
              "      <td>60.904615</td>\n",
              "      <td>1.716398e+06</td>\n",
              "      <td>1</td>\n",
              "      <td>22</td>\n",
              "      <td>2.0</td>\n",
              "      <td>85</td>\n",
              "      <td>0</td>\n",
              "      <td>1</td>\n",
              "    </tr>\n",
              "    <tr>\n",
              "      <th>1</th>\n",
              "      <td>1</td>\n",
              "      <td>4.564084e+06</td>\n",
              "      <td>60.904615</td>\n",
              "      <td>1.716398e+06</td>\n",
              "      <td>1</td>\n",
              "      <td>22</td>\n",
              "      <td>2.0</td>\n",
              "      <td>85</td>\n",
              "      <td>0</td>\n",
              "      <td>1</td>\n",
              "    </tr>\n",
              "    <tr>\n",
              "      <th>2</th>\n",
              "      <td>10</td>\n",
              "      <td>2.797956e+07</td>\n",
              "      <td>82.000000</td>\n",
              "      <td>1.716398e+06</td>\n",
              "      <td>3</td>\n",
              "      <td>85</td>\n",
              "      <td>4.0</td>\n",
              "      <td>115</td>\n",
              "      <td>0</td>\n",
              "      <td>1</td>\n",
              "    </tr>\n",
              "    <tr>\n",
              "      <th>3</th>\n",
              "      <td>10</td>\n",
              "      <td>2.797956e+07</td>\n",
              "      <td>82.000000</td>\n",
              "      <td>1.716398e+06</td>\n",
              "      <td>3</td>\n",
              "      <td>85</td>\n",
              "      <td>4.0</td>\n",
              "      <td>103</td>\n",
              "      <td>0</td>\n",
              "      <td>1</td>\n",
              "    </tr>\n",
              "    <tr>\n",
              "      <th>4</th>\n",
              "      <td>10</td>\n",
              "      <td>2.797956e+07</td>\n",
              "      <td>82.000000</td>\n",
              "      <td>1.716398e+06</td>\n",
              "      <td>3</td>\n",
              "      <td>85</td>\n",
              "      <td>4.0</td>\n",
              "      <td>288</td>\n",
              "      <td>0</td>\n",
              "      <td>1</td>\n",
              "    </tr>\n",
              "    <tr>\n",
              "      <th>...</th>\n",
              "      <td>...</td>\n",
              "      <td>...</td>\n",
              "      <td>...</td>\n",
              "      <td>...</td>\n",
              "      <td>...</td>\n",
              "      <td>...</td>\n",
              "      <td>...</td>\n",
              "      <td>...</td>\n",
              "      <td>...</td>\n",
              "      <td>...</td>\n",
              "    </tr>\n",
              "    <tr>\n",
              "      <th>489</th>\n",
              "      <td>0</td>\n",
              "      <td>4.564084e+06</td>\n",
              "      <td>60.904615</td>\n",
              "      <td>1.716398e+06</td>\n",
              "      <td>1</td>\n",
              "      <td>3</td>\n",
              "      <td>1.0</td>\n",
              "      <td>176</td>\n",
              "      <td>0</td>\n",
              "      <td>1</td>\n",
              "    </tr>\n",
              "    <tr>\n",
              "      <th>490</th>\n",
              "      <td>1</td>\n",
              "      <td>4.564084e+06</td>\n",
              "      <td>60.904615</td>\n",
              "      <td>1.716398e+06</td>\n",
              "      <td>1</td>\n",
              "      <td>8</td>\n",
              "      <td>1.0</td>\n",
              "      <td>102</td>\n",
              "      <td>0</td>\n",
              "      <td>1</td>\n",
              "    </tr>\n",
              "    <tr>\n",
              "      <th>491</th>\n",
              "      <td>0</td>\n",
              "      <td>4.564084e+06</td>\n",
              "      <td>60.904615</td>\n",
              "      <td>1.716398e+06</td>\n",
              "      <td>1</td>\n",
              "      <td>2</td>\n",
              "      <td>1.0</td>\n",
              "      <td>291</td>\n",
              "      <td>0</td>\n",
              "      <td>1</td>\n",
              "    </tr>\n",
              "    <tr>\n",
              "      <th>492</th>\n",
              "      <td>0</td>\n",
              "      <td>4.564084e+06</td>\n",
              "      <td>60.904615</td>\n",
              "      <td>1.716398e+06</td>\n",
              "      <td>1</td>\n",
              "      <td>2</td>\n",
              "      <td>1.0</td>\n",
              "      <td>266</td>\n",
              "      <td>0</td>\n",
              "      <td>1</td>\n",
              "    </tr>\n",
              "    <tr>\n",
              "      <th>493</th>\n",
              "      <td>0</td>\n",
              "      <td>4.564084e+06</td>\n",
              "      <td>60.904615</td>\n",
              "      <td>1.716398e+06</td>\n",
              "      <td>1</td>\n",
              "      <td>65</td>\n",
              "      <td>1.0</td>\n",
              "      <td>154</td>\n",
              "      <td>0</td>\n",
              "      <td>1</td>\n",
              "    </tr>\n",
              "  </tbody>\n",
              "</table>\n",
              "<p>494 rows × 10 columns</p>\n",
              "</div>"
            ],
            "text/plain": [
              "     num_links  seguidoresSpotify  popularidad        subsYT  NumGeneros  \\\n",
              "0            1       4.564084e+06    60.904615  1.716398e+06           1   \n",
              "1            1       4.564084e+06    60.904615  1.716398e+06           1   \n",
              "2           10       2.797956e+07    82.000000  1.716398e+06           3   \n",
              "3           10       2.797956e+07    82.000000  1.716398e+06           3   \n",
              "4           10       2.797956e+07    82.000000  1.716398e+06           3   \n",
              "..         ...                ...          ...           ...         ...   \n",
              "489          0       4.564084e+06    60.904615  1.716398e+06           1   \n",
              "490          1       4.564084e+06    60.904615  1.716398e+06           1   \n",
              "491          0       4.564084e+06    60.904615  1.716398e+06           1   \n",
              "492          0       4.564084e+06    60.904615  1.716398e+06           1   \n",
              "493          0       4.564084e+06    60.904615  1.716398e+06           1   \n",
              "\n",
              "     peso_promotor  conciertos_del_artista_en_ciudad  dias_Venta  \\\n",
              "0               22                               2.0          85   \n",
              "1               22                               2.0          85   \n",
              "2               85                               4.0         115   \n",
              "3               85                               4.0         103   \n",
              "4               85                               4.0         288   \n",
              "..             ...                               ...         ...   \n",
              "489              3                               1.0         176   \n",
              "490              8                               1.0         102   \n",
              "491              2                               1.0         291   \n",
              "492              2                               1.0         266   \n",
              "493             65                               1.0         154   \n",
              "\n",
              "     dias_desdeFinVenta  num_noches  \n",
              "0                     0           1  \n",
              "1                     0           1  \n",
              "2                     0           1  \n",
              "3                     0           1  \n",
              "4                     0           1  \n",
              "..                  ...         ...  \n",
              "489                   0           1  \n",
              "490                   0           1  \n",
              "491                   0           1  \n",
              "492                   0           1  \n",
              "493                   0           1  \n",
              "\n",
              "[494 rows x 10 columns]"
            ]
          },
          "execution_count": 12,
          "metadata": {},
          "output_type": "execute_result"
        }
      ],
      "source": [
        "X_numericas = X[columnas_a_escalar]\n",
        "X_numericas\n"
      ]
    },
    {
      "cell_type": "code",
      "execution_count": 13,
      "metadata": {
        "colab": {
          "base_uri": "https://localhost:8080/",
          "height": 1000
        },
        "id": "FDP74cgi_W8q",
        "outputId": "bce91426-b954-4b62-c045-311ba78266aa"
      },
      "outputs": [
        {
          "name": "stdout",
          "output_type": "stream",
          "text": [
            "Tiempo de ejecución: 0.04876232147216797 segundos\n",
            "MAPE scores por iteración (entrenamiento): [0.30040954 0.29803259 0.28445095 0.27809663]\n",
            "MAPE scores por iteración (validación): [0.31724374 0.36581654 0.26168223 0.37525309]\n",
            "\n",
            "MSE scores por iteración (entrenamiento): [206.90292035 213.81963562 161.48404788 161.76849928]\n",
            "MSE scores por iteración (validación): [190.37106955 178.50412706 404.32416887 613.59885216]\n",
            "\n",
            "RMSE scores por iteración (entrenamiento): [14.38412042 14.62257281 12.70763738 12.7188246 ]\n",
            "RMSE scores por iteración (validación): [13.79750229 13.36054367 20.10781363 24.77092756]\n",
            "\n",
            "Promedio de métricas (entrenamiento):\n",
            "  MAPE: 0.2902474268088028\n",
            "  MSE: 185.99377578152703\n",
            "  RMSE: 13.608288805283099\n",
            "\n",
            "Promedio de métricas (validación):\n",
            "  MAPE: 0.3299988989600021\n",
            "  MSE: 346.69955441038366\n",
            "  RMSE: 18.009196786778247\n"
          ]
        },
        {
          "data": {
            "image/png": "[encoded data removed]",
            "text/plain": [
              "<Figure size 1100x384 with 1 Axes>"
            ]
          },
          "metadata": {},
          "output_type": "display_data"
        }
      ],
      "source": [
        "import pandas as pd\n",
        "from sklearn.model_selection import cross_validate, PredefinedSplit\n",
        "from sklearn.metrics import make_scorer, mean_absolute_percentage_error\n",
        "from sklearn.linear_model import LinearRegression\n",
        "import numpy as np\n",
        "import matplotlib.pyplot as plt\n",
        "import time\n",
        "\n",
        "# Tiempo de inicio de la ejecución\n",
        "start_time = time.time()\n",
        "\n",
        "# Definir el modelo\n",
        "modelo = LinearRegression()\n",
        "\n",
        "# Definir las métricas a utilizar\n",
        "scoring = {\n",
        "    'mape': make_scorer(mean_absolute_percentage_error, greater_is_better=False),\n",
        "    'mse': 'neg_mean_squared_error',\n",
        "    'rmse': 'neg_root_mean_squared_error'\n",
        "}\n",
        "\n",
        "# Definir el array test_fold a partir de la columna 'fold'\n",
        "test_fold = datos['fold'].values\n",
        "\n",
        "# Crear el PredefinedSplit\n",
        "ps = PredefinedSplit(test_fold=test_fold)\n",
        "\n",
        "# Realizar la validación cruzada\n",
        "scores = cross_validate(modelo, X_numericas, y, cv=ps, scoring=scoring, return_train_score=True, return_estimator=True)\n",
        "\n",
        "# Tiempo de finalización de la ejecución\n",
        "end_time = time.time()\n",
        "\n",
        "# Calcular el tiempo de ejecución en segundos\n",
        "execution_time = end_time - start_time\n",
        "\n",
        "# Imprimir el tiempo de ejecución\n",
        "print(\"Tiempo de ejecución:\", execution_time, \"segundos\")\n",
        "\n",
        "# Crear una tabla con los resultados\n",
        "resultados = crear_tabla_resultados(scores)\n",
        "\n",
        "# Cargar el modelo en mlflow\n",
        "cargar_modelo_mlflow(modelo, 'MIN_PRICE', 'Modelo base sin escalar solo variables numéricas', resultados, execution_time)\n",
        "\n",
        "# Obtener los resultados de la validación cruzada para cada iteración\n",
        "train_mape_scores = -scores['train_mape']  # Como utilizamos greater_is_better=False, invertimos el signo\n",
        "train_mse_scores = -scores['train_mse']\n",
        "train_rmse_scores = -scores['train_rmse']\n",
        "\n",
        "test_mape_scores = -scores['test_mape']  # Como utilizamos greater_is_better=False, invertimos el signo\n",
        "test_mse_scores = -scores['test_mse']\n",
        "test_rmse_scores = -scores['test_rmse']\n",
        "\n",
        "# Imprimir los resultados para cada iteración\n",
        "print(\"MAPE scores por iteración (entrenamiento):\", train_mape_scores)\n",
        "print(\"MAPE scores por iteración (validación):\", test_mape_scores)\n",
        "\n",
        "print(\"\\nMSE scores por iteración (entrenamiento):\", train_mse_scores)\n",
        "print(\"MSE scores por iteración (validación):\", test_mse_scores)\n",
        "\n",
        "print(\"\\nRMSE scores por iteración (entrenamiento):\", train_rmse_scores)\n",
        "print(\"RMSE scores por iteración (validación):\", test_rmse_scores)\n",
        "\n",
        "# Calcular el promedio de las métricas\n",
        "train_mape_mean = np.mean(train_mape_scores)\n",
        "train_mse_mean = np.mean(train_mse_scores)\n",
        "train_rmse_mean = np.mean(train_rmse_scores)\n",
        "\n",
        "test_mape_mean = np.mean(test_mape_scores)\n",
        "test_mse_mean = np.mean(test_mse_scores)\n",
        "test_rmse_mean = np.mean(test_rmse_scores)\n",
        "\n",
        "# Imprimir los resultados promedio\n",
        "print(\"\\nPromedio de métricas (entrenamiento):\")\n",
        "print(f\"  MAPE: {train_mape_mean}\")\n",
        "print(f\"  MSE: {train_mse_mean}\")\n",
        "print(f\"  RMSE: {train_rmse_mean}\")\n",
        "\n",
        "print(\"\\nPromedio de métricas (validación):\")\n",
        "print(f\"  MAPE: {test_mape_mean}\")\n",
        "print(f\"  MSE: {test_mse_mean}\")\n",
        "print(f\"  RMSE: {test_rmse_mean}\")\n",
        "\n",
        "# Obtener los coeficientes del modelo entrenado en cada iteración\n",
        "all_coefs = [pd.DataFrame({'predictor': X_numericas.columns, 'coef': est.coef_}) for est in scores['estimator']]\n",
        "\n",
        "# Calcular los coeficientes promedio\n",
        "average_coefs = pd.concat(all_coefs).groupby('predictor')['coef'].mean()\n",
        "\n",
        "# Crear la gráfica de barras para los coeficientes promedio\n",
        "fig, ax = plt.subplots(figsize=(11, 3.84))\n",
        "ax.stem(average_coefs.index, average_coefs.values, markerfmt=' ')\n",
        "plt.xticks(rotation=90, ha='right', size=5)\n",
        "ax.set_xlabel('Variable')\n",
        "ax.set_ylabel('Coeficiente')\n",
        "ax.set_title('Coeficientes promedio del modelo')\n",
        "plt.show()\n",
        "\n"
      ]
    },
    {
      "cell_type": "markdown",
      "metadata": {
        "id": "QCTVJ4CVpyB2"
      },
      "source": [
        "| Métrica             | MAPE (entrenamiento) | MAPE (validación) | MSE (entrenamiento) | MSE (validación) | RMSE (entrenamiento) | RMSE (validación) |\n",
        "|---------------------|----------------------|-------------------|---------------------|------------------|----------------------|-------------------|\n",
        "| Iteración 1         | 0.300                | 0.317             | 206.903             | 190.371          | 14.384               | 13.798            |\n",
        "| Iteración 2         | 0.298                | 0.366             | 213.820             | 178.504          | 14.623               | 13.361            |\n",
        "| Iteración 3         | 0.284                | 0.262             | 161.484             | 404.324          | 12.708               | 20.108            |\n",
        "| Iteración 4         | 0.278                | 0.375             | 161.768             | 613.599          | 12.719               | 24.771            |\n",
        "| **Promedio**        | **0.290**            | **0.330**         | **185.994**         | **346.700**      | **13.608**           | **18.009**        |\n",
        "\n",
        "**Tiempo de ejecución**: 0.027643203735351562 segundos"
      ]
    },
    {
      "cell_type": "markdown",
      "metadata": {
        "id": "Q1NkkJD_pyB2"
      },
      "source": [
        "Solo utilizando las variables numéricas, el error promedio en la validación es de 18€ al igual que con todo el conjunto. Sin embargo, vamos a seguir utilizando el conjunto de datos entero para dar solidez al proyecto al usar la misma dimensión de datos para todos los modelos entre las integrantes del grupo de trabajo."
      ]
    },
    {
      "cell_type": "markdown",
      "metadata": {
        "id": "daxBdqWXAPZv"
      },
      "source": [
        "## MODELO BASE ESCALANDO"
      ]
    },
    {
      "cell_type": "markdown",
      "metadata": {
        "id": "auB6tj2JpyB3"
      },
      "source": [
        "Probemos a hacer una primera aproximación del modelo base estandarizado con StandardScaler():"
      ]
    },
    {
      "cell_type": "code",
      "execution_count": 14,
      "metadata": {
        "id": "vH81ubmppyB3",
        "outputId": "075696ed-7c47-4ea2-8bc2-f6ad8825aa87"
      },
      "outputs": [
        {
          "name": "stdout",
          "output_type": "stream",
          "text": [
            "\n",
            "FOLD 0\n",
            "MAPE scores por iteración (entrenamiento): 0.2013660578463389\n",
            "MAPE scores por iteración (validación): 191200195324.56897\n",
            "\n",
            "MSE scores por iteración (entrenamiento): 132.5027838404279\n",
            "MSE scores por iteración (validación): 9.183149218617279e+26\n",
            "\n",
            "RMSE scores por iteración (entrenamiento): 11.510985354887213\n",
            "RMSE scores por iteración (validación): 30303711354580.445\n",
            "\n",
            "FOLD 1\n",
            "MAPE scores por iteración (entrenamiento): 0.1900587690824662\n",
            "MAPE scores por iteración (validación): 42975353649.9058\n",
            "\n",
            "MSE scores por iteración (entrenamiento): 132.33538493240658\n",
            "MSE scores por iteración (validación): 2.2679489170245945e+25\n",
            "\n",
            "RMSE scores por iteración (entrenamiento): 11.503711789348975\n",
            "RMSE scores por iteración (validación): 4762298727531.27\n",
            "\n",
            "FOLD 2\n",
            "MAPE scores por iteración (entrenamiento): 0.18619685269483663\n",
            "MAPE scores por iteración (validación): 91131986758.06798\n",
            "\n",
            "MSE scores por iteración (entrenamiento): 84.1268335326611\n",
            "MSE scores por iteración (validación): 6.803830777914645e+25\n",
            "\n",
            "RMSE scores por iteración (entrenamiento): 9.172068116442501\n",
            "RMSE scores por iteración (validación): 8248533674487.027\n",
            "\n",
            "FOLD 3\n",
            "MAPE scores por iteración (entrenamiento): 0.17946440935240612\n",
            "MAPE scores por iteración (validación): 0.34778106442639195\n",
            "\n",
            "MSE scores por iteración (entrenamiento): 96.77613739552088\n",
            "MSE scores por iteración (validación): 636.9860571572959\n",
            "\n",
            "RMSE scores por iteración (entrenamiento): 9.837486335213933\n",
            "RMSE scores por iteración (validación): 25.23858270896557\n",
            "\n",
            "Promedio de métricas (entrenamiento):\n",
            "  MAPE: 0.18927152224401197\n",
            "  MSE: 111.43528492525411\n",
            "  RMSE: 10.506062898973155\n",
            "\n",
            "Promedio de métricas (validación):\n",
            "  MAPE: 81326883933.22263\n",
            "  MSE: 2.522581797027801e+26\n",
            "  RMSE: 10828635939155.996\n"
          ]
        }
      ],
      "source": [
        "from sklearn.preprocessing import StandardScaler\n",
        "from sklearn.linear_model import LinearRegression\n",
        "from sklearn.metrics import mean_squared_error\n",
        "from sklearn.metrics import mean_absolute_percentage_error\n",
        "import numpy as np\n",
        "\n",
        "# Inicializar el escalador y el modelo\n",
        "scaler = StandardScaler()\n",
        "model = LinearRegression()\n",
        "\n",
        "results = []\n",
        "\n",
        "# Listas para almacenar los resultados de cada iteración\n",
        "train_scores = {'mape': [], 'mse': [], 'rmse': []}\n",
        "test_scores = {'mape': [], 'mse': [], 'rmse': []}\n",
        "\n",
        "# Realizar la validación cruzada manual\n",
        "for fold in range(4):  # Iterar sobre los 4 pliegues\n",
        "\n",
        "    print(f'\\nFOLD {fold}')\n",
        "    # Filtrar los datos para el pliegue actual\n",
        "    X_train = X[datos['fold'] != fold]  # Todas las filas excepto las del pliegue actual\n",
        "    X_test = X[datos['fold'] == fold]   # Solo las filas del pliegue actual\n",
        "    y_train = y[datos['fold'] != fold]\n",
        "    y_test = y[datos['fold'] == fold]\n",
        "\n",
        "    # Seleccionar solo las columnas que deseas escalar\n",
        "    X_train_scaled = X_train.copy()\n",
        "    X_test_scaled = X_test.copy()\n",
        "\n",
        "    # Escalar los datos de entrenamiento\n",
        "    X_train_scaled[columnas_a_escalar] = scaler.fit_transform(X_train_scaled[columnas_a_escalar])\n",
        "\n",
        "    # Aplicar la misma transformación a los datos de prueba\n",
        "    X_test_scaled[columnas_a_escalar] = scaler.transform(X_test_scaled[columnas_a_escalar])\n",
        "\n",
        "    # Entrenar el modelo\n",
        "    model.fit(X_train_scaled, y_train)\n",
        "\n",
        "    # Realizar predicciones en los conjuntos de entrenamiento y prueba\n",
        "    y_train_pred = model.predict(X_train_scaled)\n",
        "    y_test_pred = model.predict(X_test_scaled)\n",
        "\n",
        "    # Calcular métricas de rendimiento en el conjunto de entrenamiento\n",
        "    train_mape = mean_absolute_percentage_error(y_train, y_train_pred)\n",
        "    train_mse = mean_squared_error(y_train, y_train_pred)\n",
        "    train_rmse = np.sqrt(train_mse)\n",
        "\n",
        "    # Calcular métricas de rendimiento en el conjunto de prueba\n",
        "    test_mape = mean_absolute_percentage_error(y_test, y_test_pred)\n",
        "    test_mse = mean_squared_error(y_test, y_test_pred)\n",
        "    test_rmse = np.sqrt(test_mse)\n",
        "\n",
        "    print(\"MAPE scores por iteración (entrenamiento):\", train_mape)\n",
        "    print(\"MAPE scores por iteración (validación):\", test_mape)\n",
        "\n",
        "    print(\"\\nMSE scores por iteración (entrenamiento):\", train_mse)\n",
        "    print(\"MSE scores por iteración (validación):\", test_mse)\n",
        "\n",
        "    print(\"\\nRMSE scores por iteración (entrenamiento):\", train_rmse)\n",
        "    print(\"RMSE scores por iteración (validación):\", test_rmse)\n",
        "\n",
        "    # Guardar los resultados de la iteración\n",
        "    train_scores['mape'].append(train_mape)\n",
        "    train_scores['mse'].append(train_mse)\n",
        "    train_scores['rmse'].append(train_rmse)\n",
        "    test_scores['mape'].append(test_mape)\n",
        "    test_scores['mse'].append(test_mse)\n",
        "    test_scores['rmse'].append(test_rmse)\n",
        "\n",
        "    results.append({\n",
        "        'Test Fold': fold,\n",
        "        'MAPE Train': train_mape,\n",
        "        'RMSE Train': train_rmse,\n",
        "        'MSE Train': train_mse,\n",
        "        'MAPE Val': test_mape,\n",
        "        'RMSE Val': test_rmse,\n",
        "        'MSE Val': test_mse\n",
        "    })\n",
        "\n",
        "# Calcular el promedio de las métricas\n",
        "train_mape_mean = np.mean(train_scores['mape'])\n",
        "train_mse_mean = np.mean(train_scores['mse'])\n",
        "train_rmse_mean = np.mean(train_scores['rmse'])\n",
        "\n",
        "test_mape_mean = np.mean(test_scores['mape'])\n",
        "test_mse_mean = np.mean(test_scores['mse'])\n",
        "test_rmse_mean = np.mean(test_scores['rmse'])\n",
        "\n",
        "# Imprimir los resultados promedio\n",
        "print(\"\\nPromedio de métricas (entrenamiento):\")\n",
        "print(f\"  MAPE: {train_mape_mean}\")\n",
        "print(f\"  MSE: {train_mse_mean}\")\n",
        "print(f\"  RMSE: {train_rmse_mean}\")\n",
        "\n",
        "print(\"\\nPromedio de métricas (validación):\")\n",
        "print(f\"  MAPE: {test_mape_mean}\")\n",
        "print(f\"  MSE: {test_mse_mean}\")\n",
        "print(f\"  RMSE: {test_rmse_mean}\")\n",
        "\n",
        "results_df = pd.DataFrame(results)\n",
        "\n",
        "# Calcular el promedio de las métricas y agregar al DataFrame\n",
        "averages = results_df.mean(axis=0).to_dict()\n",
        "averages['Test Fold'] = 'Promedio'\n",
        "averages_df = pd.DataFrame([averages])\n",
        "\n",
        "# Concatenar los resultados con los promedios\n",
        "results_df = pd.concat([results_df, averages_df], ignore_index=True)\n",
        "\n",
        "# Cargar el modelo en mlflow\n",
        "cargar_modelo_mlflow(modelo, 'MIN_PRICE', 'Modelo base escalado standard solo variables numéricas', resultados, execution_time)\n",
        "\n"
      ]
    },
    {
      "cell_type": "markdown",
      "metadata": {
        "id": "YukH1kjUpyB3"
      },
      "source": [
        "| Métrica | MAPE (entrenamiento) | MAPE (validación) | MSE (entrenamiento) | MSE (validación) | RMSE (entrenamiento) | RMSE (validación) |\n",
        "|------|----------------------|-------------------|---------------------|------------------|----------------------|-------------------|\n",
        "| Iteración 1    | 0.199                | 1.739528335e+11   | 132.294             | 5.336e+26        | 11.502               | 2.310e+13         |\n",
        "| Iteración 2    | 0.190                | 2.622e+10         | 132.405             | 1.114e+25        | 11.507               | 3.337e+12         |\n",
        "| Iteración 3    | 0.186                | 2.803e+08         | 84.027              | 6.425e+20        | 9.167                | 2.535e+10         |\n",
        "| Iteración 4    | 0.179                | 0.348             | 96.776              | 636.986          | 9.837                | 25.239            |\n",
        "| **Promedio**   | **0.189**            | **5.011e+10**     | **111.375**         | **1.362e+26**    | **10.503**           | **6.615e+12**     |\n",
        "\n",
        "**Tiempo de ejecución**: (No proporcionado)\n"
      ]
    },
    {
      "cell_type": "markdown",
      "metadata": {
        "id": "4IrB0sbKpyB3"
      },
      "source": [
        "Los resultados son sospechosamente elevados haciendo la validación cruzada a mano con un bucle (estamos hablando de 13 cifras). Vamos a probar a hacer alguna transformación a ver si logramos alguna mejora.\n",
        "\n",
        "En primer lugar, vamos a probar a hacer un escalado robusto. El StandardScaler es más apropiado cuando las características están normalmente distribuidas y los valores atípicos no son un problema importante, mientras que el RobustScaler es más adecuado cuando se necesite una escala resistente a los valores atípicos o cuando la distribución de las características es muy sesgada.\n",
        "\n",
        "Aquí hay una comparación entre el **RobustScaler** y el StandardScaler:\n",
        "\n",
        "- StandardScaler:\n",
        "\n",
        "    - Estandariza las características eliminando la media y escalando a la varianza unitaria. Calcula la media y la desviación estándar de cada característica y luego escala cada característica restando la media y dividiendo por la desviación estándar.\n",
        "    - Es sensible a los valores atípicos, ya que la media y la desviación estándar pueden verse afectadas por valores extremos.\n",
        "    - Es más apropiado cuando las características se distribuyen normalmente o aproximadamente normalmente, y cuando los valores atípicos no son comunes o no son problemáticos.\n",
        "\n",
        "- RobustScaler:\n",
        "\n",
        "    - Escala las características utilizando estadísticas robustas para evitar verse afectado por valores atípicos. Utiliza la mediana y el rango intercuartil (IQR) en lugar de la media y la desviación estándar.\n",
        "    - Es menos sensible a los valores atípicos en comparación con el StandardScaler.\n",
        "    - Es más adecuado cuando los datos contienen valores atípicos o cuando la distribución de las características es muy sesgada o no normal."
      ]
    },
    {
      "cell_type": "code",
      "execution_count": 15,
      "metadata": {
        "id": "VdW0NhLNpyB4",
        "outputId": "ceee1301-d971-451c-9074-dbb26763c335"
      },
      "outputs": [
        {
          "name": "stdout",
          "output_type": "stream",
          "text": [
            "\n",
            "FOLD 0\n",
            "MAPE scores por iteración (entrenamiento): 0.19918105459051397\n",
            "MAPE scores por iteración (validación): 0.3115959342117489\n",
            "\n",
            "MSE scores por iteración (entrenamiento): 132.28319144249025\n",
            "MSE scores por iteración (validación): 229.78588362945348\n",
            "\n",
            "RMSE scores por iteración (entrenamiento): 11.501443015660698\n",
            "RMSE scores por iteración (validación): 15.158690036723275\n",
            "\n",
            "FOLD 1\n",
            "MAPE scores por iteración (entrenamiento): 0.1900813269388439\n",
            "MAPE scores por iteración (validación): 0.36840426641856927\n",
            "\n",
            "MSE scores por iteración (entrenamiento): 132.33449662273597\n",
            "MSE scores por iteración (validación): 169.23377253896265\n",
            "\n",
            "RMSE scores por iteración (entrenamiento): 11.503673179586421\n",
            "RMSE scores por iteración (validación): 13.008988144316323\n",
            "\n",
            "FOLD 2\n",
            "MAPE scores por iteración (entrenamiento): 0.18580847242638007\n",
            "MAPE scores por iteración (validación): 0.2513121204333164\n",
            "\n",
            "MSE scores por iteración (entrenamiento): 83.94829466934904\n",
            "MSE scores por iteración (validación): 435.29398498563836\n",
            "\n",
            "RMSE scores por iteración (entrenamiento): 9.162330198663932\n",
            "RMSE scores por iteración (validación): 20.86370017484047\n",
            "\n",
            "FOLD 3\n",
            "MAPE scores por iteración (entrenamiento): 0.17946440935240593\n",
            "MAPE scores por iteración (validación): 0.3477810644263936\n",
            "\n",
            "MSE scores por iteración (entrenamiento): 96.77613739552088\n",
            "MSE scores por iteración (validación): 636.986057157309\n",
            "\n",
            "RMSE scores por iteración (entrenamiento): 9.837486335213933\n",
            "RMSE scores por iteración (validación): 25.23858270896583\n",
            "\n",
            "Promedio de métricas (entrenamiento):\n",
            "  MAPE: 0.18863381582703598\n",
            "  MSE: 111.33553003252403\n",
            "  RMSE: 10.501233182281245\n",
            "\n",
            "Promedio de métricas (validación):\n",
            "  MAPE: 0.31977334637250704\n",
            "  MSE: 367.8249245778409\n",
            "  RMSE: 18.567490266211472\n"
          ]
        }
      ],
      "source": [
        "from sklearn.preprocessing import RobustScaler\n",
        "from sklearn.linear_model import LinearRegression\n",
        "from sklearn.metrics import mean_squared_error\n",
        "from sklearn.metrics import mean_absolute_percentage_error\n",
        "import numpy as np\n",
        "\n",
        "# Inicializar el escalador y el modelo\n",
        "scaler = RobustScaler()\n",
        "model = LinearRegression()\n",
        "\n",
        "results = []\n",
        "\n",
        "# Listas para almacenar los resultados de cada iteración\n",
        "train_scores = {'mape': [], 'mse': [], 'rmse': []}\n",
        "test_scores = {'mape': [], 'mse': [], 'rmse': []}\n",
        "\n",
        "# Realizar la validación cruzada manual\n",
        "for fold in range(4):  # Iterar sobre los 4 pliegues\n",
        "\n",
        "    print(f'\\nFOLD {fold}')\n",
        "    # Filtrar los datos para el pliegue actual\n",
        "    X_train = X[datos['fold'] != fold]  # Todas las filas excepto las del pliegue actual\n",
        "    X_test = X[datos['fold'] == fold]   # Solo las filas del pliegue actual\n",
        "    y_train = y[datos['fold'] != fold]\n",
        "    y_test = y[datos['fold'] == fold]\n",
        "\n",
        "    # Seleccionar solo las columnas que deseas escalar\n",
        "    X_train_scaled = X_train.copy()\n",
        "    X_test_scaled = X_test.copy()\n",
        "\n",
        "    # Escalar los datos de entrenamiento\n",
        "    X_train_scaled[columnas_a_escalar] = scaler.fit_transform(X_train_scaled[columnas_a_escalar])\n",
        "\n",
        "    # Aplicar la misma transformación a los datos de prueba\n",
        "    X_test_scaled[columnas_a_escalar] = scaler.transform(X_test_scaled[columnas_a_escalar])\n",
        "\n",
        "    # Entrenar el modelo\n",
        "    model.fit(X_train_scaled, y_train)\n",
        "\n",
        "    # Realizar predicciones en los conjuntos de entrenamiento y prueba\n",
        "    y_train_pred = model.predict(X_train_scaled)\n",
        "    y_test_pred = model.predict(X_test_scaled)\n",
        "\n",
        "    # Calcular métricas de rendimiento en el conjunto de entrenamiento\n",
        "    train_mape = mean_absolute_percentage_error(y_train, y_train_pred)\n",
        "    train_mse = mean_squared_error(y_train, y_train_pred)\n",
        "    train_rmse = np.sqrt(train_mse)\n",
        "\n",
        "    # Calcular métricas de rendimiento en el conjunto de prueba\n",
        "    test_mape = mean_absolute_percentage_error(y_test, y_test_pred)\n",
        "    test_mse = mean_squared_error(y_test, y_test_pred)\n",
        "    test_rmse = np.sqrt(test_mse)\n",
        "\n",
        "    print(\"MAPE scores por iteración (entrenamiento):\", train_mape)\n",
        "    print(\"MAPE scores por iteración (validación):\", test_mape)\n",
        "\n",
        "    print(\"\\nMSE scores por iteración (entrenamiento):\", train_mse)\n",
        "    print(\"MSE scores por iteración (validación):\", test_mse)\n",
        "\n",
        "    print(\"\\nRMSE scores por iteración (entrenamiento):\", train_rmse)\n",
        "    print(\"RMSE scores por iteración (validación):\", test_rmse)\n",
        "\n",
        "    # Guardar los resultados de la iteración\n",
        "    train_scores['mape'].append(train_mape)\n",
        "    train_scores['mse'].append(train_mse)\n",
        "    train_scores['rmse'].append(train_rmse)\n",
        "    test_scores['mape'].append(test_mape)\n",
        "    test_scores['mse'].append(test_mse)\n",
        "    test_scores['rmse'].append(test_rmse)\n",
        "\n",
        "    results.append({\n",
        "        'Test Fold': fold,\n",
        "        'MAPE Train': train_mape,\n",
        "        'RMSE Train': train_rmse,\n",
        "        'MSE Train': train_mse,\n",
        "        'MAPE Val': test_mape,\n",
        "        'RMSE Val': test_rmse,\n",
        "        'MSE Val': test_mse\n",
        "    })\n",
        "\n",
        "# Calcular el promedio de las métricas\n",
        "train_mape_mean = np.mean(train_scores['mape'])\n",
        "train_mse_mean = np.mean(train_scores['mse'])\n",
        "train_rmse_mean = np.mean(train_scores['rmse'])\n",
        "\n",
        "test_mape_mean = np.mean(test_scores['mape'])\n",
        "test_mse_mean = np.mean(test_scores['mse'])\n",
        "test_rmse_mean = np.mean(test_scores['rmse'])\n",
        "\n",
        "# Imprimir los resultados promedio\n",
        "print(\"\\nPromedio de métricas (entrenamiento):\")\n",
        "print(f\"  MAPE: {train_mape_mean}\")\n",
        "print(f\"  MSE: {train_mse_mean}\")\n",
        "print(f\"  RMSE: {train_rmse_mean}\")\n",
        "\n",
        "print(\"\\nPromedio de métricas (validación):\")\n",
        "print(f\"  MAPE: {test_mape_mean}\")\n",
        "print(f\"  MSE: {test_mse_mean}\")\n",
        "print(f\"  RMSE: {test_rmse_mean}\")\n",
        "\n",
        "results_df = pd.DataFrame(results)\n",
        "\n",
        "# Calcular el promedio de las métricas y agregar al DataFrame\n",
        "averages = results_df.mean(axis=0).to_dict()\n",
        "averages['Test Fold'] = 'Promedio'\n",
        "averages_df = pd.DataFrame([averages])\n",
        "\n",
        "# Concatenar los resultados con los promedios\n",
        "results_df = pd.concat([results_df, averages_df], ignore_index=True)\n",
        "\n",
        "# Cargar el modelo en mlflow\n",
        "cargar_modelo_mlflow(modelo, 'MIN_PRICE', 'Modelo base escalado robust solo variables numéricas', resultados, execution_time)\n"
      ]
    },
    {
      "cell_type": "markdown",
      "metadata": {
        "id": "NPCgBaB3pyB4"
      },
      "source": [
        "| Métrica | MAPE (entrenamiento) | MAPE (validación) | MSE (entrenamiento) | MSE (validación) | RMSE (entrenamiento) | RMSE (validación) |\n",
        "|------|----------------------|-------------------|---------------------|------------------|----------------------|-------------------|\n",
        "| Iteración 1    | 0.199                | 0.312             | 132.283             | 229.786          | 11.501               | 15.159            |\n",
        "| Iteración 2    | 0.190                | 0.368             | 132.334             | 169.234          | 11.504               | 13.009            |\n",
        "| Iteración 3    | 0.186                | 0.251             | 83.948              | 435.294          | 9.162                | 20.864            |\n",
        "| Iteración 4    | 0.179                | 0.348             | 96.776              | 636.986          | 9.837                | 25.239            |\n",
        "| **Promedio**   | **0.189**            | **0.320**         | **111.336**         | **367.825**      | **10.501**           | **18.567**        |\n",
        "\n",
        "**Tiempo de ejecución**: (No proporcionado)\n"
      ]
    },
    {
      "cell_type": "markdown",
      "metadata": {
        "id": "_wmBmwHDpyB5"
      },
      "source": [
        "Entre las mejoras que mencionamos que vamos a tratar de hacer, vamos a intentar introducir los conceptos ColumnTransformer y Pipeline (una simplificación del código anterior).\n",
        "\n",
        "En cada iteración de cross validate se hará el fit_transform del escalado con los datos de entrenamiento para aplicarlo (transform) después a los datos de test. Para lograrlo, se crea un objeto Pipeline que permite encadenar el escalado y después el modelo."
      ]
    },
    {
      "cell_type": "code",
      "execution_count": 16,
      "metadata": {
        "id": "trWXZwnXpyB5",
        "outputId": "a1e3fdbd-98dc-4f4a-84d6-73dd42d74a51"
      },
      "outputs": [
        {
          "name": "stdout",
          "output_type": "stream",
          "text": [
            "RMSE Scores: [15.15869004 13.00898814 20.86370017 25.23858271]\n",
            "Average RMSE: 18.56749026621143\n"
          ]
        }
      ],
      "source": [
        "import pandas as pd\n",
        "from sklearn.compose import ColumnTransformer\n",
        "from sklearn.preprocessing import RobustScaler\n",
        "from sklearn.pipeline import Pipeline\n",
        "from sklearn.linear_model import LinearRegression\n",
        "from sklearn.model_selection import cross_val_score, KFold\n",
        "\n",
        "# Crear el ColumnTransformer\n",
        "preprocessor = ColumnTransformer(\n",
        "    transformers=[\n",
        "        ('num', RobustScaler(), columnas_a_escalar)  # Escalar solo las columnas numéricas\n",
        "    ], remainder='passthrough')  # Pasar las demás columnas sin cambios\n",
        "\n",
        "# Crear el pipeline\n",
        "pipeline = Pipeline(steps=[\n",
        "    ('preprocessor', preprocessor),\n",
        "    ('regressor', LinearRegression())\n",
        "])\n",
        "\n",
        "# Definir el array test_fold a partir de la columna 'fold'\n",
        "test_fold = datos['fold'].values\n",
        "\n",
        "# Crear el PredefinedSplit\n",
        "ps = PredefinedSplit(test_fold=test_fold)\n",
        "\n",
        "# Realizar la validación cruzada\n",
        "scores = cross_val_score(pipeline, X, y, cv=ps, scoring='neg_root_mean_squared_error')\n",
        "\n",
        "print(\"RMSE Scores:\", -scores)\n",
        "print(\"Average RMSE:\", -np.mean(scores))\n",
        "\n",
        "# Cargar el modelo en mlflow\n",
        "cargar_modelo_mlflow(modelo, 'MIN_PRICE', 'Modelo base escalado robutso y pipeline solo variables numéricas', scores, execution_time)\n"
      ]
    },
    {
      "cell_type": "markdown",
      "metadata": {
        "id": "xFmf1jULpyB5"
      },
      "source": [
        "Si comparmamos el RMSE entre el escalado robusto sin pipeline y con pipeline:\n",
        "\n",
        "> 18.567490266211408 vs 18.567490266211426\n",
        "\n",
        "Observamos que el error de estos 2 últimos códigos es el mismo."
      ]
    },
    {
      "cell_type": "markdown",
      "metadata": {
        "id": "BPEtJ-d7pyB5"
      },
      "source": [
        "----------------------------\n",
        "#### ¡¡ La fase de búsqueda queda inutilizada !!\n",
        "Ahora utilizaremos las funciones de búsqueda para buscar la mejor combinación de valores entre los distintos hiperparámetros del modelo."
      ]
    },
    {
      "cell_type": "markdown",
      "metadata": {
        "id": "HfSPKL6-AkWY"
      },
      "source": [
        "## CON PARÁMETROS Y GRIDSEARCH"
      ]
    },
    {
      "cell_type": "markdown",
      "metadata": {
        "id": "qZu-g7YvpyB6"
      },
      "source": [
        "La búsqueda en rejilla (grid search) es exhaustiva:\n",
        "- Prueba todas las combinaciones posibles de hiperparámetros en la\n",
        "cuadrícula definida\n",
        "- Requiere definir los valores a evaluar para cada hiperparámetro\n",
        "- En los parámetros continuos se puede poner el rango a explorar y el\n",
        "incremento entre dos valores consecutivos\n",
        "- Encuentra la mejor combinación de todas las evaluadas\n",
        "- Pero puede dejar regiones interesantes sin explorar bien\n",
        "- Escala muy mal si consideramos muchos hiperparámetros con muchos\n",
        "valores a explorar"
      ]
    },
    {
      "cell_type": "code",
      "execution_count": 1,
      "metadata": {
        "colab": {
          "base_uri": "https://localhost:8080/"
        },
        "id": "i7d53Sw0TQ06",
        "outputId": "7532ab44-8bf7-45a4-9502-e7274a85b742"
      },
      "outputs": [
        {
          "data": {
            "text/plain": [
              "'import pandas as pd\\nfrom sklearn.linear_model import LinearRegression\\nfrom sklearn.model_selection import PredefinedSplit, GridSearchCV\\nfrom sklearn.metrics import mean_absolute_percentage_error, make_scorer\\nimport time\\n\\n# Definir la función para el cálculo del MAPE\\ndef mape_scorer(y_true, y_pred):\\n    return mean_absolute_percentage_error(y_true, y_pred)\\n\\n# Definir los scorers\\nscoring = {\\n    \\'neg_mean_squared_error\\': \\'neg_mean_squared_error\\',  # MSE\\n    \\'neg_root_mean_squared_error\\': \\'neg_root_mean_squared_error\\',  # RMSE\\n    \\'mape\\': make_scorer(mape_scorer, greater_is_better=False)  # MAPE\\n}\\n\\n# Definir el array test_fold a partir de la columna \\'folds\\'\\ntest_fold = datos[\\'fold\\'].values\\n\\n# Crear el PredefinedSplit\\nps = PredefinedSplit(test_fold=test_fold)\\n\\n# Definir los parámetros a buscar\\nparam_grid = {\\n    \\'fit_intercept\\': [True, False],\\n}\\n\\n# Tiempo de inicio de la ejecución\\nstart_time = time.time()\\n\\n# Crear el objeto GridSearchCV con return_train_score=True\\ngrid_search = GridSearchCV(estimator=LinearRegression(), param_grid=param_grid, cv=ps, scoring=scoring, refit=\\'neg_mean_squared_error\\', return_train_score=True)\\n\\n# Entrenar el modelo con GridSearchCV\\ngrid_search.fit(X, y)\\n\\n# Obtener los resultados de la validación cruzada\\ncv_results = pd.DataFrame(grid_search.cv_results_)\\n\\n# Calcular tiempo de ejecución\\nend_time = time.time()\\nexecution_time = end_time - start_time\\n\\n# Imprimir los resultados de cada iteración\\nfor i in range(4):  # Se itera sobre los pliegues\\n    print(f\"Pliegue {i + 1}:\")\\n    print(\"MSE (test):\")\\n    print(-cv_results[f\"split{i}_test_neg_mean_squared_error\"])\\n    print(\"RMSE (test):\")\\n    print(-cv_results[f\"split{i}_test_neg_root_mean_squared_error\"])\\n    print(\"MAPE (test):\")\\n    print(-cv_results[f\"split{i}_test_mape\"])\\n    print(\"MSE (train):\")\\n    print(-cv_results[f\"split{i}_train_neg_mean_squared_error\"])\\n    print(\"RMSE (train):\")\\n    print(-cv_results[f\"split{i}_train_neg_root_mean_squared_error\"])\\n    print(\"MAPE (train):\")\\n    print(-cv_results[f\"split{i}_train_mape\"])\\n\\n# Identificar el mejor parámetro para cada split\\nbest_params_per_split = {}\\nfor split in range(4):\\n    split_results = cv_results[cv_results[f\\'split{split}_test_neg_mean_squared_error\\'] == cv_results[f\\'split{split}_test_neg_mean_squared_error\\'].min()]\\n    best_params_per_split[split] = split_results[\\'param_fit_intercept\\'].iloc[0]\\n    print(f\"Mejor parámetro para el pliegue {split + 1}: {best_params_per_split[split]}\")\\n\\n# Calcular las métricas promedio de train\\nmean_mse_train = -cv_results[\\'mean_train_neg_mean_squared_error\\']\\nmean_rmse_train = -cv_results[\\'mean_train_neg_root_mean_squared_error\\']\\nmean_mape_train = -cv_results[\\'mean_train_mape\\']\\n\\n# Calcular las métricas promedio de val\\nmean_mse = -cv_results[\\'mean_test_neg_mean_squared_error\\']\\nmean_rmse = -cv_results[\\'mean_test_neg_root_mean_squared_error\\']\\nmean_mape = -cv_results[\\'mean_test_mape\\']\\n\\n# Imprimir las métricas promedio\\nprint(\"\\nMétricas promedio:\")\\nprint(\"MSE promedio (train):\", mean_mse_train, \" ,  MSE promedio (val):\", mean_mse)\\nprint(\"RMSE promedio (train):\", mean_rmse_train, \" ,  RMSE promedio (val):\", mean_rmse)\\nprint(\"MAPE promedio (train):\", mean_mape_train, \" ,  MAPE promedio (val):\", mean_mape)\\n\\n# Imprimir el tiempo de ejecución\\nprint(\"Tiempo de ejecución:\", execution_time, \"segundos\")\\n\\n\\n# Cargar el modelo en mlflow\\ncargar_modelo_mlflow(modelo, \\'MIN_PRICE\\', \\'Modelo gridSearch\\', cv_results, execution_time)'"
            ]
          },
          "execution_count": 1,
          "metadata": {},
          "output_type": "execute_result"
        }
      ],
      "source": [
        "\"\"\"import pandas as pd\n",
        "from sklearn.linear_model import LinearRegression\n",
        "from sklearn.model_selection import PredefinedSplit, GridSearchCV\n",
        "from sklearn.metrics import mean_absolute_percentage_error, make_scorer\n",
        "import time\n",
        "\n",
        "# Definir la función para el cálculo del MAPE\n",
        "def mape_scorer(y_true, y_pred):\n",
        "    return mean_absolute_percentage_error(y_true, y_pred)\n",
        "\n",
        "# Definir los scorers\n",
        "scoring = {\n",
        "    'neg_mean_squared_error': 'neg_mean_squared_error',  # MSE\n",
        "    'neg_root_mean_squared_error': 'neg_root_mean_squared_error',  # RMSE\n",
        "    'mape': make_scorer(mape_scorer, greater_is_better=False)  # MAPE\n",
        "}\n",
        "\n",
        "# Definir el array test_fold a partir de la columna 'folds'\n",
        "test_fold = datos['fold'].values\n",
        "\n",
        "# Crear el PredefinedSplit\n",
        "ps = PredefinedSplit(test_fold=test_fold)\n",
        "\n",
        "# Definir los parámetros a buscar\n",
        "param_grid = {\n",
        "    'fit_intercept': [True, False],\n",
        "}\n",
        "\n",
        "# Tiempo de inicio de la ejecución\n",
        "start_time = time.time()\n",
        "\n",
        "# Crear el objeto GridSearchCV con return_train_score=True\n",
        "grid_search = GridSearchCV(estimator=LinearRegression(), param_grid=param_grid, cv=ps, scoring=scoring, refit='neg_mean_squared_error', return_train_score=True)\n",
        "\n",
        "# Entrenar el modelo con GridSearchCV\n",
        "grid_search.fit(X, y)\n",
        "\n",
        "# Obtener los resultados de la validación cruzada\n",
        "cv_results = pd.DataFrame(grid_search.cv_results_)\n",
        "\n",
        "# Calcular tiempo de ejecución\n",
        "end_time = time.time()\n",
        "execution_time = end_time - start_time\n",
        "\n",
        "# Imprimir los resultados de cada iteración\n",
        "for i in range(4):  # Se itera sobre los pliegues\n",
        "    print(f\"Pliegue {i + 1}:\")\n",
        "    print(\"MSE (test):\")\n",
        "    print(-cv_results[f\"split{i}_test_neg_mean_squared_error\"])\n",
        "    print(\"RMSE (test):\")\n",
        "    print(-cv_results[f\"split{i}_test_neg_root_mean_squared_error\"])\n",
        "    print(\"MAPE (test):\")\n",
        "    print(-cv_results[f\"split{i}_test_mape\"])\n",
        "    print(\"MSE (train):\")\n",
        "    print(-cv_results[f\"split{i}_train_neg_mean_squared_error\"])\n",
        "    print(\"RMSE (train):\")\n",
        "    print(-cv_results[f\"split{i}_train_neg_root_mean_squared_error\"])\n",
        "    print(\"MAPE (train):\")\n",
        "    print(-cv_results[f\"split{i}_train_mape\"])\n",
        "\n",
        "# Identificar el mejor parámetro para cada split\n",
        "best_params_per_split = {}\n",
        "for split in range(4):\n",
        "    split_results = cv_results[cv_results[f'split{split}_test_neg_mean_squared_error'] == cv_results[f'split{split}_test_neg_mean_squared_error'].min()]\n",
        "    best_params_per_split[split] = split_results['param_fit_intercept'].iloc[0]\n",
        "    print(f\"Mejor parámetro para el pliegue {split + 1}: {best_params_per_split[split]}\")\n",
        "\n",
        "# Calcular las métricas promedio de train\n",
        "mean_mse_train = -cv_results['mean_train_neg_mean_squared_error']\n",
        "mean_rmse_train = -cv_results['mean_train_neg_root_mean_squared_error']\n",
        "mean_mape_train = -cv_results['mean_train_mape']\n",
        "\n",
        "# Calcular las métricas promedio de val\n",
        "mean_mse = -cv_results['mean_test_neg_mean_squared_error']\n",
        "mean_rmse = -cv_results['mean_test_neg_root_mean_squared_error']\n",
        "mean_mape = -cv_results['mean_test_mape']\n",
        "\n",
        "# Imprimir las métricas promedio\n",
        "print(\"\\nMétricas promedio:\")\n",
        "print(\"MSE promedio (train):\", mean_mse_train, \" ,  MSE promedio (val):\", mean_mse)\n",
        "print(\"RMSE promedio (train):\", mean_rmse_train, \" ,  RMSE promedio (val):\", mean_rmse)\n",
        "print(\"MAPE promedio (train):\", mean_mape_train, \" ,  MAPE promedio (val):\", mean_mape)\n",
        "\n",
        "# Imprimir el tiempo de ejecución\n",
        "print(\"Tiempo de ejecución:\", execution_time, \"segundos\")\n",
        "\n",
        "\n",
        "# Cargar el modelo en mlflow\n",
        "cargar_modelo_mlflow(modelo, 'MIN_PRICE', 'Modelo gridSearch', cv_results, execution_time)\"\"\"\n"
      ]
    },
    {
      "cell_type": "markdown",
      "metadata": {
        "id": "f4CnLVx-Ao3b"
      },
      "source": [
        "## CON PARÁMETROS Y RANDOMSEARCH"
      ]
    },
    {
      "cell_type": "markdown",
      "metadata": {
        "id": "-sIS8KKxpyB7"
      },
      "source": [
        "La búsqueda aleatoria (random search) explora combinaciones de hiperparámetros de manera aleatoria dentro de un rango predefinido para cada hiperparámetro durante un número fijo de iteraciones:\n",
        "- Elige la mejor combinación según la métrica de evaluación\n",
        "- Puede encontrar una buena combinación de hiperparámetros en menos tiempo y con menos exploraciones\n",
        "    - O puede que no\n",
        "- El resultado puede variar de una ejecución a otra debido a la aleatoriedad inherente al método"
      ]
    },
    {
      "cell_type": "code",
      "execution_count": 2,
      "metadata": {
        "colab": {
          "base_uri": "https://localhost:8080/"
        },
        "id": "jqvmj4zyOyAW",
        "outputId": "eec0068f-f022-4a5e-ae5e-9f6fc5d8cd11"
      },
      "outputs": [
        {
          "data": {
            "text/plain": [
              "'import pandas as pd\\nfrom sklearn.linear_model import LinearRegression\\nfrom sklearn.model_selection import PredefinedSplit, RandomizedSearchCV\\nfrom sklearn.metrics import mean_absolute_percentage_error, make_scorer\\nimport numpy as np\\nimport time\\n\\n# Definir la función para el cálculo del MAPE\\ndef mape_scorer(y_true, y_pred):\\n    return mean_absolute_percentage_error(y_true, y_pred)\\n\\n# Definir los scorers\\nscoring = {\\n    \\'neg_mean_squared_error\\': \\'neg_mean_squared_error\\',  # MSE\\n    \\'neg_root_mean_squared_error\\': \\'neg_root_mean_squared_error\\',  # RMSE\\n    \\'mape\\': make_scorer(mape_scorer, greater_is_better=False)  # MAPE\\n}\\n\\n# Definir el array test_fold a partir de la columna \\'folds\\'\\ntest_fold = datos[\\'fold\\'].values\\n\\n# Crear el PredefinedSplit\\nps = PredefinedSplit(test_fold=test_fold)\\n\\n# Definir los parámetros a buscar\\nparam_grid = {\\n    \\'fit_intercept\\': [True, False],\\n}\\n\\n# Inicializar el modelo de regresión lineal\\nbase_model = LinearRegression()\\n\\n# Crear el objeto RandomizedSearchCV\\nrandom_search = RandomizedSearchCV(estimator=base_model, param_distributions=param_grid, cv=ps, scoring=scoring, refit=\\'neg_mean_squared_error\\', return_train_score=True)\\n\\n# Tiempo de ejecución\\nstart_time = time.time()\\n\\n# Entrenar el modelo con RandomizedSearchCV\\nrandom_search.fit(X, y)\\n\\n# Obtener los resultados de la validación cruzada\\ncv_results = pd.DataFrame(random_search.cv_results_)\\n\\n# Calcular tiempo de ejecución\\nend_time = time.time()\\nexecution_time = end_time - start_time\\n\\n# Imprimir los resultados de cada iteración\\nfor i in range(4):  # Se itera sobre los pliegues\\n    print(f\"Pliegue {i + 1}:\")\\n    print(\"MSE (test):\")\\n    print(-cv_results[f\"split{i}_test_neg_mean_squared_error\"])\\n    print(\"RMSE (test):\")\\n    print(-cv_results[f\"split{i}_test_neg_root_mean_squared_error\"])\\n    print(\"MAPE (test):\")\\n    print(-cv_results[f\"split{i}_test_mape\"])\\n    print(\"MSE (train):\")\\n    print(-cv_results[f\"split{i}_train_neg_mean_squared_error\"])\\n    print(\"RMSE (train):\")\\n    print(-cv_results[f\"split{i}_train_neg_root_mean_squared_error\"])\\n    print(\"MAPE (train):\")\\n    print(-cv_results[f\"split{i}_train_mape\"])\\n\\n# Identificar el mejor parámetro para cada split\\nbest_params_per_split = {}\\nfor split in range(4):\\n    split_results = cv_results[cv_results[f\\'split{split}_test_neg_mean_squared_error\\'] == cv_results[f\\'split{split}_test_neg_mean_squared_error\\'].min()]\\n    best_params_per_split[split] = split_results[\\'param_fit_intercept\\'].iloc[0]\\n    print(f\"Mejor parámetro para el pliegue {split + 1}: {best_params_per_split[split]}\")\\n\\n# Calcular las métricas promedio de train\\nmean_mse_train = -cv_results[\\'mean_train_neg_mean_squared_error\\']\\nmean_rmse_train = -cv_results[\\'mean_train_neg_root_mean_squared_error\\']\\nmean_mape_train = -cv_results[\\'mean_train_mape\\']\\n\\n# Calcular las métricas promedio de val\\nmean_mse = -cv_results[\\'mean_test_neg_mean_squared_error\\']\\nmean_rmse = -cv_results[\\'mean_test_neg_root_mean_squared_error\\']\\nmean_mape = -cv_results[\\'mean_test_mape\\']\\n\\n# Imprimir las métricas promedio\\nprint(\"\\nMétricas promedio:\")\\nprint(\"MSE promedio (train):\", mean_mse_train, \" ,  MSE promedio (val):\", mean_mse)\\nprint(\"RMSE promedio (train):\", mean_rmse_train, \" ,  RMSE promedio (val):\", mean_rmse)\\nprint(\"MAPE promedio (train):\", mean_mape_train, \" ,  MAPE promedio (train):\", mean_mape)\\n\\n# Imprimir el tiempo de ejecución\\nprint(\"Tiempo de ejecución:\", execution_time, \"segundos\")\\n\\n# Cargar el modelo en mlflow\\ncargar_modelo_mlflow(modelo, \\'MIN_PRICE\\', \\'Modelo randomSearch\\', cv_results, execution_time)'"
            ]
          },
          "execution_count": 2,
          "metadata": {},
          "output_type": "execute_result"
        }
      ],
      "source": [
        "\"\"\"import pandas as pd\n",
        "from sklearn.linear_model import LinearRegression\n",
        "from sklearn.model_selection import PredefinedSplit, RandomizedSearchCV\n",
        "from sklearn.metrics import mean_absolute_percentage_error, make_scorer\n",
        "import numpy as np\n",
        "import time\n",
        "\n",
        "# Definir la función para el cálculo del MAPE\n",
        "def mape_scorer(y_true, y_pred):\n",
        "    return mean_absolute_percentage_error(y_true, y_pred)\n",
        "\n",
        "# Definir los scorers\n",
        "scoring = {\n",
        "    'neg_mean_squared_error': 'neg_mean_squared_error',  # MSE\n",
        "    'neg_root_mean_squared_error': 'neg_root_mean_squared_error',  # RMSE\n",
        "    'mape': make_scorer(mape_scorer, greater_is_better=False)  # MAPE\n",
        "}\n",
        "\n",
        "# Definir el array test_fold a partir de la columna 'folds'\n",
        "test_fold = datos['fold'].values\n",
        "\n",
        "# Crear el PredefinedSplit\n",
        "ps = PredefinedSplit(test_fold=test_fold)\n",
        "\n",
        "# Definir los parámetros a buscar\n",
        "param_grid = {\n",
        "    'fit_intercept': [True, False],\n",
        "}\n",
        "\n",
        "# Inicializar el modelo de regresión lineal\n",
        "base_model = LinearRegression()\n",
        "\n",
        "# Crear el objeto RandomizedSearchCV\n",
        "random_search = RandomizedSearchCV(estimator=base_model, param_distributions=param_grid, cv=ps, scoring=scoring, refit='neg_mean_squared_error', return_train_score=True)\n",
        "\n",
        "# Tiempo de ejecución\n",
        "start_time = time.time()\n",
        "\n",
        "# Entrenar el modelo con RandomizedSearchCV\n",
        "random_search.fit(X, y)\n",
        "\n",
        "# Obtener los resultados de la validación cruzada\n",
        "cv_results = pd.DataFrame(random_search.cv_results_)\n",
        "\n",
        "# Calcular tiempo de ejecución\n",
        "end_time = time.time()\n",
        "execution_time = end_time - start_time\n",
        "\n",
        "# Imprimir los resultados de cada iteración\n",
        "for i in range(4):  # Se itera sobre los pliegues\n",
        "    print(f\"Pliegue {i + 1}:\")\n",
        "    print(\"MSE (test):\")\n",
        "    print(-cv_results[f\"split{i}_test_neg_mean_squared_error\"])\n",
        "    print(\"RMSE (test):\")\n",
        "    print(-cv_results[f\"split{i}_test_neg_root_mean_squared_error\"])\n",
        "    print(\"MAPE (test):\")\n",
        "    print(-cv_results[f\"split{i}_test_mape\"])\n",
        "    print(\"MSE (train):\")\n",
        "    print(-cv_results[f\"split{i}_train_neg_mean_squared_error\"])\n",
        "    print(\"RMSE (train):\")\n",
        "    print(-cv_results[f\"split{i}_train_neg_root_mean_squared_error\"])\n",
        "    print(\"MAPE (train):\")\n",
        "    print(-cv_results[f\"split{i}_train_mape\"])\n",
        "\n",
        "# Identificar el mejor parámetro para cada split\n",
        "best_params_per_split = {}\n",
        "for split in range(4):\n",
        "    split_results = cv_results[cv_results[f'split{split}_test_neg_mean_squared_error'] == cv_results[f'split{split}_test_neg_mean_squared_error'].min()]\n",
        "    best_params_per_split[split] = split_results['param_fit_intercept'].iloc[0]\n",
        "    print(f\"Mejor parámetro para el pliegue {split + 1}: {best_params_per_split[split]}\")\n",
        "\n",
        "# Calcular las métricas promedio de train\n",
        "mean_mse_train = -cv_results['mean_train_neg_mean_squared_error']\n",
        "mean_rmse_train = -cv_results['mean_train_neg_root_mean_squared_error']\n",
        "mean_mape_train = -cv_results['mean_train_mape']\n",
        "\n",
        "# Calcular las métricas promedio de val\n",
        "mean_mse = -cv_results['mean_test_neg_mean_squared_error']\n",
        "mean_rmse = -cv_results['mean_test_neg_root_mean_squared_error']\n",
        "mean_mape = -cv_results['mean_test_mape']\n",
        "\n",
        "# Imprimir las métricas promedio\n",
        "print(\"\\nMétricas promedio:\")\n",
        "print(\"MSE promedio (train):\", mean_mse_train, \" ,  MSE promedio (val):\", mean_mse)\n",
        "print(\"RMSE promedio (train):\", mean_rmse_train, \" ,  RMSE promedio (val):\", mean_rmse)\n",
        "print(\"MAPE promedio (train):\", mean_mape_train, \" ,  MAPE promedio (train):\", mean_mape)\n",
        "\n",
        "# Imprimir el tiempo de ejecución\n",
        "print(\"Tiempo de ejecución:\", execution_time, \"segundos\")\n",
        "\n",
        "# Cargar el modelo en mlflow\n",
        "cargar_modelo_mlflow(modelo, 'MIN_PRICE', 'Modelo randomSearch', cv_results, execution_time)\"\"\""
      ]
    },
    {
      "cell_type": "markdown",
      "metadata": {
        "id": "B2Pj7SWCkmP8"
      },
      "source": [
        "Si comparamos los resultados de Grid y Random Search, vemos que dan prácticamente lo mismo. En ambos casos, el mejor parámetro es fit_intercept = True."
      ]
    },
    {
      "cell_type": "markdown",
      "metadata": {
        "id": "1ooqQ6QupyB8"
      },
      "source": [
        "#### Hasta aquí, parte del modelo queda muteada\n",
        "---------------------------"
      ]
    },
    {
      "cell_type": "markdown",
      "metadata": {
        "id": "M0YDRyFxG2BP"
      },
      "source": [
        "## REGULARIZACIÓN"
      ]
    },
    {
      "cell_type": "markdown",
      "metadata": {
        "id": "L9zVoIHqgJ7I"
      },
      "source": [
        "Para este apartado, podemos hacer:\n",
        "\n",
        "- Emplear RidgeCV, LassoCV o ElasticNetCV.\n",
        "\n",
        "- Combinar GridSearchCV y un modelo de tipo Ridge, Lasso o ElasticNet.\n",
        "\n",
        "En un principio, estábamos haciendo la implementación con la primera opción, pero con ella no era posible obtener todas las métricas deseadas de cada iteración de la validación cruzada (el parámetro store_cv_results especificado en la documentación no funcionaba).\n",
        "\n",
        "Por ello, emplearemos mejor la segunda opción, cuya implementación será igual o muy similar a la del apartado anterior."
      ]
    },
    {
      "cell_type": "markdown",
      "metadata": {
        "id": "-R19g5osREqJ"
      },
      "source": [
        "### Ridge"
      ]
    },
    {
      "cell_type": "code",
      "execution_count": 19,
      "metadata": {
        "id": "dyV_FQjTiHuN",
        "outputId": "347aca6a-9475-42b4-dbb6-88861555c2af"
      },
      "outputs": [
        {
          "name": "stdout",
          "output_type": "stream",
          "text": [
            "\n",
            "Pliegue 1:\n",
            "Mejor valor de alpha: 65.1733960488242\n",
            "MSE (test): 172.3039484606161\n",
            "RMSE (test): 13.126459860168548\n",
            "MAPE (test): 0.3021008224698604\n",
            "MSE (train): 169.24338704079724\n",
            "RMSE (train): 13.009357672106539\n",
            "MAPE (train): 0.245150886405631\n",
            "\n",
            "Pliegue 2:\n",
            "Mejor valor de alpha: 65.1733960488242\n",
            "MSE (test): 131.33832311348064\n",
            "RMSE (test): 11.460293325804564\n",
            "MAPE (test): 0.3020133016957278\n",
            "MSE (train): 182.85534849685075\n",
            "RMSE (train): 13.522401728126951\n",
            "MAPE (train): 0.25545931688631796\n",
            "\n",
            "Pliegue 3:\n",
            "Mejor valor de alpha: 65.1733960488242\n",
            "MSE (test): 354.0573204665104\n",
            "RMSE (test): 18.816410934780055\n",
            "MAPE (test): 0.2289140816770715\n",
            "MSE (train): 127.75218654655876\n",
            "RMSE (train): 11.302751282168371\n",
            "MAPE (train): 0.2389935052388113\n",
            "\n",
            "Pliegue 4:\n",
            "Mejor valor de alpha: 65.1733960488242\n",
            "MSE (test): 570.3601595193035\n",
            "RMSE (test): 23.882214292634245\n",
            "MAPE (test): 0.3204607651349919\n",
            "MSE (train): 133.32988803032993\n",
            "RMSE (train): 11.546856196832536\n",
            "MAPE (train): 0.22770138015290456\n",
            "\n",
            "Métricas promedio:\n",
            "MSE promedio (train): 153.29520252863418  ,  MSE promedio (val): 307.01493788997766\n",
            "RMSE promedio (train): 12.3453417198086  ,  RMSE promedio (val): 16.82134460334685\n",
            "MAPE promedio (train): 0.2418262721709162  ,  MAPE promedio (val): 0.2883722427444129\n",
            "Tiempo de ejecución: 12.014803647994995 segundos\n"
          ]
        }
      ],
      "source": [
        "import pandas as pd\n",
        "from sklearn.linear_model import Ridge\n",
        "from sklearn.model_selection import PredefinedSplit, GridSearchCV\n",
        "from sklearn.metrics import mean_absolute_percentage_error, make_scorer\n",
        "import numpy as np\n",
        "import time\n",
        "\n",
        "# Definir la función para el cálculo del MAPE\n",
        "def mape_scorer(y_true, y_pred):\n",
        "    return mean_absolute_percentage_error(y_true, y_pred)\n",
        "\n",
        "# Definir los scorers\n",
        "scoring = {\n",
        "    'neg_mean_squared_error': 'neg_mean_squared_error',  # MSE\n",
        "    'neg_root_mean_squared_error': 'neg_root_mean_squared_error',  # RMSE\n",
        "    'mape': make_scorer(mape_scorer, greater_is_better=False)  # MAPE\n",
        "}\n",
        "\n",
        "# Definir el array test_fold a partir de la columna 'folds'\n",
        "test_fold = datos['fold'].values\n",
        "\n",
        "# Crear el PredefinedSplit\n",
        "ps = PredefinedSplit(test_fold=test_fold)\n",
        "\n",
        "# Definir los parámetros a buscar\n",
        "param_grid = {\n",
        "    'alpha': np.logspace(-5, 7, 200),\n",
        "    'fit_intercept': [True],\n",
        "}\n",
        "\n",
        "# Inicializar el modelo de regresión lineal\n",
        "ridge = Ridge()\n",
        "\n",
        "# Crear el objeto GridSearchCV\n",
        "ridgecv = GridSearchCV(estimator=ridge, param_grid=param_grid, cv=ps, scoring=scoring, refit='neg_mean_squared_error', return_train_score=True)\n",
        "\n",
        "# Tiempo de ejecución\n",
        "start_time = time.time()\n",
        "\n",
        "# Entrenar el modelo con GridSearchCV\n",
        "ridgecv.fit(X, y)\n",
        "\n",
        "# Obtener los resultados de la validación cruzada\n",
        "cv_results = pd.DataFrame(ridgecv.cv_results_)\n",
        "\n",
        "# Calcular tiempo de ejecución\n",
        "end_time = time.time()\n",
        "execution_time = end_time - start_time\n",
        "\n",
        "# Imprimir los resultados de cada iteración\n",
        "for i in range(4):  # Se itera sobre los pliegues\n",
        "    print(f\"\\nPliegue {i + 1}:\")\n",
        "    print(\"Mejor valor de alpha:\", ridgecv.best_params_['alpha'])\n",
        "    print(\"MSE (test):\", -cv_results[f\"split{i}_test_neg_mean_squared_error\"].iloc[ridgecv.best_index_])\n",
        "    print(\"RMSE (test):\", -cv_results[f\"split{i}_test_neg_root_mean_squared_error\"].iloc[ridgecv.best_index_])\n",
        "    print(\"MAPE (test):\", -cv_results[f\"split{i}_test_mape\"].iloc[ridgecv.best_index_])\n",
        "    print(\"MSE (train):\", -cv_results[f\"split{i}_train_neg_mean_squared_error\"].iloc[ridgecv.best_index_])\n",
        "    print(\"RMSE (train):\", -cv_results[f\"split{i}_train_neg_root_mean_squared_error\"].iloc[ridgecv.best_index_])\n",
        "    print(\"MAPE (train):\", -cv_results[f\"split{i}_train_mape\"].iloc[ridgecv.best_index_])\n",
        "\n",
        "# Calcular las métricas promedio de train y de validación\n",
        "mean_mse_train = -cv_results['mean_train_neg_mean_squared_error'].iloc[ridgecv.best_index_]\n",
        "mean_rmse_train = -cv_results['mean_train_neg_root_mean_squared_error'].iloc[ridgecv.best_index_]\n",
        "mean_mape_train = -cv_results['mean_train_mape'].iloc[ridgecv.best_index_]\n",
        "mean_mse = -cv_results['mean_test_neg_mean_squared_error'].iloc[ridgecv.best_index_]\n",
        "mean_rmse = -cv_results['mean_test_neg_root_mean_squared_error'].iloc[ridgecv.best_index_]\n",
        "mean_mape = -cv_results['mean_test_mape'].iloc[ridgecv.best_index_]\n",
        "\n",
        "# Imprimir las métricas promedio\n",
        "print(\"\\nMétricas promedio:\")\n",
        "print(\"MSE promedio (train):\", mean_mse_train, \" ,  MSE promedio (val):\", mean_mse)\n",
        "print(\"RMSE promedio (train):\", mean_rmse_train, \" ,  RMSE promedio (val):\", mean_rmse)\n",
        "print(\"MAPE promedio (train):\", mean_mape_train, \" ,  MAPE promedio (val):\", mean_mape)\n",
        "\n",
        "# Imprimir el tiempo de ejecución\n",
        "print(\"Tiempo de ejecución:\", execution_time, \"segundos\")\n",
        "\n",
        "# Cargar el modelo en mlflow\n",
        "cargar_modelo_mlflow(modelo, 'MIN_PRICE', 'Regularización ridge sin escalar', cv_results, execution_time)"
      ]
    },
    {
      "cell_type": "markdown",
      "metadata": {
        "id": "YJQHF-tppyB8"
      },
      "source": [
        "| Métrica        | Mejor alpha | MSE (test) | RMSE (test) | MAPE (test) | MSE (train) | RMSE (train) | MAPE (train) |\n",
        "|---------------|-------------|------------|-------------|-------------|-------------|--------------|--------------|\n",
        "| Iteración 1     | 65.1734     | 172.3039   | 13.1265     | 0.3021      | 169.2434    | 13.0094      | 0.2452       |\n",
        "| Iteración 2     | 65.1734     | 131.3383   | 11.4603     | 0.3020      | 182.8553    | 13.5224      | 0.2555       |\n",
        "| Iteración 3     | 65.1734     | 354.0573   | 18.8164     | 0.2289      | 127.7522    | 11.3028      | 0.2390       |\n",
        "| Iteración 4     | 65.1734     | 570.3602   | 23.8822     | 0.3205      | 133.3299    | 11.5469      | 0.2277       |\n",
        "| **Promedio**  | **65.1734** | **307.0149** | **16.8213** | **0.2884**  | **153.2952**| **12.3453**  | **0.2418**   |\n",
        "\n",
        "**Tiempo de ejecución**: 4.463225603103638 segundos"
      ]
    },
    {
      "cell_type": "markdown",
      "metadata": {
        "id": "qId__dmNpyB8"
      },
      "source": [
        "Y si calculamos los coeficientes de las variables para el mejor modelo:"
      ]
    },
    {
      "cell_type": "code",
      "execution_count": 20,
      "metadata": {
        "id": "OmBNLb6UpyB8",
        "outputId": "a2add89d-a8bd-420d-e964-4378d6072545"
      },
      "outputs": [
        {
          "data": {
            "image/png": "[encoded data removed]",
            "text/plain": [
              "<Figure size 1100x384 with 1 Axes>"
            ]
          },
          "metadata": {},
          "output_type": "display_data"
        }
      ],
      "source": [
        "# Coeficientes del modelo\n",
        "df_coeficientes = pd.DataFrame({\n",
        "    'predictor': X.columns,\n",
        "    'coef': ridgecv.best_estimator_.coef_\n",
        "})\n",
        "\n",
        "fig, ax = plt.subplots(figsize=(11, 3.84))\n",
        "ax.stem(df_coeficientes.predictor, df_coeficientes.coef, markerfmt=' ')\n",
        "plt.xticks(rotation=90, ha='right', size=5)\n",
        "ax.set_xlabel('Variable')\n",
        "ax.set_ylabel('Coeficientes')\n",
        "ax.set_title('Coeficientes del modelo Ridge')\n",
        "plt.show()\n"
      ]
    },
    {
      "cell_type": "markdown",
      "metadata": {
        "id": "SOkTmvyzpyB8"
      },
      "source": [
        "Pero si escalamos con Robust Scaler..."
      ]
    },
    {
      "cell_type": "code",
      "execution_count": 21,
      "metadata": {
        "id": "LMN-0SgspyB9",
        "outputId": "76856c52-7eb3-4358-cbc3-e072d0a77623"
      },
      "outputs": [
        {
          "name": "stdout",
          "output_type": "stream",
          "text": [
            "\n",
            "Pliegue 1:\n",
            "Mejor valor de alpha: 300.1835813575586\n",
            "MSE (val): 190.66251699131587\n",
            "RMSE (val): 13.808059856160671\n",
            "MAPE (val): 0.32560195788177815\n",
            "MSE (train): 198.90918597889697\n",
            "RMSE (train): 14.103516794718152\n",
            "MAPE (train): 0.2807041274739518\n",
            "\n",
            "Pliegue 2:\n",
            "Mejor valor de alpha: 300.1835813575586\n",
            "MSE (val): 124.62464227378508\n",
            "RMSE (val): 11.163540758817746\n",
            "MAPE (val): 0.3320092168243387\n",
            "MSE (train): 209.07997386777356\n",
            "RMSE (train): 14.459597984306948\n",
            "MAPE (train): 0.2915065810630464\n",
            "\n",
            "Pliegue 3:\n",
            "Mejor valor de alpha: 300.1835813575586\n",
            "MSE (val): 358.1133861348295\n",
            "RMSE (val): 18.92388401293005\n",
            "MAPE (val): 0.23832687422521143\n",
            "MSE (train): 152.73015938159278\n",
            "RMSE (train): 12.358404402737142\n",
            "MAPE (train): 0.27355485410411734\n",
            "\n",
            "Pliegue 4:\n",
            "Mejor valor de alpha: 300.1835813575586\n",
            "MSE (val): 267.19933272403875\n",
            "RMSE (val): 16.34623298267949\n",
            "MAPE (val): 0.3410612095194756\n",
            "MSE (train): 169.85723810220767\n",
            "RMSE (train): 13.032928991681327\n",
            "MAPE (train): 0.26797040749426165\n",
            "\n",
            "Métricas promedio:\n",
            "MSE promedio (train): 182.64413933261775  ,  MSE promedio (val): 235.1499695309923\n",
            "RMSE promedio (train): 13.488612043360892  ,  RMSE promedio (val): 15.060429402646989\n",
            "MAPE promedio (train): 0.2784339925338443  ,  MAPE promedio (val): 0.30924981461270096\n",
            "Tiempo de ejecución: 20.31913185119629 segundos\n"
          ]
        }
      ],
      "source": [
        "import pandas as pd\n",
        "from sklearn.linear_model import Ridge\n",
        "from sklearn.model_selection import PredefinedSplit, GridSearchCV\n",
        "from sklearn.metrics import mean_absolute_percentage_error, make_scorer\n",
        "from sklearn.preprocessing import RobustScaler\n",
        "from sklearn.pipeline import Pipeline\n",
        "import numpy as np\n",
        "import time\n",
        "\n",
        "# Definir la función para el cálculo del MAPE\n",
        "def mape_scorer(y_true, y_pred):\n",
        "    return mean_absolute_percentage_error(y_true, y_pred)\n",
        "\n",
        "# Definir los scorers\n",
        "scoring = {\n",
        "    'neg_mean_squared_error': 'neg_mean_squared_error',  # MSE\n",
        "    'neg_root_mean_squared_error': 'neg_root_mean_squared_error',  # RMSE\n",
        "    'mape': make_scorer(mape_scorer, greater_is_better=False)  # MAPE\n",
        "}\n",
        "\n",
        "# Definir el array test_fold a partir de la columna 'folds'\n",
        "test_fold = datos['fold'].values\n",
        "\n",
        "# Crear el PredefinedSplit\n",
        "ps = PredefinedSplit(test_fold=test_fold)\n",
        "\n",
        "# Definir los parámetros a buscar\n",
        "param_grid = {\n",
        "    'ridge__alpha': np.logspace(-5, 7, 200),\n",
        "    'ridge__fit_intercept': [True],\n",
        "}\n",
        "\n",
        "    # Definir el ColumnTransformer\n",
        "preprocessor = ColumnTransformer(\n",
        "        transformers=[\n",
        "            ('scaler', RobustScaler(), columnas_a_escalar)\n",
        "        ],\n",
        "        remainder='passthrough'  # Deja las otras columnas sin cambios\n",
        "    )\n",
        "\n",
        "# Crear el pipeline con el escalador y el modelo de regresión lineal\n",
        "pipeline = Pipeline([\n",
        "    ('preprocessor', preprocessor),\n",
        "    ('ridge', Ridge())\n",
        "])\n",
        "\n",
        "# Crear el objeto GridSearchCV\n",
        "ridgecv = GridSearchCV(estimator=pipeline, param_grid=param_grid, cv=ps, scoring=scoring, refit='neg_mean_squared_error', return_train_score=True)\n",
        "\n",
        "# Tiempo de ejecución\n",
        "start_time = time.time()\n",
        "\n",
        "# Entrenar el modelo con GridSearchCV\n",
        "ridgecv.fit(X, y)\n",
        "\n",
        "# Obtener los resultados de la validación cruzada\n",
        "cv_results = pd.DataFrame(ridgecv.cv_results_)\n",
        "\n",
        "# Calcular tiempo de ejecución\n",
        "end_time = time.time()\n",
        "execution_time = end_time - start_time\n",
        "\n",
        "# Imprimir los resultados de cada iteración\n",
        "for i in range(len(np.unique(test_fold))):  # Se itera sobre los pliegues\n",
        "    print(f\"\\nPliegue {i + 1}:\")\n",
        "    print(\"Mejor valor de alpha:\", ridgecv.best_params_['ridge__alpha'])\n",
        "    print(\"MSE (val):\", -cv_results[f\"split{i}_test_neg_mean_squared_error\"].iloc[ridgecv.best_index_])\n",
        "    print(\"RMSE (val):\", -cv_results[f\"split{i}_test_neg_root_mean_squared_error\"].iloc[ridgecv.best_index_])\n",
        "    print(\"MAPE (val):\", -cv_results[f\"split{i}_test_mape\"].iloc[ridgecv.best_index_])\n",
        "    print(\"MSE (train):\", -cv_results[f\"split{i}_train_neg_mean_squared_error\"].iloc[ridgecv.best_index_])\n",
        "    print(\"RMSE (train):\", -cv_results[f\"split{i}_train_neg_root_mean_squared_error\"].iloc[ridgecv.best_index_])\n",
        "    print(\"MAPE (train):\", -cv_results[f\"split{i}_train_mape\"].iloc[ridgecv.best_index_])\n",
        "\n",
        "# Calcular las métricas promedio de train y de validación\n",
        "mean_mse_train = -cv_results['mean_train_neg_mean_squared_error'].iloc[ridgecv.best_index_]\n",
        "mean_rmse_train = -cv_results['mean_train_neg_root_mean_squared_error'].iloc[ridgecv.best_index_]\n",
        "mean_mape_train = -cv_results['mean_train_mape'].iloc[ridgecv.best_index_]\n",
        "mean_mse = -cv_results['mean_test_neg_mean_squared_error'].iloc[ridgecv.best_index_]\n",
        "mean_rmse = -cv_results['mean_test_neg_root_mean_squared_error'].iloc[ridgecv.best_index_]\n",
        "mean_mape = -cv_results['mean_test_mape'].iloc[ridgecv.best_index_]\n",
        "\n",
        "# Imprimir las métricas promedio\n",
        "print(\"\\nMétricas promedio:\")\n",
        "print(\"MSE promedio (train):\", mean_mse_train, \" ,  MSE promedio (val):\", mean_mse)\n",
        "print(\"RMSE promedio (train):\", mean_rmse_train, \" ,  RMSE promedio (val):\", mean_rmse)\n",
        "print(\"MAPE promedio (train):\", mean_mape_train, \" ,  MAPE promedio (val):\", mean_mape)\n",
        "\n",
        "# Imprimir el tiempo de ejecución\n",
        "print(\"Tiempo de ejecución:\", execution_time, \"segundos\")\n",
        "\n",
        "# Cargar el modelo en mlflow\n",
        "cargar_modelo_mlflow(modelo, 'MIN_PRICE', 'Regularización ridge robust scaler', cv_results, execution_time)"
      ]
    },
    {
      "cell_type": "markdown",
      "metadata": {
        "id": "QTCTK7s5pyB9"
      },
      "source": [
        "| Métrica       | Mejor alpha | MSE (val) | RMSE (val) | MAPE (val) | MSE (train) | RMSE (train) | MAPE (train) |\n",
        "|---------------|-------------|-----------|------------|------------|-------------|--------------|--------------|\n",
        "| Iteración 1     | 300.1836    | 190.6625  | 13.8081    | 0.3256     | 198.9092    | 14.1035      | 0.2807       |\n",
        "| Iteración 2     | 300.1836    | 124.6246  | 11.1635    | 0.3320     | 209.0800    | 14.4596      | 0.2915       |\n",
        "| Iteración 3     | 300.1836    | 358.1134  | 18.9239    | 0.2383     | 152.7302    | 12.3584      | 0.2736       |\n",
        "| Iteración 4     | 300.1836    | 267.1993  | 16.3462    | 0.3411     | 169.8572    | 13.0329      | 0.2680       |\n",
        "| **Promedio**  | **300.1836**| **235.1500** | **15.0604** | **0.3092** | **182.6441**| **13.4886**  | **0.2784**   |\n",
        "\n",
        "\n",
        "**Tiempo de ejecución**: 9.107917308807373 segundos\n"
      ]
    },
    {
      "cell_type": "markdown",
      "metadata": {
        "id": "C5J6iLKhpyB9"
      },
      "source": [
        "Y entonces los coeficientes de ajuste del modelo se verían afectados:"
      ]
    },
    {
      "cell_type": "code",
      "execution_count": 22,
      "metadata": {
        "id": "CWhVcubGpyB9",
        "outputId": "2069be1a-2d41-4810-f36a-859df5fb302c"
      },
      "outputs": [
        {
          "data": {
            "image/png": "[encoded data removed]",
            "text/plain": [
              "<Figure size 1100x384 with 1 Axes>"
            ]
          },
          "metadata": {},
          "output_type": "display_data"
        }
      ],
      "source": [
        "# Coeficientes del modelo Ridge\n",
        "df_coeficientes = pd.DataFrame({\n",
        "    'predictor': X.columns,\n",
        "    'coef': ridgecv.best_estimator_.named_steps['ridge'].coef_\n",
        "})\n",
        "\n",
        "fig, ax = plt.subplots(figsize=(11, 3.84))\n",
        "ax.stem(df_coeficientes.predictor, df_coeficientes.coef, markerfmt=' ')\n",
        "plt.xticks(rotation=90, ha='right', size=5)\n",
        "ax.set_xlabel('Variable')\n",
        "ax.set_ylabel('Coeficientes')\n",
        "ax.set_title('Coeficientes del modelo Ridge')\n",
        "plt.show()"
      ]
    },
    {
      "cell_type": "markdown",
      "metadata": {
        "id": "FqwWYXR_pyB9"
      },
      "source": [
        "Aunque en este caso, el modelo Ridge sin escalar dé ligeramente mejor que escalando, hay que tener en cuenta que, **en regularización**, se emplee un método u otro, **siempre hay que estandarizar o normalizar los predictores**. Por eso mismo, Lasso y Elastic Net lo haremos directamente escalando con Robust Scaler."
      ]
    },
    {
      "cell_type": "markdown",
      "metadata": {
        "id": "8L1mwBLuVTWD"
      },
      "source": [
        "### Lasso"
      ]
    },
    {
      "cell_type": "code",
      "execution_count": 23,
      "metadata": {
        "id": "0jFOxVQopyB9",
        "outputId": "7c326a78-c62e-4e07-ebd7-3a599185c0c3"
      },
      "outputs": [
        {
          "name": "stdout",
          "output_type": "stream",
          "text": [
            "\n",
            "Pliegue 1:\n",
            "Mejor valor de alpha: 2.0970464013232393\n",
            "MSE (test): 199.98411055478925\n",
            "RMSE (test): 14.141573835849716\n",
            "MAPE (test): 0.37031475346640663\n",
            "MSE (train): 223.49335394075229\n",
            "RMSE (train): 14.94969410860143\n",
            "MAPE (train): 0.3192197004392603\n",
            "\n",
            "Pliegue 2:\n",
            "Mejor valor de alpha: 2.0970464013232393\n",
            "MSE (test): 140.6821778051052\n",
            "RMSE (test): 11.860951808565163\n",
            "MAPE (test): 0.37076295326406167\n",
            "MSE (train): 228.38175442541132\n",
            "RMSE (train): 15.112304735724836\n",
            "MAPE (train): 0.31326446853492507\n",
            "\n",
            "Pliegue 3:\n",
            "Mejor valor de alpha: 2.0970464013232393\n",
            "MSE (test): 410.8540772433516\n",
            "RMSE (test): 20.26953569382761\n",
            "MAPE (test): 0.25910352695951433\n",
            "MSE (train): 171.01224186502137\n",
            "RMSE (train): 13.077164901652857\n",
            "MAPE (train): 0.3102126756697095\n",
            "\n",
            "Pliegue 4:\n",
            "Mejor valor de alpha: 2.0970464013232393\n",
            "MSE (test): 329.4839438690661\n",
            "RMSE (test): 18.15169258964756\n",
            "MAPE (test): 0.36566667242403816\n",
            "MSE (train): 185.06291819424985\n",
            "RMSE (train): 13.603783230934322\n",
            "MAPE (train): 0.2976290020549484\n",
            "\n",
            "Métricas promedio:\n",
            "MSE promedio (train): 201.9875671063587  ,  MSE promedio (val): 270.25107736807803\n",
            "RMSE promedio (train): 14.185736744228361  ,  RMSE promedio (val): 16.105938481972515\n",
            "MAPE promedio (train): 0.3100814616747108  ,  MAPE promedio (val): 0.3414619765285052\n",
            "Tiempo de ejecución: 27.43064856529236 segundos\n"
          ]
        }
      ],
      "source": [
        "import pandas as pd\n",
        "from sklearn.linear_model import Lasso\n",
        "from sklearn.model_selection import PredefinedSplit, GridSearchCV\n",
        "from sklearn.metrics import mean_absolute_percentage_error, make_scorer\n",
        "from sklearn.preprocessing import RobustScaler\n",
        "from sklearn.pipeline import Pipeline\n",
        "import numpy as np\n",
        "import time\n",
        "\n",
        "# Definir la función para el cálculo del MAPE\n",
        "def mape_scorer(y_true, y_pred):\n",
        "    return mean_absolute_percentage_error(y_true, y_pred)\n",
        "\n",
        "# Definir los scorers\n",
        "scoring = {\n",
        "    'neg_mean_squared_error': 'neg_mean_squared_error',  # MSE\n",
        "    'neg_root_mean_squared_error': 'neg_root_mean_squared_error',  # RMSE\n",
        "    'mape': make_scorer(mape_scorer, greater_is_better=False)  # MAPE\n",
        "}\n",
        "\n",
        "# Definir el array test_fold a partir de la columna 'folds'\n",
        "test_fold = datos['fold'].values\n",
        "\n",
        "# Crear el PredefinedSplit\n",
        "ps = PredefinedSplit(test_fold=test_fold)\n",
        "\n",
        "# Definir los parámetros a buscar\n",
        "param_grid = {\n",
        "    'lasso__alpha': np.logspace(-10, 3, 200),\n",
        "    'lasso__fit_intercept': [True],\n",
        "}\n",
        "\n",
        "    # Definir el ColumnTransformer\n",
        "preprocessor = ColumnTransformer(\n",
        "        transformers=[\n",
        "            ('scaler', RobustScaler(), columnas_a_escalar)\n",
        "        ],\n",
        "        remainder='passthrough'  # Deja las otras columnas sin cambios\n",
        "    )\n",
        "\n",
        "# Crear el pipeline con el escalador y el modelo Lasso\n",
        "pipeline = Pipeline([\n",
        "    ('preprocessor', preprocessor),\n",
        "    ('lasso', Lasso())\n",
        "])\n",
        "\n",
        "# Crear el objeto GridSearchCV\n",
        "lassocv = GridSearchCV(estimator=pipeline, param_grid=param_grid, cv=ps, scoring=scoring, refit='neg_mean_squared_error', return_train_score=True)\n",
        "\n",
        "# Tiempo de ejecución\n",
        "start_time = time.time()\n",
        "\n",
        "# Entrenar el modelo con GridSearchCV\n",
        "lassocv.fit(X, y)\n",
        "\n",
        "# Obtener los resultados de la validación cruzada\n",
        "cv_results = pd.DataFrame(lassocv.cv_results_)\n",
        "\n",
        "# Calcular tiempo de ejecución\n",
        "end_time = time.time()\n",
        "execution_time = end_time - start_time\n",
        "\n",
        "# Imprimir los resultados de cada iteración\n",
        "for i in range(len(np.unique(test_fold))):  # Se itera sobre los pliegues\n",
        "    print(f\"\\nPliegue {i + 1}:\")\n",
        "    print(\"Mejor valor de alpha:\", lassocv.best_params_['lasso__alpha'])\n",
        "    print(\"MSE (test):\", -cv_results[f\"split{i}_test_neg_mean_squared_error\"].iloc[lassocv.best_index_])\n",
        "    print(\"RMSE (test):\", -cv_results[f\"split{i}_test_neg_root_mean_squared_error\"].iloc[lassocv.best_index_])\n",
        "    print(\"MAPE (test):\", -cv_results[f\"split{i}_test_mape\"].iloc[lassocv.best_index_])\n",
        "    print(\"MSE (train):\", -cv_results[f\"split{i}_train_neg_mean_squared_error\"].iloc[lassocv.best_index_])\n",
        "    print(\"RMSE (train):\", -cv_results[f\"split{i}_train_neg_root_mean_squared_error\"].iloc[lassocv.best_index_])\n",
        "    print(\"MAPE (train):\", -cv_results[f\"split{i}_train_mape\"].iloc[lassocv.best_index_])\n",
        "\n",
        "# Calcular las métricas promedio de train y de validación\n",
        "mean_mse_train = -cv_results['mean_train_neg_mean_squared_error'].iloc[lassocv.best_index_]\n",
        "mean_rmse_train = -cv_results['mean_train_neg_root_mean_squared_error'].iloc[lassocv.best_index_]\n",
        "mean_mape_train = -cv_results['mean_train_mape'].iloc[lassocv.best_index_]\n",
        "mean_mse = -cv_results['mean_test_neg_mean_squared_error'].iloc[lassocv.best_index_]\n",
        "mean_rmse = -cv_results['mean_test_neg_root_mean_squared_error'].iloc[lassocv.best_index_]\n",
        "mean_mape = -cv_results['mean_test_mape'].iloc[lassocv.best_index_]\n",
        "\n",
        "# Imprimir las métricas promedio\n",
        "print(\"\\nMétricas promedio:\")\n",
        "print(\"MSE promedio (train):\", mean_mse_train, \" ,  MSE promedio (val):\", mean_mse)\n",
        "print(\"RMSE promedio (train):\", mean_rmse_train, \" ,  RMSE promedio (val):\", mean_rmse)\n",
        "print(\"MAPE promedio (train):\", mean_mape_train, \" ,  MAPE promedio (val):\", mean_mape)\n",
        "\n",
        "# Imprimir el tiempo de ejecución\n",
        "print(\"Tiempo de ejecución:\", execution_time, \"segundos\")\n",
        "\n",
        "# Cargar el modelo en mlflow\n",
        "cargar_modelo_mlflow(modelo, 'MIN_PRICE', 'Regularización laso mejor alpha', cv_results, execution_time)"
      ]
    },
    {
      "cell_type": "markdown",
      "metadata": {
        "id": "EXYjb5lGpyB-"
      },
      "source": [
        "| Métricas       | Mejor alpha | MSE (test) | RMSE (test) | MAPE (test) | MSE (train) | RMSE (train) | MAPE (train) |\n",
        "|---------------|-------------|------------|-------------|-------------|-------------|--------------|--------------|\n",
        "| Iteración 1     | 2.0970      | 199.9841   | 14.1416     | 0.3703      | 223.4934    | 14.9497      | 0.3192       |\n",
        "| Iteración 2     | 2.0970      | 140.6822   | 11.8610     | 0.3708      | 228.3818    | 15.1123      | 0.3133       |\n",
        "| Iteración 3     | 2.0970      | 410.8541   | 20.2695     | 0.2591      | 171.0122    | 13.0772      | 0.3102       |\n",
        "| Iteración 4     | 2.0970      | 329.4839   | 18.1517     | 0.3657      | 185.0629    | 13.6038      | 0.2976       |\n",
        "| **Promedio**  | **2.0970**  | **270.2511** | **16.1059** | **0.3415**  | **201.9876**| **14.1857**  | **0.3101**   |\n",
        "\n",
        "\n",
        "**Tiempo de ejecución**: 13.773720026016235 segundos\n"
      ]
    },
    {
      "cell_type": "markdown",
      "metadata": {
        "id": "Uo4Vz0jApyB-"
      },
      "source": [
        "Y si calculamos los coeficientes que mejor se ajustan al modelo:"
      ]
    },
    {
      "cell_type": "code",
      "execution_count": 24,
      "metadata": {
        "id": "lS-Wl2LwpyB-",
        "outputId": "1409e714-1c4f-41ed-82c3-fe6a98af316f"
      },
      "outputs": [
        {
          "data": {
            "image/png": "[encoded data removed]",
            "text/plain": [
              "<Figure size 1100x384 with 1 Axes>"
            ]
          },
          "metadata": {},
          "output_type": "display_data"
        }
      ],
      "source": [
        "# Coeficientes del modelo\n",
        "lasso_coef = lassocv.best_estimator_.named_steps['lasso'].coef_\n",
        "predictor_names = X.columns\n",
        "\n",
        "df_coeficientes = pd.DataFrame({\n",
        "    'predictor': predictor_names,\n",
        "    'coef': lasso_coef\n",
        "})\n",
        "\n",
        "# Plot de los coeficientes\n",
        "fig, ax = plt.subplots(figsize=(11, 3.84))\n",
        "ax.stem(df_coeficientes.predictor, df_coeficientes.coef, markerfmt=' ')\n",
        "plt.xticks(rotation=90, ha='right', size=5)\n",
        "ax.set_xlabel('Variable')\n",
        "ax.set_ylabel('Coeficientes')\n",
        "ax.set_title('Coeficientes del modelo Lasso')\n",
        "plt.show()\n"
      ]
    },
    {
      "cell_type": "markdown",
      "metadata": {
        "id": "oma4hvJdWehI"
      },
      "source": [
        "### Elastic Net"
      ]
    },
    {
      "cell_type": "markdown",
      "metadata": {
        "id": "0ClA6iU6pyB-"
      },
      "source": [
        "Nota: El siguiente código tarda en ejecutarse 2 minutos y medio."
      ]
    },
    {
      "cell_type": "code",
      "execution_count": 25,
      "metadata": {
        "id": "Ol94QPAFpyB-",
        "outputId": "d6bafadb-1bbb-479c-e634-63e04a5a7a03"
      },
      "outputs": [
        {
          "name": "stdout",
          "output_type": "stream",
          "text": [
            "\n",
            "Pliegue 1:\n",
            "Mejor valor de alpha: 0.7316807143427208\n",
            "Mejor valor de l1_ratio: 0\n",
            "MSE (test): 187.42815280937344\n",
            "RMSE (test): 13.690440197793986\n",
            "MAPE (test): 0.3226995209136229\n",
            "MSE (train): 196.1764263084738\n",
            "RMSE (train): 14.006299522303305\n",
            "MAPE (train): 0.27760355437566725\n",
            "\n",
            "Pliegue 2:\n",
            "Mejor valor de alpha: 0.7316807143427208\n",
            "Mejor valor de l1_ratio: 0\n",
            "MSE (test): 124.39394880407153\n",
            "RMSE (test): 11.153203522041169\n",
            "MAPE (test): 0.3284418548846207\n",
            "MSE (train): 206.43123176498327\n",
            "RMSE (train): 14.367714911042162\n",
            "MAPE (train): 0.28802123882335784\n",
            "\n",
            "Pliegue 3:\n",
            "Mejor valor de alpha: 0.7316807143427208\n",
            "Mejor valor de l1_ratio: 0\n",
            "MSE (test): 356.17840411880974\n",
            "RMSE (test): 18.872689371650498\n",
            "MAPE (test): 0.23714307844832505\n",
            "MSE (train): 150.53550419528938\n",
            "RMSE (train): 12.269291104024282\n",
            "MAPE (train): 0.27006599120001246\n",
            "\n",
            "Pliegue 4:\n",
            "Mejor valor de alpha: 0.7316807143427208\n",
            "Mejor valor de l1_ratio: 0\n",
            "MSE (test): 272.3284330163256\n",
            "RMSE (test): 16.502376586913947\n",
            "MAPE (test): 0.3375323409821577\n",
            "MSE (train): 166.64191019042246\n",
            "RMSE (train): 12.908985637548074\n",
            "MAPE (train): 0.26441130854189715\n",
            "\n",
            "Métricas promedio:\n",
            "MSE promedio (train): 179.94626811479222  ,  MSE promedio (val): 235.08223468714505\n",
            "RMSE promedio (train): 13.388072793729457  ,  RMSE promedio (val): 15.0546774195999\n",
            "MAPE promedio (train): 0.27502552323523366  ,  MAPE promedio (val): 0.3064541988071816\n",
            "Tiempo de ejecución: 193.11315870285034 segundos\n"
          ]
        }
      ],
      "source": [
        "import pandas as pd\n",
        "from sklearn.linear_model import ElasticNet\n",
        "from sklearn.model_selection import PredefinedSplit, GridSearchCV\n",
        "from sklearn.metrics import mean_absolute_percentage_error, make_scorer\n",
        "from sklearn.preprocessing import RobustScaler\n",
        "from sklearn.pipeline import Pipeline\n",
        "import numpy as np\n",
        "import time\n",
        "\n",
        "# Definir la función para el cálculo del MAPE\n",
        "def mape_scorer(y_true, y_pred):\n",
        "    return mean_absolute_percentage_error(y_true, y_pred)\n",
        "\n",
        "# Definir los scorers\n",
        "scoring = {\n",
        "    'neg_mean_squared_error': 'neg_mean_squared_error',  # MSE\n",
        "    'neg_root_mean_squared_error': 'neg_root_mean_squared_error',  # RMSE\n",
        "    'mape': make_scorer(mape_scorer, greater_is_better=False)  # MAPE\n",
        "}\n",
        "\n",
        "# Definir el array test_fold a partir de la columna 'folds'\n",
        "test_fold = datos['fold'].values\n",
        "\n",
        "# Crear el PredefinedSplit\n",
        "ps = PredefinedSplit(test_fold=test_fold)\n",
        "\n",
        "# Definir los parámetros a buscar\n",
        "param_grid = {\n",
        "    'elastic_net__alpha': np.logspace(-10, 3, 200),\n",
        "    'elastic_net__l1_ratio': [0, 0.1, 0.5, 0.7, 0.9, 0.95, 0.99],\n",
        "    'elastic_net__fit_intercept': [True],\n",
        "}\n",
        "\n",
        "    # Definir el ColumnTransformer\n",
        "preprocessor = ColumnTransformer(\n",
        "        transformers=[\n",
        "            ('scaler', RobustScaler(), columnas_a_escalar)\n",
        "        ],\n",
        "        remainder='passthrough'  # Deja las otras columnas sin cambios\n",
        "    )\n",
        "\n",
        "# Crear el pipeline con el escalador y el modelo ElasticNet\n",
        "pipeline = Pipeline([\n",
        "    ('preprocessor', preprocessor),\n",
        "    ('elastic_net', ElasticNet())\n",
        "])\n",
        "\n",
        "# Crear el objeto GridSearchCV\n",
        "elastic_net_cv = GridSearchCV(estimator=pipeline, param_grid=param_grid, cv=ps, scoring=scoring, refit='neg_mean_squared_error', return_train_score=True)\n",
        "\n",
        "# Tiempo de ejecución\n",
        "start_time = time.time()\n",
        "\n",
        "# Entrenar el modelo con GridSearchCV\n",
        "elastic_net_cv.fit(X, y)\n",
        "\n",
        "# Obtener los resultados de la validación cruzada\n",
        "cv_results = pd.DataFrame(elastic_net_cv.cv_results_)\n",
        "\n",
        "# Calcular tiempo de ejecución\n",
        "end_time = time.time()\n",
        "execution_time = end_time - start_time\n",
        "\n",
        "# Imprimir los resultados de cada iteración\n",
        "for i in range(len(np.unique(test_fold))):  # Se itera sobre los pliegues\n",
        "    print(f\"\\nPliegue {i + 1}:\")\n",
        "    print(\"Mejor valor de alpha:\", elastic_net_cv.best_params_['elastic_net__alpha'])\n",
        "    print(\"Mejor valor de l1_ratio:\", elastic_net_cv.best_params_['elastic_net__l1_ratio'])\n",
        "    print(\"MSE (test):\", -cv_results[f\"split{i}_test_neg_mean_squared_error\"].iloc[elastic_net_cv.best_index_])\n",
        "    print(\"RMSE (test):\", -cv_results[f\"split{i}_test_neg_root_mean_squared_error\"].iloc[elastic_net_cv.best_index_])\n",
        "    print(\"MAPE (test):\", -cv_results[f\"split{i}_test_mape\"].iloc[elastic_net_cv.best_index_])\n",
        "    print(\"MSE (train):\", -cv_results[f\"split{i}_train_neg_mean_squared_error\"].iloc[elastic_net_cv.best_index_])\n",
        "    print(\"RMSE (train):\", -cv_results[f\"split{i}_train_neg_root_mean_squared_error\"].iloc[elastic_net_cv.best_index_])\n",
        "    print(\"MAPE (train):\", -cv_results[f\"split{i}_train_mape\"].iloc[elastic_net_cv.best_index_])\n",
        "\n",
        "# Calcular las métricas promedio de train y de validación\n",
        "mean_mse_train = -cv_results['mean_train_neg_mean_squared_error'].iloc[elastic_net_cv.best_index_]\n",
        "mean_rmse_train = -cv_results['mean_train_neg_root_mean_squared_error'].iloc[elastic_net_cv.best_index_]\n",
        "mean_mape_train = -cv_results['mean_train_mape'].iloc[elastic_net_cv.best_index_]\n",
        "mean_mse = -cv_results['mean_test_neg_mean_squared_error'].iloc[elastic_net_cv.best_index_]\n",
        "mean_rmse = -cv_results['mean_test_neg_root_mean_squared_error'].iloc[elastic_net_cv.best_index_]\n",
        "mean_mape = -cv_results['mean_test_mape'].iloc[elastic_net_cv.best_index_]\n",
        "\n",
        "# Imprimir las métricas promedio\n",
        "print(\"\\nMétricas promedio:\")\n",
        "print(\"MSE promedio (train):\", mean_mse_train, \" ,  MSE promedio (val):\", mean_mse)\n",
        "print(\"RMSE promedio (train):\", mean_rmse_train, \" ,  RMSE promedio (val):\", mean_rmse)\n",
        "print(\"MAPE promedio (train):\", mean_mape_train, \" ,  MAPE promedio (val):\", mean_mape)\n",
        "\n",
        "# Imprimir el tiempo de ejecución\n",
        "print(\"Tiempo de ejecución:\", execution_time, \"segundos\")\n",
        "# Cargar el modelo en mlflow\n",
        "cargar_modelo_mlflow(modelo, 'MIN_PRICE', 'Regularización elastic mejor alpha y lambda', cv_results, execution_time)"
      ]
    },
    {
      "cell_type": "markdown",
      "metadata": {
        "id": "pdd-LogBpyB-"
      },
      "source": [
        "|        | Mejor alpha | Mejor l1_ratio | MSE (test) | RMSE (test) | MAPE (test) | MSE (train) | RMSE (train) | MAPE (train) |\n",
        "|---------------|-------------|----------------|------------|-------------|-------------|-------------|--------------|--------------|\n",
        "| Iteración 1     | 0.7317      | 0              | 187.4282   | 13.6904     | 0.3227      | 196.1764    | 14.0063      | 0.2776       |\n",
        "| Iteración 2     | 0.7317      | 0              | 124.3939   | 11.1532     | 0.3284      | 206.4312    | 14.3677      | 0.2880       |\n",
        "| Iteración 3     | 0.7317      | 0              | 356.1784   | 18.8727     | 0.2371      | 150.5355    | 12.2693      | 0.2701       |\n",
        "| Iteración 4     | 0.7317      | 0              | 272.3284   | 16.5024     | 0.3375      | 166.6419    | 12.9090      | 0.2644       |\n",
        "| **Promedio**  | **0.7317**  | **0**          | **235.0822** | **15.0547** | **0.3065**  | **179.9463**| **13.3881**  | **0.2750**   |\n",
        "\n",
        "\n",
        "**Tiempo de ejecución**: 125.3728334903717 segundos\n"
      ]
    },
    {
      "cell_type": "code",
      "execution_count": 26,
      "metadata": {
        "id": "etVX10sHpyB-",
        "outputId": "f724618f-2321-4301-e18a-216eb23cda7e"
      },
      "outputs": [
        {
          "data": {
            "image/png": "[encoded data removed]",
            "text/plain": [
              "<Figure size 1100x384 with 1 Axes>"
            ]
          },
          "metadata": {},
          "output_type": "display_data"
        }
      ],
      "source": [
        "# Coeficientes del modelo ElasticNet\n",
        "df_coeficientes = pd.DataFrame({\n",
        "    'predictor': X.columns,\n",
        "    'coef': elastic_net_cv.best_estimator_.named_steps['elastic_net'].coef_\n",
        "})\n",
        "\n",
        "fig, ax = plt.subplots(figsize=(11, 3.84))\n",
        "ax.stem(df_coeficientes.predictor, df_coeficientes.coef, markerfmt=' ')\n",
        "plt.xticks(rotation=90, ha='right', size=5)\n",
        "ax.set_xlabel('Variable')\n",
        "ax.set_ylabel('Coeficientes')\n",
        "ax.set_title('Coeficientes del modelo Elastic Net')\n",
        "plt.show()\n"
      ]
    },
    {
      "cell_type": "markdown",
      "metadata": {
        "id": "ShCo2COXXe7w"
      },
      "source": [
        "--------------------------"
      ]
    },
    {
      "cell_type": "markdown",
      "metadata": {
        "id": "YJlkw2hWpyB_"
      },
      "source": [
        "-------------------"
      ]
    },
    {
      "cell_type": "markdown",
      "metadata": {
        "id": "N5uQDJ3xpyB_"
      },
      "source": []
    },
    {
      "cell_type": "markdown",
      "metadata": {
        "id": "Y3aMaPZNpyB_"
      },
      "source": [
        "## RESULTADOS FINALES\n",
        "\n",
        "Comparando todos los modelos implementados en este script para *regresión lineal*:"
      ]
    },
    {
      "cell_type": "markdown",
      "metadata": {
        "id": "dSBkf7SWpyB_"
      },
      "source": [
        "|                 | MB sin escalar        | MB sin escalar con numéricas   | MB SS   | MB RS   | MB CT   | GridSearch   | RandomSearch   | Ridge sin escalar | Ridge RS         |Lasso RS        |Elastic Net RS        |\n",
        "|------------------------|-----------|-----------|-----------|-----------|-----------|-----------|-----------|-----------|-----------|-----------|-----------|\n",
        "| MAPE promedio (val)    | 0.3198    | 0.3300    | 50114286888.274155 | 0.3198    | -         | 0.3225    | 0.3225    | 0.2884    | 0.3092    | 0.3415    | 0.3065    |\n",
        "| MSE promedio (val)     | 367.8249  | 346.6996  | 1.3617429416152557e+26 | 367.8249  | -         | 365.6928  | 365.6928  | 307.0149  | 235.1500  | 270.2511  | 235.0822  |\n",
        "| RMSE promedio (val)    | 18.5675   | 18.0092   | 6615428360390.157 | 18.5675   | 18.5675   | 18.4844   | 18.4844   | 16.8213   | 16.1059   | 16.1060   | 15.0547   |\n",
        "| Tiempo de ejecución    | 0.0730    | 0.0276    | 0.0700    | 0.0250    | 0.0680    | 0.1188    | 0.1083    | 4.4632    | 9.1079    | 13.7737   | 125.3728  |\n",
        "| Mejor alpha            | -         | -         | -         | -         | -         | -         | -         | 65.1734   | 300.1836  | 2.0970    | 0.7317    |\n",
        "| Mejor l1_ratio         | -         | -         | -         | -         | -         | -         | -         | -         | -         | -         | 0         |\n"
      ]
    },
    {
      "cell_type": "markdown",
      "metadata": {
        "id": "DTmdCS7wpyB_"
      },
      "source": [
        "Siendo:\n",
        "\n",
        "1) Modelo base sin escalar\n",
        "2) Modelo base sin escalar solo con variables numéricas\n",
        "\n",
        "--\n",
        "\n",
        "3) Modelo base escalando con StandardScaler()\n",
        "4) Modelo base escalando con RobustScaler()\n",
        "5) Modelo base escalando con RobustScaler() y en pipeline usando ColumnTransformer()\n",
        "\n",
        "--\n",
        "\n",
        "6) Búsqueda en rejilla GridSearch\n",
        "7) Búsqueda aleatoria RandomizedSearch\n",
        "\n",
        "--\n",
        "\n",
        "8) Regularización Ridge sin escalar\n",
        "9) Regularización Ridge escalando con RobustScaler()\n",
        "10) Regularización Lasso escalando con RobustScaler()\n",
        "11) Regularización Elastic Net escalando con RobustScaler()"
      ]
    },
    {
      "cell_type": "markdown",
      "metadata": {
        "id": "Ao4emQPhpyB_"
      },
      "source": [
        "Observando los resultados, podemos notar lo siguiente:\n",
        "\n",
        "- El modelo 3 muestra valores atípicos en las métricas de MAPE y MSE promedio (val), lo que sugiere que puede haber errores en el proceso de entrenamiento o validación.\n",
        "- El modelo 5 carece de información sobre las métricas de MAPE y MSE promedio (val).\n",
        "- Los modelos 8, 9, 10 y 11 tienen tiempos de ejecución notablemente más altos en comparación con los otros modelos.\n",
        "\n",
        "Dado esto, podemos eliminar el modelo 3 debido a sus resultados atípicos y el modelo 5 debido a la falta de información relevante. Luego, podemos comparar los modelos restantes (1, 2, 4, 6, 7, 8, 9, 10 y 11) en términos de sus métricas y tiempos de ejecución.\n",
        "\n",
        "Después de realizar una comparación detallada, el mejor modelo puede ser determinado por un equilibrio entre la precisión de las métricas y el tiempo de ejecución. Idealmente, elegiríamos el modelo con el MAPE, MSE y RMSE promedio más bajos en la validación, mientras se considera un tiempo de ejecución razonable.\n",
        "\n",
        "Basándome en los resultados y considerando un equilibrio entre la precisión de las métricas y el tiempo de ejecución, elegiría el Modelo 2 como el mejor modelo.\n",
        "\n",
        "Pero excluyendo este modelo (porque usa solo las variables numéricas), el mejor modelo podría ser el __Elastic Net con Robust Scaler__ (Elastic Net RS). Este modelo tiene un buen desempeño en términos de MAPE, MSE y RMSE promedio en la validación, con valores de 0.3065, 235.0822 y 15.0547 respectivamente. Además, su tiempo de ejecución es comparable al de otros modelos, lo que indica una eficiencia razonable en comparación con otros en la lista."
      ]
    },
    {
      "cell_type": "markdown",
      "metadata": {
        "id": "IEOxodR2pyB_"
      },
      "source": [
        "--------------------"
      ]
    },
    {
      "cell_type": "markdown",
      "metadata": {
        "id": "BgZ8OmGRqbyr"
      },
      "source": [
        "## ANÁLISIS POR SEGMENTOS (VENUE CLASS) PARA ELASTIC NET ROBUST SCALER"
      ]
    },
    {
      "cell_type": "code",
      "execution_count": 27,
      "metadata": {
        "colab": {
          "base_uri": "https://localhost:8080/"
        },
        "id": "F9pM5ZuIqg7W",
        "outputId": "96d3be71-009e-4abb-b5d5-92eca9d0faf3"
      },
      "outputs": [
        {
          "name": "stdout",
          "output_type": "stream",
          "text": [
            "\n",
            "Resultados por 'VenueClass' para el precio mínimo:\n",
            "   VenueClass     mse_min   rmse_min  mape_min\n",
            "0           2  192.824537  13.886127  0.211163\n",
            "1           3  456.722916  21.371077  0.292241\n",
            "2           1  199.515612  14.125000  0.231584\n",
            "3           0  167.790274  12.953388  0.310926\n"
          ]
        }
      ],
      "source": [
        "import pandas as pd\n",
        "from sklearn.linear_model import ElasticNet\n",
        "from sklearn.metrics import mean_absolute_percentage_error, mean_squared_error\n",
        "from sklearn.preprocessing import RobustScaler\n",
        "import numpy as np\n",
        "\n",
        "# Inicializar el RobustScaler solo con las columnas a escalar\n",
        "scaler = RobustScaler()\n",
        "\n",
        "# Escalar las características solo de las columnas especificadas\n",
        "X_scaled = X.copy()\n",
        "X_scaled[columnas_a_escalar] = scaler.fit_transform(X_scaled[columnas_a_escalar])\n",
        "\n",
        "# Definir el modelo Elastic Net con el mejor alpha y l1_ratio\n",
        "elastic_net = ElasticNet(alpha=0.7316807143427208, l1_ratio=0)\n",
        "\n",
        "# Entrenar el modelo\n",
        "elastic_net.fit(X_scaled, y)  # Considerando que y_min es tu variable de precio mínimo\n",
        "\n",
        "# Generar predicciones\n",
        "y_pred_min = elastic_net.predict(X_scaled)\n",
        "\n",
        "# Añadir las predicciones al DataFrame original\n",
        "datos['pred_min'] = y_pred_min\n",
        "\n",
        "# Crear una lista para almacenar los resultados\n",
        "resultados_min_list = []\n",
        "\n",
        "# Calcular las métricas para cada valor de \"VenueClass\" en función de los precios mínimos\n",
        "for vc in datos['VenueClass'].unique():\n",
        "    subset = datos[datos['VenueClass'] == vc]\n",
        "    mse_min = mean_squared_error(subset['min_price'], subset['pred_min'])\n",
        "    rmse_min = np.sqrt(mse_min)\n",
        "    mape_min = mean_absolute_percentage_error(subset['min_price'], subset['pred_min'])\n",
        "    resultados_min_list.append({'VenueClass': vc, 'mse_min': mse_min, 'rmse_min': rmse_min, 'mape_min': mape_min})\n",
        "\n",
        "# Convertir la lista de resultados en un DataFrame\n",
        "resultados_min = pd.DataFrame(resultados_min_list)\n",
        "\n",
        "# Imprimir los resultados\n",
        "print(\"\\nResultados por 'VenueClass' para el precio mínimo:\")\n",
        "print(resultados_min)\n"
      ]
    },
    {
      "cell_type": "code",
      "execution_count": 28,
      "metadata": {
        "colab": {
          "base_uri": "https://localhost:8080/",
          "height": 481
        },
        "id": "bwVoaChnqzou",
        "outputId": "07e4b33d-4174-433b-a79e-75f195ebc212"
      },
      "outputs": [
        {
          "data": {
            "image/png": "[encoded data removed]",
            "text/plain": [
              "<Figure size 1500x1000 with 4 Axes>"
            ]
          },
          "metadata": {},
          "output_type": "display_data"
        }
      ],
      "source": [
        "import matplotlib.pyplot as plt\n",
        "import seaborn as sns\n",
        "\n",
        "# Crear gráficos de dispersión para comparar predicciones con valores reales por cada \"VenueClass\" para el precio mínimo\n",
        "fig, axes = plt.subplots(2, 2, figsize=(15, 10), sharex=True, sharey=True)\n",
        "\n",
        "# Asegurarnos de que los valores de 'VenueClass' están ordenados para una mejor visualización\n",
        "venue_classes = sorted(datos['VenueClass'].unique())\n",
        "\n",
        "for idx, vc in enumerate(venue_classes):\n",
        "    subset = datos[datos['VenueClass'] == vc]\n",
        "    ax = axes[idx//2, idx%2]  # Ubicación del gráfico en la cuadrícula\n",
        "    sns.scatterplot(ax=ax, x=subset['min_price'], y=subset['pred_min'])\n",
        "    ax.plot([subset['min_price'].min(), subset['min_price'].max()],\n",
        "            [subset['min_price'].min(), subset['min_price'].max()],\n",
        "            ls=\"--\", c=\".3\")\n",
        "    ax.set_title(f'VenueClass {vc}')\n",
        "    ax.set_xlabel('Actual min_price')\n",
        "    ax.set_ylabel('Predicted min_price')\n",
        "\n",
        "plt.tight_layout()\n",
        "plt.show()\n"
      ]
    },
    {
      "cell_type": "code",
      "execution_count": 29,
      "metadata": {
        "colab": {
          "base_uri": "https://localhost:8080/"
        },
        "id": "93TyzQlgrfFT",
        "outputId": "a8e56133-d77c-484e-e0ac-4b8e0bd5f845"
      },
      "outputs": [
        {
          "name": "stdout",
          "output_type": "stream",
          "text": [
            "    VenueClass  min_price       pred\n",
            "0            2      28.00  36.596355\n",
            "1            2      50.00  36.596355\n",
            "2            3     105.00  71.540246\n",
            "3            3     105.00  71.444881\n",
            "4            3     105.00  72.915078\n",
            "5            3     105.00  72.803820\n",
            "6            1      20.00  29.768529\n",
            "7            0      30.01  38.453262\n",
            "8            0      30.01  37.935742\n",
            "9            0      41.43  56.953853\n",
            "10           0      49.11  57.739312\n",
            "11           0      49.11  57.945934\n",
            "12           3      50.00  44.544464\n",
            "21           2      27.00  39.130167\n",
            "24           1      25.00  30.655237\n",
            "26           1      30.00  30.880546\n",
            "31           2      40.00  43.028486\n",
            "32           2      40.00  47.143392\n",
            "34           1      24.00  31.560644\n",
            "35           1      25.00  32.840112\n",
            "\n",
            "Analizando 'VenueClass' 2\n",
            "    min_price       pred\n",
            "0        28.0  36.596355\n",
            "1        50.0  36.596355\n",
            "21       27.0  39.130167\n",
            "31       40.0  43.028486\n",
            "32       40.0  47.143392\n",
            "\n",
            "Analizando 'VenueClass' 3\n",
            "    min_price       pred\n",
            "2       105.0  71.540246\n",
            "3       105.0  71.444881\n",
            "4       105.0  72.915078\n",
            "5       105.0  72.803820\n",
            "12       50.0  44.544464\n",
            "\n",
            "Analizando 'VenueClass' 1\n",
            "    min_price       pred\n",
            "6        20.0  29.768529\n",
            "24       25.0  30.655237\n",
            "26       30.0  30.880546\n",
            "34       24.0  31.560644\n",
            "35       25.0  32.840112\n",
            "\n",
            "Analizando 'VenueClass' 0\n",
            "    min_price       pred\n",
            "7       30.01  38.453262\n",
            "8       30.01  37.935742\n",
            "9       41.43  56.953853\n",
            "10      49.11  57.739312\n",
            "11      49.11  57.945934\n",
            "\n",
            "Resultados por 'VenueClass':\n",
            "   VenueClass         mse       rmse      mape\n",
            "0           2  192.824537  13.886127  0.211163\n",
            "1           3  456.722916  21.371077  0.292241\n",
            "2           1  199.515612  14.125000  0.231584\n",
            "3           0  167.790274  12.953388  0.310926\n"
          ]
        }
      ],
      "source": [
        "import pandas as pd\n",
        "from sklearn.linear_model import ElasticNet\n",
        "from sklearn.metrics import mean_absolute_percentage_error, mean_squared_error\n",
        "from sklearn.preprocessing import RobustScaler\n",
        "import numpy as np\n",
        "\n",
        "# Inicializar el RobustScaler\n",
        "scaler = RobustScaler()\n",
        "\n",
        "# Escalar las características solo de las columnas especificadas\n",
        "X_scaled = X.copy()\n",
        "X_scaled[columnas_a_escalar] = scaler.fit_transform(X_scaled[columnas_a_escalar])\n",
        "\n",
        "# Definir el modelo Elastic Net con los valores de alpha y l1_ratio proporcionados\n",
        "elastic_net = ElasticNet(alpha=0.7316807143427208, l1_ratio=0)\n",
        "\n",
        "# Entrenar el modelo\n",
        "elastic_net.fit(X_scaled, y)  # Asumiendo que 'y' es tu variable objetivo\n",
        "\n",
        "# Generar predicciones\n",
        "y_pred = elastic_net.predict(X_scaled)\n",
        "\n",
        "# Añadir las predicciones al DataFrame original\n",
        "datos['pred'] = y_pred\n",
        "\n",
        "# Crear una lista para almacenar los resultados\n",
        "resultados_list = []\n",
        "\n",
        "# Mostrar ejemplos de los datos particionados por \"VenueClass\"\n",
        "print(datos[['VenueClass', 'min_price', 'pred']].groupby('VenueClass').head())\n",
        "\n",
        "# Calcular las métricas para cada valor de \"VenueClass\"\n",
        "for vc in datos['VenueClass'].unique():\n",
        "    subset = datos[datos['VenueClass'] == vc]\n",
        "    print(f\"\\nAnalizando 'VenueClass' {vc}\")\n",
        "    print(subset[['min_price', 'pred']].head())  # Mostrar los primeros ejemplos\n",
        "\n",
        "    mse = mean_squared_error(subset['min_price'], subset['pred'])\n",
        "    rmse = np.sqrt(mse)\n",
        "    mape = mean_absolute_percentage_error(subset['min_price'], subset['pred'])\n",
        "    resultados_list.append({'VenueClass': vc, 'mse': mse, 'rmse': rmse, 'mape': mape})\n",
        "\n",
        "# Convertir la lista de resultados en un DataFrame\n",
        "resultados = pd.DataFrame(resultados_list)\n",
        "\n",
        "# Imprimir los resultados\n",
        "print(\"\\nResultados por 'VenueClass':\")\n",
        "print(resultados)\n"
      ]
    },
    {
      "cell_type": "markdown",
      "metadata": {
        "id": "6nTKiCkFsKr_"
      },
      "source": [
        "El modelo parece tener un rendimiento variable dependiendo de la clase de Venue considerada, con algunos grupos mostrando un rendimiento mejor que otros en términos de las métricas de evaluación utilizadas.\n",
        "\n",
        "En este caso, lo que peor predice es la clase 3 (a diferencia de lo que pasaba con los precios máximos). Además, muestra un rendimiento similar a la clase 2, aunque con un error absoluto promedio ligeramente más alto.\n",
        "\n",
        "En general, los errores entre las distintas clases son más parecidos entre sí que en el caso de los precios máximos. Aunque en ambos casos, la clase 3 despunte ya sea para bien o para mal."
      ]
    },
    {
      "cell_type": "code",
      "execution_count": null,
      "metadata": {
        "id": "qBa3HLMqtlW6"
      },
      "outputs": [],
      "source": []
    }
  ],
  "metadata": {
    "colab": {
      "provenance": []
    },
    "kernelspec": {
      "display_name": "Python 3",
      "name": "python3"
    },
    "language_info": {
      "codemirror_mode": {
        "name": "ipython",
        "version": 3
      },
      "file_extension": ".py",
      "mimetype": "text/x-python",
      "name": "python",
      "nbconvert_exporter": "python",
      "pygments_lexer": "ipython3",
      "version": "3.12.4"
    }
  },
  "nbformat": 4,
  "nbformat_minor": 0
}
