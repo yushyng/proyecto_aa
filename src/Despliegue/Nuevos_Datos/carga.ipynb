{
 "cells": [
  {
   "cell_type": "code",
   "execution_count": null,
   "metadata": {},
   "outputs": [],
   "source": [
    "import requests\n",
    "import pandas as pd\n",
    "import time\n",
    "import math\n",
    "from pathlib import Path\n",
    "from pandas.io.parsers import read_csv\n",
    "from google.colab import drive\n",
    "import json"
   ]
  },
  {
   "cell_type": "code",
   "execution_count": null,
   "metadata": {},
   "outputs": [],
   "source": [
    "import requests\n",
    "import pandas as pd\n",
    "\n",
    "def datos_ticketmaster():\n",
    "    pag = 0\n",
    "    df_datos = pd.DataFrame()\n",
    "\n",
    "    while True:\n",
    "        url = f'https://app.ticketmaster.com/discovery/v2/events?apikey=4uZ7cKblFpFckdrfHMGrT2coHBKCiAjs&locale=*&startDateTime=2024-07-01T00:00:00Z&page={pag}&onsaleStartDateTime=2024-03-15T00:00:00Z&countryCode=ES&classificationName=music'\n",
    "        r = requests.get(url)\n",
    "\n",
    "        if r.status_code == 200:\n",
    "            respuesta = r.json()\n",
    "            if '_embedded' in respuesta:\n",
    "                df_datos_mas = pd.DataFrame(respuesta['_embedded']['events'])\n",
    "                df_datos = pd.concat([df_datos, df_datos_mas], ignore_index=True)\n",
    "                pag += 1\n",
    "                total_pages = respuesta['page']['totalPages']\n",
    "                if pag >= total_pages:\n",
    "                    break\n",
    "            else:\n",
    "                break\n",
    "        else:\n",
    "            print('Error:', r.status_code)\n",
    "            print(r.text)\n",
    "            break\n",
    "\n",
    "    print(len(df_datos))\n",
    "    return df_datos\n",
    "\n",
    "# Ejecución de la función y muestra de información del DataFrame\n",
    "df_datos = datos_ticketmaster()\n",
    "df_datos.info()\n"
   ]
  },
  {
   "cell_type": "code",
   "execution_count": null,
   "metadata": {},
   "outputs": [],
   "source": [
    "import pandas as pd\n",
    "import json\n",
    "from google.colab import files\n",
    "\n",
    "# Supongamos que ya tienes el DataFrame df_datos_menos_col\n",
    "# df_datos_menos_col = ...\n",
    "\n",
    "# Convierte el DataFrame a JSON\n",
    "json_data = df_datos.to_json(orient='records')\n",
    "\n",
    "# Guarda el JSON en un archivo\n",
    "with open('df_datos.json', 'w') as file:\n",
    "    json.dump(json.loads(json_data), file, indent=4)\n",
    "\n",
    "# Descarga el archivo JSON\n",
    "files.download('df_datos.json')\n"
   ]
  }
 ],
 "metadata": {
  "language_info": {
   "name": "python"
  }
 },
 "nbformat": 4,
 "nbformat_minor": 2
}
