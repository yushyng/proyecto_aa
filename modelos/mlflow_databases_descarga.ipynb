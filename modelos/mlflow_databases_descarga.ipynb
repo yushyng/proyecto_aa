{
 "cells": [
  {
   "cell_type": "markdown",
   "metadata": {},
   "source": [
    "Vamos a descargar las databases de MlFlow para guardarlas localmente. Para ello, seguimos el mismo procedimiento de lectura en la nube que hicimos para los parquet:"
   ]
  },
  {
   "cell_type": "code",
   "execution_count": null,
   "metadata": {},
   "outputs": [],
   "source": [
    "import os\n",
    "import sys\n",
    "\n",
    "# Añadimos la carpeta 'drive' al path\n",
    "ruta_carpeta_drive = os.path.abspath('../drive')\n",
    "if ruta_carpeta_drive not in sys.path:\n",
    "    sys.path.insert(0, ruta_carpeta_drive)\n",
    "\n",
    "# import descarga_archivos_GD\n",
    "import drive"
   ]
  },
  {
   "cell_type": "code",
   "execution_count": null,
   "metadata": {},
   "outputs": [],
   "source": [
    "# Nombres de los archivos de las bases de datos en archivos_info.txt\n",
    "DATABASES_MLFLOW = []\n",
    "\n",
    "DATABASES_MLFLOW.append('RL_runs.db')\n",
    "DATABASES_MLFLOW.append('DTRF_runs.db')\n",
    "DATABASES_MLFLOW.append('MLP_runs.db')\n"
   ]
  },
  {
   "cell_type": "code",
   "execution_count": null,
   "metadata": {},
   "outputs": [],
   "source": [
    "drive.descargar_archivos_concretos(DATABASES_MLFLOW, '../drive')"
   ]
  }
 ],
 "metadata": {
  "language_info": {
   "name": "python"
  }
 },
 "nbformat": 4,
 "nbformat_minor": 2
}
