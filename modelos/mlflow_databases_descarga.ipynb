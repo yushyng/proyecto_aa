{
 "cells": [
  {
   "cell_type": "markdown",
   "metadata": {},
   "source": [
    "Vamos a descargar las databases de MlFlow para guardarlas localmente. Para ello, seguimos el mismo procedimiento de lectura en la nube que hicimos para los parquet:"
   ]
  },
  {
   "cell_type": "code",
   "execution_count": 1,
   "metadata": {},
   "outputs": [],
   "source": [
    "import os\n",
    "import sys\n",
    "\n",
    "# Añadimos la carpeta 'drive' al path\n",
    "ruta_carpeta_drive = os.path.abspath('../drive')\n",
    "if ruta_carpeta_drive not in sys.path:\n",
    "    sys.path.insert(0, ruta_carpeta_drive)\n",
    "\n",
    "# import descarga_archivos_GD\n",
    "import drive"
   ]
  },
  {
   "cell_type": "code",
   "execution_count": null,
   "metadata": {},
   "outputs": [],
   "source": [
    "# Nombres de los archivos de las bases de datos en archivos_info.txt\n",
    "NOMBRES_DBS = ['RL_runs.db', 'DTRF_runs.db', 'MLP_runs.db']"
   ]
  },
  {
   "cell_type": "code",
   "execution_count": 2,
   "metadata": {},
   "outputs": [
    {
     "name": "stdout",
     "output_type": "stream",
     "text": [
      "Archivo DTRF_runs.db guardado en: ./datos/DTRF_runs.db\n"
     ]
    }
   ],
   "source": [
    "drive.descargar_archivos_concretos('DTRF_runs.db', '../drive')"
   ]
  }
 ],
 "metadata": {
  "kernelspec": {
   "display_name": "base",
   "language": "python",
   "name": "python3"
  },
  "language_info": {
   "codemirror_mode": {
    "name": "ipython",
    "version": 3
   },
   "file_extension": ".py",
   "mimetype": "text/x-python",
   "name": "python",
   "nbconvert_exporter": "python",
   "pygments_lexer": "ipython3",
   "version": "3.11.5"
  }
 },
 "nbformat": 4,
 "nbformat_minor": 2
}
